{
 "cells": [
  {
   "cell_type": "markdown",
   "metadata": {
    "slideshow": {
     "slide_type": "slide"
    }
   },
   "source": [
    "# Going deeper with Tensorflow\n",
    "\n",
    "In this video, we're going to study the tools you'll use to build deep learning models. Namely, [Tensorflow](https://www.tensorflow.org/).\n",
    "\n",
    "If you're running this notebook outside the course environment, you'll need to install tensorflow:\n",
    "* `pip install tensorflow` should install cpu-only TF on Linux & Mac OS\n",
    "* If you want GPU support from offset, see [TF install page](https://www.tensorflow.org/install/)"
   ]
  },
  {
   "cell_type": "code",
   "execution_count": 1,
   "metadata": {
    "collapsed": true
   },
   "outputs": [],
   "source": [
    "import sys\n",
    "sys.path.append(\"..\")\n",
    "import grading"
   ]
  },
  {
   "cell_type": "markdown",
   "metadata": {},
   "source": [
    "# Visualization"
   ]
  },
  {
   "cell_type": "markdown",
   "metadata": {},
   "source": [
    "Plase note that if you are running on the Coursera platform, you won't be able to access the tensorboard instance due to the network setup there. If you run the notebook locally, you should be able to access TensorBoard on http://127.0.0.1:7007/"
   ]
  },
  {
   "cell_type": "code",
   "execution_count": 2,
   "metadata": {},
   "outputs": [
    {
     "name": "stdout",
     "output_type": "stream",
     "text": [
      "/bin/sh: 1: killall: not found\r\n"
     ]
    }
   ],
   "source": [
    "! killall tensorboard\n",
    "import os\n",
    "os.system(\"tensorboard --logdir=/tmp/tboard --port=7007 &\");"
   ]
  },
  {
   "cell_type": "code",
   "execution_count": 3,
   "metadata": {
    "collapsed": true
   },
   "outputs": [],
   "source": [
    "import tensorflow as tf\n",
    "s = tf.InteractiveSession()"
   ]
  },
  {
   "cell_type": "markdown",
   "metadata": {},
   "source": [
    "# Warming up\n",
    "For starters, let's implement a python function that computes the sum of squares of numbers from 0 to N-1."
   ]
  },
  {
   "cell_type": "code",
   "execution_count": 4,
   "metadata": {
    "collapsed": true
   },
   "outputs": [],
   "source": [
    "import numpy as np\n",
    "def sum_sin(N):\n",
    "    return np.sum(np.arange(N)**2)"
   ]
  },
  {
   "cell_type": "code",
   "execution_count": 5,
   "metadata": {},
   "outputs": [
    {
     "name": "stdout",
     "output_type": "stream",
     "text": [
      "CPU times: user 392 ms, sys: 312 ms, total: 704 ms\n",
      "Wall time: 980 ms\n"
     ]
    },
    {
     "data": {
      "text/plain": [
       "662921401752298880"
      ]
     },
     "execution_count": 5,
     "metadata": {},
     "output_type": "execute_result"
    }
   ],
   "source": [
    "%%time\n",
    "sum_sin(10**8)"
   ]
  },
  {
   "cell_type": "markdown",
   "metadata": {},
   "source": [
    "# Tensoflow teaser\n",
    "\n",
    "Doing the very same thing"
   ]
  },
  {
   "cell_type": "code",
   "execution_count": 7,
   "metadata": {
    "collapsed": true
   },
   "outputs": [],
   "source": [
    "# An integer parameter\n",
    "N = tf.placeholder('int64', name=\"input_to_your_function\")\n",
    "\n",
    "# A recipe on how to produce the same result\n",
    "result = tf.reduce_sum(tf.range(N)**2)"
   ]
  },
  {
   "cell_type": "code",
   "execution_count": 8,
   "metadata": {},
   "outputs": [
    {
     "data": {
      "text/plain": [
       "<tf.Tensor 'Sum:0' shape=() dtype=int64>"
      ]
     },
     "execution_count": 8,
     "metadata": {},
     "output_type": "execute_result"
    }
   ],
   "source": [
    "result"
   ]
  },
  {
   "cell_type": "code",
   "execution_count": 9,
   "metadata": {},
   "outputs": [
    {
     "name": "stdout",
     "output_type": "stream",
     "text": [
      "CPU times: user 468 ms, sys: 136 ms, total: 604 ms\n",
      "Wall time: 471 ms\n"
     ]
    },
    {
     "data": {
      "text/plain": [
       "662921401752298880"
      ]
     },
     "execution_count": 9,
     "metadata": {},
     "output_type": "execute_result"
    }
   ],
   "source": [
    "%%time\n",
    "result.eval({N: 10**8})"
   ]
  },
  {
   "cell_type": "code",
   "execution_count": 10,
   "metadata": {
    "collapsed": true
   },
   "outputs": [],
   "source": [
    "writer = tf.summary.FileWriter(\"/tmp/tboard\", graph=s.graph)"
   ]
  },
  {
   "cell_type": "markdown",
   "metadata": {},
   "source": [
    "# How does it work?\n",
    "1. Define placeholders where you'll send inputs\n",
    "2. Make symbolic graph: a recipe for mathematical transformation of those placeholders\n",
    "3. Compute outputs of your graph with particular values for each placeholder\n",
    "  * `output.eval({placeholder:value})`\n",
    "  * `s.run(output, {placeholder:value})`\n",
    "\n",
    "So far there are two main entities: \"placeholder\" and \"transformation\"\n",
    "* Both can be numbers, vectors, matrices, tensors, etc.\n",
    "* Both can be int32/64, floats, booleans (uint8) of various size.\n",
    "\n",
    "* You can define new transformations as an arbitrary operation on placeholders and other transformations\n",
    " * `tf.reduce_sum(tf.arange(N)**2)` are 3 sequential transformations of placeholder `N`\n",
    " * There's a tensorflow symbolic version for every numpy function\n",
    "   * `a+b, a/b, a**b, ...` behave just like in numpy\n",
    "   * `np.mean` -> `tf.reduce_mean`\n",
    "   * `np.arange` -> `tf.range`\n",
    "   * `np.cumsum` -> `tf.cumsum`\n",
    "   * If if you can't find the op you need, see the [docs](https://www.tensorflow.org/api_docs/python).\n",
    "   \n",
    "`tf.contrib` has many high-level features, may be worth a look."
   ]
  },
  {
   "cell_type": "code",
   "execution_count": 11,
   "metadata": {
    "collapsed": true
   },
   "outputs": [],
   "source": [
    "with tf.name_scope(\"Placeholders_examples\"):\n",
    "    # Default placeholder that can be arbitrary float32\n",
    "    # scalar, vertor, matrix, etc.\n",
    "    arbitrary_input = tf.placeholder('float32')\n",
    "\n",
    "    # Input vector of arbitrary length\n",
    "    input_vector = tf.placeholder('float32', shape=(None,))\n",
    "\n",
    "    # Input vector that _must_ have 10 elements and integer type\n",
    "    fixed_vector = tf.placeholder('int32', shape=(10,))\n",
    "\n",
    "    # Matrix of arbitrary n_rows and 15 columns\n",
    "    # (e.g. a minibatch your data table)\n",
    "    input_matrix = tf.placeholder('float32', shape=(None, 15))\n",
    "    \n",
    "    # You can generally use None whenever you don't need a specific shape\n",
    "    input1 = tf.placeholder('float64', shape=(None, 100, None))\n",
    "    input2 = tf.placeholder('int32', shape=(None, None, 3, 224, 224))\n",
    "\n",
    "    # elementwise multiplication\n",
    "    double_the_vector = input_vector*2\n",
    "\n",
    "    # elementwise cosine\n",
    "    elementwise_cosine = tf.cos(input_vector)\n",
    "\n",
    "    # difference between squared vector and vector itself plus one\n",
    "    vector_squares = input_vector**2 - input_vector + 1"
   ]
  },
  {
   "cell_type": "code",
   "execution_count": 12,
   "metadata": {
    "collapsed": true
   },
   "outputs": [],
   "source": [
    "my_vector =  tf.placeholder('float32', shape=(None,), name=\"VECTOR_1\")\n",
    "my_vector2 = tf.placeholder('float32', shape=(None,))\n",
    "my_transformation = my_vector * my_vector2 / (tf.sin(my_vector) + 1)"
   ]
  },
  {
   "cell_type": "code",
   "execution_count": 13,
   "metadata": {},
   "outputs": [
    {
     "name": "stdout",
     "output_type": "stream",
     "text": [
      "Tensor(\"truediv:0\", shape=(?,), dtype=float32)\n"
     ]
    }
   ],
   "source": [
    "print(my_transformation)"
   ]
  },
  {
   "cell_type": "code",
   "execution_count": 14,
   "metadata": {},
   "outputs": [
    {
     "name": "stdout",
     "output_type": "stream",
     "text": [
      "[ 0.  1.  2.  3.  4.]\n"
     ]
    },
    {
     "data": {
      "text/plain": [
       "array([ 0.        ,  1.62913239,  2.09501147,  2.62899613,  0.        ], dtype=float32)"
      ]
     },
     "execution_count": 14,
     "metadata": {},
     "output_type": "execute_result"
    }
   ],
   "source": [
    "dummy = np.arange(5).astype('float32')\n",
    "print(dummy)\n",
    "my_transformation.eval({my_vector:dummy, my_vector2:dummy[::-1]})"
   ]
  },
  {
   "cell_type": "code",
   "execution_count": 15,
   "metadata": {
    "collapsed": true
   },
   "outputs": [],
   "source": [
    "writer.add_graph(my_transformation.graph)\n",
    "writer.flush()"
   ]
  },
  {
   "cell_type": "markdown",
   "metadata": {},
   "source": [
    "TensorBoard allows writing scalars, images, audio, histogram. You can read more on tensorboard usage [here](https://www.tensorflow.org/get_started/graph_viz)."
   ]
  },
  {
   "cell_type": "markdown",
   "metadata": {},
   "source": [
    "# Summary\n",
    "* Tensorflow is based on computation graphs\n",
    "* The graphs consist of placehlders and transformations"
   ]
  },
  {
   "cell_type": "markdown",
   "metadata": {},
   "source": [
    "# Mean squared error\n",
    "\n",
    "Your assignment is to implement mean squared error in tensorflow."
   ]
  },
  {
   "cell_type": "code",
   "execution_count": 31,
   "metadata": {},
   "outputs": [],
   "source": [
    "with tf.name_scope(\"MSE\"):\n",
    "    y_true = tf.placeholder(\"float32\", shape=(None,), name=\"y_true\")\n",
    "    y_predicted = tf.placeholder(\"float32\", shape=(None,), name=\"y_predicted\")\n",
    "    # Your code goes here\n",
    "    # You want to use tf.reduce_mean\n",
    "mse = tf.reduce_mean((y_true-y_predicted)**2)\n",
    "    \n",
    "\n",
    "\n",
    "def compute_mse(vector1, vector2):\n",
    "    return mse.eval({y_true: vector1, y_predicted: vector2})"
   ]
  },
  {
   "cell_type": "code",
   "execution_count": 32,
   "metadata": {
    "collapsed": true
   },
   "outputs": [],
   "source": [
    "writer.add_graph(mse.graph)\n",
    "writer.flush()"
   ]
  },
  {
   "cell_type": "markdown",
   "metadata": {},
   "source": [
    "Tests and result submission. Please use the credentials obtained from the Coursera assignment page."
   ]
  },
  {
   "cell_type": "code",
   "execution_count": 33,
   "metadata": {
    "collapsed": true
   },
   "outputs": [],
   "source": [
    "import submit"
   ]
  },
  {
   "cell_type": "code",
   "execution_count": 35,
   "metadata": {},
   "outputs": [
    {
     "name": "stdout",
     "output_type": "stream",
     "text": [
      "Submitted to Coursera platform. See results on assignment page!\n"
     ]
    }
   ],
   "source": [
    "submit.submit_mse(compute_mse,'y.mirmohammad@yahoo.com', 'uvj3RdPn7Sc5a95V')"
   ]
  },
  {
   "cell_type": "markdown",
   "metadata": {},
   "source": [
    "# Variables\n",
    "\n",
    "The inputs and transformations have no value outside function call. This isn't too comfortable if you want your model to have parameters (e.g. network weights) that are always present, but can change their value over time.\n",
    "\n",
    "Tensorflow solves this with `tf.Variable` objects.\n",
    "* You can assign variable a value at any time in your graph\n",
    "* Unlike placeholders, there's no need to explicitly pass values to variables when `s.run(...)`-ing\n",
    "* You can use variables the same way you use transformations \n",
    " "
   ]
  },
  {
   "cell_type": "code",
   "execution_count": 36,
   "metadata": {
    "collapsed": true
   },
   "outputs": [],
   "source": [
    "# Creating a shared variable\n",
    "shared_vector_1 = tf.Variable(initial_value=np.ones(5),\n",
    "                              name=\"example_variable\")"
   ]
  },
  {
   "cell_type": "code",
   "execution_count": 37,
   "metadata": {},
   "outputs": [
    {
     "name": "stdout",
     "output_type": "stream",
     "text": [
      "Initial value [ 1.  1.  1.  1.  1.]\n"
     ]
    }
   ],
   "source": [
    "# Initialize variable(s) with initial values\n",
    "s.run(tf.global_variables_initializer())\n",
    "\n",
    "# Evaluating shared variable (outside symbolicd graph)\n",
    "print(\"Initial value\", s.run(shared_vector_1))\n",
    "\n",
    "# Within symbolic graph you use them just\n",
    "# as any other inout or transformation, not \"get value\" needed"
   ]
  },
  {
   "cell_type": "code",
   "execution_count": 38,
   "metadata": {},
   "outputs": [
    {
     "name": "stdout",
     "output_type": "stream",
     "text": [
      "New value [ 0.  1.  2.  3.  4.]\n"
     ]
    }
   ],
   "source": [
    "# Setting a new value\n",
    "s.run(shared_vector_1.assign(np.arange(5)))\n",
    "\n",
    "# Getting that new value\n",
    "print(\"New value\", s.run(shared_vector_1))"
   ]
  },
  {
   "cell_type": "markdown",
   "metadata": {},
   "source": [
    "# tf.gradients - why graphs matter\n",
    "* Tensorflow can compute derivatives and gradients automatically using the computation graph\n",
    "* True to its name it can manage matrix derivatives\n",
    "* Gradients are computed as a product of elementary derivatives via the chain rule:\n",
    "\n",
    "$$ {\\partial f(g(x)) \\over \\partial x} = {\\partial f(g(x)) \\over \\partial g(x)}\\cdot {\\partial g(x) \\over \\partial x} $$\n",
    "\n",
    "It can get you the derivative of any graph as long as it knows how to differentiate elementary operations"
   ]
  },
  {
   "cell_type": "code",
   "execution_count": 39,
   "metadata": {
    "collapsed": true
   },
   "outputs": [],
   "source": [
    "my_scalar = tf.placeholder('float32')\n",
    "\n",
    "scalar_squared = my_scalar**2\n",
    "\n",
    "# A derivative of scalar_squared by my_scalar\n",
    "derivative = tf.gradients(scalar_squared, [my_scalar, ])"
   ]
  },
  {
   "cell_type": "code",
   "execution_count": 40,
   "metadata": {},
   "outputs": [
    {
     "data": {
      "text/plain": [
       "[<tf.Tensor 'gradients/pow_2_grad/Reshape:0' shape=<unknown> dtype=float32>]"
      ]
     },
     "execution_count": 40,
     "metadata": {},
     "output_type": "execute_result"
    }
   ],
   "source": [
    "derivative"
   ]
  },
  {
   "cell_type": "code",
   "execution_count": 41,
   "metadata": {},
   "outputs": [
    {
     "data": {
      "image/png": "[encoded data removed]",
      "text/plain": [
       "<matplotlib.figure.Figure at 0x7fb9819ca630>"
      ]
     },
     "metadata": {},
     "output_type": "display_data"
    }
   ],
   "source": [
    "import matplotlib.pyplot as plt\n",
    "%matplotlib inline\n",
    "\n",
    "x = np.linspace(-3, 3)\n",
    "x_squared, x_squared_der = s.run([scalar_squared, derivative[0]],\n",
    "                                 {my_scalar:x})\n",
    "\n",
    "plt.plot(x, x_squared,label=\"$x^2$\")\n",
    "plt.plot(x, x_squared_der, label=r\"$\\frac{dx^2}{dx}$\")\n",
    "plt.legend();"
   ]
  },
  {
   "cell_type": "markdown",
   "metadata": {},
   "source": [
    "# Why that rocks"
   ]
  },
  {
   "cell_type": "code",
   "execution_count": 42,
   "metadata": {
    "collapsed": true
   },
   "outputs": [],
   "source": [
    "my_vector = tf.placeholder('float32', [None])\n",
    "# Compute the gradient of the next weird function over my_scalar and my_vector\n",
    "# Warning! Trying to understand the meaning of that function may result in permanent brain damage\n",
    "weird_psychotic_function = tf.reduce_mean(\n",
    "    (my_vector+my_scalar)**(1+tf.nn.moments(my_vector,[0])[1]) + \n",
    "    1./ tf.atan(my_scalar))/(my_scalar**2 + 1) + 0.01*tf.sin(\n",
    "    2*my_scalar**1.5)*(tf.reduce_sum(my_vector)* my_scalar**2\n",
    "                      )*tf.exp((my_scalar-4)**2)/(\n",
    "    1+tf.exp((my_scalar-4)**2))*(1.-(tf.exp(-(my_scalar-4)**2)\n",
    "                                    )/(1+tf.exp(-(my_scalar-4)**2)))**2\n",
    "\n",
    "der_by_scalar = tf.gradients(weird_psychotic_function, my_scalar)\n",
    "der_by_vector = tf.gradients(weird_psychotic_function, my_vector)"
   ]
  },
  {
   "cell_type": "code",
   "execution_count": 43,
   "metadata": {},
   "outputs": [
    {
     "data": {
      "image/png": "[encoded data removed]",
      "text/plain": [
       "<matplotlib.figure.Figure at 0x7fb981739c18>"
      ]
     },
     "metadata": {},
     "output_type": "display_data"
    }
   ],
   "source": [
    "# Plotting the derivative\n",
    "scalar_space = np.linspace(1, 7, 100)\n",
    "\n",
    "y = [s.run(weird_psychotic_function, {my_scalar:x, my_vector:[1, 2, 3]})\n",
    "     for x in scalar_space]\n",
    "\n",
    "plt.plot(scalar_space, y, label='function')\n",
    "\n",
    "y_der_by_scalar = [s.run(der_by_scalar,\n",
    "                         {my_scalar:x, my_vector:[1, 2, 3]})\n",
    "                   for x in scalar_space]\n",
    "\n",
    "plt.plot(scalar_space, y_der_by_scalar, label='derivative')\n",
    "plt.grid()\n",
    "plt.legend();"
   ]
  },
  {
   "cell_type": "markdown",
   "metadata": {},
   "source": [
    "# Almost done - optimizers\n",
    "\n",
    "While you can perform gradient descent by hand with automatic grads from above, tensorflow also has some optimization methods implemented for you. Recall momentum & rmsprop?"
   ]
  },
  {
   "cell_type": "code",
   "execution_count": 44,
   "metadata": {
    "collapsed": true
   },
   "outputs": [],
   "source": [
    "y_guess = tf.Variable(np.zeros(2, dtype='float32'))\n",
    "y_true = tf.range(1, 3, dtype='float32')\n",
    "loss = tf.reduce_mean((y_guess - y_true + tf.random_normal([2]))**2) \n",
    "#loss = tf.reduce_mean((y_guess - y_true)**2) \n",
    "optimizer = tf.train.MomentumOptimizer(0.01, 0.5).minimize(\n",
    "    loss, var_list=y_guess)"
   ]
  },
  {
   "cell_type": "code",
   "execution_count": 47,
   "metadata": {},
   "outputs": [
    {
     "data": {
      "image/png": "[encoded data removed]",
      "text/plain": [
       "<matplotlib.figure.Figure at 0x7fb980f96b38>"
      ]
     },
     "metadata": {},
     "output_type": "display_data"
    }
   ],
   "source": [
    "from matplotlib import animation, rc\n",
    "import matplotlib_utils\n",
    "from IPython.display import HTML, display_html\n",
    "\n",
    "fig, ax = plt.subplots()\n",
    "y_true_value = s.run(y_true)\n",
    "level_x = np.arange(0, 2, 0.02)\n",
    "level_y = np.arange(0, 3, 0.02)\n",
    "X, Y = np.meshgrid(level_x, level_y)\n",
    "Z = (X - y_true_value[0])**2 + (Y - y_true_value[1])**2\n",
    "ax.set_xlim(-0.02, 2)\n",
    "ax.set_ylim(-0.02, 3)\n",
    "s.run(tf.global_variables_initializer())\n",
    "ax.scatter(*s.run(y_true), c='red')\n",
    "contour = ax.contour(X, Y, Z, 10)\n",
    "ax.clabel(contour, inline=1, fontsize=10)\n",
    "line, = ax.plot([], [], lw=2)\n",
    "\n",
    "def init():\n",
    "    line.set_data([], [])\n",
    "    return (line,)\n",
    "\n",
    "guesses = [s.run(y_guess)]\n",
    "\n",
    "def animate(i):\n",
    "    s.run(optimizer)\n",
    "    guesses.append(s.run(y_guess))\n",
    "    line.set_data(*zip(*guesses))\n",
    "    return (line,)\n",
    "\n",
    "anim = animation.FuncAnimation(fig, animate, init_func=init,\n",
    "                               frames=400, interval=20, blit=True)"
   ]
  },
  {
   "cell_type": "code",
   "execution_count": 49,
   "metadata": {},
   "outputs": [
    {
     "data": {
      "text/html": [
       "<img src=\"data:image/jpeg;base64,/9j/4AAQSkZJRgABAQAAAQABAAD/2wBDAAIBAQEBAQIBAQECAgICAgQDAgICAgUEBAMEBgUGBgYFBgYGBwkIBgcJBwYGCAsICQoKCgoKBggLDAsKDAkKCgr/2wBDAQICAgICAgUDAwUKBwYHCgoKCgoKCgoKCgoKCgoKCgoKCgoKCgoKCgoKCgoKCgoKCgoKCgoKCgoKCgoKCgoKCgr/wAARCAEgAbADASIAAhEBAxEB/8QAHwAAAQUBAQEBAQEAAAAAAAAAAAECAwQFBgcICQoL/8QAtRAAAgEDAwIEAwUFBAQAAAF9AQIDAAQRBRIhMUEGE1FhByJxFDKBkaEII0KxwRVS0fAkM2JyggkKFhcYGRolJicoKSo0NTY3ODk6Q0RFRkdISUpTVFVWV1hZWmNkZWZnaGlqc3R1dnd4eXqDhIWGh4iJipKTlJWWl5iZmqKjpKWmp6ipqrKztLW2t7i5usLDxMXGx8jJytLT1NXW19jZ2uHi4%2BTl5ufo6erx8vP09fb3%2BPn6/8QAHwEAAwEBAQEBAQEBAQAAAAAAAAECAwQFBgcICQoL/8QAtREAAgECBAQDBAcFBAQAAQJ3AAECAxEEBSExBhJBUQdhcRMiMoEIFEKRobHBCSMzUvAVYnLRChYkNOEl8RcYGRomJygpKjU2Nzg5OkNERUZHSElKU1RVVldYWVpjZGVmZ2hpanN0dXZ3eHl6goOEhYaHiImKkpOUlZaXmJmaoqOkpaanqKmqsrO0tba3uLm6wsPExcbHyMnK0tPU1dbX2Nna4uPk5ebn6Onq8vP09fb3%2BPn6/9oADAMBAAIRAxEAPwD9/KKKKACiiigAooooAKKKKACiiigAooooAKKKKACiiigAooooAKKKKACiiigAooooAKKKKACiiigAooooAKKKKACiiigAooooAKKKKACiiigAooooAKKKKACiiigAooooAKKKKACiiigAooooAKKKKACiiigAorj/AAR%2B0J8A/iZ431n4Z/Dj44eD/EHiTw5JJH4h8P6J4ltbu%2B0t0kMTrcQRSNJAVkBQh1GGG088VZtfjb8Gb74p3PwLsvi54Ym8b2dgL288HRa/btqsFqQpE72gfzljIdPnK7fmXnkUAdPRRRQAUUUUAFFFFABRRRQAUUUUAFFFFABRRRQAUUUUAFFFFABRRRQAUUUUAFFFFABRRRQAUUUUAFFFFABRRRQAUUUUAFFFFABRRRQAUUUUAFFFFABRRRQAUUUUAFFFFABRRRQAUUUUAfIz%2BIrvxH/wUT0j40aVp3xZ1nw/4Z8I6/pWr2XiP4WX%2Bn6b4Ukmn0yMNpUo06CbVWu5bUtJiS%2BRUQyxvbxjbLy/g74f/EGL9qTw98N5fhR4oh17Qf2nfEnj3WvGcvhq6TSpvDt5oWp29tImpmP7NPIVvbDT/sqyGZPszMYxHCr19w0UAeIftr%2BO/wBp34WeFtF8bfAPx94D022ufF/hzw/qFj4v8B3uqyO%2Bq67Y6X9ojlttVsxGIkvDJ5ZR95jA3oDkWf8AhB/%2BChf/AEdB8Gf/AAw%2Brf8AzUUft4f8kQ0P/ss3w4/9TXRK9moA8Z/4Qf8A4KF/9HQfBn/ww%2Brf/NRVbWdA/bz8OaRdeIPEP7W3wQsLCyt3nvb29%2BB2qRQ28SAs0ju3ikKigAkkkAAZrtvhz8ddL%2BIPxC8S/DO58F65oGp%2BHTHIkWuxQx/2nZvJNEt5biOVy0JlglTLBW4UlQHUnwnxj4Y%2BMnh7SfE/w8%2BNujX%2BsaZ8RPFEvhqz8ZS%2BM3nuFS8eQ2EkOlRwrDawQsyQuY2EpCNOwKqSOulhHOfLN2emnVp9tbOyu/6dsZ1Uo3Svv/X3lHxB8b/27NYt/Cy/AD9pj4A%2BOLnxXqV3bWWPhRqtnboLWBp58y/8JHKfNCqAsRUFtwJKoC47H4Paz%2B3j8Zfh1p3xD0P9pT4RWkd4JYrqwvPgJqyz2V1DK8FxbSj/AISjiSKaOSNscbkOOKzfC3wc%2BK/xk%2BI914s8Z%2BCNU8Aatplhpl2de32sscviW1M0TXVtHHI3m272k8sT7wm%2BO5ZPvLlPb/gn8K5vhL4RuNG1LxGNX1PUtYvNV1nU0sVtUuLu5lMkjJCpYRoMgBdzHC5LMSSdcTTwtKlyxfvffvfqtNrbWflrpNKVWUrvb%2BvmeEeBx/wWR8RfFHWNF8XeKPgJ4e8H2FxPDpniCf4dapc32qbWxHMlnF4gKRRuAW/eThxkZTOcegf8IP8A8FC/%2BjoPgz/4YfVv/mor2aiuKclN3UUvS/6tm0U0tXc8Z/4Qf/goX/0dB8Gf/DD6t/8ANRR/wg//AAUL/wCjoPgz/wCGH1b/AOaivZqw/iF8T/ht8JPDsni/4qfEDRPDWlQ/63Ute1SGzgXjODJKyrn8amMZSdoq7K3PNf8AhB/%2BChf/AEdB8Gf/AAw%2Brf8AzUUf8IP/AMFC/wDo6D4M/wDhh9W/%2BaiuQn/4Kh/BjxncPpn7Lfwu%2BInxlulcx/afAPhOX%2BzEkzgB9SvDBaBf9pZH78HFNHiv/gqv8XOfD3wo%2BFXwe0%2BX5Wl8V65ceJtVjH98QWQgtVb2M7jPr1rs/s/ER/i2h/iaT%2B7WX/kpfJLrodj/AMIP/wAFC/8Ao6D4M/8Ahh9W/wDmorK8XH9tXwBpZ1vx5%2B2j8BNEsl%2B9eav8F9Stoh/wOTxUB%2BtYn/DB3xr%2BIH779or/AIKJfFfXc8PpvgZ7TwnYsvdStjGbgj63BODyTWt4R/4JZ/sB%2BE9UGv3H7NOh%2BItT6vqnjiWfX7h267i%2BoyTHOeeMY7Yo9lgYfHVcv8Mf1k1%2BQWgup4x4q/4KMP4T1I6Kf%2BCo37O2tXwyBZeD/gRrmuzE%2BgTTvEs5J7YxWb/w3d%2B3rr//ACSnwjrXi1H/AOPe8tP2O9a022l9CJdT8W2w2%2B/P0r7m8K%2BCvBvgTTRovgjwlpmjWa/dtNKsI7eIf8BjUD9K06Pa4CPw0pP1lb8Ix/ULw7HwPH8av%2BDgjxA4bwj%2BzN8I7OBz8k3jHRfsJx6lLTxNeMv0IzXffCy1/wCC7ev%2BI7T/AIW94p/ZT8N6I%2B77ZLo/hPxHqd9F8jbdsTalBE3z7QcyjAJPJAB%2BuqKieIpSjaNKK/8AAm/xl%2BgnJdjxn/hB/wDgoX/0dB8Gf/DD6t/81FH/AAg//BQv/o6D4M/%2BGH1b/wCaivZqK5STxn/hB/8AgoX/ANHQfBn/AMMPq3/zUUf8IP8A8FC/%2BjoPgz/4YfVv/mor2aigDxn/AIQf/goX/wBHQfBn/wAMPq3/AM1FH/CD/wDBQv8A6Og%2BDP8A4YfVv/mor2aigDxn/hB/%2BChf/R0HwZ/8MPq3/wA1FH/CD/8ABQvt%2B1B8Gf8Aww%2Brf/NRXs1FAHxJ4k1P/g4i8P7pdK0j9kfX0H3E0%2Bw8RW8jD3E96qg/8CNYI/aJ/wCC63hg%2Bd8Sv2XvBot1/wBZP4J8CQ6wf%2BAxyeMLaRv%2B%2BRX3zRXZHE0bWlRi/wDwJflJ/kVzLsfK/wCz98Sv%2BChPx%2B0zUr9/GnhvwRNpk8cU1j8Qf2YtX06WYspO6EjxY6TKMYLIxAJA71pfEvxF/wAFBvh74t8EeC7f9oL4M6he%2BNvEj6Xbr/wpTVYRaxRWNzeTXJ/4qZt4VLbbs%2BXLSKNwr6Wrzbx/%2BzPoHjv4y6D8dU%2BI/jDSdb8O288NhbafrKyaeVmiaKQtZ3EcsIYqeXRVf5R83XMU5Yd13Jq0bOy1lrZ27PfW/QFy3PBf2g/jh/wUO%2BCWpXmmaH8V/hH4kfQPDMniXxhJD8GdStk0nR42kDT5fxOTNKfJmKQqAWELfMOM60Hxz/aoufinb/CGL9rP4VnUrm7SyS7/AOGbde%2BwrfvaC8Wxa6/4SXyluTbETeUWB2%2B4xXb/ABj/AGSvHXxJ8U31xpHxXtLTR/Fvh6w0bx8l1ope9u7e1mkk3WsiSpHCZlkeGRWjZQrFkw2c8PqP7PH7SK6v4g8LaD4b06z0/TfFeu%2BL9B8S/wBqKf7Sv5bcppVsIBmSLySyrK78MLddmRIQnXTo4GpSScrO3e333XR9F038qSg0dT4Q179rv4gavqvh/wACftzfs%2Ba1qGhXAg1ux0r4O6hcTafISQEnRPFZaIkq2AwGcH0rf/4Qf/goX/0dB8Gf/DD6t/8ANRXF/sZeCtWfxvoXiLRPBHiDw54Z8GfCDTvCaQeJdBm0271HUzMJrl3imVXkEIiTE2NjyXc5RnBLH0f4l/ttfsqfBj4q2/wW%2BMHxs0fwr4gu7OO5s4vEbPZW1wjlgoS7mVbdnypygk3jIyBuGeethJKu6dFOVlfRXfntfyfW1yXHWyMz/hB/%2BChf/R0HwZ/8MPq3/wA1FH/CD/8ABQv/AKOg%2BDP/AIYfVv8A5qK9f0vVdM1zTodX0XUoLy0uYxJb3VrMskcqHoyspIYH1FT1x7EnjP8Awg//AAUL/wCjoPgz/wCGH1b/AOaivP8AwGP%2BCyGo/FLVfB/xL8UfATSfDkFvLNo3i/R/h1ql9HeYlVUhltpPEEMsEpRi5wHjGxhvPy5%2BpqKuM1FNOKd/XTzWv53Jaba1Pmf48eIv%2BCh/wV%2BHFx41sPjv8F9d1F7q3sdG0I/BrV7RtRvriVYbeBZB4jl2lpHUE7DhdzHhTV/4ieI/2wPhBo9pr3xY/ba%2BAnh2zvb2Ozgu9W%2BCmqQwtcPnam9/FIAzg8nA47V6B8VvgFqvxB%2BJ3hf4raX8TdStJfCt2bq28M30Edzo93N9nuIVmki2rKkyi5YrIkgA2qSjEDHC/tNQ/EnxB4m8NL4X%2BFfixvF2g3kEnhzWNKeCbQLk3Pl29/HeCQsUiSCSfJliRyozCxc7R10aVCqoQv3bezXZa6WVt9d3poZTnUhzO3a39I2bTwl/wUAv7WK/sP2qvgrPBPGskM0PwK1VkkQjIZSPFOCCDkEVJ/wg/wDwUL/6Og%2BDP/hh9W/%2BaivNdS%2BMuueHtf0z4uRfEy50Hw1a%2BK9StLHwjZ20MenQeGNKW4TULuaLZv377d3VwRtCRqnDkN7F8G/j74n%2BIXjWbwN47%2BFzeFr2Xw3a6/pVrLq4uZ3sppHj23MYjX7NOrpgx5cfNw5KsqzVwVWnHmWq/L/O11e2g4V4SdjjNS8Y/tm/CX40/Crw18Ufi38MPEvh/wAeeNbvQdTtNA%2BF2o6ReW4j8P6vqcc0VxNrl2gPm6dGjK0JysjYKkA19A14z%2B1B/wAlv/Zx/wCyzX3/AKhXiivZq4zYKKKKACiiigAooooAKKKKACiiigDxn9vD/kiGh/8AZZvhx/6muiV0/gH9pT4cfFD4t%2BIvhB4Dg1jUbnwoGj17Wo9HlXS7a8V1VrEXTAJJcru3MibtoByQRiuY/bw/5Ihof/ZZvhx/6muiV7KiJGCI0CgkkgDHJ5Jq4umovmV301tb/P00Jak2rM8u%2BLvwe%2BKHi/41eDviZ8MfGOkeHP7Ds72013Ubqwe8ub%2BynMTGzSHckajfEsgmdm2OgxGwZs9XafB34fJ4nsPHus%2BHrbV/EemWrW9l4i1W2jlvIUZmLBH2gR53EHYFyMA8AV09FW69VxUb2sraaaeb3e//AABKnFNvuFVtY1nSPD2lXOva/qttY2NnA015e3k6xRQRqMs7uxAVQASSTgAVT8bjxq3hHUV%2BHEulprptWGlPrUUj2izY%2BUyrGyuyDuFZSemR1rxI634q/ae/ZI8b/C/4i32k6V430d7vw94oxGYLAalAUeGULIzMltcxtbTKCzER3O3cWXNOlR9ouZvS6T7q/W3b9TRK50PxC/a50a2t/C6/s/aJp3xJufFUeoXGm/2P4khjtpYLKBZpglwFkR52EkYjh%2BXduLFkVGYeLeI/2k/G2seIvHnx48DfE3XI38H2eka/o3gW/mt4dP1fwsSseoRLGU3C/W5ttShLl2MU0duufLlUHV8I/Br4i/Gf40%2BIfGll4M1/4Z3UA0vV5dQ1PTY2iTxVbyPb3Eluqybby2ubGOGOZl2hl2bX3l9nr/gL9kj4Z6b4G0zw78X/AA5oHjjU7DXb3WhqeqeG4hFDfXVzJcubaGQym3iV5SI497lAifMSoNelfA4RWau9L7N66vvHbTRp63NPcid/418PXXjjwNqfhfTfFeqaDNqumy28GtaQUjvLBpEKrPF5qMqyoSGG9CARyp6V4z8Pf%2BCZ37IngzxFH498YeA7r4ieK05bxb8UtVl8QX5bsym7LRwkdvJjjA7CvfaK82nicRRg405OKe9tPxWvyvbyM1KSWgy3t4LSBLW1gSOKNAsccahVVQMAADoBT6KKwEFFFc/8SPiv8Lfg34bk8ZfF34k6B4V0iLPm6p4j1iCxt04zzJMyqPzpqMpOyV2NJydktToKK%2BVbz/gsN%2Byj4lvJdI/Zo8N/Eb4330LlJYvhD4AvNTtUYcfNfyrDYgZ4z5%2BB37UwftEf8FW/iv8Au/hN/wAE/PB3w9tZPmg1f4x/FJJZdnYtY6NDclWxztadT2OOtdX1HEr40o/4mo/g3f8AA6fqWIXxpR/xNL8G7/gfVtFfKY/Z0/4KwfEX/S/iR/wUZ8HeBkk4l0v4VfByGTYO4W61i5ujn38ketL/AMOsh4k/efF//goR%2B0x4saTm5th8UTo1rJ6jydIgtcL/ALJJ%2BtH1fDx%2BKsvkpP8ASKD2FCPxVV8lJ/okfVTukal3YKoGSScACuR8S/tBfAXwYzJ4w%2BN3hDSSn3xqXiW1gK/XfIMV4Kn/AARR/wCCal2wm8Xfs%2BXXimbOZJ/GfjjWtZaRvUi8vJF/IAV13hr/AIJX/wDBNPwkqjRP2BvhAGT7st18PdPuJB/wOWJm/WjlwC%2B1J/8AbsV%2BcmHLgl9qT%2BSX5yZtar/wUO/YB0Jimt/ty/B6zK/eF18TNKjI/wC%2BrgVjzf8ABUv/AIJoQNtf/goJ8Fyf9j4m6W38p67DSv2Nf2QdCULon7Knw2swv3Ra%2BBtPjx/3zCK2If2d/wBn%2B3XZB8DPByD0TwzaD%2BUdF8v7T/8AJP8AIP8AYe0//Jf8jzq2/wCCon/BNS7YJD/wUE%2BCuT0D/FDSl/8AQrgVvaN%2B3p%2Bwz4iYJ4f/AGz/AIT3xb7os/iLpkuf%2B%2BZzXSXX7N/7O96uy9%2BAnguYHqJfC1ow/WOsHWP2HP2KfEKlNf8A2PvhbfBvvC8%2BH%2Bmy5/76hNH/AAn/AN//AMkD/Yf7/wD5Kdn4X%2BK3wu8blV8F/EnQNXLfdGl6xBcZ%2Bnlsa36%2BdPFH/BIn/gl74vDDVv2B/hVFu6nS/BtrYn8DbIhFYB/4Iv8A7BGknz/hr4P8beBrkf6u68DfFnxDphj/AN1Ir7yx/wB8UcmAe05L1in%2BUg5cE9pyXrFP8pH1VRXyp/w7X%2BLPg7/Svgj/AMFR/wBojQrhf9VD4n1/TvE9qvplNTspZG/GWk/4Vb/wWO%2BGf/Im/tY/Bf4oQdfI%2BIPw3vNBuSPT7Rpd1LGD/tfZ8f7NP6tRl8FaPzUo/mmvxD6vRl8NVfNSj%2Baa/E%2BrKK%2BUT%2B2h%2B338Kv8Ak4f/AIJda/qljD8s%2Bu/BXx3p/iFXP95bK7%2BxXQHsFc8dzgVreB/%2BCvP7BfiXxDD4G8efF24%2BGfiWY7T4Z%2BL2gXnhe7V%2BmwHUY4opGyQP3bvycUngcVa8Y8y/utS/Jt/gDweJteMeZf3Wpfk2/wAD6YoqtpGsaR4g0yDW9B1W2vrK5jEltd2c6yxSoejK6khh7g1Zrk2OXYKzfFng3wh4%2B0Kfwt468K6brWmXK4udO1axjuYJR6NHICrfiK0qKabi7oD5r1P/AIJe/A3wrqVx4o/ZU8aeMPglrM8hmkk%2BHGuNDps8nUedpdwJbKRAf4REv1FV28af8FL/ANnH/kffh14Z%2BPfhuD7%2BseCGXQPEiRjlnfT7l2tLlsdFhmiJ7L2P05RXasfWnpWSqL%2B9q/8AwJWl%2BLL5299Txv4E/t6/s0fH/wARv8PNA8ZT6B40gH%2Bm/D/xrp8mka5btjJH2S5CtKB3eLzE/wBqvZK4T48fsxfAD9p3w4nhb48/CjSPEltCd1nLfW%2BLmyf/AJ6W9whWW3f/AG43VvevFn%2BCH7cf7JP%2Bn/syfFR/i/4Og5b4a/FHVNmr28Y/g0/W9uWPQLHeK6gDHmjrR7LCYj%2BFLkl2lt8p/wDySXqFoy20PqSivHP2eP24fgz%2B0D4hufhkU1Twd8QdNi36x8N/Gtl9g1i1UdZEjYlbqHjImgaSMgg5GcV7HXLVo1aE%2BSorP%2BvvXmm15ktNOzPOPHX7K3wb8WeG/GGmaH4K0nQNT8a2jRazrul6TCtxNIWDrLJ8uJT5gV2DcOR82au/CL4O6j4C1zXPH3jbxmfEfirxILWPVdXWw%2ByQrb2yOsFtBAHfyokaWeTBdiXnkJY547qiqeIrOm4OV0/%2BB13totPJGfs4KV7HjH7TrF/jb%2BzkShX/AIvPfjB9vBXijmvZ68Z/ag/5Lf8As4/9lmvv/UK8UV7NWJYUUUUAFFFFABRRRQAUUUUAeD%2BFPjN%2B0Fof7Z9v%2Bzp8QvEHgjxJpes%2BEdV8RLF4V8OXlje%2BFbaC9toLFb6Wa9uI7oXQmuFR1jtSXsZiiSKshiwvhX%2B1P8Xdd/bS8V/A34seJtE8M6Lb%2BJ7nTfAGgX/wn1u0ufE9tFpdvdm4tdenuxp93IrtdlreCBpBHauSAEZx0Xwm/YlvPg58QvG/xG8OftZfE27uvH2uT6rrcGrW3h2cLO7IIljm/sgXHlW8KLbwxPK6RxcBS3z1v337LUHiL45aL8a/Hvxv8a%2BIofC2tXOr%2BEfB2pHTI9J0W%2Bms7iyaeL7NZRXUxW2u7qNBc3EyqJ2IG5UZQDjP%2BChfxc%2BFHhrwf4M%2BFHiP4neHtP8AFPiD4w/D2XQfDV7rUEWoakkfjPRmka3t2cSTBVVixRSAFJOMGvoevGf28P8AkiGh/wDZZvhx/wCprolezUAFcT8ff2h/hD%2BzH8PZviZ8Z/F8OlaakqwWsexpbm/uX4jtraFAXuJnPCxoCx5PQEjH/an/AGpPBn7LXge11zV9Ivde8Ra7fLpvgvwXowD6h4h1Fx8ltAvYD7zyt8kaAs3YHhP2dv2RfGep/EGD9rX9tPVbLxL8UXiYaDpFsS%2Bj%2BBbZ%2BtppyNw05GBLeN%2B8kIwpVOG7KOHgqftq7tDolvJ9l2S6yei2V3oqUVa72PRP2afih8YvjD4JuvHvxb%2BBs3w%2BjvdRZvDWhanqaz6kdO2J5ct9Gi7LWdm3kwB3KKVViGBFJo37LXwo0z40678ftSt9Q1bxJrwgSWTVdQaS1tYoVVYo4bVdsClduRKyNNyQZCOK9GorF1pKcnT91S0sr7dtdenz/AV9dAooorEQUUV4H%2B1B/wAFAfh78BfGlt8Bfhr4M1b4o/F/VbYTaR8L/BpRrtIjgC6v53Pk6ZaZK5nnIyD8iuQRWlKlUrT5YK7/AK1fRLzdkaU6VStLlgrv%2Bt%2By82e9SyxQRNNNIqIilndjgKB1JPYV8w%2BP/wDgqp8FLjxfe/CX9kbwN4l%2BP3jayk8m70n4YWyT6bpsx6LfavKyWNoM5BBlZ1I5SsC0/YK%2BP/7YEi%2BKf%2BCnXxm%2B3aJMwktvgR8Nr%2Bew8M2y9Vj1G6UpdazIMKWDtHb7gcRFTX1L8Pfhx8PvhL4Qsvh/8LfA%2BkeHNC06Ly7DR9D06O0tbdfRIolVV/AV08uEofE%2BeXZaR%2B/d/JJeZvy4Wh8T532Wkfv3fySXmfMq/CH/AIKp/tN/6R8Z/wBofwz8AvDVx97wp8IrJdZ19om6xzazqEfkQyD%2B9bWp9nrovht/wSX/AGGvAviSP4g%2BMfhTN8S/Fy8yeMvi7q8/ifUXfOd6tftJHCfTyUjA7CvpKipljcRblg%2BRdo6fe1q/nITxle1oPlXaOn4rV/NkVlZWWm2cWn6daRW9vCgSGCCMIkagYCqo4AA7CpaKK5DlCiiigAooooAKKKKACiiigAooooAKKKKACsjxx8PvAXxO8OzeEPiV4I0jxDpNwMXGl65psV3by/70cqsrfiK16Kabi7oabTuj5W1n/gkN%2BzT4Z1OfxV%2ByV4t8cfAPXJpDK9x8JPE0llp88nUedpUwlsJUz1XyFyO44Ipv4k/4K0/stjd4r8JeDf2lvC0H%2Bs1DwwE8K%2BLI4%2BpdrSZ30%2B8YD%2BGOW3Zj0XkCvrWiutY2tLSraa/vav8A8C0l%2BLOlYyrLSraa/vav79Jfizwn9nX/AIKOfst/tH%2BLX%2BFWk%2BKdQ8I/EG3TN98MviJpUmieILfgk4tLjBuFwM%2BZA0seP4q92rzr9o79kr9nD9rfwmngv9or4QaP4otIH8ywnvYCl3p8uQRLa3MZWa1kBA%2BeJ0b3rwGb4c/8FBP2BR/afwV8Wap%2B0Z8LLUZuPAfjDUI08aaNAOT/AGfqb7Y9VVRki3u9sxCqqzMTT9lhq/8ACfLLtJ6fKWn3SS9R%2Bzw9f%2BG%2BV9pPT5S/%2BSS9T7DorzL9lz9r/wCA/wC2F4MuPF/wU8WvcTaZc/ZPEfh7VLR7PVtBvBndaX1nKBLbSqQwwww20lSy816bXLOnOlNxmrNdGc04TpycZKzQUUUVBJ5z%2B0Z%2Byj8Dv2p/D1tonxd8ICe702Xz9B8Q6dcNaarotwMFZ7O7iIlgcEA/Kdp2gMGHFeKj42/tJfsAzppH7W9/efEf4So4js/jJp2n/wDE18Px5wq65aQjEsQHH26BccZljUtur6wplxb293bva3UCSxSoUkjkUMrqRggg8EEdq66OLcIeyqrmh2fTzi94v8H1T3KUrKz2KvhvxL4d8Y6BZeK/CWu2eqaXqNslxp%2Bo6fcrNBcwuMrJG6Eq6kEEEEg1dr5I8Y/CT4if8E5NevfjV%2Byv4bvtf%2BEF3cveePvg5YL5kuhhjum1TQkP3ccvLYjCONxj2tgD6a%2BGPxN8A/GbwBpPxT%2BF3im01vw/rlkl1pWqWUm6OeJu47gg5BUgMrAqQCCKWIw6pxVSm%2BaD2fVPtJdH%2BDWqdtiUbarY82/ag/5Lf%2Bzj/wBlmvv/AFCvFFezV4z%2B1B/yW/8AZx/7LNff%2BoV4or2auUkKKKKACiiigAooooAKKKKACiiigDxn9vD/AJIhof8A2Wb4cf8Aqa6JXoXxh%2BLfgP4D/C7XvjH8T9cTTtA8OabLfapduMlY0GdqjqzscKqjlmZVHJFee/t4f8kQ0P8A7LN8OP8A1NdErg/2h7YftXfts%2BDv2S5P3/gz4c2Nv4%2B%2BJUA5ivrzzmj0XTpexXzYp7x42BDC2iz1rpwtGNar7%2BkUm5ei3t5vRLzfkVFXepe/Y4%2BC3jz4i%2BNLj9vT9qPQXtvHXiayMPgrwrd/Mvgbw%2B53RWaKeBeTLtkuZcBizCIbVQg/SlFFTiK8sRU5notklsktkvJfjq3q2KTcmFFFFYCCiivnH/goV%2B0B8UPCGmeE/wBlX9mPUYrb4t/GPUZtL8MalJF5ieG9OhQPqWuyp0ZbWFhsUn555YVw2SK1o0pV6ihHr9yW7b8ktTSlSlWqKC/4ZdW/JLU539oD9qD42/tFfGTVf2I/%2BCf2r21hq2iMsPxY%2BMdzai5sPA6uM/YrWM/JeauyHIiJ8uAENLydo9e/ZT/Y7%2BCH7HXgq48KfCXRLmW/1a5%2B2eKfFuuXRvNZ8R3xyXu7%2B7f57iViWPOFXcQiqvFaX7L/AOzR8Lf2Rvgro/wM%2BEemSxaZpaM9ze3kvm3eqXkh33F9dSnma4mkLO7nqTgYAAHoFbVq8eX2VHSH4yfd/otl5u7Nq1ePL7KlpD8Zeb/RbLzd2FFFFchyhRRRQAUUUUAFFFFABRRRQAUUUUAFFFFABRRRQAUUUUAFFFFABRRRQAUUUUAfPH7WH7BenfF/xlB%2B0r%2Bzv42f4ZfHDRbby9H8faXbhotVhXBGnavbDC6hZNtA2v8AvIsBo2UjBt/saftoX/x31XXPgJ8efAyeA/jV4HijPjPwS1yZILm3Y7YtW0yVsG60%2BYj5XHzRMfLkAYAt75Xzz%2B31%2Byj4t%2BMugaP8ff2c7230b43fDCSTUvh1rcnyx34I/wBI0W8OR5lleIDE4JGxykikFDntpVY14qjWf%2BGX8vk/7vdfZ3XVPspVY1oqlVfpL%2BXyf93y6brqn9DUV5t%2ByJ%2B0x4R/a%2B/Z48N/H7wfp9xp6a1asup6LejFzpGoQu0N3YzggESwTxyRNkDOzI4Ir0muScJ05uElZrRnLOEqc3GSs1oFFFFSSFfI/iuw/wCHa3x9X4m%2BHl%2Bz/Aj4na/HB4y0teLfwT4huXCRapEOkVldSFY514WOVkkBAZlr64rB%2BKHw08GfGT4c658KPiLoseo6F4i0ubT9VspRxLBKhRgD/C2DkMOQQCOQK6sLXVGbjNXhLSS8u681un302bKi7PXY83/ag/5Ld%2Bzj/wBlmvv/AFCvFFezV8vz/DTx98G7X9kv4U/Ez4jDxbq/h74qXthJ4iNoYXvYYvBnipYGkUsxMohEau%2BfndWbA3YH1BWFSMYTcYu6T37%2BfzE9GFFFFQIKKKKACiiigAooooA5DwL%2B0H8A/ih4y1n4dfDT43%2BEPEXiHw67J4g0LQvEtrd3mmMrmNluIIpGeEhwVIcDDAjrVi1%2BNvwZvvinc/Auy%2BLnhibxvZ2AvbzwdFr9u2qwWpCkTvaB/OWMh0%2Bcrt%2BZeeRXzX8NfivpnxY/bf1b4p%2BLPhJ8RfCWk/CzSda8L%2BBdNuPg14hh/tr7VeWZ1HVmuhYfZ3gkltIEtYIpGZ41muXB3xiHmfB3w/8AiDF%2B1J4e%2BG8vwo8UQ69oP7TviTx7rXjOXw1dJpU3h280LU7e2kTUzH9mnkK3thp/2VZDMn2ZmMYjhV6APe/28P8AkiGh/wDZZvhx/wCprolch/wTui/4TbxD8c/2ir8ebd%2BMvjTqthaXX97TNHCaVaoP9kG2nce8pq9/wUL034rz%2BD/Bmo%2BHPGnh618LQ/GH4ejXtGvfDE9xqF458Z6N5bW94t7HHbBW2lg9tMWAIBTIIr/8EsZo4v2X9R8OvbJDeaL8UvGVhqUSFjtuE8QXzNncSdxDqx578ADArto6YGs11cF8ryf5pFr4H8j6PoooriICiiigAr5L/ZFs2%2BOv/BRL9of9qbWWFxbeCL7T/hT4I3jmzhtLaHUdWK/9db29iUt1ItFGeMD60r5U/wCCW7LYah%2B0l4Uu/lv9O/al8VS3cbcNsuks7yByPQwzx4P%2Bz7V2Yf3cNWkt7RXyctfySOqh7uHqyW9kvk5a/kkfVdFFFcZyhRRRQAUUUUAFFFFABRRRQBi/EP4j%2BAvhN4Ru/HvxM8XWGhaNYhftepancrFDHuYKoLN3LEKB1JIAr5A%2BPf8AwWR%2BGdjqY8Kfsq3fhvxHNFbPNq3izxZqM2naRpxBASNQyCW9lbJPlwjOASN2G2%2BpftdftxfsGfC641X9n/8Aah8U215cXFjDJqXhe58M3d6k0MhDISVhaLPAcfOGXaCMHFeH/sr%2BJ/8AghVpHiq51X4Ty%2BFNP1a0t3vjdeO0vEW3QOi/uZdU/cq4LqFWNvMIyQCAxH1uUZZh6WEeKxmErVOseWP7tp9W9/0f4Hx2c5piKuMWEwWMoU%2BkuaX7xNbpLb9V%2BJ86fs8/8FlP2r9E%2BL83in4z6qfF1hqlpPBpfheSbT9A02J2kVo5hdyxcKg3p8/JDAs5Iwfqn4n/ALRf/BW6K18M%2BPvCv7NfgGy8MjUYr7WVsvHlhM13ZbkxbNdXMqRRLIrkCaJXOQpBUDa/zZ%2B27/wWW1v4p6z4h%2BDXwu8C%2BGofCdldXlpa65qOjw622sLGzJFKkVyEhghlAB5SR1VgRk8V%2Bf8AX6Nh%2BGaWZ8uJqYOnQdl7rTndW00jKmotJ63Unfd3R%2BZ4nimrlXNhaWNqYhXfvJqDUr66yjUcotrSzirXsrM/WLV/%2BC%2BGj%2BEfiNJ8OfHX7Kl/YXOnzy2etm38bWlwbS9RmUxKRGIpEDgAyGVcfNwdvPlvxh/4K7/tp/Gvxi3w1/Zv8JWuk3EyF4tL8C2Y8R6qUGDhrkI9vgqw%2BaGNzGSQx3DFfDo%2BOPxGj%2BCq/s%2BwarBF4X/t19XuLOGxiSS5umREDSyhd8gQJ8oJ43HsFC/Sn7LXxC8XfDn4q%2BBvhZ/wTf8AjXr%2BseKfEQluvFth4raLTvDjzvEMQpZyOXkkhjD75N7s3lr5QbkU58LZPllN1o4WLmlK3NKUqdoq/NJu6hfXS0ui1d2EOLM5zSqqDxc/ZtxvyxhGpeTtywjo52fW8er0TSPpfwF44/4LK/s3/BXxL8Wf2gPF3w3tNI06IX9xcfFDUHnuIVA2CCAaWSC0rMgWNjkuVUYLEH3v/gnZ/wAFGNB/bn8NamNY8Kad4W8Q6TOkR0hPEkNzJfp5YZ7iKEhJkjDHB3IVGQBI5DBfM/2if%2BCUHxr%2BP/wauoPH/wC2Z4m8WePCIZrKLXLj7L4ehmBBkVbSBD5eRlRJgkDHyenWfsD/APBLv4Pfs%2B%2BD/CHxH%2BKPwosYvixoTXLXWt6d4kvp4d7PNGjiMyiEkwOuR5eASccgY%2BIzGvw1i8pq1ajh9YcrR9lBwS07SkuaLtZysmuke/3eWUOKMHnFKjTU/q6jeXtqim3r3jF8sle6jdp9Zdvriiiivgj9CCiiigAooooAKKKKACiiigD5N/ZgtV%2BAH/BTL46/s16ePK0D4gaFpXxW8PWUf%2Brtry4kl03WMe8lxa2s5H964Y/xV9ZV8qTsuqf8FvbT7Cd39ifsr3K6mV/hN74ktzbhvcixuSB9a%2Bq67MZrOEnu4Rb9bNfkkdWL1lCT3cYt/c1%2BSQUUUVxnKFFFFAHjP7UH/Jb/ANnH/ss19/6hXiivZq8Z/ag/5Lf%2Bzj/2Wa%2B/9QrxRXs1ABRRRQAUUUUAFFFFABRRRQAUUUUAeM/t4f8AJEND/wCyzfDj/wBTXRK4z9k6YfBv9s/47fsyaj%2B6h1/WLb4l%2BEw/W5tdRiS21Db7R39qxI/6elP8Vdn%2B3h/yRDQ/%2ByzfDj/1NdErl/2/fAnjTwkfCn7b3wb0GfUvFfwhuZ7jVdFs1/e6/wCGrhVXU7BR/HKERLmEHOJbcAAl67cE1OUqEnbnVl/iTvH8dP8At4uGunc%2BjqKxPht8RvBfxe8AaP8AFH4c%2BIINV0LX9OivtK1C2bKTwSKGVvUHBwQeQQQQCCK2645RlGTi1ZojYKKKKQBXyLfX4/Y//wCCqcur6032fwR%2B0/otpaQ30nEVn410iBo44GPCob3TQoTPLyaftGSwr66rzb9rP9mHwF%2B1/wDAzV/gh4%2BubqyS8MV1o2u6bJ5d7oepQOJbTULWQcxzwyqrqQecFTlWYHpw1WFObjP4ZKz/AM/k0n966nRh6kITcZ/DJWf%2BfyaT%2B/uek0V80/sTftc%2BO9f8U337F/7YsFro3xy8G2QkumiTyrLxtpanZHr2mZwHjkwPOhX5reXcjKo219LVnWozoVOWX/Aa6Nd0/wCtbpZ1aU6M%2BWX/AAGujXk/66oKKKKyMwooooAKKKKACiivz6/ba/4LT%2BKvgl8d734A/s//AAYt9YvtF1EWWqaj4hSfF1dZKtBbW8RRyA20CUsd53BUxtdvTyrJ8fnWIdHCRu0ru7SSXdtnlZvnWXZHhlXxk%2BVN2Vk22%2BySO2/4LU/De/1H4AWPxf8AD0/hOG%2B8P3yWzQ634Ls9TvdT%2B0yJFFa20lxFIYsOzOVUfNjORs5/Oe1/4Jsft2%2BE9LvPFurfsg6rqdraIA9vORLIDkNujgt51ll4BHCsME5GcY%2Byvh54p134sftgW2v/APBWT4hWHw91vwAqar4M%2BHeoi2tPDtyjDC3i3kk8sdzIkjD5d%2B4NGuHIV41%2BrvGX/BSf9hDwJp76nrf7UnhOeONgGXRr46jIckDiO0WRz16gcDk8CvvMFmudcOYOngMLR9u37zajNxtJ3UYzjpLS7ck7XdktGfn2OyjI%2BJsbVzDF1vq6XuqLlBSvFWcpwnrHWyUWr2V29Vb8pvjbq/7J/hHS9H8VfCr4oa94V8Y%2BIPC82j/FTwjoXgHdYxzSApdRrDe3EQg%2BdQRGNwVljlj8lkUD5fvFtEu5UsJ5JYBIwhkmiCO6Z4LKGYKSMZAY49T1r7D/AOCmPjr/AIJ2/G/4n3PxT/Z48da/qXivxXLAdUvEtZrLRtOkQoklxNDNZ/aJ3kjH3YcAMC5LElG4L4p6v%2BxZ43Xwb8Jv2Tf2dPE2s%2BL1tLPS59Z1DWZLe21/UWZEeU2QaSU%2Ba5crtntwhcAoVXFfoGU4qVPB05SpVbzT5udJclrv3m%2BV8qu4xbu%2BVbWVz85zjCRq42rCNWlaDXLyNvnvZe6lzLmdlKSVlzPe7seAajdPqajUbm4s1lRIYBb21oISUSIIHxGioThRuYne7Es24szH67/4IpeNPgb4Y/a0s7D4uaVoCanfW7weDdW1CO6a6i1OQoiQxbW%2BzqHjMoDSJv3lFRxuKt6B/wAEsv8Agn98ZfCf7SEs/wC1L%2BxlBqHhW60K4glvPGWnW88NhPlXjkSGVisjMU8vhGZd%2BQVG7P2l%2B2N/wS1/Zs/a9jh1m80v/hE/EkEi/wDFReHrOJJLmMKqeVPHgLMAqqFJwybRhtuVPgcRcV5Pzzyuo37Ocf4kJRko320i7u1tVfZ7NM%2Bj4a4Rzrkhm1JL2lOelKpGUXK2%2BslZXT912tdbpo%2BlKKqaDpb6HoVlosuqXV81naRwNe3rhprgooXzJCAAXbGSQBkk8CrdfiDsnofvCba1CiiikMKKKKACiiigAooooAKg1XVNM0PTLnW9a1CC0s7OB57u7uZQkcMSKWZ3Y8KoAJJPAAqeviv4/eN9Y/4KffFbU/2HvgPrFzH8HvDepC3/AGgPiJp0xSLVGQhm8KafMv8ArJJOBeSocQxExbt8hWt8PQdaWrtFat9l/m9kur%2Bdt6FF1pau0Vq32X%2BfRLq/nbof%2BCZUOpfHbxP8VP8Ago1rtjNBb/GTX7e1%2BHsF1EUePwhpSSW2nTbWG6M3Uj3d4V7rcRnpivrOquhaFovhfRLPw14c0q3sNO060jtbCxtIRHFbwxqESNFXhVVQAAOAABVqliKvt6zmlZbJdktEvuX33FXq%2B2quSVl0XZLRL7l%2BYUUUViYhRRXkX7af7Sdz%2BzX8HW1Twfo66z458S30ehfDnw0py%2Bq61cZWBCO0UfM0rEgLFE5JHFaUaU69VU4LV/193Vvok2NJt2RW/ag/5Lf%2Bzj/2Wa%2B/9QrxRXs1fL0/wo8SfA%2B1/ZL%2BF/jP4g6l4r1vS/ipejW/EWrXkk81/eyeDPFUs8gaQllj813CJ0SMIgwFFfUNKpGMZtRd0nv38/mD0YUUUVAgooooAKKKKACiiigAorxf9jn4u/HD4lXXxS8HfH698KXes/D/AOJjeHra%2B8H6Lc2FrcWraNpWpIWiubq5cyK2oPGXDhXEasETJFcl%2BxP%2B1P8AF340fELxH4I%2BPfibRNH121udYl0n4fn4T634f1BNNtdWktIb%2BO%2B1G7kh1eBofsrPLaQrGr3UeWXeqkA6/wDbw/5Ihof/AGWb4cf%2BprolezV88f8ABQv4ufCjw14P8GfCjxH8TvD2n%2BKfEHxh%2BHsug%2BGr3WoItQ1JI/GejNI1vbs4kmCqrFiikAKScYNfQ9AHyFfyXn/BLn4p3mvC2lf9nLxvrLXGoCGMsvw21m4k%2BebaPuaVcyNlsfLbzOThUfn64sr2z1Kzh1HTruK4t7iJZIJ4JA6SIwyrKw4IIIII4INR61ouj%2BJNHuvD3iHSra/sL62e3vbK8gWWG4idSrxujAhlZSQQRgg4r5Obwv8AGP8A4Jj3cl/8MtA1nx/%2Bz40rSXfhOzD3et/D5SSWksVJL32mrklrfJlgHzJvUMtej7uYLV2q/hP59J%2Buku6l8V/H6/n/AME%2BuqK534U/Fv4afHLwFp/xQ%2BEPjbTvEPh/VYfMsdU0y4Ekcg7g91YHhkYBlIIYAgiuirglGUJOMlZojYKKKKkDyT9rn9jb4XftgeEdP03xdd6joPibw3eHUPA3j7w3cfZ9Y8M3%2BMC4tZgOAQAJImzHKvyupwCPHPA/7dPxY/ZI8S2PwJ/4KkWFjpAubhbPwr8fNGtTF4W8SknEaX3UaLfMPvRSnyHYOYpMYWvr6s7xb4R8KePvDN94L8deGdP1nR9Ttmt9S0rVbNLi2uomGGjkjkBV1PcEEGuqliEoeyqrmj07r/C/zT0fk9Tpp10oezqrmj%2BK9H%2Baej8nqXbW6tb61jvbK5jmhmjDwzROGV1IyGBHBBHIIqSvkKT9gr9oX9kK5k8Qf8EyPjbb6b4fEhln%2BBfxNmuL7wy2Tll066Utd6OTliEQywbmH7oAVp%2BEv%2BCq/wANfBviG0%2BGv7d/wt8Qfs9%2BK7qUQW7%2BOdk3h3UZf%2BnLXYM2co6cStDJzygqng3Nc1B867L4l6x3%2Ba5kU8K5q9B867faXrHf5q6Pqqiq%2Bk6vpOv6Zb63oWp297ZXUSy2t3aTrJFMhGQyOpIZSOQQcGrFcexybBRRRQAV5z8Rf2g/2TvB/jKHwr8WfjN4A0vXtJZbu2svEWvWcNzZsykCRRM4aNipOCMEqfQ16MSFBZiAAOSa/MC5%2BHHhzU/%2BCxupfBvSZvhn4n8N%2BOdTPiHX9P1jw3aas0IS3kkmtkmuI5JIbhykjlYnVVDqcfLsHuZHltDMZ1nVnKKpwc/dtrbdXaaWn37HgZ9meIy2FBUYRk6lRQ969lfZ2TTevbbc5j/gr5%2B2t%2BxD%2B1Ppel%2BGPh/qPifX/EvhOWf%2Bx9c02BINHYTsgnik87Es3%2Bojw0aKvOVkYZFeAfCH4TfB/wDbE8R6J4Y8J6DoPwhTSbS9ufiF4rvtZnuNLgtFSIQSxpfXJZZGcyr5fmf3WDABsfuH4d%2BEXwn8IWMel%2BE/hh4d0u2iJMVvp2iwQIhJycKiADnmuV%2BJv7Gn7Kvxl8W23jv4ofATwzrOr2u3Zf3emrvlCgBVl24E6gAALJuAHAFfU5fxngMuwUcJQpVIqN%2BWTmpNN/3bRi1u7O6T111T%2BTzLgjMczx0sZiKtKUpcvNFQcU0v795TT2V1ZtXWmjX4z%2BJP2B9T8e%2BNYPCX7DniTX/jLawh49Z8RWng99J022uA3yxrcXExjbIzkllHy5BYHj0j4Gf8ExP%2BCoPwe%2BNvhv4lfDL4PQ%2BGdS0y9h8nWdW8U6TdwWhdPKnllSOVmaIh5SUSN3CHC72AJ/ZPR9F0fw7pcGh%2BH9JtrGytYxHbWdnAsUUKDoqooAUewFWaiv4iZpOk6MacXFpp8/vN3725Y/JRt6mlDw1yqFVVpVZRmmmuT3UrWty83PLpu5X66EGlLqaaZbJrUsEl4IEF3JbIVjaXaNxQMSQuc4BJIHc1PRRX583d3P0ZKysFFFFIYUUUUAFFFFABRRXN/Fb4x/CX4E%2BDrj4hfGn4l6F4T0K1H7/VvEOqxWdupxnbvlZQWOOFHJ7A04xlJ2irsajKTsldnSVzvxW%2BLnww%2BBfgLUfil8ZPH2k%2BGfDulQmXUNZ1q%2BS3t4V7As5ALE8BRksSAASQK%2BZ5v%2BCiXxq/afJ0P/gmh%2BzJf%2BLbGY7F%2BL3xKhuNB8IwD/nrAJEF7qoBBGLeJUPB83HNbHww/wCCaek69490749/t3/Fi9%2BOPj/TZvtGjR65Ypa%2BGvDcvY6Zo6EwxuvA%2B0TGWc7Q29TXZ9VjR1xEuX%2B6tZfdtH/t5/8Abp1fVo0ta75fJay%2B7Zf9vP5HG33jT9p7/gqgp8P/AAiTxJ8HP2errjUvHl5bvY%2BKvHlsesWlwOA%2Bl2Mi9byUCeRWXy0QFmr6u%2BDnwa%2BF37Pnwz0f4OfBfwRYeHPDOg2gttK0jTYtkUKAkk9y7sxLM7Es7MzMSxJPTUVlWxDqRUIrlgtl%2BrfV%2Bb9EkjOrXdSKhFcsV0/Vvq/P7kkFFFFc5gFFFeZftMftafCT9ljw/Z3nju8u9Q1zWpjbeFfBmgWxu9Y1%2B67QWlsvzOc43OcImQWZRV06VStNQgrt9BpNuyOh%2BOHxw%2BGH7OXww1X4wfGDxTDpGhaRDvubmXLPIxOEhiQfNLK7EKkagszEADmvFf2WfhB8TvjT8WT%2B3l%2B1P4Ym0fXJrCSy%2BFngC9IZvBujy43yzDoNSugFMzDmNAsIPDCm/B39mT4tfHX4maX%2B1Z%2B3dbWi6tpExufh58KLG6Fxpfg4kfLczuPlvtT2nBnx5cRJEQ6MPpiu2c6eEpulTd5vSUlsl/LF9f70uuy0u5U2oqy3PGf2oP8Akt/7OP8A2Wa%2B/wDUK8UV7NXjP7UH/Jb/ANnH/ss19/6hXiivZq88gKKKKACiiigAooooAKKKKAPF/gT%2Bx5rHwJ8aeL/Gtp%2B1l8SvEcnjjxXD4g16x8Q2nh0QPdpa29mQn2TSIHSN7e0tomAfOIQylXZ2bU%2BH/wCy1B4T%2BNC/Hnxt8b/GvjrXrLQ77RvDv/CVHTI4NEsby4tri6ht49PsrXeZHsrMGS4M0gW3UBxuff6pRQB4z%2B3h/wAkQ0P/ALLN8OP/AFNdEr2avGf28P8AkiGh/wDZZvhx/wCprolanhn9sD4Na18adR/Z58RXt/4W8YWl3JHpukeK7I2R1yFTgXOnyMfLu4m5wEYuMHci4rSFKpVTcFe2rt0Xf%2BvnYmU4xtd2uepUUUVmUfOPxQ/Yc8Q%2BDvHuoftA/sJ%2BP7X4ceNtRm%2B0eIfD11atN4Y8WSdzf2aEGGZun2u32yjLFhJmpfhf/wAFBPDlv4ztPgh%2B1/4Duvg78Qbp/KsLLxBdLJo2vOON2mamAIbjOV/cuY5gWCmMkZr6JrA%2BJnwr%2BG3xn8G3fw8%2BLXgTSvEeh36bbvStZsUuIJPQ7XBAYdQwwQeQQa7o4uFWKhiVzW2kviXz2kvKXyki%2BZPSRv0V8ur%2ByB%2B01%2By7/pn7CPx6F54ch5X4R/Fi5n1DTIkH/LOw1EFrywAAwqOZ48nlQBV7Qv8AgpT4H8D6tb%2BCv21vhZ4g%2BB2uzyiGG88WKtx4evJD2ttZt82zDHOJjC4zyooeBlUV8PL2i7LSS9YvX/wHmQcl/h1PpSiquia5onibSbfX/DesWuoWF3EJLW9sbhZYZkPRkdSVYH1BxVquFpp2ZAVn%2BKfCnhbxz4fu/CXjbw1p%2BsaVfwmK%2B0zVbNLi3uIz1SSOQFXX2IIrQopptO6BNp3R83eCP%2BCXX7PfwT%2BKem/FD9lzxT41%2BFENtq6X2seDPA/ieSLw3rYD5eG40ucS20asMrm3WFxnIYGus/bl8W674e%2BEGl%2BGtB8U3ugt4w8baL4cu9e0%2BUxTadbXd2iTSpIP9UxjDIH42mQEEHFey181f8FBPiH8SL7W/AH7Inw08M%2BEbm6%2BMFxqdpdap420wahY2EFlDHcOTZsjJcOysSokBQMgDDDbl9HBxxGYY2EZSu1d3k9lFOTbdneyV9bvS3kRjc0WDprE4i81FpWSvJttKKV7Xbk1a7t3djg7D9qG0/Zc/YX%2BK/xc0jx1qep6PpPijV7H4Oz65qk%2BrXGogQoLW3gmupHlu0Fws6pvkb5Y2BYKvy%2BLeFf2y/8Agp9%2B1B4b0Lwv8IPFugaKuu%2BIrvRNH1nV/Cq6FrF9JaWjXN5JfW0kt8umRxqgUsqNIWuYCkbKxZff/DX/AASjg1/xFZ%2BN/wBo79pzxV4r1nRBB/wif/CL2cPhux0J4AqwzW9pabo1lRVCg4246o2AR1/iz9ge80fS9CuP2evjJP4b1/TDr/8AafiHxPpba1PqkmsrF9tvXAngCXoeGN4pPmhjG5PIZCFX11i8owTfs%2BWrUbvzSi3COmlk0r7atx3btHqYRjVzfmeKvRg5XUU7TaUbe/ODdk3ry02m9eaVnZfNuh%2BBf2O/G/hTwn4o/al%2BJnxy%2BIV54j0Sz1XxLp%2BteIbq40/wtDc3D2qPffZPLW1gNzFPEGyf9RIxCqpI%2B4vgt%2BzB%2Bz5%2BzrZNZfBT4RaJ4eMi7ZrqytAbmZfR53zK49mY187eLf2DPiPYa14m%2BB3w80XTW%2BHPxBtvC9prvim815l1DTdL0nYtzpv2YQ4m%2B0qkxEocAPf3BZQAufpT47aL8dNd%2BG93p37OPjvw94c8VmeJ7HU/FOgy6lZKgcGRHginhc7lyoYONpOcHGK4swzHE4uMaft3yPpe0Uul4xSSttaz0VzSOSZHhK0amFpRUn9p6yS85S5pLtv0v1Oxor5V%2B2/8FtvDnzTaB%2By94tjT732fUfEOhyyD2Vo71Qfq2Kktf2jv%2BCrWkyG28Sf8EzPBephI3Y3fhv4/w4kYKSFEd1psRGSABlsc84Arzvqc38M4P/t5frY9D6pJ7Ti/%2B3l%2Btj6mor5V/wCG0f8AgoXYn/ic/wDBHjxmyjq%2BlfF7wtcD8A95G36Uv/De/wC2BCMXf/BIP4xK3cQ%2BLPC8g/ManR9RxHTl/wDAof8AyQfU6/l/4FH/AOSPqmivlb/hvH9sy4%2BXTv8AgkB8XGbsLnxp4WhH5nUjSf8ADYv/AAUevv8AkFf8EffEEIP3W1n41%2BGoB%2BPkzTEflR9Rr9eX/wADh/8AJB9Tr9bf%2BBR/%2BSPqqivlU/Hf/grz4n/c%2BH/%2BCevws8Mk8LP4p%2BPEt0B7lLLSW/IMaP7J/wCC2fij9xe%2BNP2Y/BsT/fl07RPEGuzRj/ZMs1mhP1Wj6nJfFOC/7eT/ACTD6o18U4r/ALeT/JM%2BqqK%2BU/8AhjH/AIKF%2BM/3PxX/AOCtPiG1tZP9fZ/DX4UaLopA9Enu1vZVx67vfFB/4I%2B/s3eLef2hvi58afi2P%2Bff4h/F7VJbXP8A16Wcltb4P93y9vtT9hhY/FVv/hjJ/nyoPY4aPxVfui3%2BfKj1D45/t8/sT/s0Rzf8L3/ap8CeGbiD7%2Bnaj4kt/tpPcLbKxmc%2Byoa8r/4eo2/xRH2X9jH9i/4yfFtpuLLXU8KHw3oMp9TqGtG2BX3jjk9gcjPrvwR/Yd/Y4/Zs8qT4Dfsu%2BA/ClxEPlv8ARvC9tDdN7tcBPNc%2B7MTXqdHPgafwwcv8Tsvujr/5MPnwcPhg5ersvujr%2BJ8mnwT/AMFeP2hznxr8W/hv%2Bz5oM/zHTvAunP4q8QhDwY3vr5IbKFsfxR20uOoPp0Pwr/4JUfskeBfGNv8AFb4maLrfxc8c23MXjf4x63J4gvYTnIMEc/8Ao1pg9Ps8MeOg6CvpGilLG17csLQXaKt973fzkJ4utblhaK/uq33vd/NiKqqoVQAAMADtS0UVyHKFFeceLv2s/gB4U0Hxjq8HxJ0vWbnwJp8134k0bQtQhub22EQG5DGHG1wWVTuKhWdd5XOa868YftT/ABF8Z6z4Z%2BEXhSwk%2BGXizWPFx0fXT4p0yDU20zOm3d9bCMQXAhl%2B0i0kRJA7KDHIm3eUrpp4PEVOll56dL%2Bu3ZPp3KUWz6Mql4j8SeHfB%2BhXfijxbr1lpemWEDTX2o6jdJBBbxjq7yOQqKO5JArkP2b/AItax8Y/hkPEHivRrfTdf0zWNQ0XxHp1q5aKC/sruW1lMZbny3MQljySTHKhyc5rz7xL/wAE/vAHxg%2BK958T/wBqP4g%2BIPibZx6q114X8D%2BIZY4vD2hx7sxqLCBVju5FB2%2Bdc%2BaSMcA80Qo0o1ZRry5bdldvyWy%2Bbdrd9gSV9TmNR/bT%2BMH7U95N4M/4J0eAYdS0vzGg1D41%2BMbSWHw5ZYO1zYRfLNq8y4YDy9sAYLulIOK779m79in4f/AXxBefFfxN4i1Px78TdZgEev8AxJ8VlZL%2BdOpt7dVHl2NqCTtt4QqgY3FyAa9hsrKz02zi07TrSK3t4I1jgggjCJGijAVVHAAAwAOlS1dTF2g6dGPJF79W/wDFL9FaPkwctLLQKKKZc3NtZW8l5eXCRQxIXlllcKqKBkkk8AAd64yTxz9qD/kt/wCzj/2Wa%2B/9QrxRXs1eFfHjxV4Y8b/FD9mjxX4M8RWOraXe/GO/ez1HTLtJ4J1/4QvxSNySISrDIIyD2r3Wm007ME0wooopAFFFFABRRRQAUUUUAFFcz8LPjT8HPjnol34m%2BCfxZ8M%2BMdNsNSk06%2B1Dwtr1vqEFveRhWkt5JIHdUlUOhaMkMA6kjkUng742/Bn4ieL9d%2BHvw/8Ai54Y13X/AAtOIfE2h6Pr9vdXmkSEsAl1DG7PbsSrACQKcqfQ0AcB%2B3h/yRDQ/wDss3w4/wDU10Su5%2BM3wI%2BEH7Qvg%2BTwH8Z/h/p3iDTHbfHDexfPbydpYZFIeGQdpI2Vh2NcN%2B3h/wAkQ0P/ALLN8OP/AFNdEr2aqhOdOSlF2a6oTSkrNaHzYvwv/bU/ZU/e/Azxp/wuLwXD93wR481MW%2BvWUf8Acs9VI2XIHaO7XOFA86uw%2BDf7c3wI%2BLficfDPU7/UPBXjlQPP8B%2BPLE6ZqgJ/55JIdl0pxkPA8ikc5r2OuS%2BMXwG%2BDP7QXhg%2BDvjV8NNI8S6eCWih1SzV2gY/xxSffhf/AG0KsPWuz6zRr/x46/zRsn818L/8lfmY%2BznD%2BG9Oz2%2BT3X4o62ivnFf2Vv2nPgL%2B/wD2RP2m577SYv8AVfD/AOLvm6tYqvQR2%2BoIRe2ygcKGM6j%2B7jinj9vXWvhMfsP7Zv7N3iv4crHxJ4q0yE694eYdA5vLNTJbg9cTwx4HU8E0vqUqmtCSn5LSX/gL1%2B5yH7ZR/iLl/L71%2Btj6Lqrreh6J4l0m40DxHo9rqFhdxGO6sr23WWGZD1V0YFWB9CMVj/DP4vfCr4z%2BH18V/CT4j6J4l01sf6boepxXUak/wsY2O1v9k4I7iuirklGdOVmmmvk/0NU01dHzbrX/AATJ%2BEPhfV7jxf8AsmfEHxb8D9ankM0g%2BHmphNIuZexn0m4WSykUeixof9qq48U/8FRfgQfJ8UfDfwJ8ddFh%2BUaj4Uvz4Z10qOrvaXbSWcrY/hjniz6Dv9NUV1rH1pK1ZKov7yu//AlaX4s05311PzX/AOCkP7fmj%2BP/AIb6b4a8JfEj4wfAj4laTqUUkfhPxHplxoMWo288ixPNcX0b/ZzbxbXYSrcMn3sqfvJ7Z8Mv2bf2vPGHguyufh9/wV4uNd0JrdB9t0zwXpepNI%2B0byt95rM4JyRkkgEdeteB/tT%2BCfCXx3/4KleGPCv7YPwL1XwZo19ePpnhO/0KZ76XxkIrgJbPPLFJi1gKsrkJH5kQkKyOOHT638Y/8Euv2I/EutyeL/DHweHgXX35XxB8M9WuvDl0j/386fJEjt1Pzq3Jz1r6/H4jDZXlmEoQ91yi5tuFKqveeyk1dpW7txbaeui%2BJy3D0M7zfG4itzRUZRhFRqVYv3Vq5R5o2crq2lmkmv5nyniT/gnP8atT0ebWNK/4KQ/GOPxbFtbTdQn1hRpkbBgWEljEEEisuR/rBgkEhgNp3vhN%2BxL8XrT43%2BGP2hP2nv2sNQ%2BIuueD7a9Tw7YxeGLXS7Oye7hEMzhYc7yU4yccgHtiq/8Awx7%2B2F8OOPgJ/wAFH/Fc1rH8yaR8V/C1h4jjc/3Tcxi1ugO2TIx9cml/4T//AIKtfDnnxT%2Bzx8IviVbjjzfBXja80G6I9TBqEE0Wfbz8e4rx55jj61JwhXpu6a%2BGEJWas0m6cbJrdKXz1Pdhw9lcKqqRT0adnOpZtO6bjKbTaezflpofStFfNf8Aw8H8b%2BEf9H%2BNf/BPn46eHJk/4%2BLnRPDVt4is0HciXS7mZyB6%2BWOKmsP%2BCtP/AAT/AJLtNM8T/HtfCt452tZ%2BN/Duo6I6N/dP263iXj2JHvXkf2djvs02/wDDaX/pLkezyT7H0dRXnvgz9rf9lT4jBD8P/wBpj4f64X%2B6uk%2BMbK4J9sRyk59q7%2B3ube8gW5tLhJY3GUkjcMrD1BHWuWdOpTdpxa9U1%2BaRLTW4%2BiiioEFFFFABRRRQAUUUUAFFVNY17Q/DtodQ8Qa1aWMC9Z7y5WJB%2BLECvMvG37eP7Evw5Djxv%2B1x8N9OkT71vP40svO/CMSlz%2BArSnRrVXanFv0Tf5JjSb2PWKK%2BbG/4Ky/sX6wTb/C7xN4s8f3R/wBXa%2BAPh1rOqmT/AHZIbUxH/vukP7cP7RnjX5fgj/wTS%2BKl%2BP8An68d6hpfhmD64nuZJ8f9sd3%2BzXT/AGdjV8UOX/E1H/0pr8iuSXY%2BlKK%2Bat//AAVn%2BJP3bf4I/Cyyn7u%2BpeKNRtx9ALK3Lf8AfQPtSH9gb4s/EL95%2B0j/AMFBviz4mVuJdK8IXNr4U0%2BRe6MmnRi4Ze3NwTjqTR9UpQ/iVor0vJ/gkvxDlS3Z9KCWNpGiWRSygFlB5Gemfyrxb4V%2BK/iB8Lvj34v%2BD/xo%2BLF54hsb7RoPFPhTWtZtLS1EFsJDa3tkDBFFGI4H%2ByOCwLkXnzMxrqP2fP2VPgH%2ByxpOo6P8Cvh%2BmiprFwk%2Br3EmoXF3c30qKVWSae5kkllYAkZZj1rQ8Sfs8fBLxn8U9O%2BNfjP4babrHifRrQ22i6rq0RuTpqEksbZJSyW7tn5pI1V2AAZiAAIjPDwlOOri1o7K99LdXbW99dhJxVz5otvgl4m8T%2BKfCXwcuPh3ql/p1n4j8QyS%2BOLPY2l6j4S1dbqeVTcoSBctcfYn8vad0kW/G0lh6R4D/Y58Xa3Pqc/7SfjXTdclPh/SNI0e98NwXFjdJJpzySRas0pkLRXpkkB/dnYnljGd7CvoLp0orWpmNeStHT8973v0v2Wg3NnO/C74X%2BFvhB4Qi8GeEjfSW63E1zcXeqajLd3V3cTSNJLPNNKzPI7uzMSTgZwAAAB0VFeefGv9rH9nD9nWNR8ZfjFomiXUuPs%2BlSXPm39xnoIrSINPKT6Ih6iuWMa2IqWinKT7av8AAzlOMVeTseh1HdXVtY20l7e3EcMMSF5ZZXCqigZLEngADvXzu37UX7VfxwH2X9lb9lG70jTpeI/G/wAY5H0i0A7PFp0e69uFI5G8QA%2Bo6062/YHufitcx63%2B2z8dde%2BKMiuJF8Kxj%2ByPDUDA5UDT7Zs3G08brmSXI6gV0fVI0ta81HyXvS%2B5Oy%2BcvkY%2B2cv4cb%2Bey/HV/JFnxT/wUB8H%2BI9eufh5%2ByJ4A1T4x%2BJraQxXTeGJVi0TTpP%2BnvVpP9Hj7/LGZZOMbM1nwfscfFj9om4j179vT4rx61p28SQ/CrwS81l4dhIOQLqQkXGpkEA/vSkWQf3WDX0F4Y8K%2BGPBOg23hXwZ4csNI0yyjEdnp2mWaQQQJ/dSNAFUewFX6f1uNHTDR5f7z1l9%2B0f%2B3Vf%2B8HsnP%2BI7%2BWy/4Pz%2B48M%2BP3hzw94Q%2BKX7M/hjwnoVnpmm2PxgvYbLT9Ptkhgt4x4J8UYREQBVUegAFe514z%2B1B/yW/wDZx/7LNff%2BoV4or2auJtt3ZvsFFFFIAooooAKKKKACiiigD5V/YW%2BKXhqH4s/HbTofhf8AEXQrTxB8Zbe%2B8Nvrfwe8Q6Ta3Vk3h3RLFZo5LqwijEYuLG5QnICCMM2EdGbiP2FPh/8AEHS/jD8KfDGrfCjxRoeofCf4Z%2BMdB%2BJWvaz4aurKz1PU7/WdLmha1upY1i1Nbl7O7vvOt3lWMOPMKSTFa%2B4aKAPnj/goXpvxXn8H%2BDNR8OeNPD1r4Wh%2BMPw9GvaNe%2BGJ7jULxz4z0by2t7xb2OO2CttLB7aYsAQCmQRteOU/bn%2BGXjHUvFnw/l8L/E7wvd3bzw%2BEdQA0XVtOjJ4htrtd0Fwqj/nuqMem/vU/7eH/ACRDQ/8Ass3w4/8AU10SvZq0pVPZvZNPo1/wzXyZjXo%2B2ikpOLWzTt/mn6NNHiXg39vn4Fanr8PgX4sHVvhj4nmO1NA%2BI1gdNMzdP3FyxNtcAngGOVifQZxXtcM0NxCtxbyq8bqGR0bIYHoQR1FZvjHwR4M%2BIegzeFfH3hLTNb0y4GJ9O1exjuYJP95JAVP5V4tL%2BwTofgCZ9S/ZR%2BNPi74Vz7i66TpV7/aOiM56ltOvN8ag/wDTIxexFbWwlXZuD8/eX3r3l9zOa%2BYUN0qi8vdl9zvF/JxPfaCARgjIPUV4CPiH%2B318IP3fxC%2BCXhn4o6XF11j4e6p/ZmpBB1Z7C%2BYxu5HOI7j6DtV/w3/wUL/ZkvtXi8LfETxLqPw61yU4Gi/ErR5tFlz6LJcAQSZ7bJGz26ih4Ou1eC5l/dd/wWv4DWY4VO1RuD7TXL%2BL91/KRY%2BJX/BP79lb4k%2BIG8cw/Dk%2BFvFByU8W%2BA7%2BbRNSVz/GZrNo/NP/AF0Dj24rnR8Df29PhCM/BX9rLSvHenR8Q6B8YfD4M4T0Gp6cI5C3vJBJ75r6B0rVtK13T4tW0TU7e8tZ03QXNrMskci%2BqspII%2BleU/tdftVW/wCzb4c0nSPC3hC48VeO/F962n%2BB/CNm4El/chctJI2f3cEYIZ37AjpncOjC1cfiqscPD329EpWaXfWXwpJNt8ySSbHip4PCUJYio%2BWK6q/yslu22klZttpI8y8d/wDBSnxD%2BzHNaWP7bn7NWo%2BDVvH8u01vwv4nsNasrkjguse%2BG7Ve%2BPIYj361j6f8Wv2x/wDgoL/bZ/Zr8Tab8M/hK94LCz8b6hpN0PEOrReWplnso3KpFGSxVZDtYdVbcGC9t%2Bzf%2BwnpukaxcfH79rhNL8ffFfXZVuL/AFK/tFns9EUZ8uzsI5AViSMHG8AMxyeBX0TdQSTWcltbXL27vGVjmiVS0ZIwGAYFcjqMgjjkGvQrYvKsBK2FpqdVbzetNPq4QldvspSbXVQ1R5cMLmmZxTxU3SpP7EXao10U5rbu4w16OejPlP8AYW/ZO8AfDn4y/ELxT4n0d/FPivwl4mXSNL%2BIPiDW7jUtReGSwhnMZM4CwyrHdLG7RAbt7jIX5a9o8B/tLeHPG7a3qc/gfxBomgaHJqAl8Xa1HapplwllM8VxKksc7siK0cnMqR8IxxgVU%2BCfwO%2BJ3wUttegk%2BLVp4qbXfEF3rFzdax4eS1unnmiVQryWzrEQGjjGRCCEG3HANeVeMf2Yfi5L4c8fa5pXws8JeH08QaPY2974K8C6kZYddmTUBcXt67S21qn2iS3aWFEZfmZm3y4YEc9etHMcTKdepzP3Um3tsnZaW62VlFdUrnfhsNTwFBU8PTUVq2kuvdvW72u2233PfvBPxt%2BFXxD8LXXjXwp41tJdMsbk299dXIa2%2BzSjadsizBGjJDoRuA3B1IyCCeoiliniWaGRXR1DI6nIYHoQe4r5F8b2MkHjzSvjL%2B0R4Iu9H8EeJfGl5qGsaBqmm/azm10w2mmJewwCRS0uZZcHcqtDbITu2ge5fsk%2BGvFXgf8AZr8LaL450t9Pv4dOeeTSjHzpsUksksVmFHTyInjhC9vKxXHicLTpU1OL3e2j9VdbtPfpqjrp1ZTlytf1/wAE9KqG/wBPsNUtHsNTsYbmCQYkhniDow9CDwa8Di/4KjfsUWki2vjL4oah4Tuc4e28ZeENU0oofQtc2yJ%2BTGu38J/tnfsh%2BOwo8HftRfD7UXfpDa%2BMLJpB7FPM3A%2BxFZywWNpq8qcl8n%2BaT/MpV6MnpJfeiHxn%2BxD%2Bxn8RC7%2BOv2T/AIb6tI/3p77wVYyS59Q5i3A%2B4NcDcf8ABI3/AIJ2vM9zpX7Nllo0jnJfw1ruo6Uc%2B32O4ix%2BFfQuk63ouvWovdD1e1vYT0mtLhZFP4qSKtU4Y3HUlaNWS/7el%2BV/0N1OVtGfNv8Aw65%2BBmm8eBvjL8bvDCj7qaF8bddRV%2BgluX/Wj/h3Lf23Gj/8FAv2krMDoP8AhY0Fzj/wKs5c/jX0lRVf2jjus7%2Bqi/zix88%2B582/8MGfGa040j/gpr8dkA6fbZ9CuD%2BbaYM0f8MTftNpxB/wVE%2BLQH/TTQfDzH8/7Or6Soo/tDFd1/4DD/5AOeX9W/yPm3/hiP8AaUl4u/8AgqF8XWHfydF8PRn8xp1H/DAXxSvRjW/%2BCl/7QMnqLHVdEts/986WcV9JUUf2hi%2BjX/gMP/kA55f1b/I%2BbT/wTeguv%2BQ3%2B3Z%2B0leg/eH/AAtZ7XP/AICQxY/DFH/Dqn9l3VP%2BR88S/FXxVn73/CRfGfxDKG%2BoS8QGvpKij%2B0cd0qNell%2BUUHPPufO%2Bj/8Em/%2BCcuj3Yv2/ZK8L6lOP%2BW3iBJtTY/U3ckmfxr03wT%2By5%2BzN8NGRvhz%2Bzt4F0Ax/wCrbRfCVnalfoYolru6y/EfjnwT4PiM/i3xhpWloBkvqOoRwDH1dhUTxeNr6SqSl5Xk/wAL/oS5ytqzUACgKoAAHAFFeReLv2/v2IPAwYeJf2tPh7DIn37eDxXazyj/ALZxOz/pXMH/AIKc/st6x%2B7%2BGQ8c%2BOZv4YfBfw11i%2B3fSQWwjP4PRHA42auqcrejS%2B92X4mLr0E7OS%2B//hz6Eor57/4bI/aA8W8fCP8A4J2/Ey8H/Px4z1HS/D8X1xNcyS4/7Z59qQ6v/wAFRPHXz2Hg34M/D22l4I1PVtR8Q3kI9dsMdpCSP98j2qvqNWPxyjH1lH8lzMXt4P4U36J/rY%2BhapeIPEnh3wnpcmueKtestMsoRma81C6SGJB7u5AH4mvB/wDhkX9prxxx8av%2BChXjaWA8mw%2BHmgaf4djB7jzQk9xj/tqD6EVc0D/gmh%2Bxtp%2BqR%2BIvGPwsl8cashy2rfEbWrvX5nb%2B8RfSyRg/7qAUexwcPjq3/wAMX%2BcuVfgHPWltG3q/8ri%2BJf8AgpV%2Bx/peqyeGfBHxIn8fa0nC6J8NdGudfndv7u6yR41P%2B86is8/tC/txfFY%2BV8D/ANjCHwpZS/6nxB8YfE0doVHqdOsPPnJ9neP8O3vPhvwt4Z8HaTHoPhDw5YaVYwjEVlptmkESfREAA/AVfp%2B3wlP%2BHSv5yd/wjyr8WHJVl8Urei/V3Z87H9kT9o34r/vv2m/22PEktpJ80nhf4W2KeG7EZ%2B9G1wrS3syY4/1yZ9OufQvgr%2ByH%2BzR%2BzxI158H/AINaLpF/Ln7RrRtzcahOT1Ml3MXnkzz95z1PrXo9eeX/AMb9f0T4pad4I8SfCfUNP0fWtYk0rR/EM%2Bo2zfartbeW4/490YusTJBLtcncShyijBpPE4uvFwTtHsrRX3K1/nciSw9BqUt27Xd3%2BOtvwPQ6yvGHjfwv4C8NX/i7xXqotrDTYw97KkTysgJAACRhnZiWACqCSSAAc14b8Q/i18SvCnxI8WeNR8QJ4dL8HeJdIs7vwlLbQfZZtIvIrdJLsOI/O80Sz%2BYH8zaqwsmzqT5d4Y%2BG51KO1%2BB3w326R47Gk30fjCM2xiV9S0y8W603V7sKAJDPcBT5%2BD5ySyrk7cC6eCTXNOWmn%2Bbv8mtddzirZm4ycKcLvVa9Xqlbvqno2nZfd9e%2BAfiL4R%2BJuiNr/g7UnnhjnaC5intZLee2mUAtDNDKqyQyAMpKOoYZGRzXm/xO/as8RaN44v8A4S/A/wDZ48XePPE2nMiX0iWv9maPZO6LIom1G6Cxk7HVsQrKcHGM8VqfAjw547j8f%2BOviR4u8D3XhiLxPeafJHol1qVvclri3tBby3YaB2VRIqQRgEhiturMqlio9PrB%2Bxo1Xdcy9evnbe22jR1L6xiMOrS5Hd3dtbXa0Utr6PVO3bY8B%2BMNx48uvHn7MNz8T9M0uz19/i9enVLXRLuSe1il/wCEK8U/LHJIiMwxjkqOc179XjP7UH/Jb/2cf%2ByzX3/qFeKK9mrBu7udcVyxSvcKKKKQwooooAKKKKACiiigAooooA8Z/bw/5Ihof/ZZvhx/6muiVN4ytf22PBHivUPEfw/1Pwb478P3F081v4Y1iGTR9Qs4ieIIbuPzYpcD%2BKWNSe7esP7eH/JEND/7LN8OP/U10SvZI5YpQTFIrbWKnac4I6j61cJ8j2T9TmxWGWJilzyg1qnF2f5NNeTTR4jD%2B3T4H8Iyrp37Rvw18XfDG63BGuvEmkGfTHf0TULTzYCPd2T6dK9a8G%2BPPA/xE0dPEPgDxjpeuWEn3L3SNQjuYj/wONiK1JoYriJoJ4ldHUq6OuQwPUEHqK8l8Y/sNfsz%2BK9YfxVpfw//AOEW11sldf8AA99No14rf3i9oyBz/vhqu9CW6cfxX42f4s4uTOcP8MoVV/eXs5ffHmg/nGJ65VHxH4X8M%2BMdIl0Dxd4dsdVsJxiay1K0SeGQf7SOCp/EV45/wpD9rv4cfN8Iv2rovEVnH/qdF%2BKPh5LskehvrMwTfiyv%2BPf0X4Xa/wDFafwfcah8e/DOgaDqdncSCRtD1p7qzlt1RW%2B0B5YomiBJcFGBwEzu5wE4cvvRkn6Xv925tQxk60/ZVqEoOz3Scf8AwKLa%2BTSueCftJ/sx/sW/sxfDvV/j7Yp4q%2BGC2bxiW6%2BE%2BtXOnzXM0jrHHDHZxt9mkZnZQA0W3%2B8QoOPIfgt%2Bzl/wUj%2BKfxZ8P/tc%2BIfFtjp83hCK7tfAmgfFe0j/ALSvLC5iaN/t7aZDCYjhgyhgzq2crgZcPi3xn/wUs/autJ/C2r6rL8GfDHiqzlg0td62%2BsGzLvJqEr8COEyKscUfLylt2AI3KfWXiX40eOLH9oq2%2BEWjWegxae2mW85fW/tdvLfSO0xkS1mWN4XaOOLc0Z%2Bb515A5r6WpiMRlVD2DtKvJPncve5ItL3F/eab57t20irO7XydP6hmmIddKUMPGcYw5NFUndvn0duWLS5dFrq73iny4/aQ/a38A/L8YP2HdS1K3i4l1b4ZeKrTVVf/AGltbn7NOB7AMf5VLaf8FH/2WLO5TTPiX4j13wBfuwU2PxB8J32kFT7yzxCE/g5rsPDn7S3hDXvEk2l3ehalpmlmDUZtN8S6g0C2V8lhL5V2ykSGSMI2WDSIodAWUkA46HwP8SPh78YtIvJPDF097b28ogvbbUNLmt2Usiuu6K4jRirIysrYKsDkEivCk6NvfpW84tr8HzL8T6SlWlUko0MSpN3spRTbtvtySfrZ6apsf4F%2BL/wm%2BKFuLv4afE/w94hiK7hJoetQXYx65idq6KvJ/HX7Cn7HPxIuDfeK/wBm3wi92W3G/sdHjs7kn1863CSZ991c7/w7%2B8DaB8vwn%2BPnxe8FRL/qrTRPiJdXNsh/643/ANoTH4VHJg5bTa9Y3/GL/Q6vaZjD4qcZf4ZNfhKP6nvVFeDD4A/tseGefBf7eC6nFH/qrTxr8N7G63D0aaze2f8AHBNH2/8A4KY%2BHPnufDnwU8VxJ1Wz1LVdHmkHsJI7lAf%2BBYo%2BrRfw1Iv5tfmv1D67OPx0Zr0Sl/6TL9D3eWKOaNoZo1dGGGVhkEehFcR4s/Zi/Zr8elj45/Z78D6yX%2B%2BdV8J2dwT%2BMkZrz/8A4aK/bM0XnxV/wT7vrmNf9ZN4W%2BJOl3n4hLj7M5%2BmKP8AhubUNO%2BTxZ%2Bxb8c9NZf9Y0PgiPUEH0NlcTEj8KuGHxcHem//AAGS/SSE8wwTXv3X%2BKEl%2BcGGrf8ABMD9gHVrk3v/AAy14ZsZj0l0SKXT2H0Nq8ePwqr/AMOyv2ZdO58Gan8RvDZHQ6D8Wteh2/QNdsB%2BAq3/AMPH/wBmew%2BTxevjnw6/ePXvhhrcG36kWjKPxNSWv/BS/wDYRuphby/tLeH7SQ/8s9T860YfUTRqRXRz52lvN/e//kjL63k1/jgvml%2BfKUB/wT6tLXjRf2zv2grID7oHxQlucf8AgVFL%2BtH/AAw/8TrH/kB/8FEPjhF6C%2Bv9Husf996cK6/Tf25/2LdXA%2Bw/tZ/Dgk9Fk8aWUbH8HlBrbsv2n/2atSAOnftDeBp89PJ8W2bZ/KWoeIzNfEn84L9aZtGpl0vhnH5TX/yZ5t/wyP8AtP2/Gnf8FJ/iKoHT7T4W8PzfzsRSf8Ms/tjLxF/wUy8YAf7fw78ON/7Z165B8bfgxdDNr8XfDEg/6Z6/bH%2BT1YX4rfC5xlfiToB%2BmsQf/FVH1vGLeK/8Aj/8gaKOFe0v/Jv/ALY8b/4ZW/bBk4uP%2BCmPjMj/AKZ/D/w6n8rOl/4Y/wD2kLrjVP8AgpH8TnB6/ZNB0GD%2BVgcV7E/xa%2BFcQzJ8TPD6j1bWYB/7PVS5%2BO/wPswTefGXwpEB1MniK2X%2Bb0LFY17RX/gEf/kAawq3l/5N/wDbHk//AAwr44vPm1v/AIKDfHmc91tdf0u1U/8AfrTgR%2BdH/DvHw1eceIP2sPj7qan70c/xbvYUb6rbeUK9Evv2rv2W9LBOpftJ%2BALcDr5/jGxTH5y1hap%2B31%2BxFpAJu/2s/h62OotvFlrMf/IbtVqvmkvhT%2BUF%2BlMylVy2HxVI/Oa/%2BTOY/wCHX37H998/ivw34t8QSH7z%2BIPiXrt1u%2BqtebD/AN81qeHP%2BCa/7A3heUTad%2ByP4FncHO/VNBjvmJ9SbgPk1Xf/AIKafsMFzHYftAWGosDjbo%2Bl3t6fwEEL5pv/AA8T%2BB2pceCPAvxR8TE/d/sL4Uay%2B76GS2QVblnTVm5perX6xMli8nT0nB%2Bln%2BSkep%2BEfgr8G/ABU%2BA/hL4Z0Qp9w6RoNvbbfp5aDFdNXgx/bU8dax%2B68EfsJ/Ge/kP3G1TRrDS4j9WurxWH4rR/wvD9u7Xf3Xh79hfS9I3/AHbjxV8VLRdnu0dlBcZ%2BgauaWGxMnebXzkv/AJJs1WYYRK0FJ%2BkJv/21I95orwb%2Bzf8Agph4l/dXfij4LeE4n6vY6ZqmsTxj2MklshP1Wk/4Ze/ak8UfuviT/wAFA/FXkN9%2B38E%2BEdL0fH%2B7I8dxKP8Avs1P1emviqxXpd/kv1H9cqy%2BChN%2BvLH85X/A96rhPiJ%2B1D%2Bzd8JBIPiZ8ePCOhyR53W2o%2BILeOYn0EZfex9gCa4D/h3P8Atc%2Bf4seJPiB4%2Bf/qc/iHqVzH/35jljhx7bMe1d38O/2U/2ZvhKY5Phr8AfB%2BizR423Vh4et0nyO5l2b2PuSaOXBx3lKXokvzb/ACDnzKe0Ix9ZOT%2B6KS/E4M/8FE/gx4j%2BT4K%2BAfiL8R26CTwZ4EvHt89s3NysMGP9rzMe9H/C2/2%2BviF%2B7%2BH/AOyn4Y8FW7cx6l8R/GguJNvqbTTUkwfYzL6HFe90Ue2oR%2BCmv%2B3m3%2BHuoPq2LqfxKz9IpR/F8zOG%2BCPhb4%2B%2BHrPULr4%2B/FnRfEt7eyxvZ22geGTp1tpqgNvjQtNLJMGJB3OQRt6c1lfE74V/F/xj8bvDfjrwr4y8Oabovh/S7hI49S0ae8uhdzyIsssYWeKNT9nQxq7b9vmyHYciuw8c/FT4Y/DGz/tD4kfEXQ9Ag27hLrOrQ2qkexkYZry%2Bf9v34FaxK1n8ItN8W/EW5RirReBPCd1eRA%2B9yypbge5kxSg68pupGO/lp28l%2BJhicTleFgqFesk007Od5uzvsuab/wDATu9Y%2BAvw38Waxpfifx3ow1vV9Il8y01S8xHIcSCVFdYAiSojqrKrqwUqD15rs68PPxN/bk%2BIfyeAf2c/Dfgi1blNR%2BIfib7VOVPf7Hp4bDezTr74pD%2Byz8Z/H/7z49ftf%2BK76FuW0XwLbReHrPB6ozxb7mRe3Mwz%2BlKUG0vaTWnz/BafiZwx7k39Uw05X6tKmn6udpP/AMAZ6H8Uvj78E/gnZ/bfiz8U9D0AFd0cOo6iiTS/9c4s75D7KpNedf8ADX3jb4jfuP2aP2ZfFniiJ/8AVeIfEkX9gaSVPSRZLtfPmX2jhOfX07D4Xfsnfs5fBm8/tb4efCHR7TUi259ZuYDdX7t3LXU5eYn6vXodTzUI7Jv10/Bf5l%2BxzjEfxKsaS7QXNL/wOei%2BUDwT40SeN5fiD%2BzHJ8SLXS4Ndb4v3p1OLRJpJLRJf%2BEK8U5ETSqrsuMcsAa97rxn9qD/AJLf%2Bzj/ANlmvv8A1CvFFezVk3d3PUhHkgo3bt1e79dtfkFFFFIoKKKKACiiigAooooA%2BXfgN%2B2N8bfiB8YvC0njbTPCy%2BA/iZrXi7TPBVnpem3MWq6XJot3LFDJeXD3LxXS3dvbXMxWOGA27eXHmfJkF34V/tT/ABd139tLxX8Dfix4m0Twzotv4nudN8AaBf8Awn1u0ufE9tFpdvdm4tdenuxp93IrtdlreCBpBHauSAEZx0Xg79gzwN4C%2BJM3xG8L/F3xvALa61m68KaE8%2BnS2HhafVr1bzUpbFHsi7NPKHH%2BkvOIUmljgEKvit%2B%2B/Zag8RfHLRfjX49%2BN/jXxFD4W1q51fwj4O1I6ZHpOi301ncWTTxfZrKK6mK213dRoLm4mVROxA3KjKAcZ/wUL%2BLnwo8NeD/Bnwo8R/E7w9p/inxB8Yfh7LoPhq91qCLUNSSPxnozSNb27OJJgqqxYopACknGDXa%2BL/2Q/hT4h8S3vjrwvf8AiHwf4g1Cdpr7WvB%2BvzWUlxIeS0keWhlJPXfGc96y/wBvD/kiGh/9lm%2BHH/qa6JXTeIvit8T/AAfrt3FrPwD1XUdGjnYWmq%2BGtQhu5Xjz8rPbMY5FOOoXf%2BNZVq9Ogk53t5Jv77J2%2B483MqWXVaUVjKfNFPR8snyu294%2B9HTqmu1znP8AhC/20Ph9z4S%2BL3hjx3Zr0s/GWjtp92FH8IurLKM3u0P19aP%2BGofH3g7938av2WvGejKv39S8NpHrtkq92LWp85R/vQj3rotE/aj%2BB2r3q6Rf%2BNo9E1A8Np3iW2k06ZT6YuFQE/Qmu9tLy01C2S8sLqOeGQZjlhcMrD1BHBpUsRQrq9Oal6NP/gr5pHBQwsKivl%2BNlp0co1Yr1U/fX/gaOA8DftYfs3/Ea6/s7wr8Y9Ee93bTpt9dfY7sH0MFwEkz/wABryv/AIKPfEnxBrHg7Q/2OfhLqAHjT4w3v9lRvEdx07R%2Bt/euB0QQ7k7ZDORkqauf8FEfGel%2BHvCHhj4f%2BG/hF4U8XeOviB4ji0Hwna%2BKtKW5trUsC015JxuEcKYY7SCCwPIBFcr%2Bz5/wSi8K/CFz4%2B1348eMH8fXNsYZvEXhm7j06CzhLbja21vsdFg3YJVwwJUEBelfQ5fSpYGEcfXa6unHdylHRN9FCMtW2/eceVLdrzsdiM/xUqmXU4QqaJTnFunZS1cVz8y55QvaztFO73R7V8MP2Svgp8F9Gh0b4VaJf%2BH1isY7aR9J1m5gW42IiCaWJX8qSYhFzIyFuvPJq94i%2BCmpeLvHmneJPE3xO1W90bSdYTVdP8OSWdqscN2issZEyRrK0a72YIxJ3bfmwMHm/wDhWH7YPhD5/Bn7S%2BjeI4k4jsvHHhBA2PQ3FjJESfcxn8aP%2BFo/tgeFP3Xi/wDZh0jxAicyXvgrxpGCR6iC%2BjhP4bya8mVarObnJ3b6vV6naq%2BBo0lSq4SpSiraKDlHT/r1KSa0vrG2l2jkNa/ZV%2BK1z8LbzwlrGo6ZqS6J4efS/DljpszJLqkb3IlunneUIkM08C%2BRtBKKZHYvggL6f8G/DfiyXxj4u%2BLPjLQbnR5/Et1aQ6fot5PFJNaWdrCUTzTC7x%2BY8sk74R2AVkG44rn/APhs/wAGaL/yUv4S/Efwkq/6y41jwVcTQKf%2ButmJkP1zWz4W/bA/Zc8ZSCDQvj14XMxOBbXmrR2s2fTy5ij59sU5V5zi0zPCVuHKWJi6eJSkvsykottJpaTUJaJtJWt6tXdX4jfHz4q/DnxleaWP2TfGPiLw/D5f2TxD4Wv9PuWuMxqz/wCiyXEcqbWLL0OduR1rD/4b9%2BCOj/L8SfDHj/wY3/U0fDzUoUH/AG0jhkjx77se9ezabqul6zarf6PqVvdwP92a2mWRD9CpIqxSU6VrOH3N/wDBPWlh8xcnOjidHqlKEZL0TjKLt239WeXeFv22/wBkHxkwj0H9pTwY0jHCwXWvwW8pPpsmZWz%2BFehaF4p8MeKIPtXhrxHYajFjPmWN4ky4%2BqEiqXin4YfDXxwGXxr8PND1gMMMNU0mG4z9fMU157rv7An7GHiCf7Vdfs2%2BFbWXORLpOnCxYH1BtihH4U/9nfdfc/8AIm%2BeQ6Up/OpB/lNHr1FeJD9gL4G6Zz4H8S/ELwwe3/CP/EvV4gPoHuHA%2BmMUf8MdeKdO%2Bfwv%2B2j8Y7Nh91bzX7O%2BQfUXNo7H/vqjkovaf3p/o2H1rNo/FhU/8NWP/t0Ys9tqK7srO/iNvfWkU0Z6pLGGH5GvF/8Ahn79rOw%2BXRv29dWdB91dY%2BH2k3GPqY0iJ/Oj/hWP7eWmc2H7VvgrU8dBqfwweLP1MN//AEo9lDpNfj/kH9o4pfFhKny9m/yqI9J1L4OfCLWSTq/wr8N3RPX7Todu%2Bf8AvpDWJe/so/st6kSdR/Zs8AXBPXzvB1i%2Bfzirkf7L/wCCjNp8sXjT4L3wHRpvDurQMf8Avm7cfpR5/wDwUch/5hfwSuP%2B3/WIc/8AkJ60XtY7VV/4EzGWNoS%2BPCVP/BUX/wC3M3J/2IP2MLk7pv2SPhmSepHgXTwf0hqu37Bn7ErnJ/ZJ%2BHP4eDrMfyjrL/tv/govD/rPhx8Gpv8Arl4u1Vf/AEKxo/4Sn/goYvB%2BDfwnb3XxxqA/nYVfPil/y%2B/8nf8AmZvEZc98HP8A8EGrH%2Bwf%2BxNGcr%2ByT8OD/veDLI/zjq3bfsU/sb2Z3Wv7Jnw0jI/iXwJp4P5%2BTXP/APCT/wDBQ5%2BF%2BD/wlT3fxvqJ/lYUf2t/wUZm%2B54D%2BC0H/XTxTqzn9LIfzoc8U963/k7/AMwWIy9bYOf/AIIR2lj%2BzD%2BzVpZB039nnwNb46eR4Ss0x%2BUVbumfDH4baIQdG%2BHuh2hHQ2ukwx4/75UV5du/4KOzf8sfglbf9tdYnx/46lH9g/8ABRO/%2BW5%2BJnwe08H%2BKz8I6nOw/wC/l6oP5VDVSXxVF/4E2axxtGPwYSp/4Liv/b0e2JGkSCONAqgYCqMAUteJf8Kj/bm1D5r/APbH8NWGeqaX8K0bH0aa9b%2BVH/DOH7TOp/J4l/b28VGM9U0bwfo1n%2BTG3kYfmaz9lDrNfj/ka/2hi38OEqfN01%2Bc2e20V4kf2Lbi958Sftd/GrUC33lXxslkp%2Bgs4IiB%2BNU4f2FP2SNY1ebQ/E7654n1O3jWS6ttf%2BI2qXkyI3Rnia6wAfUrzRyUFvP7l/myXi81dksPGN/5qsf/AG2DPXfE3xN%2BG/gpWbxl8QdD0kL946nq0MGPrvYV55r37ff7Gnh65%2BxXH7Rfhq9nzgQaJeHUXJ9AtqJCT7Cq3wu/Zd/YIvYZr34W/Bb4b6sLK4MM91a6ZaX7QygAlTIwcq2D65r1nQfCvhfwrbfY/C/huw02HGPKsLNIV/JABR/s67v7l/mKnPOcRBShKik%2Bq56n43jFnkH/AA3V4J1nn4b/AAP%2BK/i1G/1dxo/w9uoIW/7a3ogQfiaP%2BF5fth%2BKPl8EfsVjS4pP9Ve%2BNvHtnbbR6tDaLcv%2BGQa9urN8ReMfCHhC3%2B1%2BLPFWm6XFjPm6jfRwLj6uQKPaUltD723/AJDnhcdy81fFuK/uxpwX3y53%2BJ5F/wAIh/wUD8YjZr3xm%2BHHgqI848MeFbnVZx7eZeTRp%2BPlfgaP%2BGMtU8UfvPjF%2B1X8UfE5f/j4srbX00azlHp5OnRwnHsXNbet/tu/spaJd/2ePjbpGpXPa28PmTU5GPoFtFkJql/w1rf6/wDu/hn%2BzP8AEzXmf/UXM/h9dLtn9/NvpIjj3Cmj29RfDZeiX/BZ5UqvDTly1MQ6z7e0nV/8lp3X4Gh4H/Yo/ZQ%2BHd5/anhr4DeHmvt27%2B0tUs/t91u9fPujJJn33V6fDDDbxLBbxKiIoVERcBQOgAHSvIP%2BEu/bg8W/8gH4OeBvCEX/AD08TeJ5tSmx6%2BVZxImfbzfxpP8AhRH7Rni3/kpP7XeqWsD8yWHgbw7a6YF9hPMJ5ce4IrOU5zd5Nv1OzD4ujQhyYDBTt5QjSj983F/%2BStnrmoalp2kWcmo6rfw2tvEuZZ7iUIiD1LEgCvMfEP7an7Nmiai2haX8R4vEWpjhdK8IWk2rTs393FosgU/7xFUbH9i/9mePWYX8c6Pc%2BMNYKmRJvHHiC41SWQDqwiuJGjx9EAru/h9rPwohmufBXw2h02z/ALPYiXT9OsBbRrtYoxQBVVwGG0lMgHgkGsnUgpJNq7NHWzqrJRbpUb6K7dSXpZezhe3qcH/wvT9ovx0Nnwm/ZWv7CCTiPVviJrEWmIh9TbQ%2BdOR7FUP8qD8Fv2mviB8/xY/aabRbWT/WaP8ADfR0sse32y5Msx%2BqhP8AD1XX/E3hvwrZHUvFHiCx022HW4v7tIUH/AnIFcJc/tWfCi7nex8B/wBseL7pGw0HhPRprxR9ZQBCB7l6yq4rDUHapNJ9r6/dq/wMK%2BFwlN2zDFym39nmUE/SFK0n98jkPjh4Ws/BXxH/AGZfCmn6hf3cNj8YL2NLnVL57m4k/wCKK8UHdJLISzsc9Sa94rwv496te678UP2aNY1HQLrS57j4w3zyafeshlgP/CFeKPlbYzLn6E17pW8ZKUU11PfpKnGlFU1aNlbfa2m%2Bu3fXuFFFFM0CiiigAooooAKKKKACiiigDxn9vD/kiGh/9lm%2BHH/qa6JXqVl438Hajqs2hWPinT5b63lMU9ml2nmo4OCCmc/pXlv7eH/JEND/AOyzfDj/ANTXRK9N8S/DvwJ4wB/4Sjwhp18xH%2BtuLRS4%2Bj43D8DXFjf7RUE8HyN31U%2BZJrycLtO/VpryJlzdC7rfh7QPE1k2meI9Ds9Qtm%2B9b31skqH6qwIrg7v9lL4Nx3L6h4Q0rUPC125z9q8KavPYEf8AbONhGfxQ1euvg5ofh23e98LeP9f8OxRDdsh1cy2ye5juN6gfTFfNv7QX7YfxO1XWZv2U/wBkL4r6R8QviFrwksZL3StLKJ4YiIKyXtxdwuYEaMZwACwcDK5wrcmBhjs1x8cLiMD72jlOM6dSMIt255u9OpCCs/ecelleWh5Gazy6hRVXGUlJ7R0TlKXSMNpNvTRPS93ZXZl/tDeGfiBd/t9fBH4SfDn423XijW/Dn9sa7e2/iLTo7kaFbG0EcctzJbrEzLM2YwGIIO0j7wz9K/8ACZftReG/l1/4NaB4hQdbjwz4kNu%2BP%2BuV2ijPt5lcB%2By18A9G/Y58OzWunfATVr3W9UiiPijxla6ump3us3Cg7pZDK6yKCxZhGo2jd0JyT6tH8fvhrC4g1%2B/vdFmJwYtb0ue2x/wJ02/rVZnxHw2/ZYelip0Y0o8qdVSpczcpSbtVhypNu0V7RvlSu77cOW5ZUoRqVZ1ZUp1Jc3KpOSiuVRUffUuZpLV3SvotEjI/4ad0LSePH3wv8b%2BHAvElxfeGpLiBT/11tfNXHvxWr4c/aR%2BAnitxDovxc0FpicC3uNQSCXPp5cpVv0rpNF8ZeEfEgB8PeKdOvs9Psd6kn/oJNM8R%2BBPBHjCMxeLfB2laopGCuo6fHOMf8DU1pRniK1NToVoVI97K3/gUJNHqqnmkF7lWE1/ei1%2BMJfoaNrd2t7At1ZXMc0TjKyROGU/QjrWV4p%2BHXw%2B8cRmHxr4E0bWEIwV1TS4rgEemJFNcjdfslfAF52vNJ8CnR52ORPoGpXFgyn1AgkUfmKj/AOGedd0r954P/aI8e2DL9yO91OHUIh/wG5idj/31WvtcdH4qSf8Ahkvykl%2BZNSeOlDlrYeM15Ti1904oo6l%2Bwx%2Byhf3bX9p8GrDSrhv%2BW/h65n01h9DayR4qD/hj6x0z/kS/2iPitoar/qoIPGb3cSewS8SYY9q1f%2BEI/ah0b59I%2BOug6vjpFrvg/wAvP1e2nT9FFH9tftbaR8974D8C60o7adr11Zu34SwOB/30aPrjXx0pr5X/APSZP8jy3gMmTvLASg%2B8YW/GjUj%2BRlf8KS/aj0n5fDf7Zt1PGv3IvEXgWwuuPQvB5DH65o/sz9vPSP3dt4s%2BFOtovR7zR9RsJG%2BpjmmUfgtav/C4PjXp3zeIP2W9Y2D7z6P4isLv8laSNj%2BVL/w0rb23/Ia%2BB3xHsQPvM/hRp1X8bd5BR/aGFXxNr1jJf%2B2i9llMPhr1qf8A2/WX/pcJoyf%2BE%2B/bY0X5dU/Z08Gazjq%2Bi/ECSDP0FxZj9SKP%2BF%2BftFaf82v/ALE/iIIOr6T4s0q6/IGaNj%2BQrW/4a3%2BBsHy6vrmq6a/dNT8MX8GPqWgx%2BtWbH9q79m7UDth%2BNPh9D6XN%2BsOPr5mMU1mGAbt7WP8A4El%2BbQ1PDXtTzNrylKi//SoRZgf8NZava/LrH7JvxctiPvGLw3bXK/gYLlyfypf%2BGzvBNv8A8hr4QfFPTh3N58NtRwPxSNgfwrt7H43fBjU8HTvi74YuM9PJ1%2B3b%2BT1rWnjPwff4Nj4r02bPTyr6Ns/ka3jXoT%2BGafo0/wAmdUIY%2Bf8ADx8Zf9w6T/8ASaiPMv8Ahun9nWHjU9W8S2Ld1vPAOsJj8fspFH/Den7KC/6/4ptD/wBfOgX8X/ocAr12KeGdd8EyuPVGBp1am3sM96Yim/8AuE/0qnj/APw31%2Bx8Pv8Ax10pP%2BusM6/zjFKP2%2Bf2OD/zcFoH4yuP/Za9fpCqnqAfrQHsc/8A%2Bf1L/wAFz/8Alp5Cf2%2Bv2OB0/aB0E%2ByySH%2BS0f8ADfH7IR/1fxu06T/rlaXD/wDoMZr18ADoKKA9jn//AD%2Bpf%2BC5/wDy08g/4bz/AGVm/wBR8SLqf/r28MalL/6Bbmj/AIbk%2BA0//IIXxfqB7Cy%2BHurtn/vq2Fev1FcX1laDN1eRRD1kkC/zobS3B0M9triaa9KT/Wqc38LPi1o3xb0661TRPDHiPTYrWYRkeI/D1xp7S5Gd0azqpdfccZ4riPjlZXvhf4leGviHpGpSQxDW7SDWPL8TXRnkWRvJWCKwJNuytvBdhtf5SQCea9JvPiB4D0/P2/xtpEGOvnalEuPzauT1f4h/sqQeJY/Gmt%2BNfAH9tQIEh1SfULI3aKM4VZCd4AyeAe59axliMPD4pperS/UzxsY1cFGlVrw500%2BZtQ2d7pKT9LXs9btXPNP2hL7w8fHGsa7qdzbS6zJpOnP8NbqJ1aWWeO6/fwWb9TM7EK6odzI5ByoOIJvCd5qXjy98Dafot1beLJ/EOutd6mLKRQ%2Bm3do5SUz42mPeY0Rd2VaMAABcj0x/2r/2ZdLVbO1%2BLGisEGEh08tNgewiU/pSf8NYfCO6%2BXQIvEurt2XTPB2oSZ%2BhMIB/OsXmOA/5%2Bx%2BTT/K541XC5TVxEqk8XDV3aVm9d9U2%2BbpGVrqOmpjfAbT/ABHd%2BPoNbuPCmp6RDpvgKx0XWY9Q02S2SXUIJW/1O5QJkVd48xMqQyYPp1XxT%2BFHjb4i6tbTaJ8fPE3hTT4rby7iw8O29mGnfcT5nnTQSOpwQMDjjOM5rO/4aL1C8%2BXQv2efiNdsfumbQo7VT9TcTIR%2BVJ/wtH9oTUP%2BQP8AswyQK33ZNZ8YWkOPcrCJT%2BFL6/hn8Lb9Iyf/ALaj0aP9mRwX1aUp1E3d8saivt/Io2WiulKz1b3ssr/hi3wDqny%2BPPil8SfE6H70Os%2BPr1Yj/wAAtmiUfgBWj4e/Yt/ZS8MT/a9P%2BAnhuefOftGqWAvZM%2Bu%2B43tn3zmpPtH7XuqfNFpvw80ZG6Ca5vb6RfwVYVJ/Gj/hWv7Rmq/Nrn7SUNkrffh0Dwhbx4HoHuHlP44FH1ucvgozfyUf/SpfoRDA5Spc1PL3J95Qjf76s5s7/RPDvh/w1aCw8OaFZ6fAOkNlapEg/BQBVvcu7ZuG4jIGecV5r/wzTZaj/wAjf8ZfiBrKt/rIZvEz20T%2B2y1WIYrf%2BH/wN%2BFfwu1KbWvA/hJLS9uYPJuL2S5lnmkj3BtrSSuzEZAPXtVwqYuc1zU1Fecrv7krfiexQqY1yUfYxhD/ABptLyUY2/FFL41%2BIPiB4R0qPxN4QvGkhtyPO0%2BHRDcmQjLM0sgfMUQQHJVC2cYJyFqD4o%2BH9f8AFdxonivw3f2t1pdtbzSXlpc%2BI7mwtplYI0cpMAIlwV4D4XDHmrnxWl03U9Q0jwdqN9q8UOpTtHdjS7wQgxNiMCU4LFWZguFIOT1xWZ4607R7NrnSIPBuj3umaJp0Oo3Nhq1kbgOq7owIt7bYtqRsc7TkjGBnNeNjsxwtJ1%2BaTai4ppXbUrOe3blTct9E1ZvQwxGHq1alVN%2B6%2BW2r0ktdLJ2Xddexxt9rFrr%2Bsx%2BOU8OXcWs%2BIDomp%2BFZHs3eVNy%2BVNbeYB8qxruaRSQCJC2DurpfA3gnxfpHi3w9odzoF1Db%2BFZdTQ6y0sZgvLKdj5ESgNvL/wCpLZXAMJ5O4VpR%2BIfFKX817Y60RE%2BryaVb6b5EaxQAxBoHUBd24ZDNkkEE4AAp3wr1Bf7UsbfTNQmmh1Dw6l5qUE928z294GRW3FySpbc4I4GYjxXm4bNMNUx8KXLK8pb%2B6r%2B87Oyve8otvVShG101e2NHLYxqqcptu6eiSvrfXfeSvfdKy2Oo8TfD3wJ41vLPUPGHg7TNVm07ebF9Rskm8gvt3Fd4OCdq8%2BwrUhhtNPtRDBFHBDEuFRFCqij2HAFYvjDQvEPiKe3stA%2BIM%2BiqisbuOztYZJZgcbSGkB8vHPIBzkdMc5CfAXwPduJvFt1q3iGQHIbXNVlmUf8AbMFY/wDx2vbr4rMViZwweFUujnKpCMW7LpFTqO22qj91met7NQqOUYJN7vRX9dLv5nF/tMXFvd/Gj9m%2B5tZ0ljf4y3xSSNgysP8AhCvFHQjrXtNeJftHaZpujfGD9m3S9IsIbW2g%2BMl8sNvbxBEQf8IV4o4CjgV7bXr0/aezXtLc1le17X62vra%2B19e5srhRRRVgFFFFABRRRQAUUUUAcx4c%2BNvwY8Y/EHWfhJ4R%2BLvhjVfFfhxFfxD4Z03X7afUNLVsbWuLZHMkAO5cF1Gcj1otfjb8Gb74p3PwLsvi54Ym8b2dgL288HRa/btqsFqQpE72gfzljIdPnK7fmXnkV8cfs8eHvGfgv41eA9D8QfCDxrp2pfDHxP8AEm/8f%2BJj4H1FrXUrbWNYkktBa3KQFdSN689resluZTCLRvPETxhau%2BDvh/8AEGL9qTw98N5fhR4oh17Qf2nfEnj3WvGcvhq6TSpvDt5oWp29tImpmP7NPIVvbDT/ALKshmT7MzGMRwq9AHvf7eH/ACRDQ/8Ass3w4/8AU10Sum%2BM3xf%2BDf7MHhi%2B%2BL3xd%2BIDaPppBUQ3V48n2iY/MI4IOWklOOFQdMngAkcf%2B2z8H/2n/jD4V0XTPgD4q8BLbaT4w8N67qHhzxhpt7C%2BqtpevWOpmOPVLaWQWIZLQrk2F1uYgfIG3L8zfsr/AAI/ad%2BIfiW8/ai%2BIP7P/gL4jeK9O8Za/o%2Bn6r8QPj9qTppcumavd6dJ9ktYvDBghTzbRnjbG7BVgIiSi6UsBk%2BLqwrY%2B79k%2BaCSfM5Wa0d1GOmjclJWekG7W5MXWzKnD2eDiry0cpP3Yru0lzS8krbaySPXtHX9of8Abh0%2BLx3428Fa58O/Advq0Nx4c8NTagIdS1%2B3A%2BWW9RY2a3jLEPsDglVxyp3v7DoXwi%2BDfwc8HW3hj4XeEPD/AIdsYHa5k02C18s3zqrKSzZDyyZP323MTjPWsP8A4Tj/AIKF/wDRr/wZ/wDD8at/8y9I/jT/AIKDyACT9lv4LsAcjd8d9WOD/wCEtXzedZFHMpYx0J8kcSopwblKEeR3i1a0nrZ2k5RurcsYykjpwMI4VU5VffqRv77SUnffyiulo20tdtq539xqN8Zmlsrqa3W0e1hgs9wIdnAZlfOSTtYDrxjNWdO16/1C%2BtjdCF7PUWnEEHlHcqJnDlicEMB0x/EK8vk8Qft7y6iurSfso/BY3KDCyn476tkcEf8AQr9cE8%2B9Qabqv7fml3Ru4f2Y/g%2B5CssKSfHvVisKsclUH/CLcAkD16AV4lHI%2BIsPj4yjXvTc7u0mlypqzcWmtYXp%2BzhaCfLJ3srelKvhpU2nHW3b9fXW713R6nrXwg%2BFviFjJq/w/wBJlc9ZlskST/vpQG/Ws3/hRPhay/5FnxF4j0Ydk03xBPs/74kZ1/DFeMTfHL9uzxl8Zdb%2BB1t%2BzR8M7HVfDHhjSddury1%2BP2qRwSwalcalbwop/wCEYJZ1bSpywZQAJI8FiWC9fpniz/gohYWMdnP%2Bzd8H7pkBzPP8eNV3vyTzjwsB7dO1erPJcuxOZTjVy6Cja6qpwTk9LpqCp1IvfVyadvNHBKjQcFK6v2s1%2BOx3H/Cvvihp3Gh/G%2B7dB92PV9Gt7j82QRt%2BtG39oXT%2BBJ4Q1NV7stzaO35eYM1x3/Ccf8FC/wDo1/4M/wDh%2BNW/%2BZej/hOP%2BChf/Rr/AMGf/D8at/8AMvXR/q9hofwK1an/AIa02vun7RGXs10b%2B/8A4c7H/hOPi9Zf8hL4JGYD7z6Z4hgkz7hZRGaP%2BFyyW3Gr/CfxjakfeZdHE6j8YXeuO/4Tj/goX/0a/wDBn/w/Grf/ADL1y%2BrftHft26P8Z9A%2BB1x%2Byh8JG1TxF4X1fXbO5T466p5EcGnXOm28yOT4Y3B2bVICoCkEJJkqQoY/svNqf8LHz/7fp0Z/kqbDln0l%2BR61/wANBfC6L5dT1a9sG7rqGjXUOPqWjx%2BtbXhT4ieBvHLSp4Q8U2eoNCoaZLaYMyA9CR1FeZ/8Jx/wUL/6Nf8Agz/4fjVv/mXpieL/APgoFFK08f7K/wAFldx8zr8ddVBP1P8Awi1b4ajntOuvb16c4dbU5Rl8mqko/ehpVE9Wvu/4J6H498bal4dkgsfD%2Bnx3VwZoDd%2BaG2QwySiME4/iYkhR7c8VB8QdchtbhrC38KWGpyQWEl7ei/wFSBMjC/I2XODgHA45Iryfxdpf7bHjWaK81v8AZD%2BCD3Mc0T/a/wDheGqeayxuGCFj4WztOMEehOKg8Swf8FF/EBEkXwD%2BDdvJNYyWN/Ivxt1RjPbOc7V/4pgBGAJAbnG48GvOxtLiLmxLpu6k48nK1dJKV1aasm3yNtuSa5rWsk4nGck09V/Xc7%2B80v4T61q0cVx8D/D11YNcW9vc3t1ptuXSWZAyAIYyGUblDHcCCeAeTVLR/hT%2Bzh4t1SKzm/Z78N28F9FLLpd2uj2yi7SNgHIVFBT7wPPUGvJPi98Sf28vgvYWnjjW/wBmv4RS6LfeN/Dun/2ZZfGvVGm%2B23%2BoWek2zeY3htVEKzXMMsg2lsI5XPCHqfC9r/wUO8PXemyz/s7/AAXuIdHsJrTTol%2BN2roypIyEl2/4Rk7mAjUZAXue/HLSwueSxUfbU4uHNreNK1r2dtLqHLrH7XPo9DllgcLUfv0oP1jD/wCRPRJf2Qv2aZW3/wDCndIQ%2BsMbR/8AoLCm/wDDIP7Ow/1Xw88v/rjq12n/AKDKK4vxdd/8FEPFkUEcPwM%2BGOkmBmO/SP2gdUjMmccNu8KNkDHH1NYf/COf8FJo/wDUeC/BA/66ftAXrfz8H16GKpTo13Gll0akf5lKjG//AG7JJq225Espyy%2BmGh/4DFfoj1D/AIZF%2BAQ%2B54U1BP8Arn4o1Ff5XFH/AAyN8Ce3h/WB9PGGqf8AyTXl/wDY3/BTpf8AV%2BEPh6P97453bf8AuoVy/wAbfiF/wUm%2BA/wY8XfHHxT4E8B3Wl%2BDPDF/rupWth8abhria3tLaS4kSMP4TVS5WMhQzKMkZIHNc/NX/wChU/8AwOh/8kif7Ky3/oGj90T3j/hkb4Ed/Durn6%2BL9UP/ALc0f8MifADo/g%2B9f/rp4l1Bv5z15f8A2V/wVDP3vCfw5/D423Q/91Gj%2BxP%2BCmzf63wf8Pz/ALnx1u1/91CjmrvbKn/4HQ/%2BSYf2Vlv/AEDR%2B6J6h/wyB%2Bzk3%2Bt%2BGkMv/XfULmT/ANClNS2/7JH7NNqcx/BjQ2P/AE1td/8A6ETXlX/CM/8ABSF%2BZ/BHgpvZP2hb5P5eEKP%2BER/4KFv/AK/4a%2BDX/wC7ldWT/wBA8KChfXOmVR%2BdSh/8gxrKstW2Fh/4DD/5Fns1n%2Bzl%2Bz9YYNt8EfCgI6M3h%2B3Y/mUJrXsfhh8NNLx/Znw80K3x08jSIUx%2BS14F/wAIN%2B3XJ/x%2B/BDwLc%2Bon/ag8Qf08MiuX%2BCN7%2B038e/gx4Q%2BOWg/sd/DQab4z8L6frunW%2Bs/tJ6%2B08Vvd20dxGkqr4eZA4WQBgpYZBwSOa2jLOV/DwFKPrVj/wC2UGbwwmHp/BRgvRRX5QPrpE0rR4dqLb2sY7AKi/0qhe/EDwHpuf7R8baRb46%2BfqUSY/Nq%2Bf4Pht%2B1HA/mD9hr4ESN63Hx01eU/wDj/hg1p2Wjftf6dg2H7Dn7PsJHeP4x6gD%2Bf/CK1sp8Ty2p0Ies6svyhA6V7RKySX3nq158evg1ZNsk%2BJGlSHsLe5EpP02ZzUB%2BPngC440aLWtSbsun%2BHruTP0PlgH864ez8Tft86eu2w/ZP%2BCUA9Ifjnqq/wAvC1T/APCcf8FC/wDo1/4M/wDh%2BNW/%2BZej6vxLU%2BLEUo/4aUpfjOqvxQWq9193/BOx/wCFua1efJonwZ8WTsehurWG1U/jLKCPyo/4Sz426h8mn/COwss9JNU8RqcfVYY3/nXk3gH9o79u34ieK/G/hDR/2UPhJDceA/FEWharJc/HXVAk88mlafqYeLb4YJKeTqMKksFO9HGMAM3Uf8Jx/wAFC/8Ao1/4M/8Ah%2BNW/wDmXo/srM6n8XH1P%2B3IUof%2B2Tf4hySe8vyOx/s/9oHUvkuvEvhbSlPez02e6cfjJIgP5Vr%2BEfDXjDRruW78U/ES41nzI9qQNp0NvHEc53AINxPbljXm/wDwnH/BQv8A6Nf%2BDP8A4fjVv/mXo/4Tj/goX/0a/wDBn/w/Grf/ADL1vh8lw9CtGtKrVnJbc9WbX/gK5YP5xY1BJ3u/vO98b/DGPxfdvqUPiXUbOdhb4SC42xfuZC6EhQGyCzYwwwTmoviB4S/tHT3ujfz/AGyaN7RUtdqC5gYkmCQMHyoXcSww33iCMmvPr3xT/wAFEbu5t54/2cvhBAsDlnih%2BPGqbZvZs%2BFScfTHWuWHx0/bb8ZfGPXPgTc/sk/CVtS8NeGtI1%2B5uX%2BPOrLbvBqNxqdtCiFfDO4uraZOXBULiSPBYlgvm5nkixeFxkMPRUKlSyUnPSTt8SS5uVx5pJXjq9bOLae1OFCNSMp6rqtf81%2BFj2vVfClhetp3jDQtKmW7ZoXkNq67ihj2htsh8suFIUORuC8A1Bc/2SbqTUrV2snNlLIZBiN3uYZMOZNmBI3bnIx06155p%2Bpft%2B6dpSaNb/szfCBYETaqxfH3V4yOScgp4WBB5x1qePXf29IrRLH/AIZO%2BCjxRvvRZfjtqz4bOd2W8Lkk579a8SvwvmeOXO%2BSnKcYOau3H2sYpNx5OWUU25SlJNOTjDTRnZTr4ai/dV7N20Sdn3vfW2npc9BiEg1VGktimoy6pFPG4iOXt2Rd4LY%2B6o3jBPVRXTapZ3V/YPaWmpy2kjYxcQqpZRnnG4Ecjj8a8i/4Tj/goUOn7L3wZ/8AD8at/wDMvR/wnH/BQv8A6Nf%2BDP8A4fjVv/mXr6LKuHqeXYevRnUc41d7Xg9pXbcZJ875neacW7R6xu8auJdSUZJWt8/z6aba9SH9pG0ax%2BMX7Nto93NcGP4yXwM07Au//FFeKOSQAM/hXtlfK/xP8S/tW6v%2B0n%2Bzpa/Gv4L/AA98P6OPi5qLR33hb4nX2sXJn/4QvxNtQwT6LZKEILEv5pIIA2HJK/VFe9SpQo0o04Kyiklu9ErLVtt%2Brbfdt6nO25O7CiiitBBRRRQAUUUUAFFFFABVHxR4hsPCXhrUfFeqhza6ZYzXdyIly3lxoXbA7nCmr1R3dpa39rLY3tuk0M0bRzRSqGV1IwVIPBBHGKAPm/8AY1/al%2BPnxU8YaN4V%2BP8ApvhJH8b/AAn074geF18J6fc2/wDZdvcShJ9MumnuJhdSQia023cYgWUvL%2B4i2Dd5XYf8FHvjL8OvhgfjT4l%2BH/gy68N%2BO/hf4r8dfDPQNC064sbmylsb20FvaalcPPKly94upwzyTxQweS6TKUm3K9e8/AD9hfwh%2Bzpqtvq/hP4y%2BOtTl07RdO0DQxr9zp1wNK8P2TyvBo0JWyQm3zL880he8kEUW%2B5by1xjaT/wTO%2BA1taeIPD3iTxV4t1/w9q3hLXPDGh%2BGNW1G2W08LaTq9wlxf2unNb28U6B5Ibco88s8kK20SRPGq7SAdN%2BzJ8XPjH4j8feP/gX8f7vwzqHibwLdaZMuueENHuNOsdQsb%2B082Jvs1xc3LwypLFcxMPOcMsccg2bzGnsVed/AD9nPSvgMfEOsXHxI8TeNPEXivUYbvxB4s8YSWZvrvyLaO2gi22VtbW8cUcUYCrHEuWeR23PI7N6JQAV8u/Ab9sb42/ED4xeFpPG2meFl8B/EzWvF2meCrPS9NuYtV0uTRbuWKGS8uHuXiulu7e2uZiscMBt28uPM%2BTIPqKvDPB37BngbwF8SZviN4X%2BLvjeAW11rN14U0J59OlsPC0%2BrXq3mpS2KPZF2aeUOP8ASXnEKTSxwCFXxQBT1z4qfHH4eftqeEfhnrWo%2BAdd0r4iNqaLpGh%2BF7q213QdHsLWaeLUbu9e8ljurcXTxWpQW8AWbVI9jNh92R/wTh/an%2BLv7R/gXzv2i/E%2BiWXjv/hGdI1XWfh5b/CfW/Cl94ca6jlMiyLq93M%2BowGVHijuoEjiLW0vLk4TrfA37Gn/AAgP7Sniz9pfTv2lPiFd3vjSdTrPh7UotDmsVt4rd4bWyhl/swXsFrbmR5o4UuQvnPJI%2B8yy%2BZsfBv8AZftvhb8RdU%2BL/i340%2BMviD4p1LRLfRk1vxkdNjez0%2BGWSYW8MWm2VpAoaWVnd2jaRiEBfaiqAD1GiiigD5d/aa/bG%2BNvwr%2BKfjF/h5pnhZvBvwm0Xw3qfju21nTbmbUdYj1S%2BuIpo7GaO5jjtGtrW388NJFcCeSURYhCmQzftkftK/Ez4FftC%2BDrO21fw94S8DSeEdSvPEvxF8R/CLWfEVtpsi3tgi2kt7YXdvBpEMkbSyvPdt5X%2BjKTwldt8Z/2Ifhx8bvikfiZrnjnxVpcWo2ukWvi/wANaNdWqad4pg0u9kvbGK%2BWW3kmCxzTS5%2BzywGWOQxTGWMKgn%2BOn7JN1%2B0J4Jl%2BGPjz9pb4hxeGNU0e40nxdoOmLosMXiSynLiaG5l/s0zwhonaAtaSW7eWeu/56APPNS/bG%2BNtr%2B0BdywaZ4W/4Vjp/wAZrP4aXNg%2Bm3J1uW8uNNgnGprdfafIWJby5itvsptyxjV5/PBxDX1FXi9x%2Bw78NZ/j3/wvAeNvFMdo/imHxRP4DjubQaHNr0WnLp0Wpsn2b7T5q2yRgRC4Fv5kSTGEyjzK9ooAK%2Bev2vP2if2gPAfxAg%2BF37OFr4RXU9P%2BGuu%2BN9ZuPGWm3N1DdQWElrFDpsIt7iAwSXD3EmbpjKsAhH7iYyYX6FryP9pf9jzwf%2B0zqFlrWo/Enxf4R1C38P6n4fvtR8G3lrDNqWi6h5BvNPmNzbThY5GtoWEsQjuIihMU0e99wBzX7Tnx38ZQfsV/8NdfC/xZ4T0PRtN8FjxleWfjXwHca811Clql7bQQRW%2BpWRjufMCBDmQmTYFUNg1w17%2B1j%2B1b8Pvjr4D%2BGn7Q2ueD/BGkXfw%2B8IXni3Xf%2BFQ69qOl6j4l1C9vbbUdKt9Wiv1s9ICtBaJB9sMzF72P/W8IfcfHn7MPgv4j/DSy%2BD/ifxJrLeHNO8UaTq9ppVqLSGNYdNvLe7tdMIS3G6yElrEGRsyOgKNIVYiqnx0/Zag/aC1y2Txt8b/Gtv4SWaxm1P4e6YdMj0rVZLW5W5jM8rWTXwDSJHvSK6jR1jClcM4cA9UooooA8X/4KC/F344fs/fsj%2BNPj18Ar3wpHrHgnQrvXLqDxhotzfW13aWttLM9uiW11bMkrsiKJC5VAWJR%2BBV39sH4n%2BLvAng7w14F%2BHumaDca98R/GVr4U02XxVpsl7plqs8M9xczXNtHLC1yi2lrc4hEsfmOUUuoJI1P2sf2cbL9rT4Ea9%2Bz7rXxV8U%2BEdJ8T2Utjrl/4QXTvtdzZSxPFNbbr%2B0uo0R1flkRZAVG115zneN/2VpPiV8OrPwR48/aC8dajqek6np2qaB4xMWjwanpOpWZJW8hEGnJbM8gZ1kSWCSFkkdPLCsVIB4JJ%2B3d%2B1b4y0P/AIQz4Z6N4AtvG3hPQvHWpeOLnWdIvZtN1J/DmsDSo7ayjju0ktBfNunE0klx9kUBDHck7h9bfC/x7pnxU%2BGnh34n6JbSw2XiTQrTVLSGfG9IriFJUVsdwHAPvXiHiH/gml8J9Y8C6T4P0b4ufEDQbyz03xDp2u%2BJ9F1KxXUvElprt2t7rEV68tm8YNzdKJvMto4JYGyLd4FJU/QWh6JpHhnRLPw34f0%2BK0sNPtY7aytIF2pDDGoVEUdgFAAHoKALVc18YpPibD8MtYn%2BDmtaDp3iWK136Ze%2BJtKmvrGIqwLmWCCe3klHlh8KssfzFctjNdLWF8TPB2qfEHwHqfgvRviDrPhW41G38lPEHh%2BGzkvLMEgs0S3tvcW5JAKnzIXGGOADggA4L4CfFH4wftDfsR/D/wCNfh%2B58NaP418cfDjRNcaW80q4uNLs7y8soLiU/ZluEmkiUyPtj89WICgydWrwC9/bM/ai0H4OaevgPSPCt1Bo/wAc7vwJqHjzwd8Gtd1/R5NCs9Eurl9RtNE029a6jWLUYU0lyLmWJJYJWztKhfYvCX7DU/gz9ktP2PNJ/a3%2BK66Da%2BCE8K6Vr8M%2BiW2sabYxokUTwXFtpcarMkCCFZShO0lzmXEo0fB/7I3ib4e/BDSfgb4B/a8%2BI2iWuhXCLpOr6XonhWG4tbBLdYI9NSFdE%2BxrbJtDqRb%2BcGOPN2YQAHoXwd8b6b8SvhP4a%2BIGkeONI8TW%2Bs6Ha3aeIfD9o1vY6kXiVjcQRPLK0MbklljaSRkBCs7EEnpK5f4K/CHwb8A/hToPwc%2BH8VyukeHtPS0s2vrlpp5QMlpZZG5eR2LOzd2YnA6V1FABXi/7HPxd%2BOHxKuvil4O%2BP174Uu9Z%2BH/xMbw9bX3g/Rbmwtbi1bRtK1JC0VzdXLmRW1B4y4cK4jVgiZIr2ivF/gT%2Bx5rHwJ8aeL/Gtp%2B1l8SvEcnjjxXD4g16x8Q2nh0QPdpa29mQn2TSIHSN7e0tomAfOIQylXZ2YA8M8Eft/wDxV8G/Df4xfET4vQeGrbxd4a0vxBrGifDBvhRrXhm%2Bv47K/fT7K8bUr%2B6ki1a3kjXT1kubWHZF9pi5A2Ifef2ZPi58Y/Efj7x/8C/j/d%2BGdQ8TeBbrTJl1zwho9xp1jqFjf2nmxN9muLm5eGVJYrmJh5zhljjkGzeY0zNc/YI8DfETVfEGq/Hr4weOfiGdc8E6v4StIPEk%2BnWyaLpOpyQPew2n9m2VqfMc2lpieYyzJ9mTa6kuW7H4Afs56V8Bj4h1i4%2BJHibxp4i8V6jDd%2BIPFnjCSzN9d%2BRbR20EW2ytra3jijijAVY4lyzyO255HZgD0SiiigDxf4K/F344a1%2B1x8WfgL8VL3wpdaP4Y0Lw9rnhCfw/otza3MVpqVzrMP2e8ea6mW4lRdMibzI0gXMrjYcA1z/iT4iftLeFf2/PBfwg0zxV8OdV8OeLtI1jWPENnB8Pry31nS9B05Eit9%2Bo/wBqvFLIdQ1G3VVa0VWRroqqlSa6DRf2PNY0D9ovxh%2B0lp37WXxKGoeM9KstMvdCe08OnT7O0s57qa0igH9keePKN7dKGkmkZlmO8uVQr2ml/Avwrpfxw8S/tApq2pza/wCJPDGm6A3nzRmHTrKylu5kW2URgozy3sryMxfeUiHAjUAA8d/4Jw/tT/F39o/wL537RfifRLLx3/wjOkarrPw8t/hPrfhS%2B8ONdRymRZF1e7mfUYDKjxR3UCRxFraXlycJ9LV5d8G/2X7b4W/EXVPi/wCLfjT4y%2BIPinUtEt9GTW/GR02N7PT4ZZJhbwxabZWkChpZWd3aNpGIQF9qKo9RoAK8H/a1%2BM37QXwG8SeF/F3gzxB4IvfD2teLtC8O23gW%2B8OXkmua5c3t8sNy1pex3qxQmC1aS62NaTDy7SZneNAXj94rxn4k/scr8RP2ndE/amt/2jviBoWq%2BH9DGlaZoGmQ6JcaXBA83m3LRpfaZcTQy3IEcc0sUqO0cMaKyAcgHC/tsftQ/Gb4W%2BMvEFn8GvDng66T4T/Cm6%2BJXiYeLNKnuZtRhVrqGLT7CSK4hFjPLDa6gpu3E6pujXyXV3Iqx/ts/GLUPjWde0rTvC5%2BFcXxesPh09jLpdz/AG5Lc3emW9wuqLc/afJSJby6itjam3LGNXm88HENdx8dP2EfBX7QbRTeNvjB44tprvwvd%2BGPF8%2BkXGnQN4r0K5mEsmmXw%2BxFVi%2B%2BiyWwt50SaULKPMcm1P8AsOfDSb49f8LvXxr4oitG8Uw%2BKJ/AUVzaDQ5teh05dOi1Nk%2BzfaRKtskYEQuBb%2BZEkxhMo8ygD2iiiigAooooAKKKKACiiigAooooAKKKKACiiigAooooAKKKKACiiigAooooAKKKKACiiigAooooAKKKKACiiigAooooAKKKKACiiigAooooAKKKKACiiigAooooAKKKKACiiigAooooAKKKKACiiigAooooA//Z\">"
      ]
     },
     "metadata": {},
     "output_type": "display_data"
    }
   ],
   "source": [
    "try:\n",
    "    display_html(HTML(anim.to_html5_video()))\n",
    "# In case the build-in renderers are unaviable, fall back to\n",
    "# a custom one, that doesn't require external libraries\n",
    "except RuntimeError:\n",
    "    anim.save(None, writer=matplotlib_utils.SimpleMovieWriter(0.01))"
   ]
  },
  {
   "cell_type": "markdown",
   "metadata": {},
   "source": [
    "# Logistic regression\n",
    "Your assignment is to implement the logistic regression\n",
    "\n",
    "Plan:\n",
    "* Use a shared variable for weights\n",
    "* Use a matrix placeholder for `X`\n",
    " \n",
    "We shall train on a two-class MNIST dataset\n",
    "* please note that target `y` are `{0,1}` and not `{-1,1}` as in some formulae"
   ]
  },
  {
   "cell_type": "code",
   "execution_count": 52,
   "metadata": {},
   "outputs": [
    {
     "name": "stdout",
     "output_type": "stream",
     "text": [
      "y [shape - (360,)]: [0 1 0 1 0 1 0 0 1 1]\n",
      "X [shape - (360, 64)]:\n"
     ]
    }
   ],
   "source": [
    "from sklearn.datasets import load_digits\n",
    "mnist = load_digits(2)\n",
    "\n",
    "X=mnist.data\n",
    "y=mnist.target\n",
    "\n",
    "print(\"y [shape - %s]:\" % (str(y.shape)), y[:10])\n",
    "print(\"X [shape - %s]:\" % (str(X.shape)))"
   ]
  },
  {
   "cell_type": "code",
   "execution_count": 53,
   "metadata": {},
   "outputs": [
    {
     "name": "stdout",
     "output_type": "stream",
     "text": [
      "X:\n",
      " [[  0.   0.   5.  13.   9.   1.   0.   0.   0.   0.]\n",
      " [  0.   0.   0.  12.  13.   5.   0.   0.   0.   0.]\n",
      " [  0.   0.   1.   9.  15.  11.   0.   0.   0.   0.]]\n",
      "y:\n",
      " [0 1 0 1 0 1 0 0 1 1]\n"
     ]
    },
    {
     "data": {
      "image/png": "[encoded data removed]",
      "text/plain": [
       "<matplotlib.figure.Figure at 0x7fb980f112b0>"
      ]
     },
     "metadata": {},
     "output_type": "display_data"
    }
   ],
   "source": [
    "print('X:\\n',X[:3,:10])\n",
    "print('y:\\n',y[:10])\n",
    "plt.imshow(X[0].reshape([8,8]));"
   ]
  },
  {
   "cell_type": "markdown",
   "metadata": {},
   "source": [
    "It's your turn now!\n",
    "Just a small reminder of the relevant math:\n",
    "\n",
    "$$\n",
    "P(y=1|X) = \\sigma(X \\cdot W + b)\n",
    "$$\n",
    "$$\n",
    "\\text{loss} = -\\log\\left(P\\left(y_\\text{predicted} = 1\\right)\\right)\\cdot y_\\text{true} - \\log\\left(1 - P\\left(y_\\text{predicted} = 1\\right)\\right)\\cdot\\left(1 - y_\\text{true}\\right)\n",
    "$$\n",
    "\n",
    "$\\sigma(x)$ is available via `tf.nn.sigmoid` and matrix multiplication via `tf.matmul`"
   ]
  },
  {
   "cell_type": "code",
   "execution_count": 55,
   "metadata": {
    "collapsed": true
   },
   "outputs": [],
   "source": [
    "from sklearn.model_selection import train_test_split\n",
    "X_train, X_test, y_train, y_test = train_test_split(X, y, random_state=42)"
   ]
  },
  {
   "cell_type": "markdown",
   "metadata": {},
   "source": [
    "__Your code goes here.__ For the training and testing scaffolding to work, please stick to the names in comments."
   ]
  },
  {
   "cell_type": "code",
   "execution_count": 63,
   "metadata": {},
   "outputs": [
    {
     "ename": "SyntaxError",
     "evalue": "invalid syntax (<ipython-input-63-d1f413a8c4d1>, line 2)",
     "output_type": "error",
     "traceback": [
      "\u001b[0;36m  File \u001b[0;32m\"<ipython-input-63-d1f413a8c4d1>\"\u001b[0;36m, line \u001b[0;32m2\u001b[0m\n\u001b[0;31m    weights = tf.Variable((initial_value=np.ones(5),name=\"example_variable\") #shape should be (X.shape[1], 1)\u001b[0m\n\u001b[0m                                        ^\u001b[0m\n\u001b[0;31mSyntaxError\u001b[0m\u001b[0;31m:\u001b[0m invalid syntax\n"
     ]
    }
   ],
   "source": [
    "# Model parameters - weights and bias\n",
    "# weights = tf.Variable(...) shape should be (X.shape[1], 1)\n",
    "# b = tf.Variable(...)\n",
    "\n",
    "weights = tf.Variable(initial_value=np.random.randn(X.shape[1], 1)*0.01, name=\"weights\", dtype=\"float32\")\n",
    "b = tf.Variable(initial_value=0, name=\"b\", dtype=\"float32\")\n",
    "print(weights)\n",
    "print(b)"
   ]
  },
  {
   "cell_type": "code",
   "execution_count": 3,
   "metadata": {
    "collapsed": true
   },
   "outputs": [],
   "source": [
    "# Placeholders for the input data\n",
    "input_X = tf.placeholder()\n",
    "input_y = tf.placeholder(...)"
   ]
  },
  {
   "cell_type": "code",
   "execution_count": 2,
   "metadata": {
    "collapsed": true
   },
   "outputs": [],
   "source": [
    "# The model code\n",
    "\n",
    "# Compute a vector of predictions, resulting shape should be [input_X.shape[0],]\n",
    "# This is 1D, if you have extra dimensions, you can  get rid of them with tf.squeeze .\n",
    "# Don't forget the sigmoid.\n",
    "# predicted_y = <predicted probabilities for input_X>\n",
    "\n",
    "# Loss. Should be a scalar number - average loss over all the objects\n",
    "# tf.reduce_mean is your friend here\n",
    "# loss = <logistic loss (scalar, mean over sample)>\n",
    "\n",
    "# See above for an example. tf.train.*Optimizer\n",
    "# optimizer = <optimizer that minimizes loss>"
   ]
  },
  {
   "cell_type": "markdown",
   "metadata": {},
   "source": [
    "A test to help with the debugging"
   ]
  },
  {
   "cell_type": "code",
   "execution_count": 39,
   "metadata": {},
   "outputs": [
    {
     "ename": "NameError",
     "evalue": "name 'predicted_y' is not defined",
     "output_type": "error",
     "traceback": [
      "\u001b[0;31m---------------------------------------------------------------------------\u001b[0m",
      "\u001b[0;31mNameError\u001b[0m                                 Traceback (most recent call last)",
      "\u001b[0;32m<ipython-input-39-794d59f2fe05>\u001b[0m in \u001b[0;36m<module>\u001b[0;34m()\u001b[0m\n\u001b[1;32m      5\u001b[0m \u001b[0;31m# Compute predictions for given weights and bias\u001b[0m\u001b[0;34m\u001b[0m\u001b[0;34m\u001b[0m\u001b[0m\n\u001b[1;32m      6\u001b[0m prediction_validation = s.run(\n\u001b[0;32m----> 7\u001b[0;31m     predicted_y, {\n\u001b[0m\u001b[1;32m      8\u001b[0m     \u001b[0minput_X\u001b[0m\u001b[0;34m:\u001b[0m \u001b[0mX\u001b[0m\u001b[0;34m,\u001b[0m\u001b[0;34m\u001b[0m\u001b[0m\n\u001b[1;32m      9\u001b[0m     \u001b[0mweights\u001b[0m\u001b[0;34m:\u001b[0m \u001b[0mvalidation_weights\u001b[0m\u001b[0;34m,\u001b[0m\u001b[0;34m\u001b[0m\u001b[0m\n",
      "\u001b[0;31mNameError\u001b[0m: name 'predicted_y' is not defined"
     ]
    }
   ],
   "source": [
    "validation_weights = 1e-3 * np.fromiter(map(lambda x:\n",
    "        s.run(weird_psychotic_function, {my_scalar:x, my_vector:[1, 0.1, 2]}),\n",
    "                                   0.15 * np.arange(1, X.shape[1] + 1)),\n",
    "                                   count=X.shape[1], dtype=np.float32)[:, np.newaxis]\n",
    "# Compute predictions for given weights and bias\n",
    "prediction_validation = s.run(\n",
    "    predicted_y, {\n",
    "    input_X: X,\n",
    "    weights: validation_weights,\n",
    "    b: 1e-1})\n",
    "\n",
    "# Load the reference values for the predictions\n",
    "validation_true_values = np.loadtxt(\"validation_predictons.txt\")\n",
    "\n",
    "assert prediction_validation.shape == (X.shape[0],),\\\n",
    "       \"Predictions must be a 1D array with length equal to the number \" \\\n",
    "       \"of examples in input_X\"\n",
    "assert np.allclose(validation_true_values, prediction_validation)\n",
    "loss_validation = s.run(\n",
    "        loss, {\n",
    "            input_X: X[:100],\n",
    "            input_y: y[-100:],\n",
    "            weights: validation_weights+1.21e-3,\n",
    "            b: -1e-1})\n",
    "assert np.allclose(loss_validation, 0.728689)"
   ]
  },
  {
   "cell_type": "code",
   "execution_count": 40,
   "metadata": {},
   "outputs": [
    {
     "ename": "NameError",
     "evalue": "name 'input_X' is not defined",
     "output_type": "error",
     "traceback": [
      "\u001b[0;31m---------------------------------------------------------------------------\u001b[0m",
      "\u001b[0;31mNameError\u001b[0m                                 Traceback (most recent call last)",
      "\u001b[0;32m<ipython-input-40-b5764027850c>\u001b[0m in \u001b[0;36m<module>\u001b[0;34m()\u001b[0m\n\u001b[1;32m      2\u001b[0m \u001b[0ms\u001b[0m\u001b[0;34m.\u001b[0m\u001b[0mrun\u001b[0m\u001b[0;34m(\u001b[0m\u001b[0mtf\u001b[0m\u001b[0;34m.\u001b[0m\u001b[0mglobal_variables_initializer\u001b[0m\u001b[0;34m(\u001b[0m\u001b[0;34m)\u001b[0m\u001b[0;34m)\u001b[0m\u001b[0;34m\u001b[0m\u001b[0m\n\u001b[1;32m      3\u001b[0m \u001b[0;32mfor\u001b[0m \u001b[0mi\u001b[0m \u001b[0;32min\u001b[0m \u001b[0mrange\u001b[0m\u001b[0;34m(\u001b[0m\u001b[0;36m5\u001b[0m\u001b[0;34m)\u001b[0m\u001b[0;34m:\u001b[0m\u001b[0;34m\u001b[0m\u001b[0m\n\u001b[0;32m----> 4\u001b[0;31m     \u001b[0ms\u001b[0m\u001b[0;34m.\u001b[0m\u001b[0mrun\u001b[0m\u001b[0;34m(\u001b[0m\u001b[0moptimizer\u001b[0m\u001b[0;34m,\u001b[0m \u001b[0;34m{\u001b[0m\u001b[0minput_X\u001b[0m\u001b[0;34m:\u001b[0m \u001b[0mX_train\u001b[0m\u001b[0;34m,\u001b[0m \u001b[0minput_y\u001b[0m\u001b[0;34m:\u001b[0m \u001b[0my_train\u001b[0m\u001b[0;34m}\u001b[0m\u001b[0;34m)\u001b[0m\u001b[0;34m\u001b[0m\u001b[0m\n\u001b[0m\u001b[1;32m      5\u001b[0m     \u001b[0mloss_i\u001b[0m \u001b[0;34m=\u001b[0m \u001b[0ms\u001b[0m\u001b[0;34m.\u001b[0m\u001b[0mrun\u001b[0m\u001b[0;34m(\u001b[0m\u001b[0mloss\u001b[0m\u001b[0;34m,\u001b[0m \u001b[0;34m{\u001b[0m\u001b[0minput_X\u001b[0m\u001b[0;34m:\u001b[0m \u001b[0mX_train\u001b[0m\u001b[0;34m,\u001b[0m \u001b[0minput_y\u001b[0m\u001b[0;34m:\u001b[0m \u001b[0my_train\u001b[0m\u001b[0;34m}\u001b[0m\u001b[0;34m)\u001b[0m\u001b[0;34m\u001b[0m\u001b[0m\n\u001b[1;32m      6\u001b[0m     \u001b[0mprint\u001b[0m\u001b[0;34m(\u001b[0m\u001b[0;34m\"loss at iter %i:%.4f\"\u001b[0m \u001b[0;34m%\u001b[0m \u001b[0;34m(\u001b[0m\u001b[0mi\u001b[0m\u001b[0;34m,\u001b[0m \u001b[0mloss_i\u001b[0m\u001b[0;34m)\u001b[0m\u001b[0;34m)\u001b[0m\u001b[0;34m\u001b[0m\u001b[0m\n",
      "\u001b[0;31mNameError\u001b[0m: name 'input_X' is not defined"
     ]
    }
   ],
   "source": [
    "from sklearn.metrics import roc_auc_score\n",
    "s.run(tf.global_variables_initializer())\n",
    "for i in range(5):\n",
    "    s.run(optimizer, {input_X: X_train, input_y: y_train})\n",
    "    loss_i = s.run(loss, {input_X: X_train, input_y: y_train})\n",
    "    print(\"loss at iter %i:%.4f\" % (i, loss_i))\n",
    "    print(\"train auc:\", roc_auc_score(y_train, s.run(predicted_y, {input_X:X_train})))\n",
    "    print(\"test auc:\", roc_auc_score(y_test, s.run(predicted_y, {input_X:X_test})))"
   ]
  },
  {
   "cell_type": "markdown",
   "metadata": {},
   "source": [
    "### Coursera submission"
   ]
  },
  {
   "cell_type": "code",
   "execution_count": 41,
   "metadata": {
    "collapsed": true
   },
   "outputs": [],
   "source": [
    "grade_submitter = grading.Grader(\"BJCiiY8sEeeCnhKCj4fcOA\")"
   ]
  },
  {
   "cell_type": "code",
   "execution_count": 42,
   "metadata": {
    "collapsed": true
   },
   "outputs": [],
   "source": [
    "test_weights = 1e-3 * np.fromiter(map(lambda x:\n",
    "    s.run(weird_psychotic_function, {my_scalar:x, my_vector:[1, 2, 3]}),\n",
    "                               0.1 * np.arange(1, X.shape[1] + 1)),\n",
    "                               count=X.shape[1], dtype=np.float32)[:, np.newaxis]"
   ]
  },
  {
   "cell_type": "markdown",
   "metadata": {},
   "source": [
    "First, test prediction and loss computation. This part doesn't require a fitted model."
   ]
  },
  {
   "cell_type": "code",
   "execution_count": 43,
   "metadata": {},
   "outputs": [
    {
     "ename": "NameError",
     "evalue": "name 'predicted_y' is not defined",
     "output_type": "error",
     "traceback": [
      "\u001b[0;31m---------------------------------------------------------------------------\u001b[0m",
      "\u001b[0;31mNameError\u001b[0m                                 Traceback (most recent call last)",
      "\u001b[0;32m<ipython-input-43-72780a010d31>\u001b[0m in \u001b[0;36m<module>\u001b[0;34m()\u001b[0m\n\u001b[1;32m      1\u001b[0m prediction_test = s.run(\n\u001b[0;32m----> 2\u001b[0;31m     predicted_y, {\n\u001b[0m\u001b[1;32m      3\u001b[0m     \u001b[0minput_X\u001b[0m\u001b[0;34m:\u001b[0m \u001b[0mX\u001b[0m\u001b[0;34m,\u001b[0m\u001b[0;34m\u001b[0m\u001b[0m\n\u001b[1;32m      4\u001b[0m     \u001b[0mweights\u001b[0m\u001b[0;34m:\u001b[0m \u001b[0mtest_weights\u001b[0m\u001b[0;34m,\u001b[0m\u001b[0;34m\u001b[0m\u001b[0m\n\u001b[1;32m      5\u001b[0m     b: 1e-1})\n",
      "\u001b[0;31mNameError\u001b[0m: name 'predicted_y' is not defined"
     ]
    }
   ],
   "source": [
    "prediction_test = s.run(\n",
    "    predicted_y, {\n",
    "    input_X: X,\n",
    "    weights: test_weights,\n",
    "    b: 1e-1})"
   ]
  },
  {
   "cell_type": "code",
   "execution_count": 44,
   "metadata": {},
   "outputs": [
    {
     "ename": "NameError",
     "evalue": "name 'prediction_test' is not defined",
     "output_type": "error",
     "traceback": [
      "\u001b[0;31m---------------------------------------------------------------------------\u001b[0m",
      "\u001b[0;31mNameError\u001b[0m                                 Traceback (most recent call last)",
      "\u001b[0;32m<ipython-input-44-64a6f10f01a5>\u001b[0m in \u001b[0;36m<module>\u001b[0;34m()\u001b[0m\n\u001b[0;32m----> 1\u001b[0;31m \u001b[0;32massert\u001b[0m \u001b[0mprediction_test\u001b[0m\u001b[0;34m.\u001b[0m\u001b[0mshape\u001b[0m \u001b[0;34m==\u001b[0m \u001b[0;34m(\u001b[0m\u001b[0mX\u001b[0m\u001b[0;34m.\u001b[0m\u001b[0mshape\u001b[0m\u001b[0;34m[\u001b[0m\u001b[0;36m0\u001b[0m\u001b[0;34m]\u001b[0m\u001b[0;34m,\u001b[0m\u001b[0;34m)\u001b[0m\u001b[0;34m,\u001b[0m       \u001b[0;34m\"Predictions must be a 1D array with length equal to the number \"\u001b[0m        \u001b[0;34m\"of examples in X_test\"\u001b[0m\u001b[0;34m\u001b[0m\u001b[0m\n\u001b[0m",
      "\u001b[0;31mNameError\u001b[0m: name 'prediction_test' is not defined"
     ]
    }
   ],
   "source": [
    "assert prediction_test.shape == (X.shape[0],),\\\n",
    "       \"Predictions must be a 1D array with length equal to the number \" \\\n",
    "       \"of examples in X_test\""
   ]
  },
  {
   "cell_type": "code",
   "execution_count": 41,
   "metadata": {
    "collapsed": true
   },
   "outputs": [],
   "source": [
    "grade_submitter.set_answer(\"0ENlN\", prediction_test)"
   ]
  },
  {
   "cell_type": "code",
   "execution_count": 42,
   "metadata": {
    "collapsed": true
   },
   "outputs": [],
   "source": [
    "loss_test = s.run(\n",
    "    loss, {\n",
    "        input_X: X[:100],\n",
    "        input_y: y[-100:],\n",
    "        weights: test_weights+1.21e-3,\n",
    "        b: -1e-1})\n",
    "# Yes, the X/y indices mistmach is intentional"
   ]
  },
  {
   "cell_type": "code",
   "execution_count": 43,
   "metadata": {
    "collapsed": true
   },
   "outputs": [],
   "source": [
    "grade_submitter.set_answer(\"mMVpM\", loss_test)"
   ]
  },
  {
   "cell_type": "code",
   "execution_count": 44,
   "metadata": {
    "collapsed": true
   },
   "outputs": [],
   "source": [
    "grade_submitter.set_answer(\"D16Rc\", roc_auc_score(y_test, s.run(predicted_y, {input_X:X_test})))"
   ]
  },
  {
   "cell_type": "markdown",
   "metadata": {},
   "source": [
    "Please use the credentials obtained from the Coursera assignment page."
   ]
  },
  {
   "cell_type": "code",
   "execution_count": 56,
   "metadata": {},
   "outputs": [
    {
     "ename": "NameError",
     "evalue": "name 'grade_submitter' is not defined",
     "output_type": "error",
     "traceback": [
      "\u001b[0;31m---------------------------------------------------------------------------\u001b[0m",
      "\u001b[0;31mNameError\u001b[0m                                 Traceback (most recent call last)",
      "\u001b[0;32m<ipython-input-56-183ef7ec7f3c>\u001b[0m in \u001b[0;36m<module>\u001b[0;34m()\u001b[0m\n\u001b[0;32m----> 1\u001b[0;31m \u001b[0mgrade_submitter\u001b[0m\u001b[0;34m.\u001b[0m\u001b[0msubmit\u001b[0m\u001b[0;34m(\u001b[0m\u001b[0;34m'y.mirmohammad@yahoo.com'\u001b[0m\u001b[0;34m,\u001b[0m \u001b[0;34m'uvj3RdPn7Sc5a95V'\u001b[0m\u001b[0;34m)\u001b[0m\u001b[0;34m\u001b[0m\u001b[0m\n\u001b[0m",
      "\u001b[0;31mNameError\u001b[0m: name 'grade_submitter' is not defined"
     ]
    }
   ],
   "source": [
    "grade_submitter.submit('y.mirmohammad@yahoo.com', 'uvj3RdPn7Sc5a95V')"
   ]
  },
  {
   "cell_type": "code",
   "execution_count": null,
   "metadata": {
    "collapsed": true
   },
   "outputs": [],
   "source": []
  }
 ],
 "metadata": {
  "kernelspec": {
   "display_name": "Python 3",
   "language": "python",
   "name": "python3"
  },
  "language_info": {
   "codemirror_mode": {
    "name": "ipython",
    "version": 3
   },
   "file_extension": ".py",
   "mimetype": "text/x-python",
   "name": "python",
   "nbconvert_exporter": "python",
   "pygments_lexer": "ipython3",
   "version": "3.6.0"
  }
 },
 "nbformat": 4,
 "nbformat_minor": 1
}
