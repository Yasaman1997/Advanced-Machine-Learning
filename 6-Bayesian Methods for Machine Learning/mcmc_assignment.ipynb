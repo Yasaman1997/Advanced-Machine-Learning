{
  "nbformat": 4,
  "nbformat_minor": 0,
  "metadata": {
    "kernelspec": {
      "display_name": "Python 3",
      "language": "python",
      "name": "python3"
    },
    "language_info": {
      "codemirror_mode": {
        "name": "ipython",
        "version": 3
      },
      "file_extension": ".py",
      "mimetype": "text/x-python",
      "name": "python",
      "nbconvert_exporter": "python",
      "pygments_lexer": "ipython3",
      "version": "3.6.7"
    },
    "colab": {
      "name": "mcmc_assignment.ipynb",
      "provenance": []
    }
  },
  "cells": [
    {
      "cell_type": "markdown",
      "metadata": {
        "id": "yy4ysxO9aHDe"
      },
      "source": [
        "# First things first\n",
        "Click **File -> Save a copy in Drive** and click **Open in new tab** in the pop-up window to save your progress in Google Drive."
      ]
    },
    {
      "cell_type": "markdown",
      "metadata": {
        "id": "Wk5mBzQtaHDh"
      },
      "source": [
        "# Using PyMC3"
      ]
    },
    {
      "cell_type": "markdown",
      "metadata": {
        "id": "h3u4eal7aHDj"
      },
      "source": [
        "In this assignment, we will learn how to use a library for probabilistic programming and inference called <a href=\"http://docs.pymc.io/\">PyMC3</a>."
      ]
    },
    {
      "cell_type": "markdown",
      "metadata": {
        "id": "_kmf42oxaHDn"
      },
      "source": [
        "### Setup\n",
        "Loading auxiliary files and importing the necessary libraries."
      ]
    },
    {
      "cell_type": "code",
      "metadata": {
        "id": "ppGA6JB4aHDp",
        "outputId": "c537000c-f768-4dc1-976e-510690a99dfc",
        "colab": {
          "base_uri": "https://localhost:8080/",
          "height": 279
        }
      },
      "source": [
        "try:\n",
        "    import google.colab\n",
        "    IN_COLAB = True\n",
        "except:\n",
        "    IN_COLAB = False\n",
        "if IN_COLAB:\n",
        "    print(\"Downloading Colab files\")\n",
        "    ! shred -u setup_google_colab.py\n",
        "    ! wget https://raw.githubusercontent.com/hse-aml/bayesian-methods-for-ml/master/setup_google_colab.py -O setup_google_colab.py\n",
        "    import setup_google_colab\n",
        "    setup_google_colab.load_data_week4()"
      ],
      "execution_count": 2,
      "outputs": [
        {
          "output_type": "stream",
          "text": [
            "Downloading Colab files\n",
            "--2020-10-25 07:40:23--  https://raw.githubusercontent.com/hse-aml/bayesian-methods-for-ml/master/setup_google_colab.py\n",
            "Resolving raw.githubusercontent.com (raw.githubusercontent.com)... 151.101.0.133, 151.101.64.133, 151.101.128.133, ...\n",
            "Connecting to raw.githubusercontent.com (raw.githubusercontent.com)|151.101.0.133|:443... connected.\n",
            "HTTP request sent, awaiting response... 200 OK\n",
            "Length: 1232 (1.2K) [text/plain]\n",
            "Saving to: ‘setup_google_colab.py’\n",
            "\n",
            "setup_google_colab. 100%[===================>]   1.20K  --.-KB/s    in 0s      \n",
            "\n",
            "2020-10-25 07:40:23 (72.9 MB/s) - ‘setup_google_colab.py’ saved [1232/1232]\n",
            "\n",
            "https://raw.githubusercontent.com/hse-aml/bayesian-methods-for-ml/master/week4/w4_grader.py w4_grader.py\n",
            "https://raw.githubusercontent.com/hse-aml/bayesian-methods-for-ml/master/week4/adult_us_postprocessed.csv adult_us_postprocessed.csv\n"
          ],
          "name": "stdout"
        }
      ]
    },
    {
      "cell_type": "code",
      "metadata": {
        "id": "CaEvf_l4d5Na",
        "outputId": "a70f8e2c-fb12-40b1-a32c-c3a2de048d23",
        "colab": {
          "base_uri": "https://localhost:8080/",
          "height": 337
        }
      },
      "source": [
        "! pip install pymc3 pandas numpy matplotlib seaborn"
      ],
      "execution_count": 3,
      "outputs": [
        {
          "output_type": "stream",
          "text": [
            "Requirement already satisfied: pymc3 in /usr/local/lib/python3.6/dist-packages (3.7)\n",
            "Requirement already satisfied: pandas in /usr/local/lib/python3.6/dist-packages (1.1.2)\n",
            "Requirement already satisfied: numpy in /usr/local/lib/python3.6/dist-packages (1.18.5)\n",
            "Requirement already satisfied: matplotlib in /usr/local/lib/python3.6/dist-packages (3.2.2)\n",
            "Requirement already satisfied: seaborn in /usr/local/lib/python3.6/dist-packages (0.11.0)\n",
            "Requirement already satisfied: scipy>=0.18.1 in /usr/local/lib/python3.6/dist-packages (from pymc3) (1.4.1)\n",
            "Requirement already satisfied: h5py>=2.7.0 in /usr/local/lib/python3.6/dist-packages (from pymc3) (2.10.0)\n",
            "Requirement already satisfied: theano>=1.0.4 in /usr/local/lib/python3.6/dist-packages (from pymc3) (1.0.5)\n",
            "Requirement already satisfied: patsy>=0.4.0 in /usr/local/lib/python3.6/dist-packages (from pymc3) (0.5.1)\n",
            "Requirement already satisfied: tqdm>=4.8.4 in /usr/local/lib/python3.6/dist-packages (from pymc3) (4.41.1)\n",
            "Requirement already satisfied: python-dateutil>=2.7.3 in /usr/local/lib/python3.6/dist-packages (from pandas) (2.8.1)\n",
            "Requirement already satisfied: pytz>=2017.2 in /usr/local/lib/python3.6/dist-packages (from pandas) (2018.9)\n",
            "Requirement already satisfied: pyparsing!=2.0.4,!=2.1.2,!=2.1.6,>=2.0.1 in /usr/local/lib/python3.6/dist-packages (from matplotlib) (2.4.7)\n",
            "Requirement already satisfied: cycler>=0.10 in /usr/local/lib/python3.6/dist-packages (from matplotlib) (0.10.0)\n",
            "Requirement already satisfied: kiwisolver>=1.0.1 in /usr/local/lib/python3.6/dist-packages (from matplotlib) (1.2.0)\n",
            "Requirement already satisfied: six in /usr/local/lib/python3.6/dist-packages (from h5py>=2.7.0->pymc3) (1.15.0)\n"
          ],
          "name": "stdout"
        }
      ]
    },
    {
      "cell_type": "code",
      "metadata": {
        "id": "iNxdQ66AaHD7",
        "outputId": "ffe44bf3-ca42-4c7b-cd13-784c6ae95970",
        "colab": {
          "base_uri": "https://localhost:8080/",
          "height": 36
        }
      },
      "source": [
        "import numpy as np\n",
        "import pandas as pd\n",
        "import numpy.random as rnd\n",
        "import seaborn as sns\n",
        "from matplotlib import animation\n",
        "import pymc3 as pm\n",
        "from w4_grader import MCMCGrader\n",
        "%pylab inline"
      ],
      "execution_count": 4,
      "outputs": [
        {
          "output_type": "stream",
          "text": [
            "Populating the interactive namespace from numpy and matplotlib\n"
          ],
          "name": "stdout"
        }
      ]
    },
    {
      "cell_type": "code",
      "metadata": {
        "id": "oMakwh3-d9x1",
        "outputId": "40ce8cc5-d8df-4002-be22-63597473756a",
        "colab": {
          "base_uri": "https://localhost:8080/",
          "height": 36
        }
      },
      "source": [
        "! conda install pyqt=4 -y"
      ],
      "execution_count": 5,
      "outputs": [
        {
          "output_type": "stream",
          "text": [
            "/bin/bash: conda: command not found\n"
          ],
          "name": "stdout"
        }
      ]
    },
    {
      "cell_type": "markdown",
      "metadata": {
        "id": "RAK6ffyDaHEE"
      },
      "source": [
        "### Grading\n",
        "We will create a grader instance below and use it to collect your answers. Note that these outputs will be stored locally inside grader and will be uploaded to the platform only after running submitting function in the last part of this assignment. If you want to make a partial submission, you can run that cell anytime you want."
      ]
    },
    {
      "cell_type": "code",
      "metadata": {
        "id": "MVbqxjjfaHEH"
      },
      "source": [
        "grader = MCMCGrader()"
      ],
      "execution_count": 6,
      "outputs": []
    },
    {
      "cell_type": "markdown",
      "metadata": {
        "id": "lmFRlz0jaHEO"
      },
      "source": [
        "## Task 1. Alice and Bob\n",
        "\n",
        "Alice and Bob are trading on the market. Both of them are selling the Thing and want to get as high profit as possible.\n",
        "Every hour they check out with each other's prices and adjust their prices to compete on the market. Although they have different strategies for price setting.\n",
        "\n",
        "**Alice**: takes Bob's price during the **previous** hour, multiply by 0.6, add \\\\$90, add Gaussian noise from $N(0, 20^2)$.\n",
        "\n",
        "**Bob**: takes Alice's price during the **current** hour, multiply by 1.2 and subtract \\\\$20, add Gaussian noise from $N(0, 10^2)$.\n",
        "\n",
        "The problem is to find the joint distribution of Alice and Bob's prices after many hours of such an experiment."
      ]
    },
    {
      "cell_type": "markdown",
      "metadata": {
        "id": "5hkDI6F_aHER"
      },
      "source": [
        "### Task 1.1\n",
        "\n",
        "Implement the `run_simulation` function according to the description above. "
      ]
    },
    {
      "cell_type": "code",
      "metadata": {
        "id": "a_VTdJFjaHES"
      },
      "source": [
        "def run_simulation(alice_start_price=300.0, bob_start_price=300.0, seed=42, num_hours=10000, burnin=1000):\n",
        "    \"\"\"Simulates an evolution of prices set by Bob and Alice.\n",
        "    \n",
        "    The function should simulate Alice and Bob behavior for `burnin' hours, then ignore the obtained\n",
        "    simulation results, and then simulate it for `num_hours' more.\n",
        "    The initial burnin (also sometimes called warmup) is done to make sure that the distribution stabilized.\n",
        "    \n",
        "    Please don't change the signature of the function.\n",
        "    \n",
        "    Returns:\n",
        "        two lists, with Alice and with Bob prices. Both lists should be of length num_hours.\n",
        "    \"\"\"\n",
        "    np.random.seed(seed)\n",
        "\n",
        "    alice_prices = [alice_start_price]\n",
        "    bob_prices = [bob_start_price]\n",
        "    \n",
        "    #### YOUR CODE HERE ####\n",
        "    for i in range(num_hours):\n",
        "        alice_price = bob_prices[-1]*0.6 + 90 + np.random.normal(loc=0, scale=20)\n",
        "        bob_price = alice_price*1.2 - 20 + np.random.normal(loc=0, scale=10)\n",
        "        alice_prices.append(alice_price)\n",
        "        bob_prices.append(bob_price)\n",
        "    \n",
        "    ### END OF YOUR CODE ###\n",
        "    \n",
        "    return alice_prices[burnin:], bob_prices[burnin:]"
      ],
      "execution_count": 7,
      "outputs": []
    },
    {
      "cell_type": "code",
      "metadata": {
        "id": "iJGPEKk4aHEb",
        "outputId": "1195552d-afb9-4cf0-f8f3-a8c79eebab37",
        "colab": {
          "base_uri": "https://localhost:8080/",
          "height": 54
        }
      },
      "source": [
        "alice_prices, bob_prices = run_simulation(alice_start_price=300, bob_start_price=300, seed=42, num_hours=3, burnin=1)\n",
        "if len(alice_prices) != 3:\n",
        "    raise RuntimeError('Make sure that the function returns `num_hours` data points.')\n",
        "grader.submit_simulation_trajectory(alice_prices, bob_prices)"
      ],
      "execution_count": 8,
      "outputs": [
        {
          "output_type": "stream",
          "text": [
            "Current answer for task 1.1 (Alice trajectory) is: 279.93428306022463  291.67686875834846\n",
            "Current answer for task 1.1 (Bob trajectory) is: 314.5384966605577  345.2425410740984\n"
          ],
          "name": "stdout"
        }
      ]
    },
    {
      "cell_type": "markdown",
      "metadata": {
        "id": "5COX_9bJaHEk"
      },
      "source": [
        "### Task 1.2\n",
        "What is the average price for Alice and Bob after the burn-in period? Whose prices are higher?"
      ]
    },
    {
      "cell_type": "code",
      "metadata": {
        "id": "sLsdU_8yaHEl",
        "outputId": "b665545a-c41f-4ac7-c1a1-79236e3e251d",
        "colab": {
          "base_uri": "https://localhost:8080/",
          "height": 54
        }
      },
      "source": [
        "#### YOUR CODE HERE ####\n",
        "alice_prices, bob_prices = run_simulation()\n",
        "average_alice_price = np.mean(alice_prices)\n",
        "average_bob_price = np.mean(bob_prices)\n",
        "### END OF YOUR CODE ###\n",
        "grader.submit_simulation_mean(average_alice_price, average_bob_price)"
      ],
      "execution_count": 9,
      "outputs": [
        {
          "output_type": "stream",
          "text": [
            "Current answer for task 1.2 (Alice mean) is: 278.62821295463834\n",
            "Current answer for task 1.2 (Bob mean) is: 314.37642287694996\n"
          ],
          "name": "stdout"
        }
      ]
    },
    {
      "cell_type": "markdown",
      "metadata": {
        "id": "SQdeYY4SaHEs"
      },
      "source": [
        "### Task 1.3\n",
        "\n",
        "Let's look at the 2-d histogram of prices, computed using kernel density estimation."
      ]
    },
    {
      "cell_type": "code",
      "metadata": {
        "id": "eegA8LCqaHEs",
        "outputId": "59e45bc6-9d12-45be-d966-474e1c84a816",
        "colab": {
          "base_uri": "https://localhost:8080/",
          "height": 555
        }
      },
      "source": [
        "data = np.array(run_simulation())\n",
        "sns.jointplot(data[0, :], data[1, :], stat_func=None, kind='kde')"
      ],
      "execution_count": 10,
      "outputs": [
        {
          "output_type": "stream",
          "text": [
            "/usr/local/lib/python3.6/dist-packages/seaborn/_decorators.py:43: FutureWarning: Pass the following variables as keyword args: x, y. From version 0.12, the only valid positional argument will be `data`, and passing other arguments without an explicit keyword will result in an error or misinterpretation.\n",
            "  FutureWarning\n",
            "/usr/local/lib/python3.6/dist-packages/seaborn/distributions.py:1184: UserWarning: The following kwargs were not used by contour: 'stat_func'\n",
            "  **contour_kws,\n"
          ],
          "name": "stderr"
        },
        {
          "output_type": "execute_result",
          "data": {
            "text/plain": [
              "<seaborn.axisgrid.JointGrid at 0x7f02052dc160>"
            ]
          },
          "metadata": {
            "tags": []
          },
          "execution_count": 10
        },
        {
          "output_type": "display_data",
          "data": {
            "image/png": "[encoded data removed]",
            "text/plain": [
              "<Figure size 432x432 with 3 Axes>"
            ]
          },
          "metadata": {
            "tags": [],
            "needs_background": "light"
          }
        }
      ]
    },
    {
      "cell_type": "markdown",
      "metadata": {
        "id": "uc7OYyBsaHEz"
      },
      "source": [
        "Clearly, the prices of Bob and Alce are highly correlated. What is the Pearson correlation coefficient of Alice and Bob prices?"
      ]
    },
    {
      "cell_type": "code",
      "metadata": {
        "id": "X8Dts_mhaHE0",
        "outputId": "10dcc376-dcba-48da-8b5d-f4b7f6e9705d",
        "colab": {
          "base_uri": "https://localhost:8080/",
          "height": 36
        }
      },
      "source": [
        "#### YOUR CODE HERE ####\n",
        "correlation = np.corrcoef(data[0, :], data[1, :])[0][1]\n",
        "### END OF YOUR CODE ###\n",
        "grader.submit_simulation_correlation(correlation)"
      ],
      "execution_count": 11,
      "outputs": [
        {
          "output_type": "stream",
          "text": [
            "Current answer for task 1.3 (Bob and Alice prices correlation) is: 0.9636340025161768\n"
          ],
          "name": "stdout"
        }
      ]
    },
    {
      "cell_type": "markdown",
      "metadata": {
        "id": "LXLPqAw0aHE-"
      },
      "source": [
        "### Task 1.4"
      ]
    },
    {
      "cell_type": "markdown",
      "metadata": {
        "id": "XO2FyGU8aHE-"
      },
      "source": [
        "We observe an interesting effect here: seems like the bivariate distribution of Alice and Bob prices converges to a correlated bivariate Gaussian distribution.\n",
        "\n",
        "Let's check, whether the results change if we use different random seed and starting points."
      ]
    },
    {
      "cell_type": "code",
      "metadata": {
        "id": "z3bOUE3JaHFA"
      },
      "source": [
        ""
      ],
      "execution_count": 11,
      "outputs": []
    },
    {
      "cell_type": "code",
      "metadata": {
        "id": "llfoo8FxbNgt",
        "outputId": "cf7992bd-b39f-43f1-f593-3b649b394a62",
        "colab": {
          "base_uri": "https://localhost:8080/",
          "height": 129
        }
      },
      "source": [
        "for (ap, bp) in ((1, 10,), (10, 100), (100, 1000)):\n",
        "    data_tmp = np.array(run_simulation(alice_start_price=ap, bob_start_price=bp))\n",
        "    print(np.corrcoef(data_tmp[0, :], data[1, :]))"
      ],
      "execution_count": 12,
      "outputs": [
        {
          "output_type": "stream",
          "text": [
            "[[1.       0.963634]\n",
            " [0.963634 1.      ]]\n",
            "[[1.       0.963634]\n",
            " [0.963634 1.      ]]\n",
            "[[1.       0.963634]\n",
            " [0.963634 1.      ]]\n"
          ],
          "name": "stdout"
        }
      ]
    },
    {
      "cell_type": "code",
      "metadata": {
        "id": "yGdsaPMebQFZ",
        "outputId": "17b709f2-5fe8-4595-b141-78bd953cb2cb",
        "colab": {
          "base_uri": "https://localhost:8080/",
          "height": 129
        }
      },
      "source": [
        "for s in (1, 10, 100):\n",
        "    data_tmp = np.array(run_simulation(seed=s))\n",
        "    print(np.corrcoef(data_tmp[0, :], data[1, :]))"
      ],
      "execution_count": 13,
      "outputs": [
        {
          "output_type": "stream",
          "text": [
            "[[ 1.         -0.01446179]\n",
            " [-0.01446179  1.        ]]\n",
            "[[1.         0.01283996]\n",
            " [0.01283996 1.        ]]\n",
            "[[ 1.         -0.00260768]\n",
            " [-0.00260768  1.        ]]\n"
          ],
          "name": "stdout"
        }
      ]
    },
    {
      "cell_type": "code",
      "metadata": {
        "id": "UxGYaGp5bQfu",
        "outputId": "c886716e-bd5f-47cd-e96a-532b55a037af",
        "colab": {
          "base_uri": "https://localhost:8080/",
          "height": 36
        }
      },
      "source": [
        "# Pick different starting prices, e.g 10, 1000, 10000 for Bob and Alice. \n",
        "# Does the joint distribution of the two prices depend on these parameters?\n",
        "POSSIBLE_ANSWERS = {\n",
        "    0: 'Depends on random seed and starting prices', \n",
        "    1: 'Depends only on random seed',\n",
        "    2: 'Depends only on starting prices',\n",
        "    3: 'Does not depend on random seed and starting prices'\n",
        "}\n",
        "\n",
        "idx = 3 ### TYPE THE INDEX OF THE CORRECT ANSWER HERE ###\n",
        "answer = POSSIBLE_ANSWERS[idx]\n",
        "grader.submit_simulation_depends(answer)"
      ],
      "execution_count": 14,
      "outputs": [
        {
          "output_type": "stream",
          "text": [
            "Current answer for task 1.4 (depends on the random data or not) is: Does not depend on random seed and starting prices\n"
          ],
          "name": "stdout"
        }
      ]
    },
    {
      "cell_type": "markdown",
      "metadata": {
        "collapsed": true,
        "id": "b6JFhUY_aHFG"
      },
      "source": [
        "## Task 2. Logistic regression with PyMC3\n",
        "\n",
        "Logistic regression is a powerful model that allows you to analyze how a set of features affects some binary target label. Posterior distribution over the weights gives us an estimation of the influence of each particular feature on the probability of the target being equal to one. But most importantly, posterior distribution gives us the interval estimates for each weight of the model. This is very important for data analysis when you want to not only provide a good model but also estimate the uncertainty of your conclusions.\n",
        "\n",
        "In this task, we will learn how to use PyMC3 library to perform approximate Bayesian inference for logistic regression.\n",
        "\n",
        "This part of the assignment is based on the logistic regression tutorial by Peadar Coyle and J. Benjamin Cook."
      ]
    },
    {
      "cell_type": "markdown",
      "metadata": {
        "id": "wawSqSwWaHFJ"
      },
      "source": [
        "### Logistic regression.\n",
        "\n",
        "The problem here is to model how the probability that a person has salary $\\geq$ \\\\$50K is affected by his/her age, education, sex and other features.\n",
        "\n",
        "Let $y_i = 1$ if i-th person's salary is $\\geq$ \\\\$50K and $y_i = 0$ otherwise. Let $x_{ij}$ be $j$-th feature of $i$-th person.\n",
        "\n",
        "Logistic regression models this probabilty in the following way:\n",
        "\n",
        "$$p(y_i = 1 \\mid \\beta) = \\sigma (\\beta_1 x_{i1} + \\beta_2 x_{i2} + \\dots + \\beta_k x_{ik} ), $$\n",
        "\n",
        "where $\\sigma(t) = \\frac1{1 + e^{-t}}$"
      ]
    },
    {
      "cell_type": "markdown",
      "metadata": {
        "id": "-FTuPh4caHFK"
      },
      "source": [
        "#### Odds ratio.\n",
        "Let's try to answer the following question: does the gender of a person affects his or her salary? To do it we will use the concept of *odds*.\n",
        "\n",
        "If we have a binary random variable $y$ (which may indicate whether a person makes \\\\$50K) and if the probabilty of the positive outcome $p(y = 1)$ is for example 0.8, we will say that the *odds* are 4 to 1 (or just 4 for short), because succeding is 4 time more likely than failing $\\frac{p(y = 1)}{p(y = 0)} = \\frac{0.8}{0.2} = 4$.\n",
        "\n",
        "Now, let's return to the effect of gender on the salary. Let's compute the **ratio** between the odds of a male having salary $\\geq $ \\\\$50K and the odds of a female (with the same level of education, experience and everything else) having salary $\\geq$ \\\\$50K. The first feature of each person in the dataset is gender. Specifically, $x_{i1} = 0$ if the person is female and $x_{i1} = 1$ otherwise. Consider two people $i$ and $j$ having all but one features the same with the only difference in $x_{i1} \\neq x_{j1}$.\n",
        "\n",
        "If the logistic regression model above estimates the probabilities exactly, the odds for a male will be (check it!):\n",
        "$$\n",
        "\\frac{p(y_i = 1 \\mid x_{i1}=1, x_{i2}, \\ldots, x_{ik})}{p(y_i = 0 \\mid x_{i1}=1, x_{i2}, \\ldots, x_{ik})} = \\frac{\\sigma(\\beta_1 + \\beta_2 x_{i2} + \\ldots)}{1 - \\sigma(\\beta_1 + \\beta_2 x_{i2} + \\ldots)} = \\exp(\\beta_1 + \\beta_2 x_{i2} + \\ldots)\n",
        "$$\n",
        "\n",
        "Now the ratio of the male and female odds will be:\n",
        "$$\n",
        "\\frac{\\exp(\\beta_1 \\cdot 1 + \\beta_2 x_{i2} + \\ldots)}{\\exp(\\beta_1 \\cdot 0 + \\beta_2 x_{i2} + \\ldots)} = \\exp(\\beta_1)\n",
        "$$\n",
        "\n",
        "So given the correct logistic regression model, we can estimate odds ratio for some feature (gender in this example) by just looking at the corresponding coefficient. But of course, even if all the logistic regression assumptions are met we cannot estimate the coefficient exactly from real-world data, it's just too noisy. So it would be really nice to build an interval estimate, which would tell us something along the lines \"with probability 0.95 the odds ratio is greater than 0.8 and less than 1.2, so we cannot conclude that there is any gender discrimination in the salaries\" (or vice versa, that \"with probability 0.95 the odds ratio is greater than 1.5 and less than 1.9 and the discrimination takes place because a male has at least 1.5 higher probability to get >$50k than a female with the same level of education, age, etc.\"). In Bayesian statistics, this interval estimate is called *credible interval*.\n",
        "\n",
        "Unfortunately, it's impossible to compute this credible interval analytically. So let's use MCMC for that!\n",
        "\n",
        "#### Credible interval\n",
        "A credible interval for the value of $\\exp(\\beta_1)$ is an interval $[a, b]$ such that $p(a \\leq \\exp(\\beta_1) \\leq b \\mid X_{\\text{train}}, y_{\\text{train}})$ is $0.95$ (or some other predefined value). To compute the interval, we need access to the posterior distribution $p(\\exp(\\beta_1) \\mid X_{\\text{train}}, y_{\\text{train}})$.\n",
        "\n",
        "Lets for simplicity focus on the posterior on the parameters $p(\\beta_1 \\mid X_{\\text{train}}, y_{\\text{train}})$ since if we compute it, we can always find $[a, b]$ such that $p(\\log a \\leq \\beta_1 \\leq \\log b \\mid X_{\\text{train}}, y_{\\text{train}}) = p(a \\leq \\exp(\\beta_1) \\leq b \\mid X_{\\text{train}}, y_{\\text{train}}) = 0.95$\n"
      ]
    },
    {
      "cell_type": "markdown",
      "metadata": {
        "id": "07TMbc1aaHFN"
      },
      "source": [
        "### Task 2.1 MAP inference"
      ]
    },
    {
      "cell_type": "markdown",
      "metadata": {
        "id": "28N3WnJ0aHFP"
      },
      "source": [
        "Let's read the dataset. This is a post-processed version of the [UCI Adult dataset](http://archive.ics.uci.edu/ml/datasets/Adult)."
      ]
    },
    {
      "cell_type": "code",
      "metadata": {
        "id": "d63XOyDfaHFR",
        "outputId": "c534a158-b7d9-4c3e-c7ee-cc7830445770",
        "colab": {
          "base_uri": "https://localhost:8080/",
          "height": 206
        }
      },
      "source": [
        "data = pd.read_csv(\"adult_us_postprocessed.csv\")\n",
        "data.head()"
      ],
      "execution_count": 27,
      "outputs": [
        {
          "output_type": "execute_result",
          "data": {
            "text/html": [
              "<div>\n",
              "<style scoped>\n",
              "    .dataframe tbody tr th:only-of-type {\n",
              "        vertical-align: middle;\n",
              "    }\n",
              "\n",
              "    .dataframe tbody tr th {\n",
              "        vertical-align: top;\n",
              "    }\n",
              "\n",
              "    .dataframe thead th {\n",
              "        text-align: right;\n",
              "    }\n",
              "</style>\n",
              "<table border=\"1\" class=\"dataframe\">\n",
              "  <thead>\n",
              "    <tr style=\"text-align: right;\">\n",
              "      <th></th>\n",
              "      <th>sex</th>\n",
              "      <th>age</th>\n",
              "      <th>educ</th>\n",
              "      <th>hours</th>\n",
              "      <th>income_more_50K</th>\n",
              "    </tr>\n",
              "  </thead>\n",
              "  <tbody>\n",
              "    <tr>\n",
              "      <th>0</th>\n",
              "      <td>Male</td>\n",
              "      <td>39</td>\n",
              "      <td>13</td>\n",
              "      <td>40</td>\n",
              "      <td>0</td>\n",
              "    </tr>\n",
              "    <tr>\n",
              "      <th>1</th>\n",
              "      <td>Male</td>\n",
              "      <td>50</td>\n",
              "      <td>13</td>\n",
              "      <td>13</td>\n",
              "      <td>0</td>\n",
              "    </tr>\n",
              "    <tr>\n",
              "      <th>2</th>\n",
              "      <td>Male</td>\n",
              "      <td>38</td>\n",
              "      <td>9</td>\n",
              "      <td>40</td>\n",
              "      <td>0</td>\n",
              "    </tr>\n",
              "    <tr>\n",
              "      <th>3</th>\n",
              "      <td>Male</td>\n",
              "      <td>53</td>\n",
              "      <td>7</td>\n",
              "      <td>40</td>\n",
              "      <td>0</td>\n",
              "    </tr>\n",
              "    <tr>\n",
              "      <th>4</th>\n",
              "      <td>Female</td>\n",
              "      <td>28</td>\n",
              "      <td>13</td>\n",
              "      <td>40</td>\n",
              "      <td>0</td>\n",
              "    </tr>\n",
              "  </tbody>\n",
              "</table>\n",
              "</div>"
            ],
            "text/plain": [
              "       sex  age  educ  hours  income_more_50K\n",
              "0     Male   39    13     40                0\n",
              "1     Male   50    13     13                0\n",
              "2     Male   38     9     40                0\n",
              "3     Male   53     7     40                0\n",
              "4   Female   28    13     40                0"
            ]
          },
          "metadata": {
            "tags": []
          },
          "execution_count": 27
        }
      ]
    },
    {
      "cell_type": "markdown",
      "metadata": {
        "id": "qFpqLdhzaHFX"
      },
      "source": [
        "Each row of the dataset is a person with his (her) features. The last column is the target variable $y$. One indicates that this person's annual salary is more than $50K.\n",
        "\n",
        "First of all let's set up a Bayesian logistic regression model (i.e. define priors on the parameters $\\alpha$ and $\\beta$ of the model) that predicts the value of \"income_more_50K\" based on person's age and education:\n",
        "\n",
        "$$\n",
        "p(y = 1 \\mid \\alpha, \\beta_1, \\beta_2) = \\sigma(\\alpha + \\beta_1 x_1 + \\beta_2 x_2) \\\\ \n",
        "\\alpha \\sim N(0, 100^2) \\\\\n",
        "\\beta_1 \\sim N(0, 100^2) \\\\\n",
        "\\beta_2 \\sim N(0, 100^2), \\\\\n",
        "$$\n",
        "\n",
        "where $x_1$ is a person's age, $x_2$ is his/her level of education, y indicates his/her level of income, $\\alpha$, $\\beta_1$ and $\\beta_2$ are paramters of the model."
      ]
    },
    {
      "cell_type": "code",
      "metadata": {
        "id": "xKeDC1I8aHFa",
        "outputId": "8379c565-1400-48d7-bbb1-2f8cd9645a47",
        "colab": {
          "base_uri": "https://localhost:8080/",
          "height": 112
        }
      },
      "source": [
        "with pm.Model() as manual_logistic_model:\n",
        "    # Declare pymc random variables for logistic regression coefficients with uninformative \n",
        "    # prior distributions N(0, 100^2) on each weight using pm.Normal. \n",
        "    # Don't forget to give each variable a unique name.\n",
        "    \n",
        "    #### YOUR CODE HERE ####\n",
        "    alpha = pm.Normal('alpha', mu=0, sd=100)\n",
        "    beta_age_coefficient = pm.Normal('beta_age_coefficient', mu=0, sd=100)\n",
        "    beta_education_coefficient = pm.Normal('beta_education_coefficient', mu=0, sd=100)\n",
        "    \n",
        "    ### END OF YOUR CODE ###\n",
        "    \n",
        "    # Thansform these random variables into vector of probabilities p(y_i=1) using logistic regression model specified \n",
        "    # above. PyMC random variables are theano shared variables and support simple mathematical operations.\n",
        "    # For example:\n",
        "    # z = pm.Normal('x', 0, 1) * np.array([1, 2, 3]) + pm.Normal('y', 0, 1) * np.array([4, 5, 6])`\n",
        "    # is a correct PyMC expression.\n",
        "    # Use pm.invlogit for the sigmoid function.\n",
        "    \n",
        "    #### YOUR CODE HERE ####\n",
        "    z = alpha + beta_age_coefficient*np.array(data['age']) + beta_education_coefficient*np.array(data['educ'])\n",
        "    a = pm.invlogit(z)\n",
        "    \n",
        "    ### END OF YOUR CODE ###\n",
        "    \n",
        "    # Declare PyMC Bernoulli random vector with probability of success equal to the corresponding value\n",
        "    # given by the sigmoid function.\n",
        "    # Supply target vector using \"observed\" argument in the constructor.\n",
        "\n",
        "    #### YOUR CODE HERE ####\n",
        "    y_obs = pm.Bernoulli('y_obs', p=a, observed=data['income_more_50K'])\n",
        "    \n",
        "    ### END OF YOUR CODE ###\n",
        "    \n",
        "    # Use pm.find_MAP() to find the maximum a-posteriori estimate for the vector of logistic regression weights.\n",
        "    map_estimate = pm.find_MAP()\n",
        "    print(map_estimate)"
      ],
      "execution_count": 29,
      "outputs": [
        {
          "output_type": "stream",
          "text": [
            "/usr/local/lib/python3.6/dist-packages/pymc3/tuning/starting.py:61: UserWarning: find_MAP should not be used to initialize the NUTS sampler, simply call pymc3.sample() and it will automatically initialize NUTS in a better way.\n",
            "  warnings.warn('find_MAP should not be used to initialize the NUTS sampler, simply call pymc3.sample() and it will automatically initialize NUTS in a better way.')\n",
            "logp = -18,844, ||grad|| = 57,293: 100%|██████████| 30/30 [00:00<00:00, 116.80it/s]  "
          ],
          "name": "stderr"
        },
        {
          "output_type": "stream",
          "text": [
            "{'alpha': array(-6.74811904), 'beta_age_coefficient': array(0.04348316), 'beta_education_coefficient': array(0.36210803)}\n"
          ],
          "name": "stdout"
        },
        {
          "output_type": "stream",
          "text": [
            "\n"
          ],
          "name": "stderr"
        }
      ]
    },
    {
      "cell_type": "markdown",
      "metadata": {
        "id": "sDR57Sm1aHFg"
      },
      "source": [
        "Sumbit MAP estimations of corresponding coefficients:"
      ]
    },
    {
      "cell_type": "code",
      "metadata": {
        "id": "UbhT2IXJaHFi",
        "outputId": "8155b185-e788-4d9e-ef3d-ddc139dd7a31",
        "colab": {
          "base_uri": "https://localhost:8080/",
          "height": 112
        }
      },
      "source": [
        "with pm.Model() as logistic_model:\n",
        "    # There's a simpler interface for generalized linear models in pymc3. \n",
        "    # Try to train the same model using pm.glm.GLM.from_formula.\n",
        "    # Do not forget to specify that the target variable is binary (and hence follows Binomial distribution).\n",
        "    \n",
        "    #### YOUR CODE HERE ####\n",
        "    pm.glm.GLM.from_formula('income_more_50K ~ age + educ', data, family=pm.glm.families.Binomial())\n",
        "    \n",
        "    ### END OF YOUR CODE ###\n",
        "    map_estimate = pm.find_MAP()\n",
        "    print(map_estimate)"
      ],
      "execution_count": 30,
      "outputs": [
        {
          "output_type": "stream",
          "text": [
            "/usr/local/lib/python3.6/dist-packages/pymc3/tuning/starting.py:61: UserWarning: find_MAP should not be used to initialize the NUTS sampler, simply call pymc3.sample() and it will automatically initialize NUTS in a better way.\n",
            "  warnings.warn('find_MAP should not be used to initialize the NUTS sampler, simply call pymc3.sample() and it will automatically initialize NUTS in a better way.')\n",
            "logp = -15,131, ||grad|| = 0.024014: 100%|██████████| 32/32 [00:00<00:00, 127.89it/s]  "
          ],
          "name": "stderr"
        },
        {
          "output_type": "stream",
          "text": [
            "{'Intercept': array(-6.7480998), 'age': array(0.04348259), 'educ': array(0.36210894)}\n"
          ],
          "name": "stdout"
        },
        {
          "output_type": "stream",
          "text": [
            "\n"
          ],
          "name": "stderr"
        }
      ]
    },
    {
      "cell_type": "code",
      "metadata": {
        "scrolled": true,
        "id": "Ae982V-TaHFo",
        "outputId": "483b09fe-7820-4268-80fb-bf667de3a564",
        "colab": {
          "base_uri": "https://localhost:8080/",
          "height": 54
        }
      },
      "source": [
        "beta_age_coefficient = 0.043483 ### TYPE MAP ESTIMATE OF THE AGE COEFFICIENT HERE ###\n",
        "beta_education_coefficient = 0.3621089 ### TYPE MAP ESTIMATE OF THE EDUCATION COEFFICIENT HERE ###\n",
        "grader.submit_pymc_map_estimates(beta_age_coefficient, beta_education_coefficient)"
      ],
      "execution_count": 31,
      "outputs": [
        {
          "output_type": "stream",
          "text": [
            "Current answer for task 2.1 (MAP for age coef) is: 0.043483\n",
            "Current answer for task 2.1 (MAP for aducation coef) is: 0.3621089\n"
          ],
          "name": "stdout"
        }
      ]
    },
    {
      "cell_type": "markdown",
      "metadata": {
        "id": "JsxMng_XaHFu"
      },
      "source": [
        "### Task 2.2 MCMC"
      ]
    },
    {
      "cell_type": "markdown",
      "metadata": {
        "id": "qsX2l6gSaHFu"
      },
      "source": [
        "To find credible regions let's perform MCMC inference."
      ]
    },
    {
      "cell_type": "code",
      "metadata": {
        "id": "-MNhb5tPaHFz"
      },
      "source": [
        "# You will need the following function to visualize the sampling process.\n",
        "# You don't need to change it.\n",
        "def plot_traces(traces, burnin=2000):\n",
        "    ''' \n",
        "    Convenience function:\n",
        "    Plot traces with overlaid means and values\n",
        "    '''\n",
        "    \n",
        "    ax = pm.traceplot(traces[burnin:], figsize=(12,len(traces.varnames)*1.5),\n",
        "        lines={k: v['mean'] for k, v in pm.summary(traces[burnin:]).iterrows()})\n",
        "\n",
        "    for i, mn in enumerate(pm.summary(traces[burnin:])['mean']):\n",
        "        ax[i,0].annotate('{:.2f}'.format(mn), xy=(mn,0), xycoords='data'\n",
        "                    ,xytext=(5,10), textcoords='offset points', rotation=90\n",
        "                    ,va='bottom', fontsize='large', color='#AA0022')"
      ],
      "execution_count": 32,
      "outputs": []
    },
    {
      "cell_type": "code",
      "metadata": {
        "id": "m2pzpsWZbrNT",
        "outputId": "9ff6da29-4acf-446c-a31b-20d1d3e86cc6",
        "colab": {
          "base_uri": "https://localhost:8080/",
          "height": 206
        }
      },
      "source": [
        "data['agesq'] = data['age'] ** 2\n",
        "data.head()"
      ],
      "execution_count": 33,
      "outputs": [
        {
          "output_type": "execute_result",
          "data": {
            "text/html": [
              "<div>\n",
              "<style scoped>\n",
              "    .dataframe tbody tr th:only-of-type {\n",
              "        vertical-align: middle;\n",
              "    }\n",
              "\n",
              "    .dataframe tbody tr th {\n",
              "        vertical-align: top;\n",
              "    }\n",
              "\n",
              "    .dataframe thead th {\n",
              "        text-align: right;\n",
              "    }\n",
              "</style>\n",
              "<table border=\"1\" class=\"dataframe\">\n",
              "  <thead>\n",
              "    <tr style=\"text-align: right;\">\n",
              "      <th></th>\n",
              "      <th>sex</th>\n",
              "      <th>age</th>\n",
              "      <th>educ</th>\n",
              "      <th>hours</th>\n",
              "      <th>income_more_50K</th>\n",
              "      <th>agesq</th>\n",
              "    </tr>\n",
              "  </thead>\n",
              "  <tbody>\n",
              "    <tr>\n",
              "      <th>0</th>\n",
              "      <td>Male</td>\n",
              "      <td>39</td>\n",
              "      <td>13</td>\n",
              "      <td>40</td>\n",
              "      <td>0</td>\n",
              "      <td>1521</td>\n",
              "    </tr>\n",
              "    <tr>\n",
              "      <th>1</th>\n",
              "      <td>Male</td>\n",
              "      <td>50</td>\n",
              "      <td>13</td>\n",
              "      <td>13</td>\n",
              "      <td>0</td>\n",
              "      <td>2500</td>\n",
              "    </tr>\n",
              "    <tr>\n",
              "      <th>2</th>\n",
              "      <td>Male</td>\n",
              "      <td>38</td>\n",
              "      <td>9</td>\n",
              "      <td>40</td>\n",
              "      <td>0</td>\n",
              "      <td>1444</td>\n",
              "    </tr>\n",
              "    <tr>\n",
              "      <th>3</th>\n",
              "      <td>Male</td>\n",
              "      <td>53</td>\n",
              "      <td>7</td>\n",
              "      <td>40</td>\n",
              "      <td>0</td>\n",
              "      <td>2809</td>\n",
              "    </tr>\n",
              "    <tr>\n",
              "      <th>4</th>\n",
              "      <td>Female</td>\n",
              "      <td>28</td>\n",
              "      <td>13</td>\n",
              "      <td>40</td>\n",
              "      <td>0</td>\n",
              "      <td>784</td>\n",
              "    </tr>\n",
              "  </tbody>\n",
              "</table>\n",
              "</div>"
            ],
            "text/plain": [
              "       sex  age  educ  hours  income_more_50K  agesq\n",
              "0     Male   39    13     40                0   1521\n",
              "1     Male   50    13     13                0   2500\n",
              "2     Male   38     9     40                0   1444\n",
              "3     Male   53     7     40                0   2809\n",
              "4   Female   28    13     40                0    784"
            ]
          },
          "metadata": {
            "tags": []
          },
          "execution_count": 33
        }
      ]
    },
    {
      "cell_type": "markdown",
      "metadata": {
        "id": "uEi4Cq-SaHF5"
      },
      "source": [
        "#### Metropolis-Hastings\n",
        "Let's use the Metropolis-Hastings algorithm for finding the samples from the posterior distribution.\n",
        "\n",
        "Once you wrote the code, explore the hyperparameters of Metropolis-Hastings such as the proposal distribution variance to speed up the convergence. You can use `plot_traces` function in the next cell to visually inspect the convergence.\n",
        "\n",
        "You may also use MAP-estimate to initialize the sampling scheme to speed things up. This will make the warmup (burn-in) period shorter since you will start from a probable point."
      ]
    },
    {
      "cell_type": "code",
      "metadata": {
        "id": "3n91rgMUaHF8",
        "outputId": "9df9784e-2f73-48d5-9c3a-7583f7c06973",
        "colab": {
          "base_uri": "https://localhost:8080/",
          "height": 242
        }
      },
      "source": [
        "with pm.Model() as logistic_model:\n",
        "    # Since it is unlikely that the dependency between the age and salary is linear, we will include age squared\n",
        "    # into features so that we can model dependency that favors certain ages.\n",
        "    # Train Bayesian logistic regression model on the following features: sex, age, age^2, educ, hours\n",
        "    # Use pm.sample to run MCMC to train this model.\n",
        "    # To specify the particular sampler method (Metropolis-Hastings) to pm.sample,\n",
        "    # use `pm.Metropolis`.\n",
        "    # Train your model for 400 samples.\n",
        "    # Save the output of pm.sample to a variable: this is the trace of the sampling procedure and will be used\n",
        "    # to estimate the statistics of the posterior distribution.\n",
        "    \n",
        "    #### YOUR CODE HERE ####\n",
        "    pm.glm.GLM.from_formula('income_more_50K ~ sex + age + agesq + educ + hours', data, family=pm.glm.families.Binomial())\n",
        "    with logistic_model:\n",
        "        trace = pm.sample(400, step=pm.Metropolis())\n",
        "    \n",
        "    ### END OF YOUR CODE ###"
      ],
      "execution_count": 34,
      "outputs": [
        {
          "output_type": "stream",
          "text": [
            "Only 400 samples in chain.\n",
            "Sequential sampling (2 chains in 1 job)\n",
            "CompoundStep\n",
            ">Metropolis: [hours]\n",
            ">Metropolis: [educ]\n",
            ">Metropolis: [agesq]\n",
            ">Metropolis: [age]\n",
            ">Metropolis: [sex[T. Male]]\n",
            ">Metropolis: [Intercept]\n",
            "100%|██████████| 900/900 [01:00<00:00, 14.97it/s]\n",
            "100%|██████████| 900/900 [01:01<00:00, 14.55it/s]\n",
            "The estimated number of effective samples is smaller than 200 for some parameters.\n"
          ],
          "name": "stderr"
        }
      ]
    },
    {
      "cell_type": "code",
      "metadata": {
        "id": "fcd_3SSxaHGC",
        "outputId": "0f37ea33-4232-44b3-f83b-c8b18ee3524c",
        "colab": {
          "base_uri": "https://localhost:8080/",
          "height": 349
        }
      },
      "source": [
        "plot_traces(trace, burnin=200)"
      ],
      "execution_count": 35,
      "outputs": [
        {
          "output_type": "error",
          "ename": "TypeError",
          "evalue": "ignored",
          "traceback": [
            "\u001b[0;31m---------------------------------------------------------------------------\u001b[0m",
            "\u001b[0;31mTypeError\u001b[0m                                 Traceback (most recent call last)",
            "\u001b[0;32m<ipython-input-35-8d29b264e93d>\u001b[0m in \u001b[0;36m<module>\u001b[0;34m()\u001b[0m\n\u001b[0;32m----> 1\u001b[0;31m \u001b[0mplot_traces\u001b[0m\u001b[0;34m(\u001b[0m\u001b[0mtrace\u001b[0m\u001b[0;34m,\u001b[0m \u001b[0mburnin\u001b[0m\u001b[0;34m=\u001b[0m\u001b[0;36m200\u001b[0m\u001b[0;34m)\u001b[0m\u001b[0;34m\u001b[0m\u001b[0;34m\u001b[0m\u001b[0m\n\u001b[0m",
            "\u001b[0;32m<ipython-input-32-a7a86bfbf5ee>\u001b[0m in \u001b[0;36mplot_traces\u001b[0;34m(traces, burnin)\u001b[0m\n\u001b[1;32m      8\u001b[0m \u001b[0;34m\u001b[0m\u001b[0m\n\u001b[1;32m      9\u001b[0m     ax = pm.traceplot(traces[burnin:], figsize=(12,len(traces.varnames)*1.5),\n\u001b[0;32m---> 10\u001b[0;31m         lines={k: v['mean'] for k, v in pm.summary(traces[burnin:]).iterrows()})\n\u001b[0m\u001b[1;32m     11\u001b[0m \u001b[0;34m\u001b[0m\u001b[0m\n\u001b[1;32m     12\u001b[0m     \u001b[0;32mfor\u001b[0m \u001b[0mi\u001b[0m\u001b[0;34m,\u001b[0m \u001b[0mmn\u001b[0m \u001b[0;32min\u001b[0m \u001b[0menumerate\u001b[0m\u001b[0;34m(\u001b[0m\u001b[0mpm\u001b[0m\u001b[0;34m.\u001b[0m\u001b[0msummary\u001b[0m\u001b[0;34m(\u001b[0m\u001b[0mtraces\u001b[0m\u001b[0;34m[\u001b[0m\u001b[0mburnin\u001b[0m\u001b[0;34m:\u001b[0m\u001b[0;34m]\u001b[0m\u001b[0;34m)\u001b[0m\u001b[0;34m[\u001b[0m\u001b[0;34m'mean'\u001b[0m\u001b[0;34m]\u001b[0m\u001b[0;34m)\u001b[0m\u001b[0;34m:\u001b[0m\u001b[0;34m\u001b[0m\u001b[0;34m\u001b[0m\u001b[0m\n",
            "\u001b[0;32m/usr/local/lib/python3.6/dist-packages/pymc3/stats.py\u001b[0m in \u001b[0;36msummary\u001b[0;34m(trace, var_names, transform, stat_funcs, extend, include_transformed, alpha, start, batches, **kwargs)\u001b[0m\n\u001b[1;32m    989\u001b[0m         \u001b[0mrhat_pd\u001b[0m \u001b[0;34m=\u001b[0m \u001b[0mdict2pd\u001b[0m\u001b[0;34m(\u001b[0m\u001b[0mrhat\u001b[0m\u001b[0;34m,\u001b[0m \u001b[0;34m'Rhat'\u001b[0m\u001b[0;34m)\u001b[0m\u001b[0;34m\u001b[0m\u001b[0;34m\u001b[0m\u001b[0m\n\u001b[1;32m    990\u001b[0m         return pd.concat([dforg, n_eff_pd, rhat_pd],\n\u001b[0;32m--> 991\u001b[0;31m                          axis=1, join_axes=[dforg.index])\n\u001b[0m\u001b[1;32m    992\u001b[0m \u001b[0;34m\u001b[0m\u001b[0m\n\u001b[1;32m    993\u001b[0m \u001b[0;34m\u001b[0m\u001b[0m\n",
            "\u001b[0;31mTypeError\u001b[0m: concat() got an unexpected keyword argument 'join_axes'"
          ]
        }
      ]
    },
    {
      "cell_type": "markdown",
      "metadata": {
        "id": "z6gdPcRNaHGH"
      },
      "source": [
        "#### NUTS sampler\n",
        "Use pm.sample without specifying a particular sampling method (pymc3 will choose it automatically).\n",
        "The sampling algorithm that will be used in this case is NUTS, which is a form of Hamiltonian Monte Carlo, in which parameters are tuned automatically. This is an advanced method that we hadn't cover in the lectures, but it usually converges faster and gives less correlated samples compared to vanilla Metropolis-Hastings."
      ]
    },
    {
      "cell_type": "code",
      "metadata": {
        "id": "hQnPYfkcaHGI",
        "outputId": "f944e2e0-b4ec-43e1-95d1-ebbe67c07a4c",
        "colab": {
          "base_uri": "https://localhost:8080/",
          "height": 149
        }
      },
      "source": [
        "with pm.Model() as logistic_model:\n",
        "    # Train Bayesian logistic regression model on the following features: sex, age, age_squared, educ, hours\n",
        "    # Use pm.sample to run MCMC to train this model.\n",
        "    # Train your model for *4000* samples (ten times more than before).\n",
        "    # Training can take a while, so relax and wait :)\n",
        "    \n",
        "    #### YOUR CODE HERE ####\n",
        "    pm.glm.GLM.from_formula('income_more_50K ~ sex + age + agesq + educ + hours', data, family=pm.glm.families.Binomial())\n",
        "    with logistic_model:\n",
        "        trace = pm.sample(4000, step=pm.NUTS())\n",
        "    \n",
        "    ### END OF YOUR CODE ###"
      ],
      "execution_count": 36,
      "outputs": [
        {
          "output_type": "stream",
          "text": [
            "Sequential sampling (2 chains in 1 job)\n",
            "NUTS: [hours, educ, agesq, age, sex[T. Male], Intercept]\n",
            "100%|██████████| 4500/4500 [56:36<00:00,  1.32it/s]\n",
            "100%|██████████| 4500/4500 [55:55<00:00,  1.34it/s]\n",
            "The acceptance probability does not match the target. It is 0.9427094838137193, but should be close to 0.8. Try to increase the number of tuning steps.\n",
            "The acceptance probability does not match the target. It is 0.9474759190868307, but should be close to 0.8. Try to increase the number of tuning steps.\n"
          ],
          "name": "stderr"
        }
      ]
    },
    {
      "cell_type": "code",
      "metadata": {
        "id": "5ZGhVqisaHGQ",
        "outputId": "c1ae00f8-0fda-4312-b0bd-802cc85252f7",
        "colab": {
          "base_uri": "https://localhost:8080/",
          "height": 349
        }
      },
      "source": [
        "plot_traces(trace)"
      ],
      "execution_count": 38,
      "outputs": [
        {
          "output_type": "error",
          "ename": "TypeError",
          "evalue": "ignored",
          "traceback": [
            "\u001b[0;31m---------------------------------------------------------------------------\u001b[0m",
            "\u001b[0;31mTypeError\u001b[0m                                 Traceback (most recent call last)",
            "\u001b[0;32m<ipython-input-38-f3177cbb8580>\u001b[0m in \u001b[0;36m<module>\u001b[0;34m()\u001b[0m\n\u001b[0;32m----> 1\u001b[0;31m \u001b[0mplot_traces\u001b[0m\u001b[0;34m(\u001b[0m\u001b[0mtrace\u001b[0m\u001b[0;34m)\u001b[0m\u001b[0;34m\u001b[0m\u001b[0;34m\u001b[0m\u001b[0m\n\u001b[0m",
            "\u001b[0;32m<ipython-input-32-a7a86bfbf5ee>\u001b[0m in \u001b[0;36mplot_traces\u001b[0;34m(traces, burnin)\u001b[0m\n\u001b[1;32m      8\u001b[0m \u001b[0;34m\u001b[0m\u001b[0m\n\u001b[1;32m      9\u001b[0m     ax = pm.traceplot(traces[burnin:], figsize=(12,len(traces.varnames)*1.5),\n\u001b[0;32m---> 10\u001b[0;31m         lines={k: v['mean'] for k, v in pm.summary(traces[burnin:]).iterrows()})\n\u001b[0m\u001b[1;32m     11\u001b[0m \u001b[0;34m\u001b[0m\u001b[0m\n\u001b[1;32m     12\u001b[0m     \u001b[0;32mfor\u001b[0m \u001b[0mi\u001b[0m\u001b[0;34m,\u001b[0m \u001b[0mmn\u001b[0m \u001b[0;32min\u001b[0m \u001b[0menumerate\u001b[0m\u001b[0;34m(\u001b[0m\u001b[0mpm\u001b[0m\u001b[0;34m.\u001b[0m\u001b[0msummary\u001b[0m\u001b[0;34m(\u001b[0m\u001b[0mtraces\u001b[0m\u001b[0;34m[\u001b[0m\u001b[0mburnin\u001b[0m\u001b[0;34m:\u001b[0m\u001b[0;34m]\u001b[0m\u001b[0;34m)\u001b[0m\u001b[0;34m[\u001b[0m\u001b[0;34m'mean'\u001b[0m\u001b[0;34m]\u001b[0m\u001b[0;34m)\u001b[0m\u001b[0;34m:\u001b[0m\u001b[0;34m\u001b[0m\u001b[0;34m\u001b[0m\u001b[0m\n",
            "\u001b[0;32m/usr/local/lib/python3.6/dist-packages/pymc3/stats.py\u001b[0m in \u001b[0;36msummary\u001b[0;34m(trace, var_names, transform, stat_funcs, extend, include_transformed, alpha, start, batches, **kwargs)\u001b[0m\n\u001b[1;32m    989\u001b[0m         \u001b[0mrhat_pd\u001b[0m \u001b[0;34m=\u001b[0m \u001b[0mdict2pd\u001b[0m\u001b[0;34m(\u001b[0m\u001b[0mrhat\u001b[0m\u001b[0;34m,\u001b[0m \u001b[0;34m'Rhat'\u001b[0m\u001b[0;34m)\u001b[0m\u001b[0;34m\u001b[0m\u001b[0;34m\u001b[0m\u001b[0m\n\u001b[1;32m    990\u001b[0m         return pd.concat([dforg, n_eff_pd, rhat_pd],\n\u001b[0;32m--> 991\u001b[0;31m                          axis=1, join_axes=[dforg.index])\n\u001b[0m\u001b[1;32m    992\u001b[0m \u001b[0;34m\u001b[0m\u001b[0m\n\u001b[1;32m    993\u001b[0m \u001b[0;34m\u001b[0m\u001b[0m\n",
            "\u001b[0;31mTypeError\u001b[0m: concat() got an unexpected keyword argument 'join_axes'"
          ]
        }
      ]
    },
    {
      "cell_type": "markdown",
      "metadata": {
        "id": "NNQsFEMPaHGW"
      },
      "source": [
        "#### Estimating the odds ratio\n",
        "Now, let's build the posterior distribution on the odds ratio given the dataset (approximated by MCMC)."
      ]
    },
    {
      "cell_type": "code",
      "metadata": {
        "id": "4bjAr3cDaHGW",
        "outputId": "149f1797-a172-48fe-c756-aadf8692c0ee",
        "colab": {
          "base_uri": "https://localhost:8080/",
          "height": 653
        }
      },
      "source": [
        "# We don't need to use a large burn-in here, since we initialize sampling\n",
        "# from a good point (from our approximation of the most probable\n",
        "# point (MAP) to be more precise).\n",
        "burnin = 100\n",
        "b = trace['sex[T. Male]'][burnin:]\n",
        "plt.hist(np.exp(b), bins=20, normed=True)\n",
        "plt.xlabel(\"Odds Ratio\")\n",
        "plt.show()"
      ],
      "execution_count": 39,
      "outputs": [
        {
          "output_type": "error",
          "ename": "AttributeError",
          "evalue": "ignored",
          "traceback": [
            "\u001b[0;31m---------------------------------------------------------------------------\u001b[0m",
            "\u001b[0;31mAttributeError\u001b[0m                            Traceback (most recent call last)",
            "\u001b[0;32m<ipython-input-39-187a28df7ad6>\u001b[0m in \u001b[0;36m<module>\u001b[0;34m()\u001b[0m\n\u001b[1;32m      4\u001b[0m \u001b[0mburnin\u001b[0m \u001b[0;34m=\u001b[0m \u001b[0;36m100\u001b[0m\u001b[0;34m\u001b[0m\u001b[0;34m\u001b[0m\u001b[0m\n\u001b[1;32m      5\u001b[0m \u001b[0mb\u001b[0m \u001b[0;34m=\u001b[0m \u001b[0mtrace\u001b[0m\u001b[0;34m[\u001b[0m\u001b[0;34m'sex[T. Male]'\u001b[0m\u001b[0;34m]\u001b[0m\u001b[0;34m[\u001b[0m\u001b[0mburnin\u001b[0m\u001b[0;34m:\u001b[0m\u001b[0;34m]\u001b[0m\u001b[0;34m\u001b[0m\u001b[0;34m\u001b[0m\u001b[0m\n\u001b[0;32m----> 6\u001b[0;31m \u001b[0mplt\u001b[0m\u001b[0;34m.\u001b[0m\u001b[0mhist\u001b[0m\u001b[0;34m(\u001b[0m\u001b[0mnp\u001b[0m\u001b[0;34m.\u001b[0m\u001b[0mexp\u001b[0m\u001b[0;34m(\u001b[0m\u001b[0mb\u001b[0m\u001b[0;34m)\u001b[0m\u001b[0;34m,\u001b[0m \u001b[0mbins\u001b[0m\u001b[0;34m=\u001b[0m\u001b[0;36m20\u001b[0m\u001b[0;34m,\u001b[0m \u001b[0mnormed\u001b[0m\u001b[0;34m=\u001b[0m\u001b[0;32mTrue\u001b[0m\u001b[0;34m)\u001b[0m\u001b[0;34m\u001b[0m\u001b[0;34m\u001b[0m\u001b[0m\n\u001b[0m\u001b[1;32m      7\u001b[0m \u001b[0mplt\u001b[0m\u001b[0;34m.\u001b[0m\u001b[0mxlabel\u001b[0m\u001b[0;34m(\u001b[0m\u001b[0;34m\"Odds Ratio\"\u001b[0m\u001b[0;34m)\u001b[0m\u001b[0;34m\u001b[0m\u001b[0;34m\u001b[0m\u001b[0m\n\u001b[1;32m      8\u001b[0m \u001b[0mplt\u001b[0m\u001b[0;34m.\u001b[0m\u001b[0mshow\u001b[0m\u001b[0;34m(\u001b[0m\u001b[0;34m)\u001b[0m\u001b[0;34m\u001b[0m\u001b[0;34m\u001b[0m\u001b[0m\n",
            "\u001b[0;32m/usr/local/lib/python3.6/dist-packages/matplotlib/pyplot.py\u001b[0m in \u001b[0;36mhist\u001b[0;34m(x, bins, range, density, weights, cumulative, bottom, histtype, align, orientation, rwidth, log, color, label, stacked, data, **kwargs)\u001b[0m\n\u001b[1;32m   2608\u001b[0m         \u001b[0malign\u001b[0m\u001b[0;34m=\u001b[0m\u001b[0malign\u001b[0m\u001b[0;34m,\u001b[0m \u001b[0morientation\u001b[0m\u001b[0;34m=\u001b[0m\u001b[0morientation\u001b[0m\u001b[0;34m,\u001b[0m \u001b[0mrwidth\u001b[0m\u001b[0;34m=\u001b[0m\u001b[0mrwidth\u001b[0m\u001b[0;34m,\u001b[0m \u001b[0mlog\u001b[0m\u001b[0;34m=\u001b[0m\u001b[0mlog\u001b[0m\u001b[0;34m,\u001b[0m\u001b[0;34m\u001b[0m\u001b[0;34m\u001b[0m\u001b[0m\n\u001b[1;32m   2609\u001b[0m         color=color, label=label, stacked=stacked, **({\"data\": data}\n\u001b[0;32m-> 2610\u001b[0;31m         if data is not None else {}), **kwargs)\n\u001b[0m\u001b[1;32m   2611\u001b[0m \u001b[0;34m\u001b[0m\u001b[0m\n\u001b[1;32m   2612\u001b[0m \u001b[0;34m\u001b[0m\u001b[0m\n",
            "\u001b[0;32m/usr/local/lib/python3.6/dist-packages/matplotlib/__init__.py\u001b[0m in \u001b[0;36minner\u001b[0;34m(ax, data, *args, **kwargs)\u001b[0m\n\u001b[1;32m   1563\u001b[0m     \u001b[0;32mdef\u001b[0m \u001b[0minner\u001b[0m\u001b[0;34m(\u001b[0m\u001b[0max\u001b[0m\u001b[0;34m,\u001b[0m \u001b[0;34m*\u001b[0m\u001b[0margs\u001b[0m\u001b[0;34m,\u001b[0m \u001b[0mdata\u001b[0m\u001b[0;34m=\u001b[0m\u001b[0;32mNone\u001b[0m\u001b[0;34m,\u001b[0m \u001b[0;34m**\u001b[0m\u001b[0mkwargs\u001b[0m\u001b[0;34m)\u001b[0m\u001b[0;34m:\u001b[0m\u001b[0;34m\u001b[0m\u001b[0;34m\u001b[0m\u001b[0m\n\u001b[1;32m   1564\u001b[0m         \u001b[0;32mif\u001b[0m \u001b[0mdata\u001b[0m \u001b[0;32mis\u001b[0m \u001b[0;32mNone\u001b[0m\u001b[0;34m:\u001b[0m\u001b[0;34m\u001b[0m\u001b[0;34m\u001b[0m\u001b[0m\n\u001b[0;32m-> 1565\u001b[0;31m             \u001b[0;32mreturn\u001b[0m \u001b[0mfunc\u001b[0m\u001b[0;34m(\u001b[0m\u001b[0max\u001b[0m\u001b[0;34m,\u001b[0m \u001b[0;34m*\u001b[0m\u001b[0mmap\u001b[0m\u001b[0;34m(\u001b[0m\u001b[0msanitize_sequence\u001b[0m\u001b[0;34m,\u001b[0m \u001b[0margs\u001b[0m\u001b[0;34m)\u001b[0m\u001b[0;34m,\u001b[0m \u001b[0;34m**\u001b[0m\u001b[0mkwargs\u001b[0m\u001b[0;34m)\u001b[0m\u001b[0;34m\u001b[0m\u001b[0;34m\u001b[0m\u001b[0m\n\u001b[0m\u001b[1;32m   1566\u001b[0m \u001b[0;34m\u001b[0m\u001b[0m\n\u001b[1;32m   1567\u001b[0m         \u001b[0mbound\u001b[0m \u001b[0;34m=\u001b[0m \u001b[0mnew_sig\u001b[0m\u001b[0;34m.\u001b[0m\u001b[0mbind\u001b[0m\u001b[0;34m(\u001b[0m\u001b[0max\u001b[0m\u001b[0;34m,\u001b[0m \u001b[0;34m*\u001b[0m\u001b[0margs\u001b[0m\u001b[0;34m,\u001b[0m \u001b[0;34m**\u001b[0m\u001b[0mkwargs\u001b[0m\u001b[0;34m)\u001b[0m\u001b[0;34m\u001b[0m\u001b[0;34m\u001b[0m\u001b[0m\n",
            "\u001b[0;32m/usr/local/lib/python3.6/dist-packages/matplotlib/axes/_axes.py\u001b[0m in \u001b[0;36mhist\u001b[0;34m(self, x, bins, range, density, weights, cumulative, bottom, histtype, align, orientation, rwidth, log, color, label, stacked, **kwargs)\u001b[0m\n\u001b[1;32m   6817\u001b[0m             \u001b[0;32mif\u001b[0m \u001b[0mpatch\u001b[0m\u001b[0;34m:\u001b[0m\u001b[0;34m\u001b[0m\u001b[0;34m\u001b[0m\u001b[0m\n\u001b[1;32m   6818\u001b[0m                 \u001b[0mp\u001b[0m \u001b[0;34m=\u001b[0m \u001b[0mpatch\u001b[0m\u001b[0;34m[\u001b[0m\u001b[0;36m0\u001b[0m\u001b[0;34m]\u001b[0m\u001b[0;34m\u001b[0m\u001b[0;34m\u001b[0m\u001b[0m\n\u001b[0;32m-> 6819\u001b[0;31m                 \u001b[0mp\u001b[0m\u001b[0;34m.\u001b[0m\u001b[0mupdate\u001b[0m\u001b[0;34m(\u001b[0m\u001b[0mkwargs\u001b[0m\u001b[0;34m)\u001b[0m\u001b[0;34m\u001b[0m\u001b[0;34m\u001b[0m\u001b[0m\n\u001b[0m\u001b[1;32m   6820\u001b[0m                 \u001b[0;32mif\u001b[0m \u001b[0mlbl\u001b[0m \u001b[0;32mis\u001b[0m \u001b[0;32mnot\u001b[0m \u001b[0;32mNone\u001b[0m\u001b[0;34m:\u001b[0m\u001b[0;34m\u001b[0m\u001b[0;34m\u001b[0m\u001b[0m\n\u001b[1;32m   6821\u001b[0m                     \u001b[0mp\u001b[0m\u001b[0;34m.\u001b[0m\u001b[0mset_label\u001b[0m\u001b[0;34m(\u001b[0m\u001b[0mlbl\u001b[0m\u001b[0;34m)\u001b[0m\u001b[0;34m\u001b[0m\u001b[0;34m\u001b[0m\u001b[0m\n",
            "\u001b[0;32m/usr/local/lib/python3.6/dist-packages/matplotlib/artist.py\u001b[0m in \u001b[0;36mupdate\u001b[0;34m(self, props)\u001b[0m\n\u001b[1;32m   1004\u001b[0m \u001b[0;34m\u001b[0m\u001b[0m\n\u001b[1;32m   1005\u001b[0m         \u001b[0;32mwith\u001b[0m \u001b[0mcbook\u001b[0m\u001b[0;34m.\u001b[0m\u001b[0m_setattr_cm\u001b[0m\u001b[0;34m(\u001b[0m\u001b[0mself\u001b[0m\u001b[0;34m,\u001b[0m \u001b[0meventson\u001b[0m\u001b[0;34m=\u001b[0m\u001b[0;32mFalse\u001b[0m\u001b[0;34m)\u001b[0m\u001b[0;34m:\u001b[0m\u001b[0;34m\u001b[0m\u001b[0;34m\u001b[0m\u001b[0m\n\u001b[0;32m-> 1006\u001b[0;31m             \u001b[0mret\u001b[0m \u001b[0;34m=\u001b[0m \u001b[0;34m[\u001b[0m\u001b[0m_update_property\u001b[0m\u001b[0;34m(\u001b[0m\u001b[0mself\u001b[0m\u001b[0;34m,\u001b[0m \u001b[0mk\u001b[0m\u001b[0;34m,\u001b[0m \u001b[0mv\u001b[0m\u001b[0;34m)\u001b[0m \u001b[0;32mfor\u001b[0m \u001b[0mk\u001b[0m\u001b[0;34m,\u001b[0m \u001b[0mv\u001b[0m \u001b[0;32min\u001b[0m \u001b[0mprops\u001b[0m\u001b[0;34m.\u001b[0m\u001b[0mitems\u001b[0m\u001b[0;34m(\u001b[0m\u001b[0;34m)\u001b[0m\u001b[0;34m]\u001b[0m\u001b[0;34m\u001b[0m\u001b[0;34m\u001b[0m\u001b[0m\n\u001b[0m\u001b[1;32m   1007\u001b[0m \u001b[0;34m\u001b[0m\u001b[0m\n\u001b[1;32m   1008\u001b[0m         \u001b[0;32mif\u001b[0m \u001b[0mlen\u001b[0m\u001b[0;34m(\u001b[0m\u001b[0mret\u001b[0m\u001b[0;34m)\u001b[0m\u001b[0;34m:\u001b[0m\u001b[0;34m\u001b[0m\u001b[0;34m\u001b[0m\u001b[0m\n",
            "\u001b[0;32m/usr/local/lib/python3.6/dist-packages/matplotlib/artist.py\u001b[0m in \u001b[0;36m<listcomp>\u001b[0;34m(.0)\u001b[0m\n\u001b[1;32m   1004\u001b[0m \u001b[0;34m\u001b[0m\u001b[0m\n\u001b[1;32m   1005\u001b[0m         \u001b[0;32mwith\u001b[0m \u001b[0mcbook\u001b[0m\u001b[0;34m.\u001b[0m\u001b[0m_setattr_cm\u001b[0m\u001b[0;34m(\u001b[0m\u001b[0mself\u001b[0m\u001b[0;34m,\u001b[0m \u001b[0meventson\u001b[0m\u001b[0;34m=\u001b[0m\u001b[0;32mFalse\u001b[0m\u001b[0;34m)\u001b[0m\u001b[0;34m:\u001b[0m\u001b[0;34m\u001b[0m\u001b[0;34m\u001b[0m\u001b[0m\n\u001b[0;32m-> 1006\u001b[0;31m             \u001b[0mret\u001b[0m \u001b[0;34m=\u001b[0m \u001b[0;34m[\u001b[0m\u001b[0m_update_property\u001b[0m\u001b[0;34m(\u001b[0m\u001b[0mself\u001b[0m\u001b[0;34m,\u001b[0m \u001b[0mk\u001b[0m\u001b[0;34m,\u001b[0m \u001b[0mv\u001b[0m\u001b[0;34m)\u001b[0m \u001b[0;32mfor\u001b[0m \u001b[0mk\u001b[0m\u001b[0;34m,\u001b[0m \u001b[0mv\u001b[0m \u001b[0;32min\u001b[0m \u001b[0mprops\u001b[0m\u001b[0;34m.\u001b[0m\u001b[0mitems\u001b[0m\u001b[0;34m(\u001b[0m\u001b[0;34m)\u001b[0m\u001b[0;34m]\u001b[0m\u001b[0;34m\u001b[0m\u001b[0;34m\u001b[0m\u001b[0m\n\u001b[0m\u001b[1;32m   1007\u001b[0m \u001b[0;34m\u001b[0m\u001b[0m\n\u001b[1;32m   1008\u001b[0m         \u001b[0;32mif\u001b[0m \u001b[0mlen\u001b[0m\u001b[0;34m(\u001b[0m\u001b[0mret\u001b[0m\u001b[0;34m)\u001b[0m\u001b[0;34m:\u001b[0m\u001b[0;34m\u001b[0m\u001b[0;34m\u001b[0m\u001b[0m\n",
            "\u001b[0;32m/usr/local/lib/python3.6/dist-packages/matplotlib/artist.py\u001b[0m in \u001b[0;36m_update_property\u001b[0;34m(self, k, v)\u001b[0m\n\u001b[1;32m   1000\u001b[0m                 \u001b[0;32mif\u001b[0m \u001b[0;32mnot\u001b[0m \u001b[0mcallable\u001b[0m\u001b[0;34m(\u001b[0m\u001b[0mfunc\u001b[0m\u001b[0;34m)\u001b[0m\u001b[0;34m:\u001b[0m\u001b[0;34m\u001b[0m\u001b[0;34m\u001b[0m\u001b[0m\n\u001b[1;32m   1001\u001b[0m                     raise AttributeError('{!r} object has no property {!r}'\n\u001b[0;32m-> 1002\u001b[0;31m                                          .format(type(self).__name__, k))\n\u001b[0m\u001b[1;32m   1003\u001b[0m                 \u001b[0;32mreturn\u001b[0m \u001b[0mfunc\u001b[0m\u001b[0;34m(\u001b[0m\u001b[0mv\u001b[0m\u001b[0;34m)\u001b[0m\u001b[0;34m\u001b[0m\u001b[0;34m\u001b[0m\u001b[0m\n\u001b[1;32m   1004\u001b[0m \u001b[0;34m\u001b[0m\u001b[0m\n",
            "\u001b[0;31mAttributeError\u001b[0m: 'Rectangle' object has no property 'normed'"
          ]
        },
        {
          "output_type": "display_data",
          "data": {
            "image/png": "[encoded data removed]",
            "text/plain": [
              "<Figure size 432x288 with 1 Axes>"
            ]
          },
          "metadata": {
            "tags": [],
            "needs_background": "light"
          }
        }
      ]
    },
    {
      "cell_type": "markdown",
      "metadata": {
        "id": "36tHgA9yaHGb"
      },
      "source": [
        "\n",
        "Finally, we can find a credible interval  (recall that credible intervals are Bayesian and confidence intervals are frequentist) for this quantity. This may be the best part about Bayesian statistics: we get to interpret credibility intervals the way we've always wanted to interpret them. We are 95% confident that the odds ratio lies within our interval!"
      ]
    },
    {
      "cell_type": "code",
      "metadata": {
        "id": "1_aQM2jUaHGb",
        "outputId": "484e7466-e63a-4e1f-8a26-4967e5b320ef",
        "colab": {
          "base_uri": "https://localhost:8080/",
          "height": 36
        }
      },
      "source": [
        "lb, ub = np.percentile(b, 2.5), np.percentile(b, 97.5)\n",
        "print(\"P(%.3f < Odds Ratio < %.3f) = 0.95\" % (np.exp(lb), np.exp(ub)))"
      ],
      "execution_count": 40,
      "outputs": [
        {
          "output_type": "stream",
          "text": [
            "P(3.006 < Odds Ratio < 3.503) = 0.95\n"
          ],
          "name": "stdout"
        }
      ]
    },
    {
      "cell_type": "code",
      "metadata": {
        "id": "H8EcSqjNaHGi",
        "outputId": "1c71c0d2-89a5-4d09-d1ee-025c9aa3a764",
        "colab": {
          "base_uri": "https://localhost:8080/",
          "height": 54
        }
      },
      "source": [
        "# Submit the obtained credible interval.\n",
        "grader.submit_pymc_odds_ratio_interval(np.exp(lb), np.exp(ub))"
      ],
      "execution_count": 41,
      "outputs": [
        {
          "output_type": "stream",
          "text": [
            "Current answer for task 2.2 (credible interval lower bound) is: 3.0061219323887727\n",
            "Current answer for task 2.2 (credible interval upper bound) is: 3.5033179009742854\n"
          ],
          "name": "stdout"
        }
      ]
    },
    {
      "cell_type": "markdown",
      "metadata": {
        "id": "HibAoZu_aHGp"
      },
      "source": [
        "### Task 2.3 interpreting the results"
      ]
    },
    {
      "cell_type": "code",
      "metadata": {
        "id": "Ws8zcPeRaHGq",
        "outputId": "c9ca611c-3607-490b-d4ba-eb901809c47d",
        "colab": {
          "base_uri": "https://localhost:8080/",
          "height": 56
        }
      },
      "source": [
        "# Does the gender affects salary in the provided dataset?\n",
        "# (Note that the data is from 1996 and maybe not representative\n",
        "# of the current situation in the world.)\n",
        "POSSIBLE_ANSWERS = {\n",
        "    0: 'No, there is certainly no discrimination',\n",
        "    1: 'We cannot say for sure',\n",
        "    2: 'Yes, we are 95% sure that a female is *less* likely to get >$50K than a male with the same age, level of education, etc.', \n",
        "    3: 'Yes, we are 95% sure that a female is *more* likely to get >$50K than a male with the same age, level of education, etc.', \n",
        "}\n",
        "\n",
        "idx = 2 ### TYPE THE INDEX OF THE CORRECT ANSWER HERE ###\n",
        "answer = POSSIBLE_ANSWERS[idx]\n",
        "grader.submit_is_there_discrimination(answer)\n",
        "\n"
      ],
      "execution_count": 44,
      "outputs": [
        {
          "output_type": "stream",
          "text": [
            "Current answer for task 2.3 (does the data suggest gender discrimination?) is: Yes, we are 95% sure that a female is *less* likely to get >$50K than a male with the same age, level of education, etc.\n"
          ],
          "name": "stdout"
        }
      ]
    },
    {
      "cell_type": "markdown",
      "metadata": {
        "id": "RsV3sQVZaHGt"
      },
      "source": [
        "# Authorization & Submission\n",
        "To submit assignment parts to Cousera platform, please, enter your e-mail and token into variables below. You can generate a token on this programming assignment's page. <b>Note:</b> The token expires 30 minutes after generation."
      ]
    },
    {
      "cell_type": "code",
      "metadata": {
        "id": "iwAEQxfeaHGu",
        "outputId": "46ffb072-3dda-4376-93ce-0d1320298f4e",
        "colab": {
          "base_uri": "https://localhost:8080/",
          "height": 262
        }
      },
      "source": [
        "STUDENT_EMAIL = 'y.mirmohammad@yahoo.com'\n",
        "STUDENT_TOKEN = 'MlKpXu6UDOsberLI'\n",
        "grader.status()"
      ],
      "execution_count": 45,
      "outputs": [
        {
          "output_type": "stream",
          "text": [
            "You want to submit these numbers:\n",
            "Task 1.1 (Alice trajectory): 279.93428306022463  291.67686875834846\n",
            "Task 1.1 (Bob trajectory): 314.5384966605577  345.2425410740984\n",
            "Task 1.2 (Alice mean): 278.62821295463834\n",
            "Task 1.2 (Bob mean): 314.37642287694996\n",
            "Task 1.3 (Bob and Alice prices correlation): 0.9636340025161768\n",
            "Task 1.4 (depends on the random data or not): Does not depend on random seed and starting prices\n",
            "Task 2.1 (MAP for age coef): 0.043483\n",
            "Task 2.1 (MAP for aducation coef): 0.3621089\n",
            "Task 2.2 (credible interval lower bound): 3.0061219323887727\n",
            "Task 2.2 (credible interval upper bound): 3.5033179009742854\n",
            "Task 2.3 (does the data suggest gender discrimination?): Yes, we are 95% sure that a female is *less* likely to get >$50K than a male with the same age, level of education, etc.\n"
          ],
          "name": "stdout"
        }
      ]
    },
    {
      "cell_type": "markdown",
      "metadata": {
        "id": "IaqLGhSraHGz"
      },
      "source": [
        "If you want to submit these answers, run cell below"
      ]
    },
    {
      "cell_type": "code",
      "metadata": {
        "id": "Iicy8FonaHG0",
        "outputId": "5defee99-733a-4493-9dc5-b2a371fc3269",
        "colab": {
          "base_uri": "https://localhost:8080/",
          "height": 36
        }
      },
      "source": [
        "grader.submit(STUDENT_EMAIL, STUDENT_TOKEN)"
      ],
      "execution_count": 46,
      "outputs": [
        {
          "output_type": "stream",
          "text": [
            "Submitted to Coursera platform. See results on assignment page!\n"
          ],
          "name": "stdout"
        }
      ]
    },
    {
      "cell_type": "markdown",
      "metadata": {
        "id": "nM_JKjuHaHG4"
      },
      "source": [
        "# (Optional) generating videos of sampling process\n",
        "In this part you will generate videos showing the sampling process."
      ]
    },
    {
      "cell_type": "markdown",
      "metadata": {
        "id": "L58EOgR7aHG5"
      },
      "source": [
        "### Setting things up\n",
        "You don't need to modify the code below, it sets up the plotting functions. The code is based on [MCMC visualization tutorial](https://twiecki.github.io/blog/2014/01/02/visualizing-mcmc/)."
      ]
    },
    {
      "cell_type": "code",
      "metadata": {
        "id": "xBwVxUekaHG6",
        "outputId": "afa6e691-affb-4b88-e0fa-6b51096ec59e",
        "colab": {
          "base_uri": "https://localhost:8080/",
          "height": 392
        }
      },
      "source": [
        "from IPython.display import HTML\n",
        "\n",
        "# Number of MCMC iteration to animate.\n",
        "samples = 400\n",
        "\n",
        "figsize(6, 6)\n",
        "fig = plt.figure()\n",
        "s_width = (0.81, 1.29)\n",
        "a_width = (0.11, 0.39)\n",
        "samples_width = (0, samples)\n",
        "ax1 = fig.add_subplot(221, xlim=s_width, ylim=samples_width)\n",
        "ax2 = fig.add_subplot(224, xlim=samples_width, ylim=a_width)\n",
        "ax3 = fig.add_subplot(223, xlim=s_width, ylim=a_width,\n",
        "                      xlabel='male coef',\n",
        "                      ylabel='educ coef')\n",
        "fig.subplots_adjust(wspace=0.0, hspace=0.0)\n",
        "line1, = ax1.plot([], [], lw=1)\n",
        "line2, = ax2.plot([], [], lw=1)\n",
        "line3, = ax3.plot([], [], 'o', lw=2, alpha=.1)\n",
        "line4, = ax3.plot([], [], lw=1, alpha=.3)\n",
        "line5, = ax3.plot([], [], 'k', lw=1)\n",
        "line6, = ax3.plot([], [], 'k', lw=1)\n",
        "ax1.set_xticklabels([])\n",
        "ax2.set_yticklabels([])\n",
        "lines = [line1, line2, line3, line4, line5, line6]\n",
        "\n",
        "def init():\n",
        "    for line in lines:\n",
        "        line.set_data([], [])\n",
        "    return lines\n",
        "\n",
        "def animate(i):\n",
        "    with logistic_model:\n",
        "        if i == 0:\n",
        "            # Burnin\n",
        "            for j in range(samples): iter_sample.__next__() \n",
        "        trace = iter_sample.__next__()\n",
        "#     import pdb; pdb.set_trace()\n",
        "    line1.set_data(trace['sex[T. Male]'][::-1], range(len(trace['sex[T. Male]'])))\n",
        "    line2.set_data(range(len(trace['educ'])), trace['educ'][::-1])\n",
        "    line3.set_data(trace['sex[T. Male]'], trace['educ'])\n",
        "    line4.set_data(trace['sex[T. Male]'], trace['educ'])\n",
        "    male = trace['sex[T. Male]'][-1]\n",
        "    educ = trace['educ'][-1]\n",
        "    line5.set_data([male, male], [educ, a_width[1]])\n",
        "    line6.set_data([male, s_width[1]], [educ, educ])\n",
        "    return lines"
      ],
      "execution_count": 47,
      "outputs": [
        {
          "output_type": "display_data",
          "data": {
            "image/png": "[encoded data removed]",
            "text/plain": [
              "<Figure size 432x432 with 3 Axes>"
            ]
          },
          "metadata": {
            "tags": [],
            "needs_background": "light"
          }
        }
      ]
    },
    {
      "cell_type": "markdown",
      "metadata": {
        "id": "b3iszWRRaHG_"
      },
      "source": [
        "## Animating Metropolis-Hastings"
      ]
    },
    {
      "cell_type": "code",
      "metadata": {
        "id": "o8NTf7ThaHHA",
        "outputId": "6e8273f6-4d21-4e0e-aa07-190ec300eb80",
        "colab": {
          "base_uri": "https://localhost:8080/",
          "height": 453
        }
      },
      "source": [
        "with pm.Model() as logistic_model:\n",
        "    # Again define Bayesian logistic regression model on the following features: sex, age, age_squared, educ, hours\n",
        "    \n",
        "    #### YOUR CODE HERE ####\n",
        "    pm.glm.GLM.from_formula('income_more_50K ~ sex + age + agesq + educ + hours', data, family=pm.glm.families.Binomial())\n",
        "    \n",
        "    ### END OF YOUR CODE ###\n",
        "    step = pm.Metropolis()\n",
        "    iter_sample = pm.iter_sample(2 * samples, step, start=map_estimate)\n",
        "anim = animation.FuncAnimation(fig, animate, init_func=init,\n",
        "                               frames=samples, interval=5, blit=True)\n",
        "HTML(anim.to_html5_video())\n",
        "# Note that generating the video may take a while."
      ],
      "execution_count": 48,
      "outputs": [
        {
          "output_type": "execute_result",
          "data": {
            "text/html": [
              "<video width=\"432\" height=\"432\" controls autoplay loop>\n",
              "  <source type=\"video/mp4\" src=\"data:video/mp4;base64,AAAAHGZ0eXBNNFYgAAACAGlzb21pc28yYXZjMQAAAAhmcmVlAAFG8G1kYXQAAAKuBgX//6rcRem9\n",
              "5tlIt5Ys2CDZI+7veDI2NCAtIGNvcmUgMTUyIHIyODU0IGU5YTU5MDMgLSBILjI2NC9NUEVHLTQg\n",
              "QVZDIGNvZGVjIC0gQ29weWxlZnQgMjAwMy0yMDE3IC0gaHR0cDovL3d3dy52aWRlb2xhbi5vcmcv\n",
              "eDI2NC5odG1sIC0gb3B0aW9uczogY2FiYWM9MSByZWY9MyBkZWJsb2NrPTE6MDowIGFuYWx5c2U9\n",
              "MHgzOjB4MTEzIG1lPWhleCBzdWJtZT03IHBzeT0xIHBzeV9yZD0xLjAwOjAuMDAgbWl4ZWRfcmVm\n",
              "PTEgbWVfcmFuZ2U9MTYgY2hyb21hX21lPTEgdHJlbGxpcz0xIDh4OGRjdD0xIGNxbT0wIGRlYWR6\n",
              "b25lPTIxLDExIGZhc3RfcHNraXA9MSBjaHJvbWFfcXBfb2Zmc2V0PS0yIHRocmVhZHM9MyBsb29r\n",
              "YWhlYWRfdGhyZWFkcz0xIHNsaWNlZF90aHJlYWRzPTAgbnI9MCBkZWNpbWF0ZT0xIGludGVybGFj\n",
              "ZWQ9MCBibHVyYXlfY29tcGF0PTAgY29uc3RyYWluZWRfaW50cmE9MCBiZnJhbWVzPTMgYl9weXJh\n",
              "bWlkPTIgYl9hZGFwdD0xIGJfYmlhcz0wIGRpcmVjdD0xIHdlaWdodGI9MSBvcGVuX2dvcD0wIHdl\n",
              "aWdodHA9MiBrZXlpbnQ9MjUwIGtleWludF9taW49MjUgc2NlbmVjdXQ9NDAgaW50cmFfcmVmcmVz\n",
              "aD0wIHJjX2xvb2thaGVhZD00MCByYz1jcmYgbWJ0cmVlPTEgY3JmPTIzLjAgcWNvbXA9MC42MCBx\n",
              "cG1pbj0wIHFwbWF4PTY5IHFwc3RlcD00IGlwX3JhdGlvPTEuNDAgYXE9MToxLjAwAIAAABSqZYiE\n",
              "ACf//vWxfApqyfOKDOgyLuGXJMmutiLibQDAAAADAAVQSrRfODf9+M4AAOqABHJ7tgmX+ICXLFNL\n",
              "ZRbCoC6Cxe8v9J3KQZXNNRRszq2YtiXV/ECKzVH+dW2bgxpeo6vQsqhZwdfyFyYkKvwj0iu7WbCX\n",
              "TBe5e5+YM2/Olso6FCCzi081djniwpKD6pVgGJrET1BRRREcTN6CjP46OEEBoVMzcopNFB6wSDLi\n",
              "XczYQ+QzwNCpHGPAYllJ2BZI5lYxWZYPNOryfGR/yum+8OvnWDS9X3gsv6wRrAjMOiBiR1754t3v\n",
              "OXeXZku7pcOn8WefYkknGN16sbZPbXu2N5fdLTP7ujKWw1fLoGIUzwMMiQR35x1Lskzi7UDT38wJ\n",
              "lz84jKz0yNHiPEzWgymtMeioReNMw30i/YxoHeojH/PW0wwtEyjKwbhwaYtrbDMzuQWV3tozB6HE\n",
              "vnz/Mi7IJdqRSEdDAgKBmWMMiflZr8vcOvNhpGBxp8yLTm54sRtyfhRo/NoF2Sgke4L4MuttUHSo\n",
              "BxfDqmOyoUbiVg4S1ZolsupGX+NG4oqGni+iHZcpKTFIPGHdiZHIxz8hIxONDJpg5YP45MWnhIMB\n",
              "H1IrXHH04lie/+IE0Dr++9AmbK8N12foJRPvlWT5HaYfyDGcvnS9DPqawIPz2iPaOWjmFCPE+kiP\n",
              "yO2oxxbaNgzAuScl15DYFRZpg4KRRNcQxY+ohA3ADcH9I+H8DKwChZkZ3b39Ggb7TAjj6UOo3L3y\n",
              "SsQuJML0ATapvJkW33psM43IJbA22bxaHvynSzWxGP8wA4c84OKr6z9MWB10OX9No06vjuwIcMyj\n",
              "1H9qg3pn+hKotAfp7fQPWK9Z1WETyA7D2oj4b/0U9HlELoCwzE5TlAmfUxeJ9cdCxWEV3++hjNga\n",
              "D0qWnAnND7ibQUL5B+zvUV3d0kxSarc8/6cbHyBRm0WAMos4hFQC7NoFi7/jrGoy6aQNLGwM6/Xc\n",
              "cptRasZ9Nu1XXWt9K88QIEbN8FxnTtRKa+3sOScVSl0hzd0kal1C1tK1FoJoVMxvfXy/jam2VRDT\n",
              "bkFaC/u2hWLrZqzqLaS5yfqBDOJq/a2E5gFjSzIzNySM0PJBvEjAKV92T2zGuHu1L8XoscMKCc0d\n",
              "vIwfMDJ3nVMiLTaVhC2blTsD1fgDUnf6kIN6bk5OFOdMFqq+p0C9u0XOzk8wdFl/LNCcAwANx4n+\n",
              "ZgCVkBypDz83wDVBXNMxPUEU2HjdSZKmzraz1rtQN/bzoEP5yuEch5k5ZZWs60ZbgJ8adNheedIu\n",
              "K70L29w3Nc1fQRhe4ts+C1DKQG8yy46rzNAmtXRwBoh/MDnF+u3yYW6vspi08ATCSvrpC7vxda70\n",
              "44tJkJVowMs8AGfEa7/IuwbWRib2xHggBxfmqQgtxaxSBuNzvctPS4aeH6wzkSP72A/bOuByI3ra\n",
              "T13C+YE3wIy54pCYkp729ioUP++Sx4pD0JGAxb25+1C9CdnJQZyu/M8nL+UqLt5+C/XeKXQc86O3\n",
              "aU2V9692ZMIqr6VVP5l/11KOe1OS2pIj2nU9E1rgf24PNYfdZJG5x4hm8DZHK+/RELYolgHw8mCn\n",
              "+CKKNo8/mau9nDDeIXvbfiiobB4HCqW4EKOpc3NPgJs3d33OGBvtmWVACsOPsnywk2M8IYDteIgT\n",
              "1T8ggI+O2y6bnogicCBMR9rsWMdm0BPj1dOzNvIX2qhjZ1yVgsoWKj51pt1Ldm6MEtLbn67AbQog\n",
              "1UcS8JBKOuFrvw4S2hOpywgXWkLQgxLQhEy2zOXNY4sxsOMmcjeudtX1Pz34RnTdzfOdy6lQB2zz\n",
              "IHeuAZ3TX7TQnaIZ7POPMq0Rfztclq4bJEvvQmnri+UQitk5Ie7AMq1krf+hi3y5fMHlTdcXzvmb\n",
              "sAvRokUcYGoB0UTT9TghdY9GuY0IthBMYSJc6H9Rq6S02zegfiRzRpRTEX/EmO5w7LfcJHlr/jYD\n",
              "ODLgNRfkqS/CewajAXu9c2EXY4gPOHUxIVqfITCAU98033fhwVuxRDc0tZpQphZryVJf3BnBm0XG\n",
              "9TJmOacc/JxMgyKvJrtYqhhKePzqyWQ4nuW0/CkxfR4/0Dpx73JyfVwKtsmNDu5gYEEUhNz33dYE\n",
              "rB/ullIhwVCFwHZCsDZueURndBB8Zyy4+i1S/wMgLin3n6g3MvgWlLARdD881gQD4Mavs8yPRTGD\n",
              "d9M+06DP0OMI1pe24zJEzgsS/D7bfgAQ4sr3jgMyWUSu+1HiXoNuMZRUhkRYXRXEQGJ5bl/okRyl\n",
              "yFQVVYWTB/94Xciz6DYc9DrnFt8ZYEV0iC9gU4MNJF2mRaxYc/UGGOYhn1ID9z8uwI3ckOkzGStJ\n",
              "CEKq+2J4YMEsjf2jb/87KiHqWwEF4XpWFwc4Bvzo5seIrXV3/ZSred7Yc2vUEEaiA0JFlLNe6/kY\n",
              "kn37E5W2f8Cb9hH22BNb9r88fErOCBzYm8oMhvrmEq+ViZdn2/Jqo45brRh0VNwxy13ktXdlF60t\n",
              "2R4k+74B7ALoCrNwu9Fv7q/yLTqCM8aVJtLGtx2bceJ74EPF+rNB+Qjk4LEPriXF5Ls9O83yExys\n",
              "MWEJUSwvTtsuTRwPUxmikG6udeMfLbGla1UISBUNqhZ020pbXKmtMmlC1WcDa+I4LGvLb7wr4hPd\n",
              "HNPwR8Ns5t/gb8U5VP+naLv3IgQfQip/LzYInf0wTCiNpt2NByzQsMg03fRzopykbyuTIP3MfbF4\n",
              "r/Y3UvoWNv59JnKX+rz3QgGEC2H6IIZJllRrOupp3j8bI9RW5hI6DbzWaM6ge5mOe8Vzdh1RLpjV\n",
              "b79uNzQZP8+fmpa/XXFj01uDbyocoO4auBxxw8BwLvPRIZo44Dquw/ucbvlzIWRIZng+v4aRDS88\n",
              "tzwBkfrLskg0ffIQZAj0ot+wW7zSlB1wWRJoLLhMJVEhnHylaRCTEG80LEwfAs345F5TLrd+JFB2\n",
              "kMO65V0e3MNcXUFWonFgAph7JFbB6zCuM58oWSrkjmVTjIEBUBpT/VHEsHyQZFfUf4ryDdjg9cuA\n",
              "MQIgOQpOO+2WVhfjsg+8yXB5JKfKLlsj2l6qxjKhLTW42zhu2fkSEjkueTZfdTmq678s2Hi0xF28\n",
              "TZrC+QNc3HsNTstTxjT8ZWiPdePriF87LqplBSCW/D4xYAMqMb+b7EDXNKv59aCp7AM8lII06+yV\n",
              "utE49floiNe8EpAVCEe7xJX2XEiqhAuADjb3psAwFLkDTi2q4anv2HaRTtcbd4viRH8hF65XZR4T\n",
              "kqY5StXNBnhNv5l3dCqPTQ5BuRwA9C9H5wr5X348elXcFKv2ecs41Y3+ZrCZCV5fhFn6CSbViCup\n",
              "RBl+4NkrmsixQVgObbuFBBNF/UuCW5KSUXj+vyPstda1RFWmCPQ03XiKAjQ1Dyzj/fXrrV/9jHRz\n",
              "PNS8Y3Y+K/MtP5C10rw1KHIaytkxmUSzK9ZBJmuEzu9RiH6pXNK3UNF9IyyslyJksUx4yXNOfQol\n",
              "nkQuDraXvgcFlPR5P9IBnSF1jr8eD4ZaJBv1WdbR+PibvUDA3pyUDhDmR/ZWxx+DNDjTiG9N0Uqj\n",
              "b99t/LflpddpXVYSW/bgZndyqY3r8oyNI+pV5oC9/TEmcFpAtgBDBRLA1+nTY0FLdHlEnyvZWom1\n",
              "RfmX/ybe4rVFYkk/Q5+VMmx461FTWVAP4NeYhUO9bi3FcZVZqkK3n0i+JPrBmQNA6QuhsPvtczJY\n",
              "zi2Wmrfgft0YrGQkhFmSCJN+HihfaPgHA/dC2UxyvgQB0sVS/IW/y3XSUhlCPFeTa1l9R1jmahhz\n",
              "HkPI3EJayLE+IlpM50f0XH5l2STpqCDwxi4W8iGAKF/os32OVRn7R2lsikXWh8/l9N+fCpcfKHXP\n",
              "gwtASpuKhwwEfmVBP2jAhvJPJOmd7qNLxVre+qK0C0NQ/9maqHvA7trv92lAm3vz8yOjd6hni2Mz\n",
              "dafz7A07pSfU0Q6ioi/nYSK8gMbsieezC9lJrr2M+0JHVnILdAf0RDVg0SUKXU9xQOmUYNFwfnMM\n",
              "+nc8swUFNRkmT6aEpr6eFTQZWtXmcsHIKY5kJtwduKGSsujBl00ZoK5au9wZsTblFbXpC298xaCw\n",
              "ZqymT+hMKk7vzE2RbEoj9cqBBkhlryNEfefEyPe8VEa9ze0ofv2r5Pt4szlYFHMhE/K3pmhDQYYQ\n",
              "8EwhsqI6lMxbUSr01UJSa2s9JcsLMvfNQnmOY0JJqZ9/JR6NqQEQ1yzSmcQ/dMIJW5WMaOLMgEIC\n",
              "9xikluS4m0Xi4Qm9zPBotmtbimyL0C1VDnPykR2GV+AoTsvsgqcVdkhISqdre6zYqkQ5nLR8C+5Q\n",
              "Q0kkSTgCmwgvWwnzWlJsrzcRxmcHKj9SsuDnYySnuAAAAwACikpro+Z7Cm5ynwdVqMVqB1UDGsF0\n",
              "U0ZbE1/ua7nDXHFJ/hUL71ow1cMHBIfJ1TwgpXhIUd2itomNiEr88vIRVsJUXL1X2QSz2NPtCWjh\n",
              "v/0Q95KV6cSwJxwyJPT7DIV2JQMsPaIJtS5oKlP03jacjZcjCYHlP4s0M7q37no4DHkgyiv5n5ve\n",
              "Fowgvj9bDecIXSvlpyK2gjxla4LC+0vm1D5XbiZ3sXo1B1Jh07M6HAtN0fRustDxNWQXAtGhLJHz\n",
              "6dt76e/8nXG2tOqvhZ5oVksLSns7Off9Q//OWLR5RMk/+7kvpilQfq1vhZ6DHGepjOPaZXDqxxiw\n",
              "XiLKNd3O42xrZtSOM95n/Dew51hrDemoiFHAS75WeZ8P2IGx0XOwYyV2z4Q1n4fugtS4lQSu9Eqx\n",
              "R/kCRxaE10G7QvItKG+k+01biWalJvU2F3X+FE41zmdQfkFba9XbBUbjVGsr3ql8orgR2L4EN6DE\n",
              "Ic0wTOsok6O1cr7ZQO6OdOHXC+rKDzulRkyqtK+8Bc6bGmSC2jly1Sx6TGftoDAHo9sWNVINNZqg\n",
              "OHQSt2iwkw6u7oGrelcjH5W42fLbSLCs5tAmh/8BoIA0OCGLNF195JDmZDTWFZa4ohDSAc7pwGKf\n",
              "a2Obnd1XoPuzFP+MGJ5CeBkqR1MMMe1ykUopbOgEJRCAtrqi1j1smPtcHcMxfI+bcwvPIMkxBu9q\n",
              "Ctt3sraLGQP0XQcK3+tEINiphlcAFzVCD8UlCgSgEdFJXpOp6ywAKCtf2oPHLkGCFX5wd6IoZadK\n",
              "2iNiruTlhPot6RUjXjvhbgZ5G3MN08vzIdhkKMCjSd0u6x7UY1VWrScnoONwknTbFu0aoPtC2tbo\n",
              "8w0ROY4sdQ0c2ZesP6OVGUguKI5yoc3bBeE8o5t/rVV+GAxOT7rcD8SAIpNfkiKam23vQJttkVU5\n",
              "FOzG/6Wy6jB9VjE4XsQMVtdkj5wxBI5ftgjdH8kNvGDtsxAPD9XXO0utmJM+2qNiHtv2Q7jxLpbI\n",
              "QkDveyakAeoCvWQ1cb1YzpPXku3JI0VAxeMcJtLu+Esv8cKVQylzwaaF1T8zb8qfo1qXnai+V8CH\n",
              "NFnv/MbNOqwwbxq0wd21itlLSd+rk4xPnS3H+UIPavrFIH3hRcnc2oqh+C1YMyBFE4IO8/Hzsmml\n",
              "wRxpZDwa1xq1S1rQpJfBJM73aoUnNwqdhJYqqXTl8TxGNTVvLcRcOIHhsgZHVlMFRaLM3KpS9NyP\n",
              "GiAHw2hM+KkF+Mqa2xR/xfjqMxyztR3y9ss3TLd4rLuG0cjX8W4s/qVVpPmQxfNkHLYjRhw0mSYm\n",
              "t1gf9j/9dQHdmF5ag5iLEq+kFjH60LJOkfooecnsj+dCySyduyAJs76i1+NFDoHhMqomNL7AoTOL\n",
              "fDYpRTZRAiH7j38mQSh8LfIlgeEeOKmMkHa/7tLNMwDbcgvvYFfvMjfYb1RUeXT5DS7k9L4IdLcl\n",
              "fbBIXphbRppEJC0vM4nmDgIh7Ljc99RcLcer7p4sIGEB5jDtAFPJN50ftbBRRhnClCv5Xlnox6IH\n",
              "f+c5xNy1t62IE3hdq7klTHchnz4gV4kqMLOH51GvkpeJDwpWcijHHfY+9MD04leVPo7+bLJsSIPG\n",
              "TGXLj8/JGfB4xsCMFvR2uNkJLx0Y6FpJSM3fZJrcR67i/yum6KKkvL8mL6grH5nFIg1ms0s+0S2i\n",
              "AX+I/oKTWZpOJBFbQoKuemfkCQLch1hlvwfCewMcSUrv3MIs7caPMnwXe+cT1kaFQLdAwd9c2nbq\n",
              "+Yg7LKrlyI2nAEn/XjuM5g/ZCME1uUbL4I2yNc0RbZbm4Lw6phyUWX4FY1DbI/+5aeda5v5shZ36\n",
              "1U6/wqFHh4s+DQLLSRUKT7qzgTy9Hp3wuABELIz0ciL4q2XzhNLR7iOF6PRta6LHu/0WAFd0RU6K\n",
              "GDnFjeJrp9yYP0awE7rmo9WXbv7vjjioP5zG+lEdKw/is5ZT0FA/Y6BmTcv2Z2pyvLtr820qKwf+\n",
              "xp0BtfhTaMh23f07rlwf/CILPzLVH3gYbI6tLrj8SO4igzVZUaJKTL7oMMXeZDAqvtOP3yBEOFKt\n",
              "MGL54fY6N5ZJhRxbQSgN68vHAilMtlTV4D/W0O//Ezl6dh9exYUpjc9nhGTZr6WG/k2SSfPwWD24\n",
              "UoRMAKQ1SwprF6zijsaNxJYq51F2Brloztp8OUce147M1OMaXbVYgJsm1heMl0wJ2Ll6p2Dxfvde\n",
              "vmB7z1Pk1bGkTxkYQVrUL1L6CgIexBCT/A14zDWLId/zu1dvwM0Kmp+NNQS1QSzA/PVwhtFDaJ2u\n",
              "hSTBsd2EC4ZwPIfpOGj61gIEwPLIlMUrKoxskFAGZktm5pNJrYAC2AfzloDJfmYFweSvvQx8kx5/\n",
              "3cDvUZIMqe93VSlmEKwm3uVLmuct1zTssB3N/WCcexqGRBlrbqbRJFwAwPNNVMrzr9mPi9aMhz+C\n",
              "OpyqWkHFEeX8BXVrgMH68PwiP7hgke2PRgjNZspcF7368rbuU3fi5U83JwhrjDg9f81M5jV0nLe7\n",
              "XsetC6qYLtfnVZ1T4o79lE+1/ZQV4eVS2dQhla01vAc37eX1jjxRYh9LncYuTRACzmEO2LYHZWSH\n",
              "5ahAkOmsDW0S7Sk2zfuUP5eEuFzwKQKqD2VNiInFS9MWCPQDf/gALcDtgQAAAZJBmiRsQn/98QBF\n",
              "fJ0xoniYDZTKzTXJVqbr3+EfhvQAaMZJIQkRBOyjq02aPLvOCXtV2eHf3d6Bl8xoO8Cpo42NG8al\n",
              "yQUYrzKemodVdE9hF68jcL3R/SXqtImZKwBBWjcdIB/au+AIjQbbL5TtpsWa8M556ktqimHw3Y08\n",
              "jf4jGsZ6vzzZNeOhJ7ejvU0AH8Hnr1ghOuwOEERA/mgCuxkZjyAY05ZrTPZnC3aT4QZywCgZDtJ0\n",
              "Fj1LDx3WvwCIL3pcCiEZxCpskDIsrQtQbfHakST4h+CC3czAus2SYAZObWyQmJuOa2k2tOg5DN76\n",
              "BlFwOw3B4gYEaK0u//GSTqLghSwhBq3+bjnSJSBCssfBs5gMmVtQp+3fzuuL/sXmrEJGBrlDRttf\n",
              "/UNJ+ReXiJau+dZyoUlQtWbn6+qGZS+miANdTK4vNPl+OkmeBThUMqpAVDfKclRt2CgZaXiJvp0l\n",
              "90Utg/HVYC/YVdJ3b1uvYW0YqBFX04axoGCIGCMz/Kga4fCq2CpPzFOyvrF5kWaihrQAAACBQZ5C\n",
              "eI3/BCm77J7rKO6p6KUP90ABNJsED5YfG7Ta2hRrdVy8US8AvkG6EtYkN8UftCH9ZHHBwZqtOS9b\n",
              "VkQEta1bsTsBmblfwD+msdc3t51l5DTwOQ/vI0t791oAocN2zuL+kbBZbtR7BaMnTyuQ9Rmso5PT\n",
              "YGBQ1lWzUGX7/oZxAAAAVAGeYXRF/wVjceE81BZLdn+nGfdmToA0DYj/xQAKgdFVEdFB0aKdXZOm\n",
              "ewt5GtPbYw1VLDrdcqT6s5HRuk+NESg6h0Foi3rsqfZnR3L5oFaRV5KkgAAAAE8BnmNqRf8AqKUB\n",
              "C/lkhFHb4t1sozt2GAGcIJYbtHylzxUhABWpPI6dVYDQPJfo51uS5omd+aTyqPhIKTmEllgki1s3\n",
              "sBz1uCRRMiOEUnRNAAAB5EGaaEmoQWiZTAhP//3xAA/jnEyat9lAEdWMHTXaa3vdpVPIbuQxw9Mh\n",
              "3cKM/OPJTQwJqeLQOaxtKicUfcGBa5MGR4SKgoW/PsWGgW3jEUedaNt+AssfPD6GnscyY8fxlX4X\n",
              "AREsBI/POvvRc1f6yWHI+8UJC+M5ZqOVNltPuGARG+QIIKh7VEnzP3fHunbUr3nZqzDvVnRTDqhZ\n",
              "28rARmAcQM0zUUDIrR0xoyLix6SbR9fv4sdZAeodCWRIhaqpBhTUFLgWu/2+fx0sVD5C3IXFxtxN\n",
              "GK/8ICl5MPR+JqIS/trJdMjoBG7B3/zYYpXg7jcnVI5biWDXf5JvkL3JOuP2Zbn9wpXijB2zHQdB\n",
              "LEw5aSq4M71bZfdymTjYrM6vTVBpzSM8gT/rtT//7/8EDS/jSZceTlkuG8hEVBrf92JG4gbDJlr/\n",
              "ojcRspV13JuF0iwyjN/+P9bJJunQCd9UDqV/6AIogiuuqO23wlxAtsrxOB42bER/qu5PgL6JNNVe\n",
              "BP20cFigDlUajQKkJ7KX5ggHLA0CApy48DptkuNQ5yMVgFSMiN5UEwmZIpY8zlKioYCDhXsCINud\n",
              "lZyGUeRnAkzRLc7KcTInTb/wOED3exU+7WMKwWb68FWQFXQPPS96gGwYqYEAAABOQZ6GRREsbwER\n",
              "6EnzpH+J9cXyDC5RieS4e+8HRiNWctYWk4TCPdYPW3xhgq5aj2/bgoo2/uy+WlzX7PS6Oe5gdwIv\n",
              "vkrVqkpQDTzaTFo5AAAATgGepXRF/wFhXNqUFCE0o8G7X+5iLezpfwAumC2DTiboIStvDvBH1bMi\n",
              "J/X+inlfPLvpaSFrgj5Npbt7ql9881Dh9LAsw/OK1B0zB4qHzQAAAHMBnqdqRf8BY8EQAJ0rCLbJ\n",
              "qCJWOfkfq7X3J0q0cxEDzSB4Yw/eAuajlRTjCAj83MZBHqSkqNWCose8AGgIECNkvXM2ubZmRExB\n",
              "wr6GqF0ckSbGllmxBvWkdXP8itofUf4IOomczYQkBB0zZlrOfd7Moom4AAABk0GarEmoQWyZTAhP\n",
              "//3xAA/fHZQVACEsBVpd8u3oTIh2LVN4KBM/gVtLSgmEmUuLdcQCytLbtqyilziuMakOWGRuM2xm\n",
              "q4FjIAgZIsl1jtJkFDoEQj3QG46Y0UmYQRX1MbRxW4idNh1ITARKEkJy0gTaR5wmgOZr5WDaUoat\n",
              "QRBkmIsI/le1dcanIw/YeCfl1VuKh/NrKPFqzOMzPLR4tsuuyQBMyvCSYgh0EZtzPqZYgd7UsD2e\n",
              "ivzDJV4zN7ZoBvbzpX/4JY4PP7U2mtaX4pSN3ju4Xnoz//gYw7lmuwBo0x0nF8HvajDc67l7LTUG\n",
              "A7gXEN3RViCl3tDMcNERLTY5NgMeH521tcJpftNlh7R/SkrP/SGzVfojcIFOpOUaCgan1BCFtp7R\n",
              "v94maLgIE3051vC5N/JLSXcF9xuO4G4sBjcSsdDGUBoWZrDcT2rCc/Xd+8xU+sOZHBt9VgcNgQ4k\n",
              "dNWhqxAFwYN2DjDGUmdb2B2aOcD0Oof3zyXBMsyMMxK9jtE5AGqNBCafxoJSGJT3gIAAAABxQZ7K\n",
              "RRUsbwEUmuZY0Rf6tt5U/i2EAQz0UfOKYvMTQI0iJ4IrbZngqHJGeDATXORr6cqxR6dnzqCMkHAy\n",
              "V8UzTeack/LJYHez6AjKJiJug4HUjagsGN50D83XZ53nffBh+4qtv98NwArv+SYQY6VJ6EEAAABN\n",
              "AZ7pdEX/AVmGX6R5iii7MzLrKgBJlBKqF6DxjIke5DCuUlsFUBsriGDQKDgV1kYjL6QRIpHgJr28\n",
              "U+h9kOOpPUFCH/SVoFrcpqbHlWsAAABGAZ7rakX/AUhJy1bFAGJqzRgz5JdOAC4/s5lp94PHCX2r\n",
              "a3OKF7T526E0M9oKnp1cXR76Rftro9UqMVA+FHgL89emXl0QDgAAAfRBmvBJqEFsmUwIT//98QAP\n",
              "0hCLF/9ABOEGFIZWlKShamZ5E/3PLucddXtXCDB/V7+VlAnfRil8bp/sPj9cVz2WGRFrVu3YAf/2\n",
              "zw8YmcgEAE9lOcO1TIXn9xuDBuHmPW/vq6JaoLoqlQBlBJP9ki8pLj3Udcc2s5GFUQotWbnYw/4a\n",
              "gvxPCPpncmpu+q5LpRpXJ7k8qlMHfiQif7OO+SHhUwdUIt7IK/pG324cH44WgBc8tu783Ni2BUZB\n",
              "DFyxVh3GYxXracG/Sv7BH11K3LWdQ1lOYUIuVvEfar2Dx6mAI6zxMVsbFATfztCHDqjiLIdxynHC\n",
              "gTH+UEH2grPrcLtXOIrt89Vcq91CMOXaqQlqpxIULEO2k7oKxXvD2XN+1vw0nwccoS/5frLPkV7/\n",
              "k8N2oi0gWu88gBz353/EYNJrglJpsNZBvhyweaEZ+1KU0LcDCKXh9iRTBbEj/M4iIa1UJ1N4/vLr\n",
              "S3lGlDHtZBbilkYumZ+6kDeH8gMfjRLzWA0dflDXaYkrRyHIoavdutWPufdt+I14vtbW3RkVfqHn\n",
              "xuwvKSMxr3DzzrtNf/ASBc4ytoUh+VVAHh1Hv+T4yrQ++tEMwApFPH3CUfjSyTtIJFRX9/I4OTeR\n",
              "VstpqsxKdzadPNPo4blpNcvG3OpnK75s9cM6gQAAAJNBnw5FFSxvARGqhbXWk1d/b4TTMjEK6PIF\n",
              "74J4vU2lvYkd4XjpEEwk9QjrYrAbzQ0wUALKXjUd5sBncSVT+bW2uGUOAlcfKMAD2nPIKLs2XLTo\n",
              "BNMGHBqXE8LpT12lqz+cFbwDa7qdrel6zK70el8t39dsv0+BTe3URnGDlFH9vQtudRxDOCeg9sKt\n",
              "6Zhb42+zdsEAAABFAZ8tdEX/AVEml222QA25KVICSqLXhA4MH3Ct0ADPrrn6OUWMkZpgiuFiKSSg\n",
              "F8RTo7c1mC7W0oaF9+ATtAA8v36Fg8Q5AAAAZQGfL2pF/wFXvnTSjB9ACzmm8o6QPPAyUZfRVstf\n",
              "dDWyR5wcwYMCmz5ej53LTOz5K7xz9TX2h6lU+K6dcVoeHIdrizF1c6+ClOWuwKOhDmGXUkJ74xe/\n",
              "YdadDRU2AvyO/gd3jIfMAAABjUGbNEmoQWyZTAhP//3xAA/fHaCMABraWmVe2elolTrETRtvMYR1\n",
              "KKzOlI7JtThhqzQTmET+kD8RzKeWxQ/ghLfX3Jb7NuaDgKHnOh45hqLbpdsKEAAFvL2k0KHAJ/Ea\n",
              "Rrv0Jp8covkTM+nZGYeY0n5p8q4Jv/sAQLJmzOqyvPoPK00vh3I83D8LYMJmFCQHyQD02edmEFLs\n",
              "cAmnCxkxAW7/kJeXQ7FXAuiH6CANxN79yGihdF5l3kc+l5CHcgeLLE3najwL5QzELiEHoDBf2yHR\n",
              "7RTlW5U6WPLnIEPLgdi9kjdzkAqWm3dRKuU5XeZ74JRXchtC7Nm4O2id3Uw0AQIHHw4N1cK7QrYw\n",
              "+MDQzbNyxfRm0+0joJNZT1PIXtAYtlDiSYlI1mHdIoWzmTc0fhH/uxhUCGm62LBM/pDc6ZWu3qSJ\n",
              "9pekiXd1RO9QlyzLRB1FGnWeiNQF34txMhaMXNgODX5qsb+ljV/L1o1sdmXOyL3kAq5n7QV1D0XT\n",
              "v/2lLN9hQXAKKKEGMxmVLGAAAABuQZ9SRRUsbwEMCFTdzQoGqKqYACoG+gBvgFKcUHcRUlIRrEFT\n",
              "aU0WqEeFf2u3O1akxImK90UiIi5wtPsCn8y4MXc86yS4jWQWlkZnPhkkVelI+gNuPz+0oz9qopg9\n",
              "gbQmXCKkDpFZVn1nQeGonYEAAABVAZ9xdEX/AWFD7DmEoABF9i+AwTJ7IQrKUuYClVPPizGBkFi1\n",
              "v0hetzaXWv4YjnKC4vlZLfofuXaDGIq7X7fusCwluBHiSf9aMKcxulg6Zi/bLJGpYAAAAFMBn3Nq\n",
              "Rf8BYTFoOYgA8XHvmmBlQiEDx67Tw//MkWYjZFUF7TkmsPWTnjsVaZrtTF0Qy/pHVfWkM6neEsJe\n",
              "PBjNCnBJs0BTVbOMBcYnum9n5oAdcAAAAY9Bm3hJqEFsmUwIT//98QAP4j0fdCAAHaE6wEjsVFRt\n",
              "z65rgqiW8iaEtZBHyptgSz9VsWqwh2KtOHQYQ5fLsuj47t9xR3a3Nd3Rc+aBg7D9aggVXEZHt04s\n",
              "6rUD9pUvc7gGbGhuJRrQcQzq67MtRi/kIH5kBibr1Syv/v/Z63jWkzv/rBaBKtAlXETWWnShGnW3\n",
              "XHS5JIPPXFh+W78RuwOzNwSMVzRupFnlfnyxkFgulCBeS3No3BBpNzNAd/RJ2hzGSDMPamRTtXdf\n",
              "GJsLkgZfbObN+oCASF2jfruKStkYJyVtuNw1trOksebK7h87W2nFb73meZ1t2zpNb5b9Iv0e9+yO\n",
              "GjpVAGfDS1hND5f/VahX1YU1Xrejj4pQcl2zeFZrdcm/1UUCNbXC8ReiT6NIfBBqdNTr+9QABQ3V\n",
              "c4cGhzsBXYYhYzMtO2HLqecGc5l8Sg6X5X9LcH+zCXb0fk1jmdWL8qxcwIH/bn/87gPjf+pHImB2\n",
              "kvuw3FzmDIyREuNwaUBf2DkkSq9at5h5s+EAAABhQZ+WRRUsbwEUukT+JYXN98ub3lWM6UM5+6il\n",
              "JBhj8Z/YILlNZsxOapcg3cyFBQAlYV3ok3KcHH2jz41OWEhmGrxEzWkNLJpm9SvTaxS8i8Wqz1P0\n",
              "UIC+8/0zzUmHcrZZSwAAAEABn7V0Rf8BWQO1hx7jbsATfbbJ+cKRlU0o9jIm91IGqIAATifCOj5r\n",
              "c/4IZIWbFeT4eKHhOQdZKm3vTH74h2PrAAAAPQGft2pF/wFISf6YjCV3yrld6eAY1fDZdKcqDVBW\n",
              "TteLoWuS4gxBwRe+E/d0SRoC83YguUGIjPplc9+hC2EAAAFkQZu8SahBbJlMCE///fEAD9NW54t4\n",
              "bABEHbknZhwVHFSGcCYgM5gXsY0IsIpmymSbs+Ow5fy/7Pfl2GrJEmH7swFyi/vrsI5x4iBMJhZv\n",
              "JHYmiyI3qFAsbY2Qu32D6R5ubobfw6bvHxeUQfCWF/dBf+bUL8ozVMAeWaIWyc8oppVYDTRlRifm\n",
              "gY2D68AhmxUZuk2Qi1V29BlEc2tojRD9Gh6BMygj2/ZrDE9kcNyzcrYSZNBlHJjPHs5d3MIc72Eb\n",
              "aG3iZVky1OPnjDKIoV8PAlg/+hvedgVIlyiCaMLroJn9EPSvM3JPAYTzPoRWnv9D5SxdubQVKKxR\n",
              "J6fUll+6307+7heUXzeZNY3Dk2EFARNpZcE2XdCgkVW2/C8Pvsgpm75A4fhxQvRii2PbEfZhdCC3\n",
              "iNALzgs30dBpb6KipQALys/GXrl+WpMJGnXFY9Co6GnxJ3FDOJtgGc6LleIQ5qegXEAAAABfQZ/a\n",
              "RRUsbwER6Epv0l+nUiLHcgAOEBVkdQKKTOBKgCb/ZKedA35wlovthf9dA3KOpb1KJtaAq0sgFqSe\n",
              "wu8dYKwSSJ3Q+NjY2alOwCCWG4cPiDfzQm39z92bXlXhi4EAAABPAZ/5dEX/AVEqgQAFu+qaqiIX\n",
              "s1l6rk/T9mzoVR60ijqSonjLKiStBDWL4s7cgJuLEiDx8kg/E/RzBwK2NYEs8bDQoRF0Lp8d10Vl\n",
              "htCH+AAAAFYBn/tqRf8BXbATG748TSoAAloOsON2jtPXJDd0CvkUp8vkJtLh7SqgrQ2PfiKlLH66\n",
              "n8UpNN9hRmYeALznXRG8qGh8mocY3yWQl6/hfTWKFK5YogBtwQAAAbtBm+BJqEFsmUwIT//98QAP\n",
              "4FMQBVABKjGhcWTvCfr/7b62yVThZEmm/8kLRQ20Ao91UFKIxMK68v1sSl4K3TPmnk3yeF5t1VKu\n",
              "BJlWl+w7YlnbZdidfO9XaU0yNKnomwCqB8V7bo8VRiLzioYFXbxMy7WSuzUho3a7wmlEGCj5wxAX\n",
              "kA/11j2Czi0EZqHZtLCgtWVTJ5O0LTkGuKuVnEWYbsrpOI/K9X1MZnISqHHeimt15kWO8Knq+Mw1\n",
              "ZF5S6UdFMCF8Uip/NPLZkbGcTSfFXCkKQC07S33n5mwE4H/BYKfpsH0lk0qRn7uaiUDt3fuDPV4a\n",
              "e1ef5G8cDBM4YxZSX0pThPonWkmmI7BTfCJI4NKLglHJ68F7+jTK/C2klkzFO8rsKwca14neNxuf\n",
              "rB+q0d/+AY+JkNb4viUdyQci1vgUeijApovmuByjzZwDDyJsITE7jjk0Rd+A8bzLP37Fvy28P6uD\n",
              "RAK4hlG4h1zMHRbTvAGS4Wrq5wJyRj8JSBeWlxF5g2Kexg3JutXNH/wCxZ4MqJYhkQs1cd3Ef5hq\n",
              "oEZ/3G45xFWTT3w17KeB2scm+DEZYOcmEjBXwQAAAG9Bnh5FFSxvAQ4WpJtuyCE/ABaVpJ8vV9sl\n",
              "2ICv38mBw51pJxbwfoVWGOr1/1auuxoSOlX78GbQGb5jnnvVYoBRx27mt2TDCKU7+9kwvhFBBJr3\n",
              "bxbIFCxSiZN/y6Pm1R7DRLpHa+hkKr9WpZ4nmeAAAAB0AZ49dEX/AWMXnAAnE+1Q/+G7ErA+SdQR\n",
              "fftLyUhGsKi3rZjBMFSldA6aa0Ne5BowhGhgI5Ftr8vnLSNmwe+N4lBNJQemv+nQgobA1dqnWZjz\n",
              "ppW5xXCTJ8dhKt9KsPM7Ew+ef0bwdJk9/I5wMqPvB6PQiNgAAABfAZ4/akX/AWEwSkwAJrAAJ+D4\n",
              "7KQBUkviRQ7vBfc1nBGQ0Ldp63Awc7RcahkNdMLkkZ8bJQdAHcuuM058pRHsE5+utTy21qen12l5\n",
              "mUs3f92t/r+4mBlBR4OP1VKs+JkAAAGOQZokSahBbJlMCE///fEAD+Gs7zu4AqsxCijbFmpSXhL6\n",
              "lcXY9UHnwhNwojsWYj1UNGYhCsPe2weR1UYfwLhQIRHENYW+4HEx0x1COTiVX1aGcl++w+zvMUJd\n",
              "bHQOWAMZ9GpC7dOj6nrsYpjwki0rA1DGhBhM4S21i6eWhEXj/SwTMb2om/5OIHK3M9aQBA0l7a51\n",
              "6daG/Q//YP+aX/+JknD7f8ZgKdhQC/1hezDSe/0D4BiRzldoUYPoVjy+UuAFr1vBXscMdsg+fKGA\n",
              "DQbd7sCUK6tvM4UeLsZ30WZt4nBOjMAIEdw6KGN4RN0jJk4jyiv2Tc13aiNJS0V0Uf1y4gYGFmqa\n",
              "/dlcjwUcO4cDV97Idu3SmCmcrWd74jUs69oBiPJ8LcC4NOsNgReTMg4QkDsfIlkAgvf6xIpe4h/L\n",
              "D9YgSbP2m2HzrSHHz6yIJKoZn+NKXsPCOlGeX0Vurzt7fplWa5r2PvSZwkgrqAdh7QCEEw5Qpe4k\n",
              "Qp393TpJTyKyEqyZzFxAblmo/v3buYAAAABuQZ5CRRUsbwEUueATR46ABuxMQKB7TpeVgbIL0sNg\n",
              "1LYWtd9H2o4riLf8t8W0kRnj7LVJxedpK/+xpG0knbtF26cINFxVW7jBiVXxvsEflHUpDYBfO+n2\n",
              "fTgCvgBMeKkx//j4PyvjQx4GHEj3f4EAAABKAZ5hdEX/AUZGNxggBZncm/CDWHOm0b//6h8UZSM0\n",
              "ZJAxbnQh/96tm4L/VnlJnlVNEZudrXJQcg58/OSX073L4Dzx9/9l33foRVwAAAA7AZ5jakX/AVFJ\n",
              "ybnm9Sg8cl/5bd6Px89ITawKVYAATWAiuFNrSSfvYvcU+eD8hE9Tg21XDPQFHVS7lJEAAAFrQZpo\n",
              "SahBbJlMCE///fEAH7PM8F/U1aAFh8r9qz2g/kuA9FcjNwhp7FVHv45jB3sLDAhu+M25qJjcPB8M\n",
              "DOKwxYSfuCJ8L6EiCM0kASTVisUjiwVxMMEJIO5nTd9wCzpxy+4ZMv2odUaBCP8R9Nk8+Dz5UaWf\n",
              "hacJVnrLlX5vOdUfPPYeqOF1jjocp7u1EZVC9LKIy3yanJsD+jSmZUXgJwR1komkTY6c++Um4Yp3\n",
              "EkJyGbbWDenZ+xegjCR1kml2N7FNzc3v4pwociPpyrJPPajSh5GfldWStr18PTxEmRF04WkqBHct\n",
              "1U7EDsoISXtMQfeZZSTuE8JqV00ON0OcLBhv/C6oVoW81PHdHSb2EgZkI/t7SS0jc+8d4HC5BzBa\n",
              "EDOkHf+e9C1juM1BnTgCvJ+1k9A3C7NP0s6Pj2SzrAgY2gHXlloyXAgbW7bYTY0mU+dlLjy6GGDZ\n",
              "AyR7fjblMWsra5QpmOX+Gh9HAAAAYUGehkUVLG8CJ+rxEcl+QyWeIBVgqsDzKeACtfdaqvF2/3Sb\n",
              "6bcF4XMiiaeltcf7NYTRQ9XsGhgl+cApsIgDL+lId61BVbhmNzQlRlApzWV2SR7xfkyCyVp2OrnI\n",
              "1LQCVR0AAABHAZ6ldEX/AVomhwzVoIORWt95p1MZjUi3NhOZGJkxeb2MgAmk5346BQCSxZAj5O5+\n",
              "5WFrw9AYI9P+5Sdlx5Me+Kw8YbgAFbEAAABcAZ6nakX/AsZ0lFk/Xe1MFsgAFtIHcTxSGxnYDIlv\n",
              "EV5NzGIymjIvmtu+qaDYfo/b3U45q8wnxnccSMyY8s5C3QLBjD4eindZ1FoytudRd+xzi8pK2P2W\n",
              "ACV5+cAAAAFoQZqsSahBbJlMCE///fEAH+vjNWgBGFlNhofq3075VDCKv5ZWQRILbeMxGYSScKIp\n",
              "mZidEJ+BZmX0CGdb9W29JeYZLeL4pk4BL3rNL+owPBBGNxypP8DIVUXCxFlA6M5JjMvyz8EI9KYt\n",
              "kIWFXibJ7doruTzqJDhsicixg40uC++GKVvwPUtPt046U3cgUVh5Z8jHWHhhfGoR5T0xveCaNGqw\n",
              "eEENpZAhnhqUhFi0b3g+rR/xnzJcqSg/YEM8e+pkgIbDZ2NowJnT2irMWCnW/csjqTRiq3S0kMwp\n",
              "PMLVHTRkhkPVS0qrumGZ03zHuR5yqaUeyTyakGM35f/WtRka7DE/KIBtAWciiAjetkilK7QqMu/s\n",
              "GZOOMC3KR84Sw3F14af3h3WHVKnLacgvscM6V/xL68JDe78RKQ7cAYBeOwGDE17Bxnhee4B7xHLt\n",
              "yIX9gdCVbuqGoufWG5MGNw9kKzoS5fpY14TQAAAAaUGeykUVLG8CJWno5/UZnTA2aEE+SXBymqG9\n",
              "x+5vvj+fsjVGPwrn+ZAOWGIQbRlUu50e8vG/3CgAbsrEmCO0+5GIhj2iy7gfwWIpNcUaNhvfUtLI\n",
              "DAmoYqXUlQGt39vAKYgrZrcpsNroTQAAAFkBnul0Rf8BYeMM0p3nxkHwAG7NtHPiazem5rg0I81T\n",
              "rndgjj2cMtA9DNLhONzhgRnp9vPyLF4XgAEJcQ/7mBYcMuhMk8l2C/cxImBtOjOWsklebfaaEAAC\n",
              "bgAAAEYBnutqRf8BSEnJVESMABX+94I1gfMuHJw4rLZgIEodh60zrDpT/FkGmkZeLWT8iZpNchca\n",
              "sO4y5VKfiZfl7zU1oAgRsUEkAAAB4kGa8EmoQWyZTAhP//3xAB/r4csqAIkACAlj4haRfF++3XqI\n",
              "OqnzGAH/FJ7/HNHV5IeuNf3NT0oVjwX97L7dTM+d92/iOulSZ1SAIBSljqzjAE0OdtsU9AzexgGU\n",
              "78GLrfcmDdtf0iXkb9srtuCNlFzLql1oZ/3+jfH1C/4P1qlKXJ2xbX6vqr+aKMWfBseudLHsltq4\n",
              "kPHsR5qm6ZAo+f5OhBBKILcjULE9omx3z0arVvheiB6EHLAieSDmp3obzEzY3aOllLC0UnW/otQr\n",
              "F0SP82t2jQbiNLRjb4JtmfBr0sy/bvLa97wYVJYt+vZeK2ijdYH20cjmML7HcUgtVa9hMCRuDqzt\n",
              "3YYvfoVCEOzgkcQpkFgI6eKTECZFn6FHOhlMcTwLzlcVtkKKiRcjDjJ9Qd+qM2CmfUk2fUKwsPWL\n",
              "1o2NMgLTaScQb26PHQNlOqJDOft+eCPFpguq6DhCcRJ1QmkqOrvtD/UNpVExQLdXBicG7hb43IbS\n",
              "1yBRrb0l4H6crBKYL/Zm22qEQEYJocZ1R3Ff2FNCYcn7Uwn/n8vUQ3LckClevfIL3qOb329l82tH\n",
              "Ch3NDkJ3mh+HDR1w4XEW4vhL5GY6H4iCiqJUjKPpdoXQUL21w9XXO3hRorYK4Im5AAAAW0GfDkUV\n",
              "LG8CJHPJJFnz4VWORj4+hNhXdgF4eh3OUFj1YH4vhfz+hBHop9rekFjoksh8YXUaUrAkxvcr443L\n",
              "lHdiaruPvN6t3srdEjwyUknnbcKgqwKJl+Ez8FcAAABRAZ8tdEX/Ao/2xaDHahkAJSms4t1RmCJK\n",
              "ppUo3AakP9ueAVKQ7pImMI/y5R5xhLQOYuu0ZbTic6oaNeJuBZbgFgPgFUkleR5lyBGEtYAb9sOB\n",
              "AAAAXgGfL2pF/wKhslAAEtVLuMsatqOf++R9/F1TW22cZYixMxv3Ze73CABHCvSvEH4iaz4zzh4R\n",
              "hGnqKHR2eq09EFy2MGDOU7cmt/RPjjFIyyn4Uj7+kdDXCqHAsAG7kAgAAAFXQZs0SahBbJlMCE//\n",
              "/fEAH+vi+4Fp+dbtKAApWh3ZiPRJdZIap0ejpY+b3GbhWFFC11MhAmew/zX9FeXcFK9Md2Z8Dp83\n",
              "8VfglFuMlX6HLHeDMqr2IUe+MIk5PaY/fZxAUr7+xfVMa/SihMAmT3u5TW0yFzUeti6Ve+X5Nnku\n",
              "PvU61iHLBOZ0w4iKhstWfob96ATUg+/+fhgI57LOdyhTO5ErBQ9bxKWH/VNTw4waD7BWSecln3ZU\n",
              "5WDwGuOlo6Mdpa2h0gBo0VHBpEF63S3wB8e08EAMgSRi4EEL3IG8Fth2sbRMUN+KNQwcZVtLMnA7\n",
              "/clBrASoOKfqin5uUbHBNzce9yQuaEmsWud65EO6JtJo//MSdtC4vCjCUB71l9EjpBd16FVb2QiO\n",
              "Gu5OlPSBdI+dL4B2us9iQUY5LZb0yUvKnpo3JHaMI/KZ0KF9hmMXr83RaRjqgAAAAGVBn1JFFSxv\n",
              "AgVp6vVRKzue+3G+0HAAOLlIUCgwvtX25EcH8Q8TXL4w+lQHIxdq4zSCkKpLhVChbvFsrTfwl/AF\n",
              "e2Qz+Zto2XGQrHQZsPnZtPQm60ROWHSorC4xA5YCaKdU+h49MwAAAFEBn3F0Rf8CsLoN2gBL4ABR\n",
              "K0Vr3ndXTyNtidLTEiIc0QKqmT3W1Hmg9ljj9j79fDAwwNMK1B7r5QXmwlySedN/SLJjIKuurOJe\n",
              "R/7IvrvBBswAAABjAZ9zakX/AsRn2gBBJs833ufxatUTy5KwWru+2MiTpQfSqI5liJmFgrYmIjOA\n",
              "1jIWcnGb8JaJvrfERkanXoUNAyjCabbUBQxnWTmNxnjLxOXidH7XDOhhkjSxYBuIpb83/NZQAAAB\n",
              "dkGbeEmoQWyZTAhP//3xAB/r4zVoAQ+y5aEL6Blmf6g8NPBZH4YVD1PvUoi+uCT+o8FTRElRFUPL\n",
              "2QJ7gXg2/RxcdoeJdlCnFoCM3Bdi4Dx/wh/j26NF2jGYJykSJVmRR9dUx7N9/DiS4mEGm9jmVKck\n",
              "Bn7hJcqwReZZh5EuwZ9z+g3wzVZEOIkx6INvoAD7uBZ9qZM7rFZhAmOwtgiJNWXbNBD0PCKRjthy\n",
              "LrC4HqBs80K7j+3jxR+SDeQ1uEYyiCwtMZxPeg2TZnyVYeeBAndhJoDaM7e1bdoVUwxZaAjTAZhe\n",
              "TehlhjjJhzp+y9l1WLbRNb2wtVhgOE+exbhohRViHWD7mBIsx5+JtmzXcHs2GU0E1LIlXWK9NlGA\n",
              "hlWJEglz2UCAH0Pxzq7hs+Be8+eWxWTix8YCw/wC7240a3DuhIMQb+xnBX4Y6IV+ySPt7OGGi3Mw\n",
              "Vqaulnzpl9WSc82AIE2aAaDXBgCZMFjKCM+391RxAqalAAAAYEGflkUVLG8CJWno54J8I0TQAl8S\n",
              "7nSkKYI8EC8228tXdNXo/Xzdh3ukvZSzgb6w1B041YVNQYZGrV1/faX1TP+zhTF9579z+NHFu4bL\n",
              "4fP1LXegAGTiG8lcUSutYetA6gAAAEYBn7V0Rf8BUHMuOgGSAFU/iwaPzI5H3Q86NWE0Jjj9/ebj\n",
              "fU3hewLg6yFVm+HbABlhS1XaZmaRtPS6jB6n3RZ1F0x1teRhAAAATAGft2pF/wFZGL/n3eAEAFYX\n",
              "YlerwaXUbjA6xyU09KaMPCtowqnb47nTaNb6UNS9xlBNd1QRCJ3G7cJofkJCCKtrRbmXg8qmJlwt\n",
              "tsEAAAF5QZu8SahBbJlMCE///fEAH+viGgcAVvyv03Am4VnFh3PwxnQDvtp/4cFwqRYsmY20s+OP\n",
              "Fi728fV1xA/uk6i3tRpuAK6OjyzZNLhNtlxjFAupnF1ZTvTA+0d8aCpNIffbGg4TyMeKst2V4FLJ\n",
              "rvejbIqzWT93keOISs6+2KoyB8HR8Cikx22sz1s9h9osI7tiPAZT9ewtZC77jtzy/wq9kbqpna/R\n",
              "hjzs0pc8rfhim4jUrD4ieXbHK6BUf1OydALMN8yK5HxXYAoHqQAvRgtnf/l9hEIDNQb/9MgyHkth\n",
              "IWpX8C9IFE6YQntNzu9R84/oV/IHPkSubCf826hBLhpqADrStZXBIidlQHwrh0QiuuFfKk1pJRcy\n",
              "Sbm+Ols3GS2kHy8ug0Frw6ieN8btk+LwTru+cjzySRGpetWr5FSrLmY8D+7A9liCCNR81dj0iC+U\n",
              "ALr0JiRC3bT+yW2QBSYnL38ZNd/xtlzTl00p33StRAgFPKjPPzijLxQAAABpQZ/aRRUsbwIlsedk\n",
              "TsGEMgAJShaqageSrrbCSdL/R3FeIcQTaPMaLeXF9ii0i2QLsWvw8IRO8ncQugWsFlxYd+xPUP5c\n",
              "O4vFlMQGHZTGVMzNxHviHSmuJIkEC5BW/85voBeIH1QmQasZAAAAZgGf+XRF/wKJvKDIAO4gT7Tx\n",
              "k0m3xFc1Det9ldK+C/UdDw3l9iTS8m9l0qyFRRvDyKGbQSqxPtrMirbEKwivXheBj1p9ycsliysv\n",
              "jAaTnuk+PuT7VrRkkQrO0xiFsIF2a1h0y0R2PgAAAFMBn/tqRf8Co4IgASeuiT+fqDE3o6J+mXZq\n",
              "H9B/lEUxpyvT3c80B8mYp2hxHYSHW2NZHZUjHkDKHeFwM8IqiBTSKLu4gN3KVkg0eKAH71fQuBE0\n",
              "OQAAAZRBm+BJqEFsmUwIT//98QAf69oHBeAHSOYAfWMEzDV6If7icaSZa/4G1nBtUju8P4QQyj7w\n",
              "pkqpsQ+ekf1KyFiUIzGKUbi9Jpp6N6iX4ywWQBNoVNQ+lnrRVXs2XDAsQK5d1gd95Bj4HdozX2/0\n",
              "4Cxaq3tPsVZ56yvjyrFY1HGFjUDudUavPqCDgA/GM0CJOvkyXUhAaBeErMH28Zk+1+6X9POXNgB9\n",
              "mbmSBUDg4j4Zeo5lRqntCUQj9zQSQJBVZNSKC/TZzL0umUKdNFlCLizrbzUOGibEgqmxQxHlg15H\n",
              "2OgeVJccIRfbeWgUSZW1Y3bY3qOE2Ug/DGI+sjkGWdvWyQzAWzc2xRoXj2w+HwSUtjd54rJp1poF\n",
              "dQfTv6PqsTo599J9Ix91cWnBwtrM+xF+0xyTDV2raIFnYOJKbZwrT8rCeAz1tA5prCs3rIKJbsC4\n",
              "REEF5SiPQj8YIjNEpnvwH1kalPUXGJN39t8ri2f8NK+o7yJXfJ4APyti5TR1VevQEr+VkT4yrGWU\n",
              "sOEiM/bX1dCJ/QAAAH5Bnh5FFSxvA9ryvQ8FlxQgAucZ9CoAGeKPtBgm6snV/H/U1SwSN1ZSURV1\n",
              "WgYZX4tKW/OFf/KEVrVzmVXlBlMGDSjdj7Can7YA8D1yy7b8rbyWXfp7IH92daDfHLiMefY28lVI\n",
              "c4KAwMGwLl3JhqVrc4L81tzk+RrE/VmlDqYAAABRAZ49dEX/BPvuAU9hs6AD9bO3sV/aXggr/lXe\n",
              "JX7bWwa5GgSP+9iPMdp+NJWhBEMriiBOXg2WXGJKA1ol2Nu2BFd4xrwJtKajLqUoAhWGsAZ8AAAA\n",
              "VgGeP2pF/wT87AjBJSAAnGCyt8Y5dEPIEbyVvwlAQmhrklQ+U4JKraqQxp3EbZS+A+a4jtbNCRne\n",
              "T//Ddsy+xvRmMGabRTpjj6GMjWKGndyQwfxbQAFtAAABn0GaJEmoQWyZTAhP//3xAD1diLyLnl1A\n",
              "EI8hrHj83tch2gZs/F9MZapayoaWwP0EYwxRHDbbyNXdC63n95mHj6U8rI7LgzDqASynQx4rKyWu\n",
              "EsR65W/038juCIcrtEZamhkhtbUsQBxp5dOd3GMF+i5LRr8BFr8EcYH7QMO+EfILMXMg2hGPx1xQ\n",
              "h261Jz9hF0+XBvIQ5b/VFY9kbJ0s7KF4zmrR6TFOMZM+V03JICtzJuPnyu7o2LXCS1bdyz6thUSr\n",
              "tHHtYiMCq5rkHzvS1dkgjPdM6tzknsq2ILf6Ej+crZnjsYwnZJfNFHpAmxtTz5LReYRTy0ix3Jbi\n",
              "ynLX+jHx5BROs591DpGiM3a/ZJp4H4N4IKSMpc/tMYown5hSvM9/lvx6nPz/uy0orx61jjiMhJJo\n",
              "7mM/1bjzK5mt4Nl3tPTGKwUlm0RdGn7deIT//v3GDWIu4BBIm1BOSm3+/D5dnePI+AJC7IKTPKoE\n",
              "HSNt48zzbXymY1UlgLlEByBo3m0/ucjSDJT/k3samUKdOguKzknQ0H4DdDgQtcWJJcQAAAByQZ5C\n",
              "RRUsbwPZOKfdKtgATpjHqH6pll5bbI1ZMF/A0pAmJBQHfNlgWb1bfXXZ7vQQf48nLf4N7K27szQS\n",
              "7mEyMvzptm7y+f4+NAhNZ9rj+W9PiDFg/GTzJtgLw831pFcPEKtdAfl2BOOkl0TVhfVN2RZxAAAA\n",
              "SgGeYXRF/wVD/kr+JQf9gAPUM1zTni9y74toKmgQsC5nrvlmyVA+XCR+28zFmcUzQUSdLU0VgHgm\n",
              "9Ifm5rtPzSR8ajAK3MwBTaR4AAAAUgGeY2pF/wVAgNYS3ToAS+AR8cl2yPkWVvDQMu/2ObmmeYTd\n",
              "S0W34ydhjsRahe2vKC1IX+QbSEo9hDBsogrvx15kvmkb9C111sw+I+0bQN4AD0kAAAFaQZpoSahB\n",
              "bJlMCE///fEAH8IMgAKDNiOc4ggpbWGlTZGsM3GLhZ6lx5mi8fqnrnDkmZ+UdguRmpbQSjiV/GxY\n",
              "v0azIbgrdM9mKRzTJWvR7KDMqKTox4dULzemsxGtS7RIYy0iHbjCRduJeqtLie1ITbc4hsKixLqd\n",
              "dS1PUEhrAN+r8tQHUZ7uoF3h4VYlp+5v6dGc3erRER1wF8BzaX0+tx1s+evcopChoHESiYDrwm4e\n",
              "K3jIiG+bS9knY8Wd+0lyQlv6VsvUATX/60NaRKeyrsFZ09UJrhf1KJ9bNlITAvCtejDPDXX8F1Jq\n",
              "MiHcN52H7LLGavkyWvusLQK1X++3uL20ze+kZ9RszupkxBmJs1zkIpum/sC0SLFZ1CUzJarmdVga\n",
              "vdz2Ii0RuuO+4BzyNxQ0C50oNQ8WLzTbvOWuU/gthSK3jS7WQ9x1Wt0zkSxJU9+MsLbmQ43QuQAA\n",
              "AFRBnoZFFSxvBAvV5y+0M/uTYmhxM9dorCOYEQ8dzo0wFIY6kvIbfADcxwNpc5/xLBffIcM6M7E8\n",
              "cFNO6dg0HPWqQ9v6B+AvScZH07RjHQAA2iYPXmEAAABTAZ6ldEX/ApH7KABOJ+K8MRaK9fMJq2VD\n",
              "z/okW4AnaSQNQLH/d5usd4lXp0zJtwRhj38/ALVNQ23WygGwRdxgI2ypRvLzVEbS3fMPvFb9kAOT\n",
              "jtkAAABMAZ6nakX/BUM0ehX6VAB+LkU9WX7h/F75cbO/Hdetg4mc0AgJy5FYM+TyTrFxGxBkpo0f\n",
              "DhA/oGWFQUVnFwnkNvlP4wlUJ80GGgAsoAAAAblBmqxJqEFsmUwIT//98QBCfJ1l/XTINDz6AHHp\n",
              "gBD85xMEimYhjn5d8CbbeYOs/Jg3+3Vc4AkSlyRD6iPFHmwUJuHJXFqvDGkKwS2kwlM/2PBvUMfS\n",
              "Ia15gn6DFafk6WRvgFuXlC3xj8eleKWy0+VWUQS9Jj+XXkkFLf0cAXf025dZWZdnVS1G0qtmo3I3\n",
              "jgFN4XXwStrY1PfDjX1/+Acrtb7Vx1xmx8vE8/q5vcJdHBA+ZulwpyBM9uE38snKAfEjoKdwde2U\n",
              "cGaAwW6P6ZJNIIrhzag20lQzs8/r6iHtmDp4UTnjlcoWAiTQcsIur+pv3bXr76WuoMo+wdFJ9WjS\n",
              "fR2TweKjo4kU8Sqx10Skxb+nKebP7Xy9Zzn4sgmWJQB9F3zlc7ouExBybwHRBH4lXX1ue8/3WHYo\n",
              "I2GGrpghsOi7c0gfwF6MIyLwuD+/16WtU52DexsNpH1PNVDXNbnvYjFbVDMzdMoyPwbMkiBFKBoP\n",
              "y2NIkNzOHrg1ce1orrI/pa0eQfzn9SBAKPQnjA1j0OBNdB8Zvpx6aJFQ6dgVtEj0am4kMxKJdhzM\n",
              "L80+75m4DlE4YV50FVMAAABpQZ7KRRUsbwQJxdYOfH0ifuoxlymhGcr1piZUlwCLOJ5FHvnyrScY\n",
              "Lo4MxYLrnamUCxK08wg6yat7POyIdG874+LAB+rmkZx4PD4Ifm2VtnMKCgAA6WlnsBpAABrrGxCn\n",
              "Q5mFgLwPdIcRAAAATQGe6XRF/wU/cg/XuutoAE1gIrfGDU2IcyObM12MKzLE8LLxbtHyTqRhWxBG\n",
              "wS3OCoBT2I8iBvh56UbTnge9Nr5VkeA/6J/MCe7FnuFwAAAASgGe62pF/wUfPIS/dAAeAfHRCbhF\n",
              "o2OrEW1IFcy3DACdxHWn39Fw8xwIA4bPMgEih6Q5riir2yQadJ6NhSjQHy+jDhDcUELBaLYmAAAB\n",
              "jUGa8EmoQWyZTAhP//3xAB2LzCOABUblEk+k3iLcGbGP/n94HSYayhAgVmQJh7abJyYNEtXZd7JN\n",
              "j2kA573reUFMzJdZtCY1fovX+4QpQtgsxviSXHwygV7RALa3iN4kGPTZ1m/jhKEZupeZD2V3wYBC\n",
              "0sY3kP8NzvfGTIUDYihC0TiUYmqTVNjGxPdQZsbMJ4EO2MAem+ukidWZ/EnLDIopq2znQq7nKJBA\n",
              "OYxjWEW63ccxbHrW6+IFeUFlmRd+0CFInHHkaWppp6viifAwtxfr+JmRAfE2CL9elDXyxirMvaxL\n",
              "HRdITP4Bb+sZ0R9ftjHcvjaP/+08PivmZY+HhGXz5TZIxDzxoqPyDsdAC87VbDiXmR6KPD0e+qw+\n",
              "bEHcf3n3mHcHwOUOLHfyAFl2akwWt08yQ5Num9mCgAth95s1xchktLhXONxP5eLD89ubTtR39f5D\n",
              "B5TbrGxx7XhPDxvcLf/vOBzdF3wPu+L8UXvQ7pGY5UOCXJ1GNdwQmAZKH/EmH7L6AkIY1qkaoj8A\n",
              "AACKQZ8ORRUsbwPx9j24HVeAAXQfUeygSp0EpgcyxAAAAwHu84zBie5/pIIt4oNcwMUowoxXa3p9\n",
              "zFXfGSAJmXh1MbVtSqKJpF6Dee7lw5aKUa9LUBNBfjSmWu/lbPzaRCmP+Ox8nqzPhnNJjLSHfhWZ\n",
              "ezPc9cUVYijJhri44m375e4wrktPgMAnq3dhAAAATwGfLXRF/wUbgnnEdACQ2B9jg7URjlOjzMDj\n",
              "ZMPiei3QO2pqltndJ/QTfkvyqYaTtKG9ZvlqJFWSHfLcACRxcPc9XK/HuVg8m/awc+gABSUAAABQ\n",
              "AZ8vakX/BR87x/DOkCt75XSNEk0sIksNKyLbfCAC4zTTdV2gHITkUqupF4Nxo199nUPlvTZJSmun\n",
              "fA8/IZXvnYNnXSCeUjUd+iYoRZqABjwAAAIfQZs0SahBbJlMCE///fEAHbWnzblbWfNFqhAA0TLZ\n",
              "DcY7Uk+wgx3KdPO1QO5w0kvhkIKq+JzgVw5IFadVwUbyJn0+xH+piKBage6O10p/jUr3N9+BE8Zl\n",
              "QlEPqiNKl7AgBibTBO16rlAk+mm1KmfWqk0dVZfQMdcjbWsbR8faJTjhn9me8m6c9QC+1vcqvMGm\n",
              "Fk9ZBk5ZAzQT4KvP4AL8TvRifWaKCZerNDtl/Fh/+7InxYObUgrHUtIDuF9sHtgQfE9x5GCy4nyP\n",
              "0jCprncEeW5079OUr70gMJyGFhCMHCtJYLSvgUAP0RJgmzSM6OxCIcQYWxmyJklpCjIVGwgYOq5A\n",
              "kSsut8aEb2CqaRS8+Msz/ucvytBZbb9ZhigWmenYCYsPBDXfQRx+NyAn2UqVtHn678dWMx2qO207\n",
              "OrdzFVS3UO3amyGj6Uo+TxjRMTCWjQZ1LWAkPq8CQOQMnOQyC3YSCv4ol3RbJ3zQE4SXRBY21Jtt\n",
              "aiYr/zXs4cNIDhSoPl50k92abGQDiqTchVhpF4ME4KAmCmbh6msY0CeW/umjDGhpuH/NvFCYtrUj\n",
              "DnMbTL2MS/yYogpsFnmHF/tg1nbFro2GJZyuRNKBQ/xS59+epPPdkTjZoCxg3QDlf1pv4xp0jD8M\n",
              "70jWn3HXdDoT4agagnS+qRm3Y+VXVxFSQSoq+Kdvd375we38Y4Y5MvMQsHwzjVXCTiTjk0eeNut9\n",
              "AAAAfkGfUkUVLG8D8fZ93+1ALqAD9yndgnq6/JhVhW713bVwDNLTAIjcrhLjDk7q6l8v+zzhiPOt\n",
              "py/vNfCSKcE75cfc5pejqWSBH4CjLZuDVkNYRe12PDHRiLrfozqo2mObeROFTXZn5FWODxswq3QH\n",
              "5KJiQbFyBceZRFUAIZB/wQAAAE8Bn3F0Rf8FG40Y/t4QKHjPCNPN9DABOlPess7ND5YIiNFfGGqX\n",
              "xaPd/0F+8q9qbnLQQH89XqpBEqrh/sEusPS0R3+ew0GEonQVNF0msAJeAAAATwGfc2pF/wUfREU9\n",
              "LOe4SJWue/YmSrgpbdgtPAAm8ZmgHFiFcTo40rPQ7OnyjiYVAQ+ammOTu5GWLP57ybylhbtMyn1v\n",
              "hKgrfSo3AVIAB3QAAAGDQZt4SahBbJlMCE///fEAHbcEsEVPCADLXQa0zaH1OxKg+YB2dV8L8AXU\n",
              "c1m/hYJSkbSqwr0IKvF7uNhN9/LVTaw3YDMgk0DnZSMfCAYQ+p6gKu5v7Vo/dLYeD9gyYCLSDMXg\n",
              "RJjkNDZgz80vUTf2yK3MhUuEM78xhQC4FmC36hXuNwJuugVZPE1bXqo10BfnEDGa+PhMxH/LNy9a\n",
              "v3Q2L88jmddZxYTD9OVysdyJLcsYmKEh4b+nsR5/TPiDVBb645qnQHbNCDTLrC+XOKgIKezVc37y\n",
              "K48VdUymwW9MFGNsF5DHTdfGDUhpvnYeA454r0YZNef9xAoNzAyB0ZQTks8MJzHKLkONVTfaK7+Q\n",
              "wuGALGPfzdVbUOAT8IudbBPWm+sPfjvjwjDgodpWvxKxAsxJL/pFS5dYvS6XE6lpXp6mH1TCZ+h8\n",
              "R/Ue4fpLjDFdg6AToIiKNb6WwJu2gPhpdj6M7BslSuG0fnk8bcF1hyPbi5tfnFtbxDzjjJf2urXV\n",
              "Z/qTAAAAhEGflkUVLG8D8fb5facACcgoXLZbOen2JinXkdPpS/oKmbDtDxJu8fRbb4XK21R4tZcM\n",
              "PG3RO/d0qUZVkjsH4DRUK+6C/tmxaQuB+4zsO09j4G3SSGhxon69SVbtYS3KsFTSERLObkksB77H\n",
              "Hrq7rEEVyuoRt8UwC/rYYfq9WQtQNW/hwAAAAFEBn7V0Rf8FG4J59XYAPySvKQh1OQiWiJ78FkbT\n",
              "PM58NKyLHoAv5AFXMJw97/FfiokDuU/Yy+/tY3jQkgCWiC5AgDurpaxTTY7s0OUVAAic5mEAAAA2\n",
              "AZ+3akX/BR86NcL5VtoIEWPA0V//Dv7iCyfrAANbrQ/0pWMj4zwATZtEb0JeBG8bIcEm9AIfAAAB\n",
              "eUGbvEmoQWyZTAhP//3xAD99iLdJHg70K3rfgB+tnkAITmMKk7rq6SaImcheS9YM8QhCAPuG+xCY\n",
              "5X0nIPNHzMeStA2iMpL5d6yYDXpLN3X7nbiY0moJPxiYn0tVDFY0dfwMhBzhXiE3MKVvxqOKryXr\n",
              "Coh8aD/H7Kw/FdER1cZPvjpbRUJnzSQShTqeCExr691mDmxIA0nTgdiVRROjoMw8kejZdK5UoHrZ\n",
              "nUlOkuT4hochKWsnr1V/QLuyEycwVxEnM+FaB8TgZJ7dnocy00u/twAlQAhtcOgnlJRr24p2LgVn\n",
              "1zBLiNRBl1H0d/vv+bcqPZitzcDbu1/uzytcZmq3AN+WWlcVDzTIdnzAsU11kwWNrgkJ/O0nf1ms\n",
              "Rvw4a9fWIV7AeMgwUDGPw0zSGVaI7VW7lO+Z5HfMnZZx0zXIigDPJuYjrjOAPySmRh//gpws+oFQ\n",
              "zQtVJYRe4vNY3ImH7oa8iH7w3mMqCodF6T3Rc0IvTJNiWouAAAAAf0Gf2kUVLG8D7zT4JTA5QAke\n",
              "SutePnOampe8j5MFnieggrZEygwvWX9JX1H4uHLKI8Z8WWmUsWlDIqIX1AaPxTGMe43r64MDjAb7\n",
              "iDRyn+z1S5ub9xAQni/SVc3QAAXv+fIA6XWwPHO/eFhcinUso9MAmAi9rn5/AfyG3oCdxRUAAABT\n",
              "AZ/5dEX/BRuNGEXSDnLgAnE/ESTSgz185sFyqAzad0CPjnV2s8Zs4ww4Qa/cOmP/It5cqhhGVdLe\n",
              "9Pa2/7RebuAY9hva0e7jdEA0vRHkwFNoAmYAAAA+AZ/7akX/BLVfAIqcNAB83PmHuHvsq+1w82MK\n",
              "tV32pG6m675z9Ig5K0wT4ZCmCrm/Ss38v/33Vox2bSAAk4EAAAHCQZvgSahBbJlMCE///fEAGw0v\n",
              "uOEpngAIfmM6+tHcHgycFgq84m5P0+6orYv6u8IpHCb5EYfSTp8Dx+9RpZ6CvcvLAecMMU8LLbP9\n",
              "ScrlClzt/vFltE0ai/GJFvRaw7iXSlYenkP6YXkw6w+hHrwnMzZv8jl6hIbxs6QBHGh/HF9eSroM\n",
              "rYjKt6Dzx+wmC6jwvXky9+CpK9gcSN4msNEGpcGQFO72dP1crPkR2+ZnjRbHdRNTIri2vDlJKGv+\n",
              "Pda802crnhoRDHs9Sgsy/lMFSnPPs1Ro6xqx8E2ZmtiiwPh8UywW0it/Z/mAtIvWecidOfiM7lQ/\n",
              "wz/qeyU6ZfmDID46emy6vKcDtxUY0cicqfO1nxlTd5vpWKp9jQ2m9xsa+VakH//L/gu149/qjTuQ\n",
              "AdWyTBLePyguhw4R8q6eOUPbbcajvcupZm3zHoGOH2PTryKiv2NgATe0Zf3W/u75h9tkhXUhVlFI\n",
              "uFn7+I6Eqd8sJbkvglsUsyLzJDZqVT6GD/jtEBqrX2fDkZyjBK5F5z/dpAfn+cQROJuLJT6i9L7J\n",
              "J2bfWloXRpnsFoE5+TzQuv90lfX0l3fpoPBVwEKnPeCBAAAAYkGeHkUVLG8ByAQThIigTmvMlLPE\n",
              "6lPhtHK/JTT0SnBcugPj6xnQzl8TdYASKXaKqDmencU7EF+oD8DEFE+S3AilGo7tv9OGH7Ee+rIF\n",
              "arJRNt4CB7i4vzBTFF71M6wCmtYEAAAAOQGePXRF/wCO3C6+it1MQAl8Aj47ZtbB+NOZZgFTPYj8\n",
              "9VGu86Fk+nIZgsitXafEQt5iq/i+j8AIeAAAAFkBnj9qRf8CTaJEAJdPSdXqyZsxLcHpDAggtwKn\n",
              "5D3zdRqIjoQOy5Okzi9MBHSVtRETFEBoGnOX4WbTozAwwzVuARUvJQKaBuqKIFYaj/GuOcjDrbMI\n",
              "AAAYEQAAAYRBmiRJqEFsmUwIT//98QAbAU8Hb+ABSr2Mx6QSU71VNbKanvu4qj7O6qz6IoBPd+xe\n",
              "Nluw2o3pubfQaFUFAetgO4234BQkKPntxvEqXrx/DJQY78uhMcOZdZC9c1VTUBWXU6Z9kjwn1szQ\n",
              "OrAvUfabkYOX9G6gg5LS+SrDYz/aaXp8uRDxM2k5e8etSAsXLD38YF/Ymn7FtEY6NXxKxx0GqwBP\n",
              "G+GGxaq/SJpyMFdPH9iOypWNTqCBD25GHiAd47jmEBZIXnPk9S5Nxo96Q4HMZvePYX7C+zlxgsDl\n",
              "qSWPOEyt55zz2QzJntPWHzl6ofKfxaxY4To1UPC4LPODRv7nvm/ApUcn1gzSEEdbT7Nx5JJhl4Pb\n",
              "QPk1JdSBDRLe7MdDsUQHjXUSQ4y+j3QJQnBdE2qIWEMEYYREHUmyAT+uienNHO2BtbD7dqcMySKo\n",
              "LnHLBItktV/YT3AXOyjfQ0hJh9FQdus85wyoH6PkFvB6paqZuA9EPIv5mgPrnG0LiPhQrvBAAAAA\n",
              "Z0GeQkUVLG8By/byqgAVham3Avis109XucdSpEPSnOEFvyxWFN1tRP4X5paqgqislQboic3Jo71I\n",
              "XCFtTVNtugL1I54NqjidWct3tyndl4Nw92LO+Vc9FrMRcTa6Wl+e12hsO+VtHXUAAAAxAZ5hdEX/\n",
              "AI7cLL/SnFC9eLTBJ7kI040Byv/08idXmfgBAjsv/4c1XVSEMH6OO8AFxAAAAEEBnmNqRf8ASISp\n",
              "nTyisI5sJEALOQdUl5IPudk/RwmZnaYiV1+adQMmQGDFMxOGYd77Rxw8v7JWi+wrKHEYutgXgQAA\n",
              "AW1BmmhJqEFsmUwIT//98QAbB0drWMDgA5amEiQHTl/kJ6HcrCE9CjHkS1JSM0jPl3LiUiwY2pfF\n",
              "k6OQ85Ck19Ih7yBeHTTh7P+tLRBwobVQZ6S2r196WygVhIreAh8iNr7iYA67EqojDz5MxMeGkUqq\n",
              "S1DC673fBWzC5t7isujGsWoEdCqRJ7tds+mybuuG+dTsiUHXKgR34wRdpKptZ+6jeD+/ILFpwi6Q\n",
              "kMlJbENK6LBmtoNX+RWmYLzBWacgmaXBnsnDD9dUNuwN3HH8652FAU+KbeXt2RoNqMuJX9ZWBdod\n",
              "wWp0cVQpJ5FgKoEREGbdbe8lGrMeTe6RMTuXmClTUnOZn+2MnBy8mMDAhekc9EMrE7tNOyDpxP5U\n",
              "FjuW//5Y4aIzg3ze0SsZq0vDb+xfUh/tqc+nQPYJgs9ehU3dcIvDu2XlHBNJPiuOtsByv71bsP0u\n",
              "UYAb9PUaCSWra6l6M+w4qz/6JbNJ8VZA9QAAAGlBnoZFFSxvAcp0CICQAEz5m/DaqHq7LRMYdQuE\n",
              "H6cwiYRP9zxcvXAQlBe9PrFOVdHUXKBvIRistFjQTJgEL898T/T7H0cR/WUstrJJGSxGX6xRR8tC\n",
              "Jly6hznMf5Xqpxn9FiPUXFD+ZMEAAABMAZ6ldEX/AJKRf4TEpwUX/PppDWxQArZ+VzxXf9+3l1XQ\n",
              "12AKf0vVQ4iciD7xa0g8MmvegKBwM/P37J3fEyvi1tA954bFTUZ3PQAz4QAAAD0BnqdqRf8AjzEr\n",
              "WjQKAE0U2N3DSwmk/Yuh/4O45XMMn+a4bWUIY1Rn5ouqurRxTk1kZ3x/6M28vanFYAEHAAABbkGa\n",
              "rEmoQWyZTAhP//3xABsNL7wPlzAAXXP0qT9klG4j2VwllKGLpPWJwkv2NRU1QSW7w74kgFb5Lyft\n",
              "l0a9CgYSV1kKghvHeHTyY7giM0q8bbPipTSejKcCm/AHGNTczcb3W0zlq3gSMJFz7zKC5c3RjB3d\n",
              "B9fewErQWNUnAQHcjCe99ZtCB4OUt19cj0v6AhaueU48AW/48+jG+P4QiOKKYV9W6au2TsEkvq9d\n",
              "0SvGljxuLGZE5+W1zhLXcZl97I2qvtDGPYb0xBT34C8CTshNyegpGCpcxUfFpIRftFzxN/HHRafO\n",
              "IoO15yMElY/Hh0prhjXQPEPFATZRPOiN08r1x8wtC4yGMcyI62smx+SA6/uIH+BnDGubXTflRQJ9\n",
              "LJFpAzTCR7Fue2nrUUHgt8C4INXPPyjK+QLwkJp0Epsocel3KAjhSUakXeikBPQ5RaUsieqDjkLj\n",
              "OY7lcagUTwTtSLsywB39dMCWHy2tQAAAAGFBnspFFSxvAc/LkACZU2tzG33tN6kAIl7brJ7vUXPg\n",
              "guS0cV9wRSQ8HzbUh/60C/VJcnFThll6stKNM4me57l0ZSPRKj0dd8FiD7dF2wwQTySDKPaDH7HB\n",
              "coA1gh6kJTVtAAAAUgGe6XRF/wJN++YATRwx2w75q2RsmlQALM4Wl7uSVdMlFS6PxN1/hipYw9zP\n",
              "bUfCkCGyQ5MEFRoYLpIMC18rhIzy3GxhH/Kha414ENFIN0A5ITsAAABOAZ7rakX/AR2k8gAJYp8K\n",
              "DKj6KfkzwHdjL+VhKe7kLPlmRYYeP1FkDmmrKPBv48U2awO3QplI8bEROAjOFr/YNKg+eK6YPRi4\n",
              "42+gAHBAAAABikGa8EmoQWyZTAhP//3xABsPdSGlPAHJ9yyLbTR3/b+utb++ZScieREBJSR51kdn\n",
              "mpp+cs/judg05oi33imugiFmQ7iRUL2Xtn30my4gCGfYGR9YFvz4JQUFlI27uyPWFoOkEpdNZm5g\n",
              "GIv2Ul9+HsGi7pJJGnpwTEi6CqVEQL5aD0pr3aVp2JhG7Toq69fuQNCTqr2/h4hk3/g75Lupmers\n",
              "94CbkItYDG/KpVcTte9g6P29YEyFW7ybyMkj156Yu0gGP3CvEyJ/gds6fzFUNyVauchZs49iBsNO\n",
              "4ty0sH/yNZx7A4BLhLe13l/cygX6qEDxfVkIYUqqSdKWUuk//QC8TOyXys383JxPRvQJOQEv3YJZ\n",
              "oJJHbff79FktrS5fChapqSqfC/wQgvJIXO86p3Lzpv6PusQiAYvu6lPfvZblufGUt9cPCpuzHwGQ\n",
              "bT7pMIFAVqi4VOEtRsWEETUgHlqymNjg5WTeiuLu/LW+1NjKRDl5/UzL6XrmKFVzLk+VSchfWfE2\n",
              "X108jksAAABgQZ8ORRUsbwHNzgwASvxZxOFnpeOe1rycS6dOBpORlzGp4ieYXyase+Aamp4742UM\n",
              "Esl/lM317khrnYKC8r2wJ1DeP+6Ltj8nbPprIFCYOpIJ+jSsmNtj4UtDigpaJApbAAAANQGfLXRF\n",
              "/wEeYA3kofhvB6kPbGXvmoAWv9xCmDEQrAY04chfMQ2Gny7/q3vxWW3fgQ4AAJOBAAAARgGfL2pF\n",
              "/wCOHUx9ibR7A4GoL1woAEqn2qGz9DmiGAo+7jBrfseTVbxT5vNid48Uv3n/pGJ3Ewd7eul9HnOF\n",
              "y19tEr3O4bMAAAGHQZs0SahBbJlMCE///fEADS0CY26AHDP49N1OvihHTq9oCf2U5+hw+MWcB6Ww\n",
              "5WOgXU9/mBUEcFUm3LPNY1vRV6myWdz5ROuYc255x03gfi1fSyuQ1xgwUGfT/VWt8YpQGSQzVtoe\n",
              "K1hrdFmxE6mKYipthCJjvx9LU4Zoj8pGA6l+F4/NRQPdjSTCUh+Br3um3rG/Zm1okKLsFcM+JN++\n",
              "CVT0L9I2uzjA5vPVumwh95N1GZ5TrXgkLhXVBsojtZz+IJyknzC63PcDF79mQn/nPk3ZZ2E1qKAF\n",
              "D0QjD3RfQ1UhBTymovT+u4v2F4c4kYQugwc6Uqgkfk8vXUuPmAevRJxqj2797UdOoYqYluFCMWH0\n",
              "ujwXBSA9YWrNGNBTa3aXE6ONo6d6zTROqY+aggsTh8F7ljWCl0zWlOBHwJGjEN/k4k5MBLHTMho2\n",
              "hPgzSbmTm7+7u+4OuPPSl8iehM8Luvw6UaqZNVl+y956fbuQADJv5etx6IdQgcL1hUeh7C3ISuCe\n",
              "iBoccAAAAFBBn1JFFSxvAOEtc+GOYw18RvXTN0fXOmROkvtUnT5B4pcf4RLtUxWus/qunSgAhPkB\n",
              "XvE1RaaZYyOSOK08rsAGWEUla9yK8wJTf/BiCa9HJQAAADwBn3F0Rf8AktKVr6G5X/pSHt4BjsjR\n",
              "UwAJrARW+A3Yq9Ot+dHUhu69J2wVlZdt9G+8o7NKqIKXGhXiCkgAAABKAZ9zakX/AR4KxnUgQwVA\n",
              "CPBfZsHSCc2mjshr+zi///93zv8CsTfk2sVrrNpsbn5FT5RdB+Bg0w3laxWwE/zfYOQ9YwXNohsm\n",
              "Ab0AAAFuQZt4SahBbJlMCE///fEADS0CE5cAFLtNM4DJ6Wi0yUTtqMTS+pux6WB7x0pGN0AZ5M/1\n",
              "H0UZt46XL2dY1r89e6lVTtWmLESGvsMwqR7hqHzIHiRyIa/TAN6KJmIAZCKK2Rsd1S6ZDcfpHRlq\n",
              "jgdBJVfOifCiiqB75XI6eCEUyxRkVPH1XmbIRr6Bui7GEvB1m7owA+cO3Lk9ph3WFsqOo93PBN7A\n",
              "R/4K1D2U/iTMkRpng4hVXeIBX0SIxDCAy78OTgZePnxIB9TFwK8L37v9NIvsqTGZI4s9EPntsvYI\n",
              "HK5ZGIPviNFDvkE+nrq9bFJOuQp8GeDbTTHbMo95h1RT3IppirBhbaoA7u3NkMkOtebKWH7J6F6H\n",
              "iOJUdbsgbxkR+5MUaYQj5IMF7++NVOk8X8+bzfg8mTkvpzp4M9bU1opKauRMu+/3pY26BoJeMS8K\n",
              "beaUan+LJnzTJ2WPu3LYpW/yIp0aWj5avBcX2B7RAAAAVUGflkUVLG8A4tS4aKZ/ng8MmU0RWDNg\n",
              "1FTc4ABbIE5phxbqYf1kHIkBJ3nZWEisZzInesRMv164q92DNKsvIZ1zorHZm+OvRKh6WDez8OgK\n",
              "wEq4rmAAAABLAZ+1dEX/AR24qGVGczNZ2AAnW/v2msVfboAQdLB85fCWObZwLMhNNWNAaThXo9h5\n",
              "qcKAu/xL9hQDCsDCyq5OgTvSeTiFVs7fIAN7AAAARQGft2pF/wEdpPIACSpkVR9TUwRkDOCfcjKS\n",
              "F36D+nePBjw64k/+p9QJIKdcLp9udgAfPsLM7xGCFJMbVNFa4gp0SAAz4QAAAZhBm7xJqEFsmUwI\n",
              "T//98QANM79ohW6AIQbHV6FH0OVv8dBY1JG0E0fDLE5sOc1QHlg732oxQ6VDLdNcUYxxmSGqCCCQ\n",
              "LDhGD3myJdSevfGV1bIeJ7WGziCifI8+1aoICzinkOP8jNlKI3VxL6ISO1gPo3LG9AqywYJlDWPm\n",
              "sDBiXF2ciZvWauISl/kPdN0FdWeKqSNQenBqXYh1wiURJJjBvaweBlv8My0SEAhiAeHfpZiBHXjD\n",
              "L8+Il/Lexe9vUFgfPSaKFN/L6+ETauktYRGYE3Jigp0lY7NfxlD03edkUmiDgQqkNCc0LXOlcLIH\n",
              "ltpfiBMjBjnbzeaWtiRf58wqqCJn9Up58KLoWDkMBDJ05b0OYT6TNJqSpSjoeTE/ydNKF9gm1KE+\n",
              "l/0nU9Fafm7w5FvpEWGv8XkWZCXu62qjfmtpURkLLI5R0P9Z46iJC/aNbCqwt3oqQcT7O2Tn7ZuN\n",
              "iPhA6ifoR/+4jdB3swfJKDErx2wFKNPLS5xX2GtsfoOR556eLADtpaG0godZX+hq1Eoqak5UZqQA\n",
              "AABkQZ/aRRUsbwDi1Dx7cL2lYi8Q6Nss/VhrlXi0AMyjj4yYa7JqDJ67ZBQTA/opVcrbIWs3DXOX\n",
              "CkdQnuyrr48IB1k0S/NfvEKsPDmVhExDqBeQ4bxFufSZEiNNUiVjjXoAJUyhIQAAAEIBn/l0Rf8B\n",
              "HbhddktsQEx5Nj/R8UAEs/v3Iu2GrDQOTeqjmC/KItvoBhhel+kQwQEqsSLVCnSlbSg8+HMoMGAg\n",
              "Ad0AAAA7AZ/7akX/AI8xKr9a8G1njNSbzrDAAON+8ruNn6zPJ5Vr54Ih8WXoWSpNWvOOVkXei0sn\n",
              "mQrwd3YAI+EAAAF2QZvgSahBbJlMCE///fEADTTPOS+OgD15NpVv6k/2cUkJX0GJ25OjRSYDHGMP\n",
              "EA8ScNMbYOPqREHHGKrx7G8cwXW6xR/1CTRlNZhna6+j46I/TYjibUyX9rKi3HekmFiKfpRsXiNl\n",
              "2I/4mrzLlPyX57Ys5Up6fCe9LYRxEEoC492aBNS+aybdqHuJbQbPVs/z6/X9e7lWIhQLsSHdusSU\n",
              "3zWsQS+InDvxK8E4q0v1d92HxuBO7i44VtEZLTg+CMaN5tVeVtOCpB4psb51ZEuR4CMyw5dLwuEx\n",
              "9oPKzglRa4NNvsdV5m8Rxww0l71zPmmjoA6KJulpwEdHPZ1YIjGQyhEU37l6d4qCEH8adXf8OhIj\n",
              "3uwBz8W0ds3544ZjN0LhKF6TM0V+r8qVLHYwONCvi96Tun3RueXQIJr0k+f4perzj85kIXj91Ckn\n",
              "YITiioYh40gkma4FSwiQX5pJeKRRmauFuxk1uHpgImE10Mj4Nw2E3QmsYQMAAABZQZ4eRRUsbwDi\n",
              "1Lhoq3pV7J4dU3kgQA2LBN1iJOKuLHWLQTCFuexZlagmMJe0rDHad3zZCDx7jtsyIBjw7lgOLDKW\n",
              "yx1EUvnFuFNJCmePD5eeAzb5eEyrBoAAAABLAZ49dEX/ARII8oi2t0gZVELwSqwUiBBsAJrAAKNo\n",
              "6RAVaTpHPf4PvrCmAI4Gd6B8GUJUuNaxOpUm+38/G3ItlkgrR8MnkOnAAH+AAAAAYQGeP2pF/wEe\n",
              "YmCTgBKmgYhjK+uzC029pkWbD0ga9b2peAG/26nMtI0wn4YAudlskw4CcYsKLrhatyt2FzshDAOi\n",
              "nJGWEKFNnms37qJaNCM9muuHZVLIt2r89sCY7TwAAj8AAAGRQZokSahBbJlMCE///fEADSvWaKAB\n",
              "wz8Er2NerD598T21srwOhDA8JksHRZJCQxfap0qHljqSVyZfJ6V1JCG5wtBaFjZG1dYJdx2VArY+\n",
              "O1en/ok8TlNagU6EqBPvhKNyxg2R3/vEv5H7nRQ5DOxotex765qCJrUUfJbiZoP6U5GbLfI3/wYs\n",
              "TQRT6Jcs1TuKoaq/Po+SPujJIUtIYluEXjB0z6Aa4s254gQik9SO9r+Ejo3E5YfctpNubrOjqLku\n",
              "cdpVZ6RH0QXZKnkcLClw5ZfR7xJdZ2+mX0fCzvga+KN4w/i79nwE0kRsvd7N4/d5f0ZdWBlxZ1mu\n",
              "DsQRwX+9ACPh8TRnEkrF98kzLAQkaMbTA4iFKwI3gDariq2eOux5Ai/fQEPMHyq8Ke8dUCGT5GMq\n",
              "i6ksdUaaU7MDQztbu5UhOirFc9oXZ9ghp5noDsfLcg9pmFLhIvzUHGHolIhzfJrzZCbHZDEI7Wfn\n",
              "YixvJAB7Lt6ZOT4+q1wio3bp62P/lsi9YJkek+IBkSJ78k6OnusAAABaQZ5CRRUsbwDheHVyKj/Q\n",
              "2bHWzFDP46lJtK8vGIL9ydQKMRRBDFYknHCwRJvSo5HXABaZ4KhPq3E79U+EIjjpIBz55R92iLAX\n",
              "tOy0FyNtLNaUVNyYB+AzHO+BAAAATQGeYXRF/wEduHN8wAtwIDU39kZLJFzeDisnA3iKeoNGP1Kj\n",
              "HxmOSTAsLarBx/js4KxxlmEpGDez/fWkyDnPRyvkLHfhqzLhRyQCACggAAAAOwGeY2pF/wEUzcH9\n",
              "tN2n4XJMsAAW0gnXhuT2eiG4coAhJeR9o3/qAriw53HQwxeVqs3ZE8b0qKKpABdxAAABSkGaaEmo\n",
              "QWyZTAhP//3xAA0r0sNABFf3WT/m1C5IlBXUnR1OHIlgHKZgFreMT3pb/GSFSpd3L5ART9jdhddr\n",
              "177OSxejkS9Mq9MVjRJ7mJSL41N55oaYaihe4wbzv3chHOdrkjinpOYreai7mFHQszqPvC+WDcMm\n",
              "y8iVl41AnGjD660fpzhq1BE0wLSmbQNNBpC2jrYkNBif98fl8CVLl/8+5vRCSnosXO0e7ICYeraJ\n",
              "zR770pVFbj1cjHansNu4CTOjJeVOnb/vEMPOnKuY0qXkKivVwKwAnjk4EmhhJ3MCki7zpAS13+V4\n",
              "zUFJ3l/cY4WHZzQhsqEdAiIRzTPkRCxWxWV2lRACiqGYA0PSpD85LI2Osf1bh0WslXZsdq7l160l\n",
              "b6pBTJ8ZQzCbCubcYsw2flu/uggPLGTLrIJdz9OXJM5s+iSdp34DgQAAAFJBnoZFFSxvAOLUOfz+\n",
              "m3x8exHwfBJ+8P+wskP1OFMVtCaCQFBIuFiW/z8HopTFzmEHmLgAK3zYTcT3RKl2pXQuoMDnYm65\n",
              "wyIPgIs0SUIEtIYFAAAARgGepXRF/wEduFl/p5bP6st1JsUgAVr6biflsDnTZyG61hF4IM7d6GgA\n",
              "C35siGj4h9ZzS2NWDl72zZuQfTgRlfXME58AErEAAABEAZ6nakX/AR4KxpHS1s0NlLJQASSZcCA/\n",
              "DbkAZ/42B9SqrQ1ekKWhQsOR8Wk+qNQo6EX+SafsDzjbyV8w5RhIariAATcAAAG1QZqsSahBbJlM\n",
              "CE///fEADS1qUXugBGFgcLauEyZpWiaN33a1yr02Uf9lNOFV+I6f2W+wVp7W7KxTkI/YizRNydj6\n",
              "75DjPkf98AL1bjQfpwCtH6Z3O4JbeDyApCjTFF5gg6qAOOYZfG/tzpuVokkbH9twbfvW2Lc/xSDF\n",
              "OOENxW4qKyJSbgOY9T5anWFJbPIggknqz4SmPD/rNGrkmd5KSsIzegEezCcPzAnvinc0d84Q8XS3\n",
              "FCaClPD2LJ7ns3aUdv7Kou2w+gbeTKLGVuBY2t2F8wetNbA0dy/NoietnV0ClgztYffFvfRbpiy9\n",
              "V/giNrDDVOfOraC5/ei92/fmlvpKBBsKy8cvYcDpIII7ePht84gbQ8+6/SkL3Sn+X0FH+KZf6MZr\n",
              "RdMB8ZXXTR8ShHAWvql8OuDsYcaGcKjJhjlNEQrCFof1qis1v9TuPs5DFtd2G1+/FbOkrvm9P6K3\n",
              "NpxhPNWJQ70kkppAZhY0Z/+o6VcoW7Tm4SvLNME2/y/SKaWnozSXNu0SVHiu5uUHfyVKpsvYE8p6\n",
              "sqUn+YCDN/dYEDg0fmNBeeIM2lijaqBpiMw4bTAAAABbQZ7KRRUsbwDijnOwfbqZbbFWjPi4UUqo\n",
              "AH4AWg9MB9Vv78t06p3KSu9T74uIX8mtzxfeS8KDtl5lPVOnrdsHrfImJ4yNC9QurKpIERx8hM1m\n",
              "ZkXaFFgzQj32VQAAAEkBnul0Rf8BHbhmAQAtc4oHBwKv3B+uQ4uWjhYAss+t3mTrXK+EO5kDFjZF\n",
              "BZPPou+FC906LovMcqouJf3UzgqIC3jPv5oBOQYkAAAAUgGe62pF/wEe9zQALX0ESCwc7M7VWP76\n",
              "Ye1UddIJMWcRUB0u71A1gkQdEpCRn7wF/G7/cfC50I70+RuSwKWJMexmYG8DcoJCELui3DzK9LEA\n",
              "fMAAAAGvQZrwSahBbJlMCE///fEAGjzTPQ6tlM0Ap0ALmbk0BdoMdzqloq9NR7g6RblOiERJXoIM\n",
              "k+J7FXKCyfWMn5h4INA1CaMbf7vxmmpWiMfm87Q8D/pE+MycKsUOPdwYvtp38TJ403hcGwpglMYZ\n",
              "LCiW56Dv+wFDK3OMdyeWRo1+dxQwcRW4rratTz1TZ0zocRGZVHcsYl6FhEAQ3jkR6WU5ecsue7Tj\n",
              "mS3bbn16KWoSbsGY/6YSRKaB33KQkM8ftRj26pvWh6du/YkzhBATaUiKRxVDwnCzh1otVdHe39Mr\n",
              "bLpMiMGgFqC+TsJhaV2qgvJAB8d9Mjb/tIS3OLUjuhdRZzijlCX4HeJf1OBtJgp8Cgkl2sYus4RA\n",
              "2aBnpu8uUvSO4BrrmE6eR+yW96/BQFLSRGBRI75OkG2o/62NG0+PBi/FDziTAamewV6aGZ+KOqL2\n",
              "sLz0extq8YgupQT3rQTHBK5ghFbGzVZ4yBnXRgn1hxGhg0TDM140ErKbNPQAgVPerhyBCyzW6OI4\n",
              "K2wM+amTifpF7tOAd0mWYexButaTS8ZombTyuk9MpVVHMkkmCDkAAABjQZ8ORRUsbwG/ovd/ZOM0\n",
              "+mEC456S2lurOWnR9ThK8eb1amybwAWsvMMI0oUqtlvrfTlmro66PpRZYhZRkpgq61CTj/YqmFhe\n",
              "2ju7Y4Ay5OSvEwKOzgD0e2fLvc2DjBAShWJvAAAARAGfLXRF/wI8PjnzFV+3dC6HSrbcyVo90GQJ\n",
              "FfJL+KYAcSnxW92lqfR+ZSGEB3gDPfzfLoOvR7UaEwY1sAEskAgA5j6JAAAAVgGfL2pF/wEduMzr\n",
              "hXJJnsp1oEJsABbTTedMvxKlwk97GsuIBGVDE+v+xnsIK0Os9zavZJNLEG8Zp49EYcqLz6bn8gtT\n",
              "viNsY5TS4Q9hVa6ujxwFzKrYAAABlEGbNEmoQWyZTAhP//3xABph+EgmCzTrwA0pL+sHwY6exC4F\n",
              "9t+H//jgrwREsYLa8l810sER0eBBm2Ic6fVbG/lgk3TlU92fW9G2+R7RQGM5nRtXJKa/CkGrAiWA\n",
              "NqAqGmMvtFX9mnTZ66FCUZTZpAp/T7GBQyTxesb3q+AUpUFK5PP1GGGdZaRxK70TUfQSHgxFXlbf\n",
              "H/SpLuMdv8RiSXmAY5S7iaqss2aLSiS/HoODzWYGvD3JvGQ9A36ood78xG4q5rWEVTkXFPDMQP93\n",
              "Y4WgmT6e5fo+zaRbRQRlpZr3jJ55pgEPFdGHVcIoWLjvizzldoM9oQ1ynGesjB4+kUHMnlsaAre7\n",
              "HWHVPkDQf2q5ph6b7HnyyFwHz/wx/kt+4pla91chcKsFnEiHZ7H5D6Wqj4GjoKe4xHDmSIrGM4vj\n",
              "U2Q+Gw3J/UBfdlSAqa812zVobPNjzEuK/OyhD++HxSSN1LOroDpAqWkRU69ngckr6ukElfgRKwxD\n",
              "um1VCXLBX8D2sBOLhklHq0HUop1UQoUCZlUXAAAAZEGfUkUVLG8BwPb1J4AJY3NKY4D7ZUhHmWc3\n",
              "KZbeB8dILnRegwT5jVlLWy6L6WDfoPbgn9jOIqDJQGc6K0juOj3MHn8zWRTE7UMt7e9g8w6JL8k8\n",
              "tb9raoMaPVqiHAoAGYnWYmcAAAA+AZ9xdEX/AR5FQIitwIE5AB82B8kAhEaEGfhFqQzwHnKB2u2O\n",
              "ppcFIEUJTTmTe2kL03hLNRAUangACuo9dHAAAABUAZ9zakX/AR5iXC4AFYXZUk0TUeZYDqko7DmI\n",
              "zJgkhG0LFqNmepahpfbpDRNOnyLupWaeAhvXYrFiAfv+qlJ5vAIzQpztfQ7sEZm/Sv0R/mfhwBbQ\n",
              "AAAB8EGbeEmoQWyZTAhP//3xABo80zOf+5misSVoA4y6xhWCejclXnXB9RJAcEyJlAF2LwnFR50k\n",
              "lG97hbsxNxzB4FGI1QxDMeBD5NsWgOV8d03XufeK4atR7I2cu8OQ1ncWAinWfUDMRwa3OudsrNSB\n",
              "7MsvTWBxaxqJLapY2/n1kt/bhND5ZwhmSwJuFuLGTiOGrxVJvQg2nrvSc2e3EsTmTCHsayoBy1H8\n",
              "K1FFh4Rs9dykU9U3ZxishURhaLdZzzB+EaD5o3bSxJ96kEirdjmv3OpscDUJbBDIHKKUw3VOtfof\n",
              "Jx3ayzNFrcvXs8+64ujs45sjENzO2fgjrIU5NZFxt4YRQHLbc+c27lIQWt+1Cb0B2jOEizN8Q/tg\n",
              "4D01xbOaVSdgfSoe7uesoceHQr3BNxWYNH0/bWIpbS7whC4m4v0gxBi3y3lVFKwFSQ2h6nlLwp3E\n",
              "rA79dX7xwWZlFi2UedNJ6QqEiLyrVYQTAlgzWZMiuG0UGU99HMYejMrFe+8ozHG606Ee86LPQRRS\n",
              "ioOpoO4hghSE6YmjCwKWehZJMrREBlRhUplJyKU/Kq7B9tbLwKs/FqCX5xAS2O2AstpnHsamnMKw\n",
              "yLCLdB6srCV3FNdyxl+gkPGNG/FpZ28E3XTy5sfYJzWlMnfSaQDC3mPuiTkAAABmQZ+WRRUsbwHB\n",
              "kS4LxLED4McZsQY3mDYtcsOOaS9RbMPXrgAWmXWUWZqqj1UtWEfcHEkEcDEKu5+sBb2LlxQ5Lvr1\n",
              "cW5c2AdJvW+Kaz4Kun9wYGxKZNL29QLjq8apgwpM+6wDV+RMAAAAZQGftXRF/wI9k6gBNFPeRBif\n",
              "oDrUOxnDDKTe2IMZsbNphk/j3TWSSX1riPa+T1HjcSgdfyTJv2TAFXEGsaCR4gFYxL0MOV+vR+nu\n",
              "UsH6HhGqIxpfx5MjOiKE2rh1jBT/tNA4AB4xAAAAWQGft2pF/wI9k6gBNP8D2x/c6iSsmoRdGwIb\n",
              "cJthhRXBdIQsewJOGTnVRQqlIFol6ONPtgZ7DMt4Iyq2thQ8W4+X+7nVRCKWvyQopqAMVqNmg7+i\n",
              "fSkAAAvZAAABpEGbvEmoQWyZTAhP//3xABph95P0ADqWd69aGltnNjlCKrVuY1SRcTXbnOWlMbz7\n",
              "Kvz3OcDecUtz+cUA4vFUpDlH9SoCstBz540ryBWIkIN8XWoMVDtHih9X/OwGSY85BbZh0JrsUPVf\n",
              "/bLlDY5RpDdJH4V+AErTv5NQS9yRyJDLaeFAA/nHPJrQaMM2BQ9NsV20+7MmQfgWpwh0oL2AcFVV\n",
              "TMzSZ/EC0b5aPZQy7og16H13oy7B7+ScccOxBIjXhAxY4vAsMz1Fb/bsBnK+sjQehD8JL39UVV0V\n",
              "yVrrZsJCURegJmV+OkfFGzLHS0Wj6ftWgBKEt6PY/iT+eiaNHDfQrsc9XVc42KSS/j6ZYxCEwFNV\n",
              "eFQ6GvyS6wTgAehsoREK3J6TuocvzQeC/HWNAMzXHpV/YWC1MZclcjZNMofSEVUOUWSAY5c3KB1h\n",
              "NI72pUWQFBHZa82pbRgGUBB3oDstqqzIxFI3eE3cZe/XdjOmOQzoDwZxCqN+fTVVPgFL676dOvL9\n",
              "xrzYAzljRSJvbfOxE0TYGKXkd2Yf4mQB8urgCSWimAAAAG5Bn9pFFSxvAb0PCoqI71UmBFk78wz7\n",
              "Lu5n0wIpKT790fNvbLa07J3aAAbsrEp77yT38z4vy7ml5V3h10cEOwBBJcUY/J0OsRWvJNGCg61w\n",
              "43WNxnb3g+pPgzHYznyuym26xIz0RSWvE133swgC/wAAADwBn/l0Rf8BFFjt8ZaYRhCreh5aj94e\n",
              "jM7/Haj0t//I3d6GeABWFRfldYIx3d1J0yN/yMZPvDvskC4gAWUAAABXAZ/7akX/AR5iVrPgLbSy\n",
              "ysABJJlwID8QLqqgwgwfGZbvi9nFpLWIyFY90gPip0zdIdiM8m4dcf1KEqa3SfcaIJ0VmEjPmuXA\n",
              "vpPYbWqtjp8M4SBWACDhAAABeEGb4EmoQWyZTAhP//3xABph+EgdMBCtXACwfGx7qa+TBufG0Duz\n",
              "ggvueJEeGDVssCJF6EmtX6BIc6uN8aEH2My7BEPLNwB/WSxeICIz8Cr4ERPYobrbK06tsaxi6FKx\n",
              "amqXLLM97Rx8MvIQswVAkq1Uyv+w1+AdbIMVjCOx14mTzJrNOS/iggMN1eH1KyL29MX9/t9Q/T01\n",
              "3+n7bRUfNE0bNqRnILitnCOcoRnNyXocnL3i9jgdMS5yrzbqnzEj7j48Ra4ckeEfyM6MJfv+sCxk\n",
              "HYOU9m/xMh4y1BPtSW9timPBh+osDBM44j026JmvrtMxWmXz4/zRZhc98QH5+B/gImvziP5BY2Kv\n",
              "J9ns1p9sSF5b6Lw/r4jPHnDnyE1ntJ5k38zctpAIg82qzEPynC87R4q8cYh5iR/XKTbdLYSPABmt\n",
              "ADrHFq/bX5NfVFROVFKLHRi2KT5x8F1f71pDgBBP1Lb1PkPyc+ENev8TB9sG15Rtdts/27kAAABo\n",
              "QZ4eRRUsbwHA9u3dUqQqRCt/nYAFfICx751Mai1Hi+KQKlntdaQ+p7ZvajlE0Nes0wxxo+pkayLQ\n",
              "X92Y8NYAQ6hY/bj5cWW5YPGh2bu+oayFMYpyYcIpkUzWTKtwcAdDISSzQ4K9AQkAAABIAZ49dEX/\n",
              "AR24WX8YpiQAs5qfHOSkoQCPEerF4EEEyehU+t6HYB7u6DHsIyqWRxdoP/oTUpSDa5kyMFTZO3Eq\n",
              "9Jwcu7uY0ztWAAAASAGeP2pF/wEdpCyAD9xqx7ktgExJdO7QuZTR4o7Nae8R3K0Cv96VAIPSzYND\n",
              "3krnEfBgXke0SDX6l/L0zYj46c/OJ35YBrQnYQAAAYVBmiRJqEFsmUwIT//98QAaYfMGOoAG0/5p\n",
              "rS+/IS/XMSwm/TUDENFcjU64lHSY37WWuKekD0HQ8j5a0omOb2FEO/+MaXoB2HRkfUgVN9iEk6TS\n",
              "+XdqJL2k/lkjr/bnfh/8AMydO3qpFXGVbTrzsILdvQt7RXwhYQfojm6krWgJqSxeEpin7eywFjhx\n",
              "NnwTSJrKVmInRS6OB1dlWxDeqSPtN4s/AnDu2ZFCS5bHDDZSaqqEMC84AwB/Xz+6tp02hC13gjiT\n",
              "LXsNCGHIMBxK4jr1kbH+GlA1mQv5R9LTv8WCJjYdTYmkAQQxNC/yAJj3vMrao25PaL7mpaEwVbAI\n",
              "y69L2pprliPp0EFq8BbqDrHC53uv9JnwaVC1rRn+maqsrfJy/U3k2xE1s0E6hzJXnVS5ce5rsRsr\n",
              "msKZzjaYAcSjlf6jEb/vvwFQqtghYu1IUuERtUQmRDe6CGBJ+nIlqSoAojKoDw4Ogao57rGsDpPU\n",
              "QG5WHWw0FrI5rvXcdsfvC4fPS0cioAAAAFdBnkJFFSxvAb0O6YONvmqEgAloT+k5VWoMRrN9BuCj\n",
              "w8XRPoldrhPa8iJSE0yt1eSPtfhUQyJ6PruXlzK11W210uCC6bvYlX1ObeTFfoxhdSX5sUCwohEA\n",
              "AABEAZ5hdEX/AR1INYlFMF6gldvNGnBFapWy9QqXnZQuUGAHFH5VT6qlgTvUQcmKEUa9x+YQIcSJ\n",
              "k+mX68ArnO3zHyUARcAAAABOAZ5jakX/AR5iVX61ZkDHoFeHLq7oFNa0ctat2Q2NRE0dTOwp76AC\n",
              "w73mMJkn7+fnLHAGGc/921ISlFdSybPBXWWb4rkxUW+H8+voAGfBAAAByUGaaEmoQWyZTAhP//3x\n",
              "ABpGO6gAXyuLwvS5N0DkXP7stE9UvYUm0AellsDTxuSrhRudStbpEOcZIWm0wErqN7ylduBiFkyZ\n",
              "uqn9jNYirbB33Kok6Bz2j3q/UuZudvQV9P8MurypR1dmFcvWADW+2Wxsq1BV1wggmsFpuQ9b9tr+\n",
              "xYBHEgCNWcqiLwnczTnr+/2dp691XkpWV6sWBB94k2MyFnxBl2m942rWbqtC2yNAarHKAk72VL95\n",
              "XbPioYi6JvPEgvwepE9JABJH2tBAsHF2xjh9hQJVzuuTCafdxI0QLkJ4p6CYEIIRzgL4lFQMcxXh\n",
              "JYFdx/GWlo+KH9YGX6NTYLRzOMp6l8CIbXk1HQ69cUjoH03v7/+pxKeaItv94FOpqLvsEXzhWLVp\n",
              "MKy2SN7hz9YbAPTNTOixNE2aekt47XHHzb1M3CVApyEDxzlubndHQW7+gU6HRweG8toqRTHuUIyQ\n",
              "R7t0zbc7zmWay5Cwp6LJo1aRXxf7Go6tdFVX+RcDHI7V18BDA7WXxN+szlTCku+i3KPN/Gf2II5h\n",
              "VDPjk4pj2aIVDlThtzTnDLHhAyxncPQrlzLsBDNAwReG4uZRNizKE1EmK08AAAB2QZ6GRRUsbwG9\n",
              "AYoNoAF0H4hOY27BmMAlUYYQjST+i3ZyEM5uNIiEDcsPuy+IP7zw1sCcIG6VSn9eDq3qSRwFsYMZ\n",
              "gGo+DuiFtXpweX3RH1EdZcAC9Pq+IoDi/L8KR6UnI2UNmmwfjO4B/r4p0R68MJBIUnrp8QAAAFsB\n",
              "nqV0Rf8Aky/teO0gAJrGeFJIPZMpFNEXoNeCeKWb8amJJYTazzHURORo7dholziRh6GYVxOViGpP\n",
              "BdOEbHYzWWQUIBc4Q8TY3OpQNKNWyi5ScgTdl6+PqC3hAAAAVgGep2pF/wEcre4kkDZzkTZ88AJl\n",
              "Pw+GNTySwPkctK3g1769UI76Zm4WM6Xlq90DQ5ZYL6wDvdTvQF6+TkSAygKKI0G8ovul/aXthRh/\n",
              "vFgPoYTYAGjAAAABekGarEmoQWyZTAhP//3xABpf+Gmqr4AJ1XFmtS6seAlRUGEWJRpssOcDb3T9\n",
              "czBGUq42fPQXLB4iuwf54bAwu1ps/PF6Lzm+gd3iVYAFXnoCmNj/HVrLssvq+i6PSkIE9pUf/pm2\n",
              "rajf2z7HcUHiA/T5EGVJHqyVSTrVCYY8Tgf5xnOZid/C65p/n/aU1k2F/HDJN9rLk//fThgCG7nJ\n",
              "byN3dKRm3JnR9bmh7NCDPa91VlilASIwsfb+EvAeaN3COiX6w9XPiEov2aTfQkiWvU4W/sM0yOZF\n",
              "T2JWnJ/7YQBAz79CsZMMw1OpZwcRf1egS6Fw/8bYRCQsLPqEfET0UnMSzwPvEyf0vXPyoxXwqwRn\n",
              "/EAfA7xm6EqkHd2pxhNyQKb5OcQSieTI+OSvuFGd1dBy+n2reR2IaG8qva9sKdKriZCNQa021Saf\n",
              "3JhfUZPXH5njcZb5tPULVZVDf82m7yKzzyPBRvP0aj1+AQN9zzVuSnrHeriHjr8BwAAAAGJBnspF\n",
              "FSxvAbiSgyHQkeAi5CIEANi3WKAUnVJXRWD9VHPFPeS+uRm+n2b5UqfNBz7hxb8XEJbqwSnGVquC\n",
              "eXZk3DT6IhyV1AppPNJ0UDpdRKBhmWfuQ/mDmYuD8ymGZOPQgQAAAFEBnul0Rf8BHNd9atQAHZZV\n",
              "IfbTankzoSufgo9m1hvnBerwo2dWoslBxbgxiaB18uAsSN1YgirdM+ly8BvebGCIlSvJ93hIQZ+z\n",
              "A3N4ZAJAHHAAAABPAZ7rakX/AR2jEIASAuQd1yYWXTwGKvZSTNwvwA6pLwA7Llf+sYoR87X+Hziw\n",
              "Oc6vOExXYNcFlf4C2hEnpB/7Bn6UkQ8Eimkz9d+AL1dewAAAAdFBmvBJqEFsmUwIT//98QAaYfdx\n",
              "xZcfkmYARKNJfdg+edM7IkmkedokmsRwMm6ZXWu2aktV3+FzZgvsnI3wGKT72gw+6WFWtwB/n1xd\n",
              "AI81nKop8Q34bikWbV2unUIdMo9f785FZ4aKl4TSqHcCvFYoDMrLldBOspN7WxKdYb0UARLw+ppZ\n",
              "XmOEko0kN7v9zNgdU1VyhtTfdYgKL8Sgf1PG5sfs/9067H2IFOMgsv4UZ5o+Q1LHLj7ogrdqr83g\n",
              "SrX4TLO4YeKAuUcoIgkwUbMZdx7tVWDC9DQMW6jfol+cMt5TnWafl2QklGQJqB6Zd4lL5UAywDYc\n",
              "5Cd4cGG9gRoYgwUV1VEgdgA0K7iNM/rvk29BQ3L40V8Ri9L9dqzmd27mrxYM3d99cbJKlQnv3zh0\n",
              "0b9GSJWyim91Fw8jQeS19iY3MqrW6bUUi7IkAyTTDM0yytt/yVG2NAbfrON9vfrPXGkNqIE0SZe7\n",
              "Q3h9omKgAFXSlKBUXGIqG/8I+ixPmUP99dkEfgDIgfNoB+I+IsFjsC5YOikA1bpAqohh1ZnJ1s+u\n",
              "3aeNkC/5FmSl2FcdgnvvcWLJi27itJVQMhyroigeZNxLm6PZN7/YeEqvllrsIEEAAABgQZ8ORRUs\n",
              "bwHA9u3OjZ7pNPK158shS9IEkrEvo7T2jbe11Zh3IBFdYysUFZRx8gHxQAsoXscYwHenWX+qmwyU\n",
              "wNeIRczaIloaTvkDyTsI/EGli312po//M3wQLUF3L9mBAAAANAGfLXRF/wIrrNEpLbZyuSjmYkJ4\n",
              "V1OGQKeMB5XqiNuQePAAt3nYKk83AlAXG8J9Z9NAbMEAAABUAZ8vakX/Aiq9WFHVgMRGHDnVxpQM\n",
              "CvwGb/yAFnIHdXC3U3BKkZVRgWCBhg17++DjsJW21uTl0eVijvRMiXgHpN0xbXhQRJT9fFqXtSiB\n",
              "QQ7pAALaAAABt0GbNEmoQWyZTAhP//3xABph+EOrlWHVQBV8D4KWeCAtVMD8LU1rKZ5/CXaMShxb\n",
              "JF2kC0zhZJBrGEWibBVaQg2FKjnaaq9d6U5pTobEWztM2Foc8rodNOlaFTZ38xoTSpu/GJq5ebI0\n",
              "HPHY45HEmlCEnfk/OQ8IhT2rB/bA9+XiuPoUkkH+ctSLXr+sxWoYVbEEDeEevCA4a/7NUiOjXZmY\n",
              "/I7mteOwvjcF/rb3RciIaN2T9M4QQceftZzPYFmOGI/R2SJVPkm45CA+l74FqYcxZhyUR6lFWra6\n",
              "2beAaJxMKD61+Mamx91Y3TkKNXp2u3LO+TE+9bTnlpPNKaaKAbUKuDkNlUupqlBFVFGQZ5hh3Nhw\n",
              "sp4/w9TNviuqYwFMizv2roNBavQRtFonHh4L19/lntaU8ufPD2KeM2DdMtPobJ4Uye0y5UkYlPLw\n",
              "2E/FQkSlTa/2Utq7Af0PPBZxKVqMtwJuBZ821WVYqIbNtt3PDtmHIYV5XVn8ayIFRNlwAIiZ05Ku\n",
              "4D/vdQVpKkanAx8jjSuNMg080gxaq68c751BpFEPfQcBwBeQ5teWzkKREDpLRQorlGgAAABaQZ9S\n",
              "RRUsbwHA9u4ZdbjMNMC2ySvgbPITjLZpNDAlSYPZZvfK4XLgAB8pA77Who3wgbk1I41WvWkG/ej3\n",
              "IlNU7Pn0dLguGVTkXuZ70RIzfWbFQTaLKERKJw9JAAAAYQGfcXRF/wEduFuj3boAK9ANlByd5C6D\n",
              "8GywAE2itikubJ8WMZV0dCax+PtCO+kO8usmwAqcOtrENS9guFeDrygFUcoPc5+fhX0TAn+dBXeJ\n",
              "vTKW20VFV4IUJ5C2gkBmBckAAABgAZ9zakX/Aj164AE4n4g/DiEOuZPaE2jnMgAdgZtRM8pj+gc4\n",
              "fKV+wKZPI4Mw07AfoPqWrQf0WAi+MfR6FtN4DhXh1kJIGx6EqXWVc/FoKoOOdN+qTWzxO/MDAHuB\n",
              "aLpIAAABiUGbeEmoQWyZTAhP//3xABph95P0ADoyMRzbMAbnIUHFH4TROoI9T7uVe1Ctu+t5IZDo\n",
              "NQmgojg9tsuxKFv4fJFKlEWUNMvkkgxybH1yGXAX/QWksN2oHLT2MbN4Unqpi7e5o7n5ucrKus4N\n",
              "IyI1KUjtoP5v74UfpF8Sqda1oTeN92uEwH//TjVvQVIEdzBKFNjA1MHOHm14656tdB7fDUk3zg6k\n",
              "VVCeMzBMG7+83xAUnLWeZHvB0rhO8wGF4Wbc9XmZnYeE4rRm7Ncwyo6BaeSksts1NVSGb+3g0zRF\n",
              "nL4Y6Onm0upm0+9UqK6QR8piMZM5ykqn4bDDWIKiH22mc3gPXt59wpIyUZR0dPr92krh85DKJmWZ\n",
              "SPFM2AZCuJQTIToliapWOhbMOQzrOU7Jw68SA4HCG2BJIcXBuA0cvPD81cV63hqpdRQ8jweoqb5D\n",
              "vKXiQk6mp4f6ZHG7GsyhNJb9ojsVVvYYvCZ7UM+tdf1G63n2chovMLD8BSibCN6BbEj7h9YhBHcK\n",
              "4QAAAGlBn5ZFFSxvAcGRLf+Mma9FBdV0dyU4C/cE4bOwAJrAGk4VAAQbaoSa3r7FcUkiPxMk9Prz\n",
              "HP+jFvADGm3MoArsxRhAcyH4t+J96ulLRVFZlAZFHRQEhMDEww5LAJs+8YWfwLxSaExNelAAAABQ\n",
              "AZ+1dEX/ASWPruS9ieQZa070KRYADXu5WJZYY8Sm49TYrJ1xQwJdX9GC1CC4ovUlNEIxL9Iar02T\n",
              "2swzVtQZRpH29UwKkY5I3kQKNAcKTdEAAABGAZ+3akX/Aiq9Ms9goiyvhGWOlQAqU6Rurnam8iB9\n",
              "30dfIOWKTiwiUrOZhHuz3BEwYVpauJe4a9oDsF1M6an8ZEIoBvgVsQAAAXVBm7xJqEFsmUwIT//9\n",
              "8QAaYfdxqtuJWBCAIVCb7PIOlBj8gMbLDC1r482AHin2AvN8neDT7TZnXqlb7bPjJ3c7hoxfAT3W\n",
              "kA+PZz8nFABg6coZ2LRvzqV83lz6pYsHxilydWkaMxEZrtajaBaeZ0IA8QhYa0zKDsvHcpYorzxY\n",
              "5AEjcaCclktN3S9MOpb/OZe0EgdOuuU8+j/cW3lHovQjUEztx+jGtC7OliRzPxIgDLj07j7hNTbv\n",
              "UaH9bfMWKPWhLVcQ64FjaqUoXYtlbRoU1QuYmzAeCSTW3Hk9ZKBFMtPUL9in0dPxQBiy7ZSGSJNS\n",
              "FxU4weP+eDcndQ9dfL66++a8LV4r9TqQYIYgIBTe9uzVw1yXuxbaEVgW/DvBk0WD+O4NWSmCUhQt\n",
              "RBQSKMmJPdz2Ub27Uk67woAdoaA9Q/nRBEaHmgY25cVwQ/SjVG9jAL3QO37K3nDQJILESMn0oq/V\n",
              "Iay7YKAjQCOKxCBSNXIXtXp3AAAAVUGf2kUVLG8BwPamXpExQ+ITE4X1IkSYcYkaIF3T1dbKoMX/\n",
              "3eqn6Lv/NoAFtDi/OnAK56mlMGbGyU4x+P0LrZJ5YFglEo0ZYyxHJGRvnXAkXQBCWUEAAABSAZ/5\n",
              "dEX/Aiw/4TGjEadZs3dkALOpGXjZZRVlhVsZJ6YZtKPEmauYpznJLMj4sqspotD2RK7ewqRqmzSR\n",
              "Dx4E16cHJFsGZwfIgt0sKzogIiBuwAAAAFwBn/tqRf8BFmJXAlzQDAAW003k7XdIyiEUGuggxiyS\n",
              "1g6b3mRRFlo5GzQ5ryWk9scwNyjgTD115SNiM9cG+I4NZ+83cOffAKhf1aUVLnJVGPRSbOzFCjSQ\n",
              "gAD5gQAAAWxBm+BJqEFsmUwIT//98QAaYfemGgAdednxeqt03QNVv7A1n4KlBKpncIA5eQBndk3I\n",
              "yvKhVTCIMXijJUAFrOCGWYlAZLeAahRqamoE5cqRMDhidHOBSgoOp72dUaQE3VhOp7aP0EsQ9ehH\n",
              "YUMs9lYbF+aJFdrTJhLWJ025lEy/AiDBm0z/RFsSoalCHNTDzYa16dyA/Odx5vGylwxy9y6pH5tQ\n",
              "67M2xyDWyxfhDsDOrrcTggZ7vZjtlmkv14FMb77tQzwRV2FNnO/pE+RQWOV3wtp4op2sTxJiCiej\n",
              "quttXNeN5Ai7/UVtFLc5Xu+AOotkCvuB3pBx2Nw6JZZlmbLEzGVdd4OlyVhQQ/fWKFICoqBIBarv\n",
              "Mg2g6dCYSbPwmpckMGrdTE7kzGrvKneLLsKMAkJrYx2hf9JDGPWUYnH62ZUxfHhHgzqrvfLg/E2Q\n",
              "5vFSEtYJOiJd3DGYNdJcfrsBx5Pz11PN++xCARohAAAAYUGeHkUVLG8Bv9sN/TL05fkezKhRIc9R\n",
              "OKxbRJTfvG00A4QpyZmxWVUFv2xXGx2MjdODACzcpg1pztLXi/EOIIK98mNnvQQD0QSOk6WSO+mD\n",
              "dvDO+zYGeIzq85OAb5M42jAAAABBAZ49dEX/AR24bSdACXwCPiqwPQtsH15dL+CS+ucxyqp2336T\n",
              "0QyHFWZ9U+1ju5mvfToBvn8CUXG7QYWt4AbmMRAAAABRAZ4/akX/Aj164AEwQDRh9Jt1Tq15CEbg\n",
              "4J0+sr7fPKTobfbEKwqInWqOiSSmez1RT/sV/g+pbMonbKSY9/om7iWtu1tqmehdYMrFtrqTXqEv\n",
              "AAABzUGaJEmoQWyZTAhP//3xABpfxxK63AAS98vxJMHARxr5CCWXh9hMRITEHYhF3TAyB/0HzTH/\n",
              "YWHPMZtTfcKIgV47uu/WnTYCJG0ZlMQFHcfP7PMGJuUcqk0c2Wrrkhye5czQkA+sOAbMXCWgI1H8\n",
              "S33YQ2aMMtCpq3Qh3u7Dyhwr6TxIeswK00cJ06qymt4UIDHUw3E0K33mrsrHPA/S3RGFsOpffc2q\n",
              "XTVQa6OkC3E1LJOiVFY9Ci6dpzTYqIgTMyzo8ONZJNjsMM/ndaFy3AdODkwxLxqpv98HuUvnVIRV\n",
              "JT+uLDMdc9R9M0GdPaCuyVbHJuVgi33f0XKqlOBwDmYVw/miBqedWvc0pmEU/LRxc18LvFXvvJh3\n",
              "fCLi42fGh3/2CPJZ04xi5P7QJP92fok9K0hdWWFtLfv78O35krfn/5D4AktbJRPntRDH833acjAq\n",
              "AX3pvZG/4U3Gh8jjXhxCXV7kF09d2G9dzU+WhZDfjPGF1bJ2Hsww+VJTLoaxo+V5scYbZJc6dJdc\n",
              "pnzwdcvTqirTzzgF+Q3PCf8zOzsqv6yLS6MJzCsdkNjtj4CUBEcBEIuMB6+eYQedVwZ929od/7PX\n",
              "xtm38dBIo4DgAAAAgkGeQkUVLG8Bv9sTfdi0ACdgFhzZb13zeyNViX8g7l3ORxN2BpXHiVGLomUI\n",
              "U/YE8uVC2eI33qR2G14L+dPyW0KluKLe0XGettF1TRrs1gePE1151tlb4RwjNUT2DsxqKbdQYHG8\n",
              "VukqEi9hcFNN1fxWueZhv/T35FfK4WkiMmDMR0EAAABIAZ5hdEX/ARyZ7yYTfBiXNAAsKiLmwSLd\n",
              "ENlk6Uu47chjhOuMMQzVV2RHqT9iCznXq0JXLRzoO65ozCX/nHYmqDTt/DhOjztvAAAANgGeY2pF\n",
              "/wEeYlaz4EBffx+/ZjDfvmaGi4qiAFXuDCOvBvPcLmWiZK6ONclAnNxhmdyABAQQ0QAAAb9BmmhJ\n",
              "qEFsmUwIT//98QAaPvkLtMDrCXMABtRPOPys3565pgr2LOvLNfJsG6NkhWlzUdYpVSCJvcJn/pzf\n",
              "1YrAUs4Hrapj+Qg99Bvg2z5lvbdIFdGvVn3bGAvPhxnmBENYyK0SndwsSccbNjCk/zRnLqhx2P2l\n",
              "nKY/u0KOpY8ZPHs+Fq5atn6O/q+0I1HdcDyCPyKiRcr4ROTDiMqvUKXePU6Hv7/hOF9z5IVAaPJ+\n",
              "HWxjsHI2ChmofNDnTbGrgfyxSIGicl+jbAcvMkcdYReIaQduFZ2ISJYSUX/WYHMJ3bImahUrllLu\n",
              "/3/7//fF3RjYexifrNWykJG6hPovwUG/QZKMToRVkGfEgELAO8wJBo3jehtJTS7tQRRsi75n4TZg\n",
              "hZIRPwPRfn8ZowgZ+DFoOuPySsfMRvA7ZS/L1w/lm7o+O0Wy/lckxYlJNGeA1zwf1FHJ5FyOgiuI\n",
              "8rs3O0pznqZ4pcDadzMOVfsWznoOL8uQ2LZMcEc3uqOie+f1vEKnfuK8r/g2WrI0ihV+apqAZHQ0\n",
              "0GqYnGiA4lAH7U8iE/cXGpTcBJfdFVx6KU9X2hyYXEOLFl0PA8vZqbyYLKEAAABuQZ6GRRUsbwG/\n",
              "dUUzo4AJxnmmWX98uHEWONEynOTqMlpetDx56zExJj0/ZvfszD01Eh9zH7VMhQiwMDeyPH2zxB1z\n",
              "vF492w+2j4NHPmQWDJG5LYCeeDdUYofhWq4MgWX8GGksv+Io53AyBBezPEEAAABQAZ6ldEX/ASVI\n",
              "NYkv3CmAEs4AScN1anf3LOOg74yNcuh2NJwhThzdCHxXG7i4taKayIptLVeZWciy6EUmG1Nr3Oeo\n",
              "YDeBJj/VCSUtWAAAccEAAABdAZ6nakX/AijD7ng1NcHpPZ0tgArX5zL2eOfp8ZG/9yMiEZQOQ2qN\n",
              "ipXMn6M0HttIDrmDSpG4niz4hjQ1sk8q4TTCDrQ6PUHMHAybeeexwcJUIXsD2BjTcDT24AMWAAAB\n",
              "pkGarEmoQWyZTAhP//3xABo8xfZBm77soAG1HJr193f0LJ3/9z2qWN96a1eFIFf/0eOnQ+n8l720\n",
              "nWUhyUQthviYC1ZwlJxqrUldz2a/zIS2lF61l/mMij2/zza5AbpIcDHRQVY1xYkdHx7dWyWoPLCb\n",
              "bglqPmkQjmFFzB4LysrHZQdtM5xxJRCCVLJNT3gqsWBPC08WWeakb9hZMjzAldVXr6ulvdNmvtB5\n",
              "WINXiwilbV3LQ0sluInjWDPL0BfHXe7itv1Wb7qA5anJs/va5p4GOIG3kPDE5PDeEAWnQ+BY83JY\n",
              "Iox7xt/W1RAYyLgBpqp8pjRYNf57j34eYUlKMQaQjxcKTyvd2w+U2vtsx5ZN4FFm09oxL1SNvFdK\n",
              "4MvMavkSItrEjVdNYwtdW6dAaO7G6RDlanUO49CK+IKwODB7d3ctgnh7wyfZ5wDMkI+984HnHjNX\n",
              "KRchXavE4fSzwTBholGhkmUTNIwGiWNmQo8eP35HwKE0XE3OjX01zKTemzkOgvOUxhapU/ulGbnV\n",
              "UYad274Yd9N1MQ1FA5DsNfuIzUui80KpAAAAdUGeykUVLG8BwZEuTRwijmfUWQAEtCUYbkLXefcB\n",
              "tAAqrvp1/QoCsVALxpm9VKepyQG4HhyKUGKUeBDU/UQzPvfnFE7//8YvqDhtltY0AGRf9wgMu7Wr\n",
              "2CVPF89sAPMUL1NKZ4zMgEIt7FOTmkaZghgsAf8tzwAAAE0Bnul0Rf8CPXrgAThmzl2IpMWjpuDh\n",
              "0SejhTeTzxivWgpxGuOc1gmrZKw1in1fgsemYX3nhOCNd7btgic4yxyO1dNdTtfy5kkMLAAEnAAA\n",
              "AE4BnutqRf8BHmJYU1fIr96gBZzUHWLZI/aJzoC04+5pEus30e6hcdB3+Lj2LXRNgIwLn9qRKdl3\n",
              "N0+k/6wStCwE6xn/dA+c1QUQPEAAd0AAAAH8QZrwSahBbJlMCE///fEAGmH3jMkAHAo9z7i3OHaG\n",
              "XHfzAKkvm6nPP7JNcRMld56lIs3cyED8kQkwN2QYeGqbbYhIBwDO5/DX6c81DTs5VaPvT8AYILpk\n",
              "RT2P2A5pw44iQjBm7Oj8A1r6q+rIVqIfWYM+sdERLTVQBvfaY/4np+GvNIoLXfB2Ki1nJ1eI7/S3\n",
              "UwSs9jJrut2uc4E7+1nziJqNGw23503k4hqdAddgSc8MCdK4rty+TrVU2X2Ax7YM7wgX6MGW1C0r\n",
              "N+zCM0hRTKbBm62ma7vPSQDOZ3UP2x60DyMWem0ZJCj7zbJOeihEe85HKExWqpeFuRBy5TG2JROi\n",
              "RosZRleFDIcjlRjjbIahzIpAa3GsI8SU9m5MOB4v1BZX0xD4EtR1zyt3qvuPNuDHprgAgbMC22Ol\n",
              "n8WqSYn/GrTxsJWXaPzjBKd81GPVV9zJvqz4UHYYr/Ktm1PILOZcwoF+dZjzOTpAcYq3/dEGH6ES\n",
              "omypK3Z/MP4t0VucCfdFLlHdQI04udUNUJUWbEvWJvfRl1JC4O2MBAMGZI0ibUsOU1FdiZx0PRI5\n",
              "RVblAv1Myx7KcI56BL4R565l8j+5jvi3Ji9YpesPF0HAacOiBMi+1MQYJ95wBYJCiTPcETUz5ASr\n",
              "BtfN27e1vtpitiUTes8teHGEwE4lpwAAAHVBnw5FFSxvAcBa56mcDU+GWjBPKdz4QO/oz3vWEZpM\n",
              "V7b+QKliLwttWF9XMv1/ACWRrekDsr+W70Rj18BHshYlq6lOig0FwZ+eTkfu3+6KJLOqUI8EdTmf\n",
              "O92Bh8pFC+7da+qttjoo5oNIpVFBqCBCrF+XFkEAAAA8AZ8tdEX/ASTDpuX/pWtda3pz2bgICNI8\n",
              "SehOvwAH5JZzLGICD0Mvrsv8EjoQnVi6ZcdidItrPkwAuCn9AAAASwGfL2pF/wEluOU9IFPsAEq+\n",
              "K+wStSJiwnk5OwB/FZHzQk06w9ZBgBDLcWdzGa1QYRJ/S+jV552/SZVfm+XmeaPxY2P+T64wAp2h\n",
              "sAAAAXxBmzRJqEFsmUwIT//98QAaYfhifABvSRhCO5SQy5I3t2sNi042sb9wK3cCNJeukwS+75/8\n",
              "VAKO32XgSOXZ+1mBCYn/XjhUqdwqVp90UPNp7FcPszUmofQnWROrtFsJldlNsltXjoe51CtlafbZ\n",
              "lNcXEtCCl26tjLzpOznC1s0aTsuFFW3PCJS221ATHWwmWbUYwW+Rp4Jy9TydOxLvbCdemU7wC8Gg\n",
              "cN/SrmMFB9L5jBjHuAasb+x+0N3b2hVnksyMMvrljJ8SsBMD84SwdADxh1lrHC0lIzil5e+XlQSf\n",
              "1cR3l5khLD4pzoZB0w/k5n8/OElr/1bQ27nJe2qwsPAcn34sCERbv0s4rdaHdWnU3IZn46A7XPWK\n",
              "SiapDIvbr0zAjKmied0E9b4S/BILi64fAu9lkwckA7r4iy/Skw6MeZ2uSJY+jMJYZOqjrZ1kMgrh\n",
              "bO7N1QEQLRTTAqqG6IUuIti5SIgFJ1sywNprVOQhRJkdcCsWCL8Uq4OFsAAAAGZBn1JFFSxvAcD2\n",
              "7hk5rEEUf0i7LYn+dtKv4+EcOduejBgOwQLovtc1tBnv7Yyhchic7d1Fg/pBUoAE1Xq0l9IxGMc1\n",
              "QPIIhM0q9e3JzozTda/8a9V7hwPa66g1KV/Q7m4CEkcPs+EAAABSAZ9xdEX/ARmdBnasCUQAFtIJ\n",
              "2G4u8NG8xclLI5W/FkxTDf69LNSG5SVtV5Qe8FXyJzbBUk72NzJ5H0drjhkxgA3MvrvKqZlFVMlv\n",
              "ALMoAHfDRgAAAFkBn3NqRf8CPXrgASYrishv4Bb/b0RFmBsuVQ9mnTMypCjX8W5roWg8jeFsySm0\n",
              "A4UORyvWXu21I3Nyq5Scry3DTztnlJcwzjy6VtNNm4OWuzqfoH7AAowJaAAAAglBm3hJqEFsmUwI\n",
              "T//98QAaZA+FQIAAaN2XgN9qnlafYwmZVtY3uh8YnTgmNoS1oYBwLgU0n9KNPoqm9EFRqtNX5HkO\n",
              "Pitu9+NLqdE7189LeOXOD2aUE4rYumOETLkCc5JeeTxqTs9dAhFAmkRscDGzJcqk6psRTIvVHWfd\n",
              "z0dKmNsAFskF76XWWZVYsBbLW9tEpuD19JdfVfX6gETubUuoUxiMbJ0vusduGQeioPB76qxLSO/8\n",
              "WvguiKlKSZrkLKI8Ul8dX2Q0Nmu/JLCNal9v8EQnZiX/bvv+eDQruUSd0/Q1Sitgp7J1CjRkTU8Z\n",
              "d7EKQgsF/UMGiWaEP6gYzWFBX6rtdONiNvClgQH0GMlB5A4tJuv0co0ZDkzsMJ2CrUERb9g38MW5\n",
              "AeIQ+EK1/UZBYmwEn+oRHp9YGJdRYxglC6f/7myHRe8Fgv8jdR9OBzcz+Ff+XzpSesUrm6n//Y0l\n",
              "x5qTWG4uyJYT7CZPypbZKAOrMVlR9CcUwQC/2T4kgPEWL4nlnGOCXFK0O39oVNZKoD5E0FeLm3eL\n",
              "nZZKB1tt5tSEEBJZIuJfGVjOPz+0qUGWUkV3C6DCENp//1+bysr4h9IG70d9vTMTpVkJ7/kKZ5dX\n",
              "R943OHPvAXthyXCQsZ6HH7XvGUZB5WFbMSPD2CtPHhxN063zDAcCcAYh30e2BT01gi5ZDo5tsQAA\n",
              "AIBBn5ZFFSxvAb/bDa33pkrSsySJXEWIAbLZwDzKwrdukp9tRd/YYcoedrlhDYIYhh4L7EwZ+bxR\n",
              "lgtxPf5Ls6Zh2rNMpxdIU4W5T8wS1nkg1oL/gJFjOpJIG/cUOO43J/2sNZzbYoEauO1YD+o5JE5+\n",
              "sKet+UXFOWXccvhPv97dlQAAAFgBn7V0Rf8COYWcUABNZtkk3dFqnXQBLPqO2h04MpxH8Ql1pOME\n",
              "quydTMoniDFCrDeL2sU8Cd3W4CKgkUNxIK7g5S+HtGmiWPWzwQEqT9NsUO87dT5PwBnxAAAAWgGf\n",
              "t2pF/wEmYlb+/mMwAHGDhHUmnwaTopV2zoKv+amAisbzCQ0QRMzLkIbMhSnDhDvVVH0kunsRMtzb\n",
              "p571bnaMgFrvm3T2u3YKBU6vh3LlI9WV10vgAVVM/wAAAcxBm7xJqEFsmUwIT//98QAabS++SLQL\n",
              "kIACXvi5p2cs26mWYNpO9yh5czIOS6xFoM1HKKK3DHcnFicjrG/THgZ5qPktzSQ5L6Dz5mOouxRw\n",
              "qRqesKa6P4y7zyRTObWTyf+e2KrraAZxnqIURXWyrl6WqVNGfLG7QUluBrQq2lZG8jFePUypWZjF\n",
              "vUOKFIvb9p0q/WlgZJU0+wXHTN3/9jk2b3aNL15PF6Uz3Y+NUsBZ6qUfkY0D+wJp2hs8u4oPzZ4S\n",
              "/cKbB03ApSiG+6sZhbBTyflVcxBoadHWPjrhaVjzAmYrYErSxWBdLZJ++rh09PjctMuDJ0qS/M77\n",
              "9yu8BfSju45eNb45zmaHa6duPsWrb9SEN7JP3+65haOAEAG36Vyw4wFIZD0sqRvevI6pneBr3uYa\n",
              "VTtYbkpx75vISb7/DzRaO5DD5lSEUhzDj8fYWaUluE4ZCuq9W8eWLLIJcA7jgSw8nMb5CDUOApkh\n",
              "BRaGCeJQPvJOulZdKanbwWeR2wnDvzWW7jSo4Vx3z7kh1t8GR4bg6X/lVeT9fW8r7aryU9/pydPd\n",
              "jSCnLHSaGvvFk4GeIiSFh8QeYdTd1rBr4IQLuIcYasLBggOYM+UOAAAAekGf2kUVLG8BwbQDGWgA\n",
              "TrBuXDTTPfH+HxeQ8t2SKW+L3aSLYo/EnG9zdxdKnx7fgeDAHJS0w2a/jJXnqja18+fE7ocumfWx\n",
              "AkM6A3x+cjvuVAUM5sfJxflOmouVx8DFmpZoUYllWqyrwPZSOmC6evOgNwq5QSSCqJmTAAAARgGf\n",
              "+XRF/wI9k6gBNFNNgVtd41oVHvF+x60ZsrhirLqDFhqApwsqeZ6chSk3ISL0nluAZORB6fOFx96y\n",
              "R921A5duh5YAI+AAAABQAZ/7akX/AR5iVW+2gARfbVDhk1mXXRXBuTbY7PkMD5IXtuUDWOJUsym8\n",
              "tZjJqpiUC2Rgixk9n7TW36EYGTAdvaTdDSDFvFbGAGfr50wAHBEAAAGMQZvgSahBbJlMCE///fEA\n",
              "Gmfi+z43cAABtRw6UBv5B0Jrb1IIYhmh4OP4S2FDhNfU40YGmdtt5XNOfahGyPuD9L3m9wGCj/L6\n",
              "eC1wI6jR/lAZ3Vw1OIihG00kYeBc0oi10T9AudijM5s6CH2RxqbSkAUkb89qJpi2fU6/Se3896WD\n",
              "tahdN6i9Ecpqo7nWh/dAeDa9RmTHhdQ7WM9ZkMlrie4wuFcff6nL/SGVE276jDWr8b9NCynsi31G\n",
              "PZHpDEzoQjzwWSzmctD/sADkP+549z/QlIicZim/L+hSoIf3a/cOSO/KhdnWDkiYrG2aVrKNRtAY\n",
              "WLh81MnIsmEeokkuvWuVfFbyTFSMACNlcg+tKX90fiDE1kJoIJP6uvw3AxTVi+/k6gRW8w9Iypa1\n",
              "THxcRHcBHsXA9pSTbzE2BMVcLqLQgEGG03fT1x80JDthmMuSgsYLhfOLCg98Om82QZjjz1o0Bk3t\n",
              "BwAP8RL1bTA5Zh2dVi5fRbZotMMsW8cGaPKVLoXKJJkmFa7K11/VAAAATkGeHkUVLG8BvtSoTawj\n",
              "LRIACu8PXQbd6Bd5a7aZkzL5CkNSMmo4rob+CVAAWRecFt3/p0aRE4yJaCNERDaT1ME9WYnP+hHt\n",
              "RQFQ5xhRdAAAAEwBnj10Rf8CLD/E0C+AUd7keVwvCZoAS+AR8m7wKvEXvOoiMXRECgk2P7q4TUBz\n",
              "RAtTtkUrwj9utak17/etVHHdVb21SVaRPxOQADKgAAAASQGeP2pF/wIqvVuiLR7d84AWucWQc0pm\n",
              "1HWdPHshHIfuiSb/P+Vgqv7tWAC/zv03WPJKi2sWXtQuQk7MHfE/sY2n4WaHkiAAU0EAAAGOQZok\n",
              "SahBbJlMCE///fEAGwH4Q27LAAEQePfewHfAcm/LUhE0EWEHh9OnPgJHvH6nChHxk08lZ0doKSOc\n",
              "J7pRPO6/vFj/kefLox1WkzrHdG1pV5aL7czT+fDROL45xiJ667fnQZmJ3FZMEyc2ZKrWQES75X+v\n",
              "gfnbdpJLvxk/XzxNWPjr5Ds9AOg4CRFOp16K2cCONz5GnfAyG2Iklvn1KoobkkM+M190huFvic99\n",
              "iUnQdtnYN9fpVfZ/cmQKdtKsIvqXTHpoVNx+/xc0mZ0/nhbvdltFIUir/XJmLtn8APGw6DroW4i1\n",
              "4w/8YVB/ubp9Ntm7xEPa0LWDZnHGhmTnlypzQM0CZf+c2ScaWftcJupmllv/o2mlxuwDaWSm7ZCX\n",
              "NTlotEckmHNqoa2MehmkoIWT0rGzLdh/gKZGOiZVKQ/M3NJMJGMgZ5FZFvkjakE2lpAlsx+nPXJ5\n",
              "tIkhBcXQ9qiAZByx9AappCBfyAAD+EmXrY0MWJ8H6KPDzOhPgBjG6n+uLNZVzaQH0H1diFQAAABg\n",
              "QZ5CRRUsbwG/2xKdSABOl4TusFXdLyVF4uFsr+ZwKR/UXj+35hMB3wIh2G4dL9eWCLjekPgFHtEb\n",
              "4FwQ7/jB+lZCeKPk0mVpS1MJ6yOTJFvMhLlUboCbt/VCqESpt2g5AAAAUQGeYXRF/wJMO/noAQXe\n",
              "hbyZIFzSX7pqaFbDAmFhWyKc0/Qr7z/bjXYVazO1JzBgkfgpmR/Y0eeQGkl0ndPEpX4r8tl7wWA2\n",
              "7TEii/RsByQekAAAAE8BnmNqRf8CPZOoAQMO8j/CItw0I6PkSCI/scIVphpCkXBVb6R2Qkmmk9hs\n",
              "eKe+ZVoNJVa19lx/VGTwDl+8dvYuNQSwAIVWKNnT29E1AAwJAAABp0GaaEmoQWyZTAhP//3xABsB\n",
              "+EXIvmf3wARAceQoo4AfGb6wT3F08KmHpEYsnxnMa+kJsqZ96TpHnq2uU+gVP1xpHl+XQoJ6+dv0\n",
              "MODzZ0Cb7dsSht+umZbfaw1FtZhYnnD83EDnoBqPUYJ1d5/7EqF/Hf9byEZZp3mxvi3tzOm9Gyya\n",
              "bLDaN1lOwBrd4dkqvQacautWNUy8jFT9b6QurcTuslIbItxptu7ukXuBfLGPN8gU/6DCdOi9GseF\n",
              "B7sTGSgU4KV7i7xLvwbtbfpT+Kc+gChNVHzjCWZIa3sLLGtEBwsQuxUeBzOlnYj2INF1gES8B57y\n",
              "Uy1gfXYVTnMSsS7PAxWQnLlNUL4yjJiLm93BpP3H8j7N/DkKXgbY+Wg7TmF9Sxfjaya4M0sCyWoH\n",
              "uhGtmo8FftD0BDxWWFy1SqfxoXkoJrjSvxkIupsNZ9/5famRrwDLAS/gYqWae0Vl5jbwmUDOcHb4\n",
              "5O0Go3zPIluCRyC1tgN2jAw3dAj/4Q0zPd4LzTTRm9RuybnEa5po9HJjvY30KKmKv/R2NL/9wn2z\n",
              "MBNbHgnQIQAAAGxBnoZFFSxvAcyRK1yHoQATqNb0geCMBv9CIHsnisOaRxwz9zd6ppXRnLCmH3TE\n",
              "fa5MFfpdSPOU6AOOmyxoBR6fMyxk/rDiESq5pYN9AjrSoDrdSQ0UxskqbEvy7y0gumhKrz+b+JF3\n",
              "tAIX2M8AAABOAZ6ldEX/ARzXfVRYJUABbTUhSs5+KOyZMJXqoTjvPDHtqWACUtSTlpsMfhgSl00h\n",
              "U7wdFmP7gpGJ680fwcGnnoWYDtm/DGLSCgsIAAWVAAAARgGep2pF/wEeYnxSaaqgAJrANQOKlCu9\n",
              "DbuSDUQwQmbnMry2t0zT03haymoAKzPvM1ylE5BGHsIlXyj1DBtVdQ9haAO+CHgAAAGJQZqsSahB\n",
              "bJlMCE///fEANd5OtXrRMBOQJKNWqDjxW9QjhbufWJnCqFflVf+5PMBxH2J6zl6uhheUtjdRhgcl\n",
              "oKAXcb9fitmSsd35Wsi7i5HwFI2iHfM5f2AUCMSkJHK/bgGZN6EkaEzwX0uAmke/v2SaovtNQ9FC\n",
              "P1yQXi2T9A5WOOAttgv71IP75WYzyapF586QZz9JAMGpi68qsL72yacagvJ0t1KJ/ngyH83iYLUV\n",
              "mf32r5tAsngIfJF0NnSpkzphwfzTD26oqzDeUfYE8macjPp/9FYVDtbp/8aGvnbyKWURkqTbbUHy\n",
              "/je139zJiLKO2STNM2lmq9fuB+eX2/AUVQIEN7vYhVm5bQQhdDhWzahGhykuY01tSgVw6w9HewF6\n",
              "aLZpCyGHGRcbf80vDjM3+diRcIPDZCajxxDwJl8C/l/jLYdl5F36HvjIo3ke5/ZIASoSyLrfUZ1p\n",
              "WvXeMEv8lX8WM7RJ8oN3opmxGXe9MkwgOjuHoIxRcO7Zq837hgaPs4wgqYeEAAAAXkGeykUVLG8B\n",
              "v9W+r1aABOm4eijnnhacn1ysNxCesmtWRTxjJ6GFC8gB1qy/NtxlnrlakEzyqEV3WbTlaiyZL/bq\n",
              "KkS8+5PS68eKDtGniGFxx4KWsu/tQgmy6QMi7H0AAAA1AZ7pdEX/ARyZEHt9ghys3VeWoKufV9O0\n",
              "KYsABbSDqkthk1TBl62I6EAnfPi59SDosJAAl4AAAABSAZ7rakX/ARzX14PXAAulgKD82T6esuOa\n",
              "ZXZ1Z0T2hfXPScPG52ayoVURhQ/iBbetHRyoaQ9RDFx9CiAAv6JZz32Ok50ZTyhKoxvNE3SgD4AP\n",
              "8AAAAbdBmvBJqEFsmUwIT//98QAbAfg6MNustrEivAA0VuqOIAbezXc5NHE83Bz0Hbd6lhHrEPru\n",
              "98MfDKmmk4MFtYgjXg5O1aT0LAYA06a9joQeMEdht5A4PYjAd+VaWr6WbKB60ST8eAvDqzC5wdFs\n",
              "mjQmuIBRLC+Zs9kggOk6QLBb2e1dRlyjdnz2hueTlR1tYwQfxM6PCe0BtBFXfCiLJjBbgRjmo5Il\n",
              "C3CgDjD0P+bKVNSD/g/o6VgW0tA/TSoJt35WpcIuCdXKqTfrtR+XKOn0Uqj9rcYVma3IUEhYwPV7\n",
              "5OBkU9TkXiGGkHQ6UEtES2HnUgpQFomcaywNogg7fjva8YnRRHqobkQLsWgrNNOO5VKBQ47/m2/5\n",
              "PHUNQ+KjnXC1ft1l7280lOMNIBaMApROaXoYjJ+F6YCmWSDAhP7O8jO3EbZIZsbHwTHp1U186AS8\n",
              "5fTeNZp/x24+Jo2279e15zPiiTGlHikYjX1XPoG5dfZRmCY6v6pkJNdsKv0ACKcQA8e1NsBGm2PT\n",
              "UFPqXfmlfOH9gOC8yh+dJ7NIxUyqLd+65XwDkx0zaN3dQpPauSujjGMaM3TBAAAAb0GfDkUVLG8B\n",
              "v9sPkpgAtw/xD5rq7F7zyd+Mw/OU/78krA9XhEZn5cn2peH5JscvJ1izMbueaQm38JDfa0MNXi9x\n",
              "btw7w93F9TSJQRJSanbKanMn7TnW0K9e+GpEuTrEjTGS0cnLQXONP1kpAdzNrQAAAFIBny10Rf8C\n",
              "SYVa7EwAfu6vAg0tEJCBtDazRP89nRKJtLB1ntvqahDCibhmFZ/0ITcZzuObm8ndcWgjWjGqmfCW\n",
              "fowiW0j2gLTix9BSJr/qADuhAAAARwGfL2pF/wEiEJ86p4Fuo5FbtVBYF3jSu/lJwALXHLSO7fRZ\n",
              "F7nfTSiO1wNtMSJ/XmW54qeyjRVYu3R16JnOKDDLyfdtkAWUAAABvUGbNEmoQWyZTAhP//3xABsB\n",
              "93Jng+7ariACH4+O2TRvn4xKIqMZdx3e4o0JQPJKi0YMkENzyyC1/wcxRLjCel4wnRHL7wvBLitO\n",
              "3cvrwVrSe0XnvP8kSTVwJDDrVD2FwYw29vzayurfZ3Swv4r/wSH79lfTfja52ISE3tA4zqmzzIyi\n",
              "B01t41mjPCXEpzzuSgEXjdERHJOQSgbbh6xpM/P9Pa8EBtybBnin1TiRQjTpOvZDXOep8sfWa47q\n",
              "xnXu7WBySxLGFH4DVRDRYu6tAP4S1usCYzoS6OFl4PjckRlOgrsN+lglIqJmQH8dLcrM9fLXR9YT\n",
              "aIhaOC8Bf4JPw+/cxYp8JNuQPl/aR3qhJBWN/PeAt7yRpVEMblsR3szEX9/PcCNtKU3gvcTsev3s\n",
              "NuzVSTTvA1wRniYONhYxuW3T9xlxHXysneiIKszAdcE9iXiBKtt4y8EltO0wNfoxjO3zog31YSnV\n",
              "9oW0Qvl//L+FtP9ngw3KbL613Ez92qjJL6NTXTefKUuXIy+amGmzTW36L881vx8fw3OOxvPR5fFI\n",
              "DJjvQeKLmmlpZ7867ktfiakib++irs/uPZBQ3fAAAABnQZ9SRRUsbwHMkSvTQhZ6Y+gX5jKvEC7a\n",
              "7hEa4Vv3Jtsm0bgABET+gj3JtqR+72bbwJAMnbMGaxUbgGr/bznpbHD5/gtH2oRrQxwekkutBgQH\n",
              "jQbHrSwthVBT1z7Gd3v2tGKECNgP6QAAAHEBn3F0Rf8CLGFtACTBLwHmRa+jc8G0Tw13UAFEpMTQ\n",
              "NS/dhzbM8RixMoM+EU14pmCMgliSwqz2DnYNMOJS52aeBCRFlCak0osQltU6xDatWkaBUiQc/I52\n",
              "U14bY0ViMCLudMnFlhbc6idZ706cKGADRgAAAEoBn3NqRf8CPZOoATRwxcgIesv44t6BaFjJdnyG\n",
              "ZVDX1TghVvxTElKOPC0YljVprU1FdFaA3cKKmmg8Ygcg/GvD7PtS74nQ82ABSQAAAb1Bm3hJqEFs\n",
              "mUwIT//98QAbAfemGgA43lXfFu3Nv/wM5DC6XDGlKS1gXTTsO0KlkYs9PHvWLVYTjyO6e0zfiqIt\n",
              "NSmFh559JVXbvx1711ggbX96yeuHq35FH8/yAdIEGAuQ5eNff+EjfajrUw44kbW5cvMWvBMKwyaJ\n",
              "06/D0QaFULhMVdu3zC6dW1e4UIZJh3QsuQ+BocijukccNpNUaLLKo2VcSSVhfcPE4SMorRfmTNjH\n",
              "hx5Zy9GJBB6jR1LsrWxf/xohqBowwU/pW6lrOeSPpA9dqh94khXoVD59rPBlqAqmm+qsYxf242B/\n",
              "7d+zTYE92bdJckPQU/tB73dITw7cqCKoU8hC/hvENvf/zfOl13UFF6bqbR+7b65VhnEWJCKzQgX5\n",
              "ZEg/O/shkhb4Y0p65yP5Frw5EqsOTkcTI/9FL8Uc62SeM6ts1Hto5Hi5Jmx3kOzt3c3UTnm1gzUz\n",
              "QvPt9R6HCn7w9oOCsV+vbUQ6Smfqrjgmq9J6ETBRlCUZ+sfc7l3KOsrGacNcZxjvIPpHYghybkX2\n",
              "0P/nTAk+XQ0p8nCb+dNee6g9z4f2g6Yleri4xS/XPA8GrC+GEwT5AAAAdkGflkUVLG8BvtSqs0sT\n",
              "ABbXtVuljxBeUSxn2WkYMEbRAGbHcxPIpDMGQ1cmWB4HfCto0r0SGSfLB9nZ6i8vjWfKSqLPUmpi\n",
              "aIkaQbX3paIIRA/25Fh+jz4UlcPpVamGuFaW2wQ0qLE4Jzi6nX2Ok9y8D6pbc/oAAABEAZ+1dEX/\n",
              "AkbD26GO1KQAG9DUv42Yud41RCGsvIrwTq5oqjIAArqwF2ig3xchqbRJ2//lkVbE/VLcHsn7wdz/\n",
              "BlwJ04EAAABVAZ+3akX/AkkTrnCqPkGAA35QbqymHagCmBdENR/uWXVLF19U+OwnP0lmOTViV6UN\n",
              "wix5RY6drFJXCL4IuyaB2aR7P2kMpO8EqCaF07zZLXVPDwBNwQAAAE9Bm7lJqEFsmUwIv/pYAT7T\n",
              "FmAAGXcecqj4rVOZW60v9ou8KQ+TwnEJYwAB/q2bd7nw92RcTeMbn8WWS9RfJ/0USbGY3L309vEq\n",
              "o24LWIHzAAAZlWWIggAM//727L4FNf2f0JcRLMXaSnA+KqSAgHc0wAAAAwAAeB0oXug4SqvQwAAb\n",
              "cAB8I/twfd/EBLNnjQuEG4jtUCRrzzk+tbjuJ4vRiKnd0QmnSba7qw+WGbzn6r6N29BoSJZaKmjP\n",
              "RAE00w4756M/Tcf4aSLi7P6agqIkUYzMx5Y2zdKwJrilyeAeC73VATTm9PvZ3l+UEyQvBIASqTzw\n",
              "BO9Po7ycNWhvVjIndpiyPKq2pogNGI7BHqJDBAwrLIHix863thKiAwjBMPjjPd29G76owJtD/PN/\n",
              "Cm9TmLPHPadkKxg0ksb+OiFoDygv5SHWKh9YmXfyzLPbSHsPmBZ7Hl8+QS4e13Ak04usMMPTSPDY\n",
              "PTIHr37RYFnYMSjNzEKCs8MncVrfv1/sUIAs3OeqU56WPY/eb2zUtA4dsq1BiGo5ep7JYpniatcE\n",
              "GQ7xroWBj7MgrloSBawCIrytpISP1R1u4AJQ3dgUFem8NeScRrQhpgc9k1sBLbEz04b3jyDYT0ga\n",
              "cp15to2sC3VI+m9zY3w/y3BePK0TztLhMpuez+oOCTr3SDUq1r0Xc2tTkh+pzWl6Fa6TeBNMHZ8J\n",
              "o6oejNnH9fOqsAgBux3iThESIiKA+flSmu2yq8JqF7Es+0PxAi/c8u3b8Sy5tHKDGwibMatU/M6w\n",
              "bM+rQCQh5S4qgrXYWyB0fodXus7fhwUt9wHLdLpSHQ6GuifajKZ1nNWUx5/wowrIiJqeTNSEnJ02\n",
              "KVneOTR76ejVFPu0SV1v5lTwK4+YuQgrXR2O7IWRR0T23oi+feUxSGp9RxyoYAlgt1Widif6UBvd\n",
              "hWamQIu3zcIz8jAjW4Qyv/DnZCPkBBPi/3Pjd7dvTYLLMyPG17WdJMr8aKncoCH81VQqq1xQ7t5h\n",
              "PUrL1YMD938TAno+R8i+W6i1jNzWHHxx241G9ev6PL9CgMqk7zEu04n/XLdVn+QtJgCQuHBn0hTl\n",
              "O91Oo0KRF4KCnh9bP4HDiwn4eTdkAyHHJcTFx62xSuKItErEv/6Bzz659pmJRInu4jz2Vw9grHuq\n",
              "TF4npcxa0KBlDwYjct6zA022bkjhC8uSQlo8gwYriyDuMkg6doBM/I7qTUnijtymQFSj9xzqSrJN\n",
              "hhcWNtPB/ePq8MG9T4cFmIbgi0r3ZukCtSnyohuKHtTxzmwbEM6ZjuB3oWyhsBV86LoDYw43NeYf\n",
              "rOf8AKNmWRTdUiVgXCWZj6jeTXfl6fWnvXURPedR/5wMBpWs/rAlF/b5lotDxgVaoJpvlxli2NEv\n",
              "yThYmr+y0Ys0DQ9F6jGq/DN0uLW+y8FrzqfgyeSXcAx4typ9OwW75f+hg4Z1838ezBKG6xB7ZcFz\n",
              "lN3xDL2f9i6BGJL7uSAeLHC667krvWjgy3u/ldUeDo+svV7wYScGMz80cJKD7kJID4dZMO0JcAXy\n",
              "+JEG64dxZxYSFkkUiEpKFZRsMkD2nNY898ybVyjuCCoyjdfBhjijCbB5FH4V/D7QIMtKhhUcFXYj\n",
              "Oc+GnOCZfonUZUrt5VfhwyMWLgRUrWovTY/nmXPsI3s9a0c/79Oukxw4Mjf5aTq0ut2AjK1U5zEr\n",
              "CDGBlmpmEer18us3523tcqmzg0ua1dkh5cDiaP7g75B54QCMVUbycB9FQ53TbDpkV8SRwHC1QTKK\n",
              "Jn1cL0e+jPNorQ8yUBpYaRTz//tPTbXKjcsASIXmaq8CJYs4/0mPtcLcDPH6IbcXp5oe7A0Qxj2z\n",
              "Iukq3syZrjyf3fEsUtRAfcA//BpVZB7Tuc10Ny1q/AZsrFa2NIaXBsjv7X4yj1Ivhnz50hbLgAIz\n",
              "rL8FY6TA3tAM+J64ydTv9y6ldfBzVwABBGheg9msHz00SWh/YYw6D5ytpPFgfqFcsCXGasEVwde3\n",
              "yG0MdTm7ajdW81IBAJHltPFLpfUV72LqJFqWx5H0NgHmdHYpe5Bav5b0P65M3fvy5r2asV1t0lpJ\n",
              "Ud1+g9lEp5lpct915IvnO9kaiXNEzB3A+wH9fwD+7XD6YA4Ux04JoCHlirZuA7ak2lcnsR06uAZb\n",
              "8L5JPrnWgW3EdvJ/PjRSoLX95HYhb4bod9hWsoLI5WmMyWEgQbThLTDmEXenuK/uw448c2wc71RX\n",
              "jSkYIAdj6RW6BDiHNqIj2iPTQ84lkuiYN/AwwSr/+64xjwY0tnwiLyoVpA1v7xMEzq1QIoh9bb5E\n",
              "6tX4iYy2zqv/kmqW/3fH+cItXAPh3uP12js45HtE59zeuQDob7tRUH+CsMoaW31nxV1ABZ4DCkm6\n",
              "8w+t7GNeJYXxPtQKtx7+8Hu3BIpd5+xNzeiPL5VTGloDTinxVIXIUjdcLBl2DCGnLWSztz60ChuV\n",
              "WeEzPtmBMn1ax1a57FYr5bZb//bEmkrJSXXxUQg6JE9Yq5XZxtGdvTSiMi8YCmsnfAZoOM+YkMP3\n",
              "HZ+F6HRm6uGYyYdPrlQjiQYOBrIkJxnXVl5h7q54LkWejPnZzkbEV+iOiQS/XwmtPw210a3hCmrR\n",
              "ogoVgQtql6oQFgQhngUHbkS5ljzCywbn29HXxHsda69nGDr8FO+orC1GpdwWmqZK6oI/3Iu4pbpd\n",
              "hiagac9qjjHGCulDafDf5FimV4bKEbaiZJPzV6zF0QO1gBdl1fMecxNdtf8cNsoLdoubVjOi7Wpw\n",
              "YdkwlmykKsS+QFvgkgvQVDRV6PjzmkdJnpTzUtCzil9QOj7AhT36YLXBH/+rbQiOyNRxdJAg02y8\n",
              "FRavuE3PhDpAWy7aJ/pXNrcGsiKd/Ria585Ba6lWOtThhFegnE3EkXyBUR6kJIXUzT2tqmJ6gXSn\n",
              "7u+5zKb8U5JcUeCNGijUAes0o5sgJdyJSEnuugEq5dT+wLlz/NhCZZAC+/h2/gZC3Q7GparE4bLH\n",
              "D4IP+sX035LV2H4hZmJvZh41h75DMKWAnD/xlVlCut7hehqFYBRyQXm4TEXi5ecp+w82pJ4vzvY0\n",
              "NWrFbtyST/j4L0V1+XpC3YXibsxZuXduOhd65d5TTs8t8Nhq4nbA6ygRibo1UMlwFih0wd6pDtsg\n",
              "ZH+EOXzesep0n1KQ0ICQ7ciMx6BNRbUk3nBwHpdAknrw2aGgCpJA+KN8ZZyIJAybvbF1DOWVMbLU\n",
              "zy+hOwrDcSSyuv/A0nqt16t3TegOUjhPg6xEb1uEO9mH7PXtPPS8vUX4IFiJuJIEMpGKx3V4XRme\n",
              "on7Q4d+v3wcPWDhV0ebXUjS79iYSium3FSRmss92ksQllcgyxGhxpYsMoD2A/3SUFzL7L7RZ/sOg\n",
              "Q7e4k0WBats8HjVNhZSx+YgLISdTIa1LwMv3F/iGxPIgpqlBP1Z2kzPNbDgD7cW5MV02zAnZwEAy\n",
              "hslPfGWJOc8CeoONxVcETnJIzMqzUP75IYdkK/sQP6NQ+2r0oV6NQvEZCPPF7utO+SL/FP7kjd+/\n",
              "kJIL86lk6q7dlb4W+r80/ySENUhuPMFMy5wLr4EZkvXVkmkv6aCARnh1aTjFRaee516NsmxAq5eV\n",
              "ACvLxT/aU1N3W2eT/qpom4lhxuRQoeQc/0Uv+B3l6jIZHLUGL2I2IuFjyTBvNTbW5srxWaO86Wqa\n",
              "/Bq17/awY/y7J4ZUfdUpwoX/gxmTX5ABYYV4vjDl8osd7YjDMXvhVrLfbXtbcGZkCZ9Z6A+jHL4d\n",
              "dNP5d9+plMpdQM+eQdDGV5L+g49oqVa/t2IVjOIY5ht7L/nTtvV58TbqwMWiqsB0t5uZDdY4ca2w\n",
              "9FTVdrFFUDyjnHmQp292cqB8T387DW7WkMLCKTPjvGlWWTyXbpBT4X3HMvhCurqJFr/j4kt8e3Nr\n",
              "IZpiPAEXXB9O+/14nJNIGBLTMQuXUJiMX1pfXk0z9W3pjVZdDeyOFWCiZsEMSyKUUYRZgYwW0gsI\n",
              "HjJihztD2zPXfya4UG0qp3TDcJn5gSZLmfmFLGbUUS+l6cwuoXogeebUW16j2bg5yaBdCAmBny5z\n",
              "wP+ilnNBEDhwli+Kh+F5eRYPXnO1sFk/PedwLxBmTMZLktQV0dnfHWS8kU/4a1pQgFpLy5LFs2Ms\n",
              "uFlpxBt7Ba9s0WL41BApfZYunlGDfBwnJf0uxF0za3f7vhmQYky895KA7OGqLvwNWtHkO/60Xvwg\n",
              "atQka6AmBZenp/EU62gnG2G0fdMAhY6IpVz2Exn0f34s2SxEJZu0rZsZkPo4C4fEUBWVXU+MYZ41\n",
              "2G2pRWDMC7X7Fc9elWgSURKkUgZHE9WmOebRhi9ExHJE34g+nsaqYnxzE62lUDTQSXXp8wQIsALM\n",
              "vTk07JwHFqDqjGAl7zX1L9YBaStGszPYiR13sQcJBeHjFsHsBmfqj/jKcLHUwKS8SOm74gDBIoxU\n",
              "RI1KRFyy2/sr9Hg6Xw+eBr1Icvzx8QD3fLHSp1Taof8JrX6jHBpUFKDE/u49sRewoDrdj/dHmz8A\n",
              "gRLjl2wmffMWXJEGIEYH0YzgumT2KyCajOpuptmzHuW0CPerWqBDJaJu/q+3IlW1ESGEv2QLD0Af\n",
              "7KtQ4mGD8HyHxmoWhY8hINEGqJJIIJ6iSFyBk4ty2AXpEgXam7pI8pBxF9taK2DsvitLx7bAZSVZ\n",
              "RIuF/OEl6+0jSmiCncSjQhGz5P6hQK8386ANM7kNVixL75sjknKYDlXtzbxOZvf8ecqs2TGfe7pc\n",
              "pQO4zjxhCovLW46iAHLsTKsYwLMSZ6jbJRAZ6RuqkeouXiPtNoZlq66sYQkSFWkfpTwWeoi8SbsI\n",
              "XV75PLO4lR8ke9mmoN95kQh3Xge6hyuU/e7mwj8RyFtyj3KgBuXzVUKimAvetOmo3wbzfoS5ieoB\n",
              "3Pxow/BpZRq8aaewqrGuAv5ogH7FdQhamlZ0+r+/aiqOzIYwEJcUq4bAtqlw/sExnszqULq8y+nV\n",
              "kL+Z6SC8VOu4YEon+x58cpADvn9PGzja9YWhrRt2ka4omJ36v2W24pUlXl5v0Z02boCAJk/77Cfg\n",
              "bemuEtAEbMzBJ/WS8DQoLe7CUV2UosnFKse8G7gsrKlSVHnMTrFa4zw7OTPQUBg/LBneIhkk3Lyy\n",
              "+kJPSgg9K40TTt24hqe1Q1QCs9WsRdygYKlSK3KFDxRqKJZTC7fhFmDcRA21F9hciFrNH107/dpF\n",
              "7jNcCsnm6DDzbAeVbFwHk/hMAXS9FFBkFAuOmoUg/VEKDXFaD8D2zwFfQJoXCHGxMgoEqXujQBnb\n",
              "HQDvaw7btkVMJVZ0MaynjKbcVIFskg3q7LoZ7n25rn587S6lzJlGEWIch7IYfm3rsIAzLfrfwrNI\n",
              "cbteB1dWdEkwcQwrMS8GFxcrEWukp3p6rhZfIYe804IunWRQwYeXIZZy1nZbrTXgob8tEKGDYrUC\n",
              "A9UrybXiRmoiGEb8e1Bmv58ejYSjwiEBajCLBXGisUPkvwokmyHKuTElbGbFmc29IxsWePArPOjg\n",
              "ULykllVBNKrerLfnQL4skAk2xeaKz7MGYJrb65qJUdLz/BOZ7vm5/yuDVAwK0KYAQG4U3iukWY14\n",
              "qiMQ0fvXiuk9nUHGR6od+7QgYjiLzSLo9U+jZWLlF+oradazdBs80hXfGoANuZ6fbVrUhhFsZspA\n",
              "TdQf3vaOSlAp00y/7H8UQ1QCqCiZkN162xR4KMKfy/Cw+10q8ljmQ23z+Lc9AMizK6s92dtdjPg9\n",
              "mjolFrxVZsCP0n568UglnpNyQOrI2MlJD8z4rZqP35ELSAXO3z6MaUHo1NeVlnmOzjBVtrVchOZ9\n",
              "0s79ZcXkFbTPnlZHWYck1AQ+w6SnCLgdPu3BsBZhBpagHwFmfw2kqNYA6FqZZnoT08D3/8J5c5Wc\n",
              "h7Gb+kme+pVUX+lLFSmHrT5BBFPdxvIy7RRKSv57DjwWnwOy9NNL1ifmOc2RGvVXCAW/YW9dI7hb\n",
              "Y61EZTxHybrFRxOH3Q/rNGnq98w+q/NlXlCs7ghpil6+YuCkbjTQ7OTJy8bvV0AXleiAdn4yQpkF\n",
              "rgo/PL1295jqSLJHfW4aqdSJ1jymgjk1ulh/oBoO5hNPeIqUzaWvgWxL5QZ035dBue5Uy5M1CV3l\n",
              "zKpAwxIBasrM35ZXaTnmtHyQ9xw44ZydWAr7b9TkwKfwQI+1K1hRmlRj6z5uaB19Kw4W5iQ2f/2o\n",
              "uNKkNqJvVW3hhvgj8vb/f8gPRYWkQueSnU82uPcR/glrj2nC8aOVBe0nfWLe7W22tP9FaLNBJSfN\n",
              "yAII9Tr16wGeEms7XtPH68ocAKwyRaXIXg0GgdtWpQa9IhyAAAIb/fiOwIuOjyNSDCamiT7jttZ3\n",
              "EE3ze6IaGc4KkSJPKdKgIk6ysn5TbP/vMNX94cMmdvCeJ/ClYJ6wgr0QzX51n3qpdAtevSjbZmc7\n",
              "QPnPoK/mriqu2GHgIGhdfO57g772Sf3U8p+nzoUCa/If4uBdlCyYJYihxVUk6i3jSpkx1tzqqFQW\n",
              "z3Kh9E1H42Ed/k6f684KwJxzJMQ92SwqfT1ClYj4BUirMOxOZvLSSBkb19kLecFgPk+VUcV+9gys\n",
              "kF/YXjKh1A9dGXOlOUMheGdxjx+l8vVgZJg3WDYWd7JgWG7uBKlEEgHuRx8jsMgJ2qzXNSD+uc0n\n",
              "USA5dLOC3rnKwH/UkMQtCEbseR3t/h2f9hTSaeTbULZg5X1ArIGScKYktC02pRjV5MklkDgdJ4ac\n",
              "u+9kNo6Tbk0834r3N+UrZzjFEOWRy2pJ8XsvR3vI6X0RsrSAIf00rUml6V23qMGU6auxnFOrtl/A\n",
              "8CWvu/wls3byk68HsfZYGTD3AkySKNJgUiaCnKIA8IY2KgQklWv1GqQFsDNb+WJ1a36YHKRE0n5I\n",
              "pjsgim6Hlf8gd+uCtvy9BRZbO2siEttkdJdH1+UXdOCDAHS4ZFMFhuCmlN1dpVv5LruVmq9SbRBx\n",
              "7+8zrW+K1DRtSHnz+Grtrl8eTfk7ompy+aR5XFJSo/TYv/97ei6fK/+Qqw5b/3syA/uJGZhj3K//\n",
              "rtD9K6gQZQSaiqfIWKHNIcuC95+CrVnP7CFLSTtOH7/jo+rkQaDaAh8D9aep2J5r/qE85owNPR8i\n",
              "WSoDIMwVqaDr9Ol2LapB/6HOgfFPQsfBoiQEpRRa3JCRnUrnQEqkyenfH1Wuo9bOvafBNaHHoF7u\n",
              "SItpFQKMa9UhbAEShHDyea4wqrt0aFJ5EEJhI35Y1cgV5GmlC7hEMN2faZI4IkAO8thoJxoDs1HI\n",
              "ac7pqxjl93xBD9WXoUibNfBfzndMGUlRouDrwB7lnZYR5+KsQQNeqkIGjWvarw6jY4MGL1DtmJZD\n",
              "WkBWjrIWLABf+HmnKmExcuRvwNXKYVXoqekxL2hpJdbzpRyMhAqHepXpz4v6q9qudB1opWC7n8tX\n",
              "jIpeQMUZHts1Nqv5soCuwewJCbYjl0+35mb/+XPSvV4qvNT4kQLM2YvjY97FBQyXXvh1tRh1zeJD\n",
              "Idya/MkQ0ZD89XTrEKAOZJ4k427/5z5tdApzaFpCLUfhUAJeN6vyPTf9HgfsMmcR2lZF1wmtK424\n",
              "OfdpjW8LEu0HVgC3pgXJW/o/GoofreK0dtM4B8qkG+xDsNS4kXRGd5ffrlcAOEDD1jENBx0JlUax\n",
              "D0+/5arxkQh8xj8zjJUYeJJi0d7IdWCdvxl+cl6NhslQdVjh4IhEz/1fdLOv2iX0E7h1diqr7sUI\n",
              "6V1N66WH7jW0vix5aMCORGk7kkh34NoK/p3RVIdYtO0+CMCtL/sgD5WSsPeCWUsepXdrCDx940Nt\n",
              "BJGeuZP2Fx2FAoV2D5/Lz0A7ifVAbjJ9cY/CifLItwcL4JPfwikwVSJY6rWOrfTQZ1HDLqiMYZlD\n",
              "5Is/oMuQbqYWrAvYSRUyRT55qnW/ZIb0S1osJ1aYOT2eBJV+QdxmeKJqBFh6X/cQxUXyMe40Xlkz\n",
              "TNeWHoqrB+s7kIE3QBblZd/vdfHCFEcydvWerV/97VegqxUlo1NIDEJ8v3wHGPjtchvkImNP4adj\n",
              "JO4ZWPTeU7FNvF9bKBPIV5VDtbP/Brw1O6+Q8dFlu4TsauRx+Td1oOo54nBR8FAxmsTLIzGJh0Cm\n",
              "4L6WCGFoLkTCfvk2kNCu7bSDKiHS/Wket/cNjYXmURf5yKewUEc8csOUhEw5JZUR2duvYoHjDUD8\n",
              "IwrT71VxcWIIPfDd1eQ9EcrzZxFwAWEKcYOuw/ItjNLEZQIHgU9seDdolaQtPt6ApSEluon9JYJb\n",
              "XOZPujeJohyjyvzYnWqacP6VFOSZOQxW8QlhupR6w3gOAjLRJgso6gCx4XOn0uX2m7ER7lmhFkFY\n",
              "VKHzPVprv8j93uBC/H19O62rvHPEP3f0MeXqC62tQgUWXmAi0NhnYCqluTWoWf1jdeWw82pt0Efe\n",
              "YiXRN8Bj5zVt2gDclTb4WnCxT69NSPyS1qVEhhF42aGvWsCl9lnyYucIxTefc0H8lPHZHcNk738L\n",
              "+j9c73PE/YlHNs5f70xS3e38m8Hc74I+BTPK+jD5AUzqQAABFhh1nc5aGs+cyJEcXduadsumYLLs\n",
              "dSx9EuNpV3CpOCjhrQJADO8f0GKm+Gx3tpUYHCUNGVPieocRqIwAGipeBWLx4/BT6Ncp2NEdFgu5\n",
              "4EO0sTb3gHkmBUuKsx+bkQ82xaLx9R62klrg+D0KkJnct288J9nVOLEKTjLcfAvPPNQQGv8w2kX+\n",
              "iSHc3/fJHoMqatnuja5eFUDNPuocAGY0qt9Hpi23Ndwz87N/VxX5Ing1JrejoWD4sVpWzTieJgrW\n",
              "FN6ZutTCSe9e0+Eh2+FHph9bXi/Wg7XC1pnKW9Dv3E7mDiTgBkPl7BP/ms/SKE58LFvEZW78ABhF\n",
              "sABWwQAAAaRBmiRsQn/98QAa5aW9wAmqgIJbB4WK6AqKatfm++kOYJLguwn9w1qfvqVCx6C3Zs1E\n",
              "gesZFJ6EWlW9QnoS3emwX0TWxoUvVR+ro0G0XY5EgK+7rDe/5hDG0TYip2fcplT56MvozxeMWwpJ\n",
              "51qfCZwxxU/Ao2G7C4XvnMaxc9OkzEu/ZDt+I4A/Kdu7KVszMCIxHwpjnFv8uIFVKGNsiQhcxPhR\n",
              "TNh+BW0abI0MGmYgtVSvZIxpLik+MBvoprLtwEO6sr3iGN39h9/VNuwFfCw1jLpH89eUOcpnF5Gk\n",
              "O88nIqebSBp0paJFj31SSXi36LGpYau0ICiiSZtsUvHfaYYnusqhj8Gz0gYhWYlc6rrPWQ4+Wggq\n",
              "CdYC//Jf/mB/qs48ToeyBYoPH3Wonp6+5KIW8MJ3B8YKvcQjT/qXZvbd6NxD3lUiO06ByN5ByPrs\n",
              "RGiRp0b4oRZIo8qcjCj46qOK2t3Em871/1eNBI3Ieq31hUscnFt3/HjXM0BnuVRex4Q/9XJGWPtP\n",
              "AJvKAa+GLVkq+kfZFOGyTkHX/Ct3knRWHbIflBAAAAB6QZ5CeI3/AcgSt+6QALpcPxo+o9oxrcwU\n",
              "bh/bt+DMtXpJkPEvvM7wVZFM9y7Vav+gMTBP0fGMQDATjsuYTW5BpDJe56AsQy9CSuogRHI/CK1+\n",
              "5/t2QuXrkdwBb/shL/1yXltrI6qMAw0XYXOSZzY4QwZC5j4y+bACgQ8AAABVAZ5hdEX/AipiKgBI\n",
              "bBPtPGCj/OGVlD5Nc48Fp+s8X4XQW4g+zAAXWZ8Viq8EJAKtm73FmgAlcSQBnnC11nX2ZtkufweX\n",
              "IzsmQ4+7iIIrRh4LUMgi4QAAAGcBnmNqRf8CPYGgAJrGZ5R6JFS5CJMX94znZ+itmiiYJnbZHQnn\n",
              "0oD7shtN82rh4TAb2WnNZ71j+4pkWZMuxxXaJSwB+Lu9BEb9A8BXLf7bxEXevbF8YEYLDJaac2aX\n",
              "jqWtGBmoUPmAAAABikGaaEmoQWiZTAhP//3xABrjKY5/4FYsACo3jsWWAPa8PxMmqhqFUu26rkTw\n",
              "4FgTbwR+NN6Wyr0I9jdxVzxbS0V/OEitlOlC5V97j2qk+l1o7cDohl2QVbjB3JiKZn9NyGHMQx/a\n",
              "9bSZBtkPqJFn6J5KVj+dG4r/hiePcJUmuMDx7yC7i/dl40RKwMREekK71slGm7KzQjyXwv8T323A\n",
              "fxHSbFBBHTDn0+vr7i/pVfwkViPqloTKPgYEdwGPLMYo8s41tasnUHp/F+TGeAaAqByQN+3ZONpg\n",
              "vssObpQdDX6WRJjDyJY0Ncp0QqSBw1OlW0tPq1OxTzTyQTbkRRr5NNeh4RXHWeD75PzA2SsMzT37\n",
              "SyIJS7g+60zP2D3q2ECuX+EDy8qGDQJ9iD1ZOAsrnBzhrApw0bKJwVCu7ixWYRPgoCjUBlKyLsE1\n",
              "Pi1J06Q04HgVFwNmrDN2ngdxY+hZoe7n1TlEI8aTwemT/8G+cpW0SeZst+C8PECSfcpupT03mipi\n",
              "9MwNGHxGEF0AAABxQZ6GRREsbwHBtAJA0C+ABWFpg0VdzFTE2Q7B77I4H0z/RVT3MRTB+2IPrtkk\n",
              "FOouMqMAHMY+kWLRf5TUIxVgmK0u2962i3tiKiuKtZ/joruGojHQbcsXN4NufueRxbqKY8P/Coq/\n",
              "k9LJE5DIcvQ5AwMAAABMAZ6ldEX/AkurojoAS4SAIfHN2Sg/huOoMPfsl2iXE/JO6BHyFKntPQfk\n",
              "6/uF4t2ZfApfV1V7lO1iY/Prx8qzQO5jOqUDRZ9I5hAk4AAAAFUBnqdqRf8CBBk68CnSL5+AE0Rb\n",
              "ExBqUrr+PM18kBHrHBwABDwyVDeiDmFUCgOsi5Cf/POv0RLfC29/HUAFOwHg8AudNstghAlpv6AO\n",
              "M07fKohuYCkhAAABUkGarEmoQWyZTAhP//3xABrjY5m94Ht0gAGheqlk6RHsYeip/xOp9BtSmspl\n",
              "VVIDO6RV1y2MrKKUpV6F2UNTRWEMDrOkNdyy/qWGAPr9Sf6syOGJHMcLafbP/LTtfRg1DaJAxiyd\n",
              "XDhiqLr9yM+NxcyamkP0PYh9tHu9+vkvWmSojwM0Mb3lupqV2kCXYLP7xqZW3wgG/XekuJRgbq/4\n",
              "T/ZsgG3c3fXvVTOR0vYWvUi1pJEl1iGRZemfEDxQiDOUYBR4Cn1JWpoqlhFv2k7+oCmAU1uQ8Xqo\n",
              "forCtSeLIyJRVf9F1JbLO9fDwOnnLx7Bs1uhad68rxVmZFYWa5fmYDdHMl+n6jZcz7n+d6Y8IcIY\n",
              "tQxGA/pXf4m6wCcPfQFjzoYboX5OvCz007IXoyzy3CEcz1/Mo4TEHXSzxx/3NlEJXaRnTHBTSLxV\n",
              "LNAN0+RjaVScAAAAdkGeykUVLG8Bvl61AbL6gA/XjvqFj1kyp3St+7vxJajDwOzPW0J16Bm1BLrS\n",
              "CbEHBycnpSRiENVTKFA1xlePn7UQEhr/aWF0YQr62EfviFgLTKNbktqBky8fzhqd8bemPIGcpq0F\n",
              "Wqtey8OZIr1Pek5Rx+dOC7kAAABHAZ7pdEX/AR1YKeBn+87D2d4vkbIAbn0FU854x3TiIJNH2g/o\n",
              "nfNToYtsivHtks1ti7kvGudsR9TljVrmFrmBpZREozyaHHEAAABVAZ7rakX/AijCFWAAlgS8ulH4\n",
              "MhhsSFcDc+T+8xzHbFZ26m+iV5LMPTD5/2DJw//+afu+X9hYfWQBIB0GHC5itz4tStuP6EaWCCOV\n",
              "67cih7/DeaALOQAAAVRBmvBJqEFsmUwIT//98QAbD3WWy+aJbzABdY3pPgwlEFpmrmDcK5mju803\n",
              "YcyVBa9B2lXZ8Ohz0fpo+rvGLEQP/uNJZKZyKO8thT+qhkNvHxr+R3j35yX+ViVKNrHUi1esj7Iy\n",
              "WIKB4z/lzwJxBkSsYt5ppE4e40PUqxJeQ0KHIT9NJqo8gI8rNcl3cJCaJCh5mkoQZetthTE0cUlB\n",
              "iInXGih0cssMD3p5kwuJGVFpzrDwJIMw/tdEx2NJu2q0gQyNd5AMEkGHTSNNuYRACd4WFfLpE9F2\n",
              "3PCP/77KB7uDWSH5pw22UfY4kZZHc1AeUmB5zz+e3ZMvq0qnozy6EmsEBTPRzR0MJsW4mv8zmfBe\n",
              "4v2+JkVdsvCleUtZ5lh3zBRX4TZC/xOqmKdl/inG3qw6az1O3fJGvvePL/Z/IeGmLEwmImyQn7vv\n",
              "8K6gYDJ81/K4nl2BAAAAXkGfDkUVLG8BxPCQAFtfArN7c4hUGFvDhTn4mBQcY5HNoOUNvoTYomrT\n",
              "hdq//yvbiUDRDv4cwugs2N7RVI7C8vD0lbc7jJjx1Te1CWYzLlalYLJ+vceAD+C6dUcwKaAAAABy\n",
              "AZ8tdEX/AkofX9vgAnGBr5rOhds8a6P3EArJXZgeTAHZZTiUAF9rAg+uBep1Fqr6OpFfiXagSOlJ\n",
              "Llk7atXmLQhOhztXqJvS909dzEOgOBbwPY8xw7IK6lTvmAqPvvYkNl8BSiS7m+9/QAFcD4M1xgQc\n",
              "AAAAUAGfL2pF/wI5Gjz1kAAmKuElQcUoeHnnUqvKpGMRuBb7Bcpn1zG8JFXVA6sBkZsPLa73wiuE\n",
              "JWkjV0A7N2YSDfWP7yFdseTmbxah3bFVigEDAAABSkGbNEmoQWyZTAhP//3xABptL7wNZ0AG0FX7\n",
              "Vw7lSarbz60gBVnsaZ06mPpEsSOVlPP5UAbJLk2QeThUazR7j7FnzJtcTi8yhG8PnbBwM3PHDjGY\n",
              "PQgPK4G5TXgI9CN6P3yPEa8iEudD2R8oyhuX8o62p6nr3pT+Ap0gVXaZqXxmt8w+CewbKMaz3wRe\n",
              "Fzd195xUVmvAMh7YO3rltWfe3pMqoRv56887mwR5tqUJv7IiTaW5kvBsQk1EISj4ZQI5C8/pYPfv\n",
              "cKnjPhMKlkY5fs2KSTffQLdYCZYcJVsDTrQ8txJy7MKoFoquJndVFOIWR0zBnylG0CZW5vavkY06\n",
              "o+87+ZznKMgmGcK1BNPXdWu0r6sm1not5U41inkJvPW2BM4xzL8hVN9IVHKXQRzzf9urW9NQ7Mk6\n",
              "E0VKSBM7xfGYEfaybAoS77rWwAAAAGhBn1JFFSxvAcD3gsb+LKsgxBuVHFc33lozAl70kIBVA+UI\n",
              "20vQAs5CD9YsFww+Vq9U775CiMlsoh7QIfSe2zkpjtZDfoZfcoZt1RPXljiiH7vbDDA7v266Yznt\n",
              "OsR+1V1rrjdvOQ4BMwAAAEYBn3F0Rf8BHmEwcAG/KDp0IMRP1zVSKjFgBLDbjaGk4k/udNnI9KA9\n",
              "ZQiXDhCvtZTCmbbQibMmUldCOOA3kgdAOs91oBMxAAAASwGfc2pF/wI6r3qwQCwACbRVIudEMBWc\n",
              "pC2k5drvgv1kvRosxLXcZyXb7hmD8eH9iKrxHEI0sPTL8sROw94OOhs+Z1KKtCxqR7Aj4QAAAZ9B\n",
              "m3hJqEFsmUwIT//98QAaY5kXV8AGW0bhZadbC6ZBXgPEwBF/Mtv7oNxGoRAOZCu3V9mmfc+FaZyp\n",
              "X1Kr3X1rziXrPRFnsaGtNb3IG4WJ2lHZgnTTX361TxYYaiZFDmylxmhenRdYzJAoO7ny2lfe+rHr\n",
              "dRNBhM/8u+Jf5I9xvu6lBvSH+vtDTKuOxRz2qm7WibdA5fLcI8QRGlTR7mm4Ulx7tjS4hKohvbxq\n",
              "B+28DMje8ni+tyrTbpXouqYc/sUnyG8mWxr76dQsC5hexPvsv78Ud6jLHsbfMnof23LBIIWqrz42\n",
              "aTMhfMW09hRAKHCs4kEEIHCwtjs381UcdT/3xvH/SOPrZmByE8aUNKL/7sJxnTHovgJngVfEAobi\n",
              "UA4+zhyOtECTKARYVj5YCJKSxUqag9R5jvrF8z5bQwaHHnmo7BxblRQ1c5qb3zBIeumJ40rbtNLl\n",
              "94evJWyhJ/Kimt2Vl83vpIh7B5GrQAgeEpWQHIy27sjMHH7KWwZlg3ED0cxJYVUrgvu7P/HF5kQ9\n",
              "6f8ceIL+LI7Wltr4vGpJAAAAWUGflkUVLG8BwFrnqYyDl7nF1EqJiOsRBqCnVTU3HWnuC5wC26AA\n",
              "DdgACQWZ99TovBZhNPup4fW9Rq09fW2R9aO4w98qsGNfR06TtH9an/slXzh4T5u1AMFTAAAATQGf\n",
              "tXRF/wIZh1Duo/GlQAjwBftC2YEHtjoOLzB4hR0lYZicdsMx4A+Z3cgfnoINgPZTyjTsjULEElsL\n",
              "6id44uW7pCyKL2TIebgii4GBAAAARgGft2pF/wIavVsnAJr8oOHYo6QbR8pqgAuM4nIf1mmFc5v1\n",
              "NwQubvurTEC166nXxDktvzXjQ0vSFjTJAuPxSeJRkPx1Ak8AAAF+QZu8SahBbJlMCE///fEAGkKV\n",
              "dVAAGizR1r8ebJbOROVy5IpBNTH13bFNoVMJNIJg+HQIR/A+qWMeKTCbI9TZaySOiXmFb9mJlFVN\n",
              "o8kld8g4HVb+TdBGd49q9ORGEN8y09WTsDI0SDFerpn3GJrqSNoLwe4e0vqgaLGVv0xlTc/1Yl8X\n",
              "S1l3LYgM9mZNd+GyD4GqMJiaIFuoSr83TeUXRoSfZFeU2Jj4ZK02d8izfR+y/6HK59JVmpU+MvU3\n",
              "6A847L40QQjb8kgqor6zubWUUKjkmCl+lhki+CTSfuF3Uom+DKNBp8Tpxu84r/EunPhoxcpKrBxQ\n",
              "NrJMA0RUjf28qtuSNRWaG+MALYcJC37hRpgDsuo4cagCnR5q1fwvAl7ty02pZZ2fslc23P2n16e6\n",
              "HuwWTgFp8kNdQeReFKXS7BMlsjiQlNThruvXcAjRikVKJffekSIlpXz/lmUyc490udoDD7yqu9an\n",
              "7nnUAMdblN64ZLN1X0kp9jmh3KKacAAAAGFBn9pFFSxvAcBa56myb5IAJYibd9GvtWyxmI1CtOSC\n",
              "5mT1tJFSUuegekuGqDHnQjpOhur9XRsADcsNjeeM57FE99Sphv4/UCI9Uzz6AO8QvwpE3wiJ5zlY\n",
              "DYM0Jyd8oO6AAAAARwGf+XRF/wIcP8gvmH/fHpv5QdsxXrsAJVPtrmwhZMLaG2Dqq191vOI0CptK\n",
              "AxujAjnSWvaecr7uIgAk1Ke/g/6L6YA4cCEDAAAATAGf+2pF/wBFmJ/bA5gAK1/FWQkjqxeA6pat\n",
              "9Kg/hvJUw2Oa+97DiceQHm64gEgYPySgfRJkzkvyhMeTi0ukv1gj38ThmQZDkSJANmAAAAIIQZvg\n",
              "SahBbJlMCE///fEAGkKV/1AAGbeuv4LLdowbTmSJAyg6+ajVE6edHnheu8Ktl2D+/WfXBTx67XoG\n",
              "PtPLm0wV2jLHhyYxypoUvUo1A70jSS3jfhDu7ltVBhrEBuk4zQ681NuWKSqGNfFhaxeOv3d2zCPF\n",
              "ValUN4ECoUt4SlweswtXmG5iIE+THI6zZSrBVPeExyZeClke2bke19YUnHzBDrqUPujF7SBccM0k\n",
              "GfebtBK154ks7uGSdNOvBjdOmiZPZ+AB6yOuzmouF0HDnmkklOImJ63k8xXL/9JSj9oAHgHvqSN9\n",
              "uU1wdMpqo7eL+JtCnLyIncA4EDpw47AUl+vrwVn//1yBOfQRaBWzUYQd15MuRVmS3UDq2BmUv5xO\n",
              "MKFMiPTOFJJeleN4ZEL9gwpD2g1btvOy0ulp/jrWRHSmyIKccbGEp6JyMKBPFL7Kpi4bB8PH3iC8\n",
              "JjwWcKb9RP6F9THObqg7Qmwax1U4tMAkTo/NJptI/24PaHmoS5tMS4wnWr00p/KyvvNKoBNbr0bB\n",
              "nLE6s/NlbPYxMFBNaVihGeZZcKMN6YRl1+tl/fjSVbudstYl9h+to65zZjw7HA0yyTRM6vqS6hSE\n",
              "LhkOp/ZphfB3CCEyJRl26N2izpii5YmsdUpze4OalX+cQzRo0Ub/kUPcTUULrHiEaUN8n2PPBlzi\n",
              "VGGYoQAAAH5Bnh5FFSxvAcSRoAEkY33qlNPqaYLqkUEnQja3mt0fReSwknpjEyfJ4QXaDR5vsStA\n",
              "RvClF6T7vRVTzLSSbRXg49ifkkCRH8m5hU2hzZLAJFoa0UBvwAprOT9NzFvh7Qhtfa5EeJSPTRJq\n",
              "010l5Jh9fq5mVlmp+RaTQMHoe4EAAABWAZ49dEX/AjpciABOv8HXyimhwdFhKrT8sYtvNqWL6os+\n",
              "DJq4OURLcklI4CftFrU0VAJAAzWnVscyvmjUpw9qECDISo+JcZkC9zp7WzcTOEPtOCBbwf4AAABH\n",
              "AZ4/akX/AR1ejKjm3TG94kvPQw0vLYoATifh9jgaZGBB/HjlAD5ZQ9EQPkF00rn/rDSVOG8aPTJy\n",
              "fUMX6l31XEd42PfdBvUAAAINQZokSahBbJlMCE///fEAGm0vvA2DIAHPewL4z04zsceKrutrHTqx\n",
              "d/5VitWXkteOaTI7i45iM4d/6VAcpGLl0AVkFCDZBagafe3iMKt3EbFXHm7s1FowbJH1nLMdrzET\n",
              "7mKHUYgD3YfqZB+srdA3ZqyBTxNGCZXSchKtwqg5Je2bkwEAcDtmQADGc4QRD7rAVmTZbjnWa6vs\n",
              "2mfjSudZhcWLisISQWpv6J9wLsjDCNehltlR8Yqp6qhxz5Xcj6TZZmHPmkzmWBk55B0PvNBz62Ef\n",
              "cKEG2ditVapuq0fDtcOeD+dFEQFSGY2Elkts/TfnFcAlDTHiLCr5znGVFxGMf8O2MhYLrP/FeOSr\n",
              "ZkepQ/hNFkkgzZQbdOpPl/4Q237aAwoI79b6AvzAQUVTwBL+a9P5IWW/gaR87VEvmogOf5LlWonK\n",
              "L0///v/wlSVa8GFzmknjcKoMuHCUH4j6h9U7VvdUDDJtEd+L9bFC/CyOA+sSZf/4i+9guX8Wt1D6\n",
              "OjeLMCswv9K1rIFgW3raGpf69t5pdFoqHzyQbD3CKEOipRQtdp2TiQycNJQlvoPl59GIi4lqXV/M\n",
              "p/YqSGOPL2k1AlO0VS/EhxxRo9DWvwGJyV/5X6gd49EVhOxGAFXu8HhZQjQpXtDwQDp8JR+LH0Bz\n",
              "0W0NXfIIOewWrI0gcqQsqU7qxQInwNunkJuWAWnAAAAAhkGeQkUVLG8BwZEyYkAHzh2vGx3limz0\n",
              "6JAPJGzQz60obcUFmBSkImGhYFBRTJQb7BxHC4hGLN0m+x7e0lrgj4Y5jB3tWNTy/m2kBfy1Pxae\n",
              "JyyFCwwJVc/PBIaA6PcswC8sODDlnSmjxoELahiYJyejEnCkEnZs25eBvO8+5W4aUM1WTCWBAAAA\n",
              "WgGeYXRF/wEeHLzmypLsIkZhKO5CuvoPO/fgALaQVpd0bivDHv96lGxU4ahuCqMtl8wgV0vvba5d\n",
              "gvSULph4t38o8M6ssRPg2fWJkWGJWNpB0I/eg8VbmOSGxQAAAG0BnmNqRf8CPXrgATZvcmjirPvZ\n",
              "xsWOk+zfbZTH3hEPKLCw1GqmtCjgG1XjYo06bRrdsR1w9+AxZQ7UpnITvlldlDXw71fp5/+OU3vb\n",
              "6PAnNsYsJtqIRbRlGzrWQtNZVVVC+TxRye+3QeVXmIGFAAACIUGaaEmoQWyZTAhP//3xABptL7wO\n",
              "feAB2RRTwH/H16olVcMDnUKU8HSu3liqqR9W116mWhfpOgl5O07sz8XcPAsKPwFgiJdm6k63NOZR\n",
              "AauwJ53Bxtruo4MLhQo36zpynWT5KmPf5MsM168kHuZKIzvC8bSLHecwnIlwecDikAZY8j1GqG6i\n",
              "HTCqx1S/crryvvNVPb8VlEIHTkZtVb4YtfKXN6AlIR8ES7zxUyemfDd8HMFxILL8vpCf6TZDAnia\n",
              "dtFa4nt8Kw6sSQGlVDRDqSrnS8AxXLUcoyxosnL5abcUJkeAZd72D8sAzaG1Ru4ghggOzM1cad0d\n",
              "bWvOb7HcZQB3LhC7uEKTaPZfhJTXmH8i5Hj1mPzILj1CbGfBslgEfRBZjsceT/dyKHqjVWs0694S\n",
              "9zt7drv4/Q4cCcrUuF2ltHP1dYk5MhjRtNARdEX4LL23uS/asu7WMa6UX3aXHfs5xJ9utAF3idKp\n",
              "mrYP0Cr1s9Zo78t3q5xN9YcHPJQqyGpjw0XYfXEKjtZuXx5WfVC/nz6yjk0zakUeCN4JtaJoMGqY\n",
              "9MJkWg1vFYeUFsDlUMuikiprxqMKOjEkZVcmCrD7qzCg/hB/Zw9ZOw2+aBt7grQWa3rB3yajwXld\n",
              "w6Nd38u4Iel1Eo3BQ3gsDDYGkp2MlQ11Yu2YqRz6I8hR4o5vjl2mKMMedl2GDuraIR+LrgfCQ5ym\n",
              "tnhfHd7cuU9e0qe6AAAAj0GehkUVLG8BvRMURTX/2CdBYxU7eK9LKNDDg/yuOD8enlgBub9DxVUO\n",
              "4PJ5ndoKO8TdYZzXR2NIQN/GTa/s7utvMR8n+bvqfabxo37bDR2/A1pKE7XI97kta/mXN6WWGCGo\n",
              "5AQ3EizMEVpoOtH2a4e/VCtvSCD3SE8dU4EGMqM/cbBF8+lu/0J3NZqhkHTBAAAAZwGepXRF/wIo\n",
              "w1ViADMgHkSkl7ok3bneg/LUem3hSYmwOqPSO4/iHgP+YAjZZBat4WaKzzxuAW0MStYd6sDamT+5\n",
              "yisFrCYH8ObN4qAohRP9sn5akmX6rLMtGvJY2po9yQADhC4+EfAAAABLAZ6nakX/AjhLrGryQoj8\n",
              "U6WfoPt+isMAKksMYLNVeYYB3Cx3hAWA0cbyt1niJiSVxy0O7dw6OruN8hi050xkA3r51tJLx84/\n",
              "IgHHAAACNkGarEmoQWyZTAhP//3xABpCkuJ8ADRWvyTXDi6yV4n984iDjiZfhvkaTlKy5oSNh0cq\n",
              "pi3Ovn9PGTBS4PAe/yzoTZ0G67TZ/X2kSm61pdI2n3oGNIhovu34ogLVgoXKbdyU3FOCpfKT5bju\n",
              "OK9x8Zm/y59mUdb5N4Qztr4iD79n9whN7VdZG0a62unTboOZXMnGGEANDrPSq+bD2IndVfCC1yE6\n",
              "ftMJ9LtVP3CUiQmfVQYMc8F+oXPqfHoSsnXczJxuE6OYZknSqFiQp4I0uIsWjZZJMMN3q3WtTJZG\n",
              "C1I5tVkSUBJgTIOz+coftxBQ4vgClOsGlLCeH609IHuqkPC+ueJXtu3vqEJ4Rk+4EFtqlDbjR7YH\n",
              "spQ+Zz1G19mVA2wQEhbXboLCnUTHzai2TMOqRWBwogboEiIXOg0LA/o3xD7TKaNFJHB9sxggiVoq\n",
              "FMgjSieqwIy68e1cHW7CWGHORXYsPJjFN9X07xkf2S1xuK2ukvXH9+qEGnIrg8A8ztUUDz/sYeSB\n",
              "d+NQRp2sroh+tqg8ANaYm5Jg3pKfArOfRe1SP4qFQHhjn0P7+XUIHpSnlWnNCRKqhVFlLsD0xHY8\n",
              "7iMcjZt7QbJIzAmDioq7wQPUujVLpaF52WIRNsR1/9Qxpt9S33GpmunTGKowvcvKyq4579wi0kDT\n",
              "eTnc9Gt7vc5SUxaDizdbDcO/HD2CkSiLnDmK4tIxJ1scbaAYWgosGcWec35ZpWGRWEWSC6Z3VByF\n",
              "RpswAAAAiUGeykUVLG8BxMuQALXsgXkf7epVdq9lTNrQSRrDmDO+QUa5o7uBKRvBNxrWNZad984W\n",
              "jaOEVRvakUa9av2KS5K+oAraPboygRBVCk89C7Cbznlw8AP6U6u+8/xqIf0/FzbUgKh1aGPXgMUt\n",
              "DZaM6Qr8gdhedDhhwumRmgWYnoq4Lue4u/f1lQEfAAAATgGe6XRF/wIt780AH644Qisa5JinPY4k\n",
              "MpHKmq9pMiqq5hE9f/NlVfBR7Ww8nroFs42fiLgN42rMJzP11uuxCN8Q25KTa3c2XMsdqkivgQAA\n",
              "AGIBnutqRf8BFmJ/rMB/PVsp/dwAON+1+N508V/gH0ffIokuP207NS3TbMj6Eo5ZOp2d8GGz7jKW\n",
              "HyaLqpVf99A+0lsKzVU65+wmsukGKmuHASRoxM27DktgZ3OQN0UmngCpgQAAAbdBmvBJqEFsmUwI\n",
              "T//98QAab3WFn1YJNb/IAXPNMB9TvKVelk09Ut8NXALfcv5bYFRQ0v/tN9PflWUvL2pof5t6fVq+\n",
              "YCdGfqWhXBEvdt4z9MiwQ3MmO7sWQ4dniR8HO/+BkRmIisp4X+ofubW6/WVuQC1xIqsCvhFbJqB8\n",
              "T4Ea4OK6EaAUOSWW8+DHY2pr9RCe0JfrQVC10aKtu6k2aClxmb06qoDA/Fr5LU8E59g5uvnrFbxf\n",
              "ifqxt7f6ZW1GNrQNdU2BPdC7GwN3v5zmO6OV12w3lXRFleeawTWGfTf+p+HAlTsFm9XlBXqj8O7j\n",
              "DPhJ0+NqGIymjxu7uRXqVHLQGaSVfqMAIVI6IC9vSgyUW61N2RkvJCCbJ/pNYjAX8gW2Yae0Cv5q\n",
              "IOfyJCzBJ/8PbFl24qOMog0sDMFCuxnRu16lwl9ELYksWR38RVkTNiI+GWqU7/d5OBAy6SMusoCM\n",
              "thfNfN7N/qMCvo+ZonRgmFHxTU+APlhnLRqQf9ZuhlWdhRAtPpa2J0Vr1Wl75ihzJg5NKY5/B9BP\n",
              "iMRZ5Ju5ultA0Iq4lyafTxCUvPI3QxWNKhQO5Mz5AAAAj0GfDkUVLG8BxMuQALYo1lud8GGYuIFr\n",
              "HC8FbjTaDGYrU+l80j1kk2mHwdO5OIGfrXzNPmC9UGOk2BKUeK29+m5V+Vm2R0za56Tgtf/mcGYd\n",
              "1S2r1hYVzvi4v4DsCegH3HEls+8yjVxx0HBiPCW5Rypa96qXkA5YjfMhF6YHKcknW79T+2jQCYj5\n",
              "O5ECZDNFAAAAZgGfLXRF/wI6T3ATFm2cC9TaAw8WvAAW0gdxOkkVgc1X091UEWKhrzgo2cFmtM8u\n",
              "OjmVW7d0jrVDbxl4hkpSVlMxisN2jlRKs8PcPnPz3BmLv5IVaRS1vuqgOHYiWATojWKsfR4C2gAA\n",
              "AGQBny9qRf8AizE/59LInA6AFU/Meavlh9WbYVeU5n0kqZX/1khBX/jyjP2BQtrtAhDKBB1L9jqq\n",
              "KNFzgayye4uoEBHcSqEWuIZw/DKlzD3CrjLQ39tjxN6uM9TjA8b7V8Dq9wM/AAABikGbNEmoQWyZ\n",
              "TAhP//3xABmmQC8ALAW3y0fE9TA+8AyFGgg8WwAxm8M614q02A6iriBoyvIzjloy+J3ROK7AHwRS\n",
              "4CYbDys3sq6AFoVq8tBSDJUFMGTf/wgpdE9ORv2OduCGVYdCFfuIudEBpBRpnGio/VMZ0j7ucFJV\n",
              "Opi4oN5ibWZ5uqNxxOYbOa0d5Yh2g42DDQqpRxjXNOCTYGOXu738y1JAbF820XxjyB9yJ5J8LnXJ\n",
              "E6IyxrFd8TOU/3RQbEJx6j++mNhHXNFuup3ExBL/S+Rfk0ROPp4TS3Qqz8jP58iuVtzOZlK8YZDz\n",
              "mP8w6ezvbQn92iJqdpHCfokMqgbHsnqavMMuQvE4bgMfXT25d8noKtbPB1xkEEWXkk7Lh0dSwlWn\n",
              "TAd1gD3UPmO2TYLWaguiGxo/e7qvGW9Q6L3jttHes515cS6WRvG6CRJsnqR1L+wPrupif2ZNOBUo\n",
              "Roxhs7LKnYwaFHN1s64JySQi9r2uNWPYBGJFR5R85oVmiDdZaWlbEWnXPoAAAABxQZ9SRRUsbwG5\n",
              "8JAATR4luWHr9VjJVjvA0WSqY39Mh10tGhXGGwT3MQF5PknyTp/DtQ9daKV7pgUElHg+z5oTNuMq\n",
              "RcTufmb+kwxY0eqWMqVnjvmBU8b1IsR6XdmPD6SsvurznBvXNj26Kz8dMB+VdzAAAABJAZ9xdEX/\n",
              "AgpJ0cd0Ku25vJfY/M/MsuAC19BdxCcyxxzx3mveF1tB18PlPpi5iyVw9D7uZI5DAMlLP2hkPakC\n",
              "PRw1CwRJewQBZQAAAE0Bn3NqRf8BFDqXdMyMKE8sQLFt4AWv9KkF/0JJXm9w5g167s4UAJmaMVup\n",
              "3sWDUBWoNEd8dR7cwntxYPFG1GOG2k3LWc9XNl9TIcBswQAAAV5Bm3hJqEFsmUwIT//98QAZsg9L\n",
              "fuT3qeYx/UAcl4T576dgOBbf39nHDaZsmuQFkj/fnyeiSs9zGNQoIc/Qlkh9U80Hq1llgDlU2si9\n",
              "cPXr/IrjqfW/vzSteWLrQ9RILIu//a8K79ljcP+trWRj70kIqTDn1QlrNEfzKWTu7oBhn9KbSYp4\n",
              "JK6cbsaFwn6tJimMZU/a6ii6mteFrBqtNf/ZGF2G3lCfZ8h7ZM3vtRfbpAgTs/4GT3w6eNyRcwlG\n",
              "NzCxfZnoTamY4dMxMQvWOLV/N0JnJreEgXK4LjH3d5qK2Dk5AyhtP98TymLbYzjvJn1E44D1lYb9\n",
              "2aE2PFwev5HrGTu1OKITRPOlASlAvWED05/Dx97i00//PyVL8EJk/q7hSA9nJNlA2lfMGp68qSpO\n",
              "TZWS+kLN/v3NfCtXYYp6uSKKoUbyCG2YPuDPnm0rlIkleYQ4upBmkTK/3GYt6QAAAHNBn5ZFFSxv\n",
              "AbfnMNlLrYJcTYACWKa3rOzrZqa1E27o+WzpcbJyKnQcWYtngowU4+aQGlrMjKCCUpt7IW4qBLLC\n",
              "B2GBbGsbiCEztHoyBj0Kb69c65hbes60f9OcxreC044o1DXWtkrC7VGG9os55kVFLw/AAAAASgGf\n",
              "tXRF/wEVuF1JtuMAODmbmvf9DGwDolXxsKMIOqWzeRXH/nvWcrWZxfBZKAhHDa5TTX0BpMGQWHEG\n",
              "UK5ZCDDKJe9SDyDLmwN6AAAASQGft2pF/wEVnyznLHuu4AFruyKB8+/1xDjxta7+gp/CbtI+gWd2\n",
              "k02gcIrg4HmkFJPIPPeZxYdao77tHB2uehYn8CGgWShAm4EAAAFNQZu8SahBbJlMCE///fEADTlX\n",
              "KJGPtPABeyuCNWkfFcIFUjbUEDKHj3781aXOff7J/tjMRfXMAZqLUp1v8G3FTpkjAcycMmQUG8QI\n",
              "QAjqImpa5apFPZIlHh6tvuxlnLOj8zWqtXXvXfrjrnVZUDNsSa+J3Wwc1kZVmG/jZJtQc9rskq+P\n",
              "9sxQ7rOryM5pptjvtNZGKgbl4KU1CAdQTS8rw4S9r7/z3xlN8WAb+Ad+M4XLslC7PFlG8+fayIJZ\n",
              "MGuohrq8akJK14QjG4QeOQ4+WVIUcNBVaLHZaQyt3bwoKgBh1HtgYj/Uf+3AU72Z6HNSKPIxd+6G\n",
              "9K3ZWaO2HH26XytBOKV1uu0zZlXbWyYSkWxP7Ggn/CBOam7PQDq5SfM8rMTzw+UOjlvyz/yZF5Sw\n",
              "rkGHJujH1AIBZp+xXjfBiCx/s4erU7sFeoSZHCTgAAAAiEGf2kUVLG8BpP6FtE82BjPoxLwa2hfK\n",
              "oT6gABbTRGpTdlSdtSsspbxZbhUYxTB1dIEofeonN4p/hEwxYDnz8fxeTQpJNNyqxCSO6tkeFCom\n",
              "Qre0tLcTN8tlJpaGEK1wyMTuJMeewu/aJkiFoltLQDkTfW8+BCPBCycPKtwB26e/ZDSL53KbBnwA\n",
              "AAA0AZ/5dEX/ARW4XNeLHYWOHOA9HbSYcOWdUh1TGhbLT7Q+xRUVW2dBuT/zAPB4qcJeMIBswQAA\n",
              "AFEBn/tqRf8Aiip9zrn3iGhOfbYALjNwl6IOISsV8fQcNIP8d7+fBb25OzC7s4ioINZIM6xOYN33\n",
              "SGeEZYvEkWgvADI551t75+Dm0p1e1mrgccAAAAFtQZvgSahBbJlMCE///fEADSvVEpJE1fAJE5Xe\n",
              "Sq8n3lxJu/Zv0hCsRRykEg2qisbH+D4q0Wxx4hTgwiS2Uk+wBZ2OCTvS6jLE6w+5vNlqSdMqdBrv\n",
              "/w3zQO7cxJRdiFNPO/RzNY+mUen0S5h4QRpki39L3irlvL134Hq2Wy4hr1VHKf1sZ7wHIYEHZmI9\n",
              "Qldrl2jnhRwjFqBDkIpQYp71OUM1odB/59P2HCp95ko9/cJ5IoA5PEQbaGDMkdJXr2LeUKxTb+0E\n",
              "iZWGB0CWexEO70OhU6zUgCn6m3rEu0FfpTXJ97vEY7IY97Rk5mZxregLtm2fNIiZUCBfN4I+PY6o\n",
              "B70myR/BZLi4P0VCnDbb9zWoIlUsFmOvMOeTbJB5QM5Gfk2+DQE2r+3gAOCAXJA3e8EF3WWeowq2\n",
              "LPiIwzth5hbGfjtonSCJPa/PCoTFAZczkVva1yk+rxumT3NsS6qjmEfYlWJhyvzLn4HoM+EAAABX\n",
              "QZ4eRRUsbwGk/oVf0Fm2eNy4fiORUJ3ON4M9pN8tGsNKfbFKFM8ojFeZPMtd7RmazeqsOwkHOEWP\n",
              "DQEd1pz05ee9hk/nz/kwAZZHmdq3IGNZ4rQnrgEvAAAATQGePXRF/wCK3C5rxgTRbvYW8AEWNnLz\n",
              "eTJej4dNrdwKqDjFezwb5oASCdPRhMC4tRjAlitQRzUCS7Pq9wonpNGdhC64XDeb+Ay7wGLAAAAA\n",
              "RgGeP2pF/wEWYlbjzr08RYGj36AD5ufMO3Jj3tg/NpFKccqvLpyBhohfhHCox6vwJm+pbzlUwNQs\n",
              "OfadknomOi5t721IE3EAAAHSQZokSahBbJlMCE///fEADTlVaCUMOIAaRXSmi7ox2qOR2goyRBx6\n",
              "se3HJTXbIADhjt4Hjll399DAYMDygpBOXEAK2nZ7zrygLypvIUfN0NIpNwANP5yOTgP1JtcVNufQ\n",
              "+g93FjHd+zIeskGpjtneEHQJmyCMQKiZXON1yl9hhQfHobfzrneEh2Vyy3HZUgs7yA0wc7EqLyGg\n",
              "nMkG2jf0sxO+dpBX48p9zulgC0ZcuKf4Plg+65hXeaPw2/ZGeHfAFgeA86nMCp7aTUrmIOfZXpv9\n",
              "l2VTQUnIQWCjDO8SQwQvsb/hdriBB64eiPHrHSm5tjr1i8kcuBd1FgxGwo//nU6fx2cFprfz/gTv\n",
              "u506VDvxM/Gu95FM1OItc+/F7DiLHYDY9MrZUhVue04w07txw4ZulBxkPArflIGmmG83Y9bi4DH2\n",
              "PmnardEdhfeJfljxwY5v5BBjuwGDl6E/GtuS8k+sUpLAyuzgJLti1dQ+aV6YRlR+jl5pLlMtaqpS\n",
              "lzaJyOlQTpCSyzflef+bs/MhlB/WPmWVuPEf3PdPTM5JMBHaxmCSNdC0+DjLtIahdCitOAe1OFxM\n",
              "efKZWXtWilA8UlUzME5ImEazi7rUrVX2smZBEwAAAGVBnkJFFSxvAaT+hSOn4/G6UZ1Pef2WcIFA\n",
              "jQwgjL4+iIO08culz3+lpM69QAW0E9zFr/NohSNsOIFCRL9kaeXpMdB2chi46fvW9yletwLFAcYT\n",
              "7ksrvHEtcCrv0vB8eOivmEBdwQAAAFoBnmF0Rf8BFbipJh1X6zACmp+Ynb9qLtEXRd3GSQhih4oY\n",
              "uk5Pdx4LoPpNDTCL+SBiasBRULmYWHy2Qg5Wnzpvg4AQvWZ8Y1pmfF2ERoscAfRMZiw3TPukPSEA\n",
              "AABUAZ5jakX/AIpW9nikmgCZp67GwAFtQh7XHVQ/DwhhX3HDeb+Ky2DdEbu2qUNVKLruMDaeIpyT\n",
              "HDFFoyB+a3xHakAlwxTuCf/iUVM7GhDFM6cuQYEHAAACGUGaaEmoQWyZTAhP//3xAA0r0barmFBo\n",
              "A2EoqXBjNQSEs/dPGjGW3fpJxwTJQRf3afkN69J9lIILPA5m1FLONclb2SJWz/ZsFiq5VFKU1rtA\n",
              "Zlb2bYMUR3GY2a8aUTK1QvgcJ23IE8JNZVnI4Ltcj/nrPMkeG/wBHXywPJKpYo8PtGgSqdBNTyZ2\n",
              "xHtEncyrUfzMkJWWb43bfot5MtGLGpgdomb7h28KJ/kibfZ+eLE4yHUVv2U2oSetbwY+eQngrTSX\n",
              "+INCD5VYU9FxYhzLTIVpW083Rq3il5rri83Yu62tfAjdIF6roYQR0o7z/uH13//grvZI1S2DJ8qX\n",
              "RrMowq6qcGq2YNWb10v6sOj4iqJ5SqAQkZoLJCBOraueRguVmH1APzrLIh4Ne66GoMBSszoTOOor\n",
              "ljZPIrVutbJPU1url0PgsmDU7gvCiMpm/E9IO9i33VBnu1Xw/mWe18H/eI/SsUphCZlEKervFnJ/\n",
              "zaNdDcIkA1HuWowBPrN7hYENibdQm4n7zU2JnHPRSpqwVjh6MAnjYSa1qZCdQWYcdOV88GxRKVp/\n",
              "VO67beiIw7K5t6xaNU8WdXd4jBlhMUwiA5pK8ofUjpYmmdDsxmkxVAkm1tk4Q0sfKPNrCyhVavyA\n",
              "czCBI03g7IpG+8c9zRxJPmq6R+cBz1enHZumk/I3hJJ9IzgeWFZUhG/YXA1cL0KnqePERR0D4m8y\n",
              "4AAAAIJBnoZFFSxvAaT+hSW01A28SPm3d4Eh6hTuVjIALjN2Y/R2iFkqR4pwqnFsla+pJOyyCvcd\n",
              "+MWDSRLigsn+bJmSqUBQt/Ipt+YB8Qg2QOt9kLFpRdQhY571t6JsvMKlfH3+zgyQXG3Hx+T6AdBE\n",
              "WBJapoO1aGnDE2PvUPILyjYrAH+BAAAAVgGepXRF/wEVuFzXc77sTdgAK195TQK6757tdrYjDBEq\n",
              "TczTKH+lqDWxx1AGbGB92CLwOs6bnL+tV0KCOWj9IrVIYjHwsJZwEDVsHH5mEjl+5m3mPAdMAAAA\n",
              "VAGep2pF/wEduOU9Uc8ofuy9QMM+4v4AIsbdpXIGEn5tcrCwIXAWvj2ZMxWNa0gePYa7evivyY41\n",
              "xrgOR4cBaCz1ACR9gR9kBzTx0kqw67WQ2LBDwQAAAbhBmqxJqEFsmUwIT//98QAZwfd1zq/Q4Mw3\n",
              "MAHNOXZL3Hqf1eUzPaLMFabzad1HJzLVsRUL64rDySY74+avKuNLV2hEaT6jZ0B+FOYIGRD2BHdg\n",
              "Fplxduiqp5a3PzQO8BUPhx1hYqn3D2YNcEhxLK4omM/OdKpCSV4zAjU1uw5OtdzN9VG9oUPPX/5o\n",
              "OfQawnRooMNfkU7WezbKS7QRCLFJMMaLR22eu229dr0gcxgFA43JLs7sjEqsR3lnyVNtzB6Ias9Y\n",
              "QXbqMZ3wqNZ7OzS/Db2/jWwM0uo3eOEMV7M3XOHuB8ce4Za9izHQxJw79t+Ww34ZfTtR33vT3Ydt\n",
              "BWW9ew49NsIvOSdoXXcUQBG4JKFSLVWWEIRlUAQF4m48IEYqjPqGvVw5wBIcD/5beFiiPn8elZj9\n",
              "z/Rhl5udbffdgwEjZu5qDFlUv9UkToTchobxZiIHrcF5iIfSUO4u8Vg1gft5YgwzofJpY3z58adA\n",
              "dPkVXx7eGXbtUEOsQmnb3kJq09H8xz0aTr8GOmvMEmwZ+oxSspnBPb4Q1ddQIsQNhW96EkkHNK8R\n",
              "qSnyRERgNSAkOQVvLgCkgAAAAIBBnspFFSxvAbZO71IB2LTPM/PmTbfr4VKzlrdNSxIFA+dQE+hz\n",
              "ZoHzOcxou17jpGE63UyqABcEsXt/lEOZxDDamAyQ9PsIALF9tZXmmTOEfqp2DZmJeafL+V3VmSnz\n",
              "1bF8a+iHdLEqkMjdgL1tBKNt+QnVy6r+ccs1/GXSYEDUgQAAAFUBnul0Rf8BFbhdejrHEOyrM/ms\n",
              "b3ADcnTveNKAiN2VdbqstDvFFywXgXzl0JoTMfT1F5DEbjd4kcRgYIhm7pY8qEI8M33Qe5AKIlyM\n",
              "dmaVgQ5B3c+JAAAAYwGe62pF/wIsAAoACWofAzAgT5ANI4HElLY6w7+4lBgMzm/IdrmhiRJ243Mz\n",
              "Cva9Cv1aV19XGZ/KmihgQKJF8HzLh6dpr5PX/p7prrMmuYdywTPJ8KM656zH7wOrwMJgZdcEvQAA\n",
              "AaNBmvBJqEFsmUwIT//98QAZwfh1dwAthZXkh+o+Zpk7Ewf1FrwxsRg9s66QQvyfrsL1xpZjfuau\n",
              "WpVNL8ulFVMyv0zxgzkOXQm1cxTRG9nAqt4y+dtmQegfZpAvcAInHC4wQCgfI/PLpBhBEI3PtmCM\n",
              "U8sqcuFveYkpqcX5sSJLl9bJjt0GgeOqad//gZ2WGrn9VPtylIJYDpll/hFGDrQGgdo/drHtb/qC\n",
              "NPRu/QVXhMDH4mPfd6BEJoKDoAU2xK/U5t97g4jaZM900J9EVcUspJNJrS+tirdZVOQioq5BjjMC\n",
              "IQoLmSPCDQskfiV2hkMpdS/+MEuF88hA6FmpU6fgxpao40Zrp9AUTUBR3X9koYJCEVo4kH8z60rY\n",
              "o7FiZZhV+u/iypi62VEEcJUyWVDihtTwB+aQCPn0w+PYHQUf4UcY+4Sxba5RP9aS0mqJFQ+xaRbC\n",
              "St+hirXgqLO6YC4KbGxdas7VyRKMuwAtGLt6h1TVzQvUMjdtEBf/f4KYpHUyxx9tlNQ5flwTtqyT\n",
              "RE3Fh3TIko7C4ly+/MW7oXMsp5sOOQAAAJdBnw5FFSxvAcMqCWAZZkbzEd9p+Y2nR41q/S9zMH4m\n",
              "UAqPCHCZ9q7Kde6IAbFgASvRNXcX8T4FLJsIhnW8AM7a3xrWLLL6RLpan8Ds8wJ6aKu1R0rWmdEm\n",
              "D8GG415sRGmlAPFm0VdIuHsZ/27xxLQ/XEima/hxJdlVEmdrByGbM5558lF9kS1pRPYJmAyfPTdI\n",
              "HYQphAZkAAAAZgGfLXRF/wCNBVlrWyT+AC48ook5XeAFhQGbxy+C3sdn73GeroZGudRqI6N5ApWh\n",
              "qVNz111iZNYTjEKPvLjOMk15PK5EB7G0v0rsCf7biwsJ2sXfU9oPWkOxamUTRLEhk58P2jrBFwAA\n",
              "AGwBny9qRf8BFmJXARAyLhyn04w0Eb94q8AJZH1j3yhJvT5h1t1xgkOAaQ2k2a2pBzp057gCBinB\n",
              "JBmL1zAJwX/zqoInO0e068QOm7pB8DkJc1VTn6gGWiRIy6hBEvGIKUsLc0X5Ij8AMW3AyoEAAAI1\n",
              "QZs0SahBbJlMCE///fEAGj/q5S9wBiQZJSAgCUy1utxAyFpUGKn1Yar2dKQrf4DlZp/8i43L6i55\n",
              "s8x25A1eiqmJncv0qM0UcVTsKeJqfseK3bddJ5jik6Xhk0zNZ1DKv+P7YVTcP5SJ8DwLBTSmpegu\n",
              "jaPBh4yfKvXvx418Yz6PcyoqHk5ZoMe2N05eAzuD5TIydp9c3oanlns9BZlXq7Rcd9SIGM0TsiyS\n",
              "FY2MJPqZ97FuvSFUf1ej3vJ0QL9j+Zllj8/bR1nPHvsvhbS/CLdGoeS9wJZXSDC9T0wrobvbWmGV\n",
              "15lYx7iSClrvpQTQ9Ao36jjkjaH/6MMFXwuuow3JJGxBOmBy8ZYuJBYaPRV929CFWJOXJ8HBrMO4\n",
              "RYbH42ZmG5yBqCkflLByfGMF2hL7Sx2zyV/mNnJzT7fnYh0tD5B6+ck5UTRgVjF7ajWzqcONEflu\n",
              "GP/va+Ua1SagLAQuoqt+Ges9s5YYIrQ0loXIPxBvS+CCjQ+pu9otcREjIt2Cz98jekFX83uVY7Ji\n",
              "lW0jorF1LRy0uIhjErr3tgBbgvOCVvhMCZwlbBkMKjOAQhWHypjl3Ty08H3TS4Ugadn18hhp3hVA\n",
              "Xm4cvZ2/lKOECHoLZLD7Y1T+ASa1BrhoxKCG75iHyap5sS0gVmgGoxhBlcdNZ5xNiVQq0rD3krwo\n",
              "aHZTrj38VgcuFI034TxMm8jCXulitgEFSgS2z0hyJmZrnaOXHCp/5MwdCP+tc8VVGX8HzAAAAG5B\n",
              "n1JFFSxvAbZO71IB7Q/XgCW+YVgyazItRWeqvI3jzktCSUa0Vh8RU4HBcrdCx6yC95Z+tAA3YAAu\n",
              "FlB6hgxmgZ4JlgauQ8WjA48d1e8OarxPfe7hRkTjSoc4JmyhLNgzmYZA4fS+I0scFhIBbQAAAFAB\n",
              "n3F0Rf8CO37BFHo31bUXXABdAQIK9h7F8QRW9945ceuGzIenWPaWOOYPhU0to4GsHcT1MA46mO7w\n",
              "NKB882Q7KDpvaBJGtfE6K1PGqQsEPQAAAFgBn3NqRf8ASa9cAEYH8WaFi8dmMoodIF46eh7CNzqE\n",
              "p2M5Bz/WwdlGSaO9N4Q0ZVe0Os9qPPa8tXP5uVilpXVbAgaEb9ko4/znWr+xf0DWwipAabs4JCph\n",
              "AAACC0GbeEmoQWyZTAhP//3xABnB+EhOTqKLDXAHJcxrRDbWBP5K9ImIxfyd6EWZEs1NPtiZ2zuc\n",
              "b6c0MvIq+DjdOegLyxedNLdkIAHD0+SKdZcdq8vvp3rfzp0WHk8xYz5T/FmDEIBhDvBYCKPZHHXB\n",
              "xZABft+1N3I/8QHaYtF4vwx2pmdLLAqSNl3tAqA3775kwRIkggHRKvZYWn9KO5FMEy+svvt0CH+i\n",
              "ZzP64AlFOrYjxhW//GjxMh7UZP5+imKlPS3Ci9lEBWSBr8UiTghJZf9TNqUu8j+iGhgtOiGA5h1C\n",
              "isaAKq3Bpl5EBnqT4xb3Oy8ZVkNOEWh6xHeyekjntBo8BIMbr+2i4kP0OAhrD3157cznm5nsxwyt\n",
              "cnBKzH+CTnZS+kU6O6klyJCgJVRmsX1EUrAu+zwB+WeoXij/yu6xnc9DoCyX+Q3ciGqu6V50kN1f\n",
              "gd0WzDjQUNGZAURNeIDkS6HT2+nd46uH/lLva5m7Fp8cN6Th17yEgkhknJ+FhdrzUAXQtqpxtEMF\n",
              "wU6/ZUOL/LNK7Haiv8IjqUud1UjX6fAfdfK26nn54TcfrUcTy2X6iYxAj8koecK7rk3rr5HD3LV/\n",
              "MfDbgYq/W2WEXIN6PUM+NzfN1nGZ9siKGONp+ppUamhO0hIJsrlefGURoMMhCIgE7xK0/7xeDYxU\n",
              "zkFIzvzbvB+7f36nc2cAAABgQZ+WRRUsbwGk/oVf0FnBTzl/tInF9vNKNe6nz+cSZwYmRE34tGVN\n",
              "AnUQ30z/VH0oAWskPG/E3a8ZMSdXrFO/F1rfdYRC7Ilroz0iOc31zozKMA5YTGzoLXCwOB6KqKaA\n",
              "AAAATAGftXRF/wBJr1wAOJT4lLWAsG/8hl8URT343EbuCAOlYQd6B6t7AHoJeV1V2W4IDqp9Nw8d\n",
              "s7QQfk2YZgLeUQrTDL9OclzAOcOg3oAAAABdAZ+3akX/Ai2iRACQFN3LKozDipzf2viOhHOt87Xf\n",
              "V6kDzm9uAy5tK3APYC4qGEIrfoRS3Gw8t0bYvJA0vgyy8NpJDUQ01djp4pt8rpLi0Xgeh4JNs16z\n",
              "AEtxkDehAAABokGbvEmoQWyZTAhP//3xABplRls0AI9s20619kc9EATW7SHBdHHtcjHutrib98tj\n",
              "/PQtfeQzGx3Z4bl1ntknScH1IcLJ2ofcyInMPBE58vd8Ll3B3PKQN57n4S4vzDig5s2ZwikMSA8A\n",
              "04qR2ReOki/enE1tz695fLIhxBQdH8u/VOwkqTowEYcg/VhvD4OARicj4yINIrl46ur1r65paZ5o\n",
              "HReVcaazYcPMPkffLdEdfPnwFPe+yDE0v/Txnn84KkQ63rXLzS3L3Dzyieoib3wnN61wEr1XjRtR\n",
              "Uf4MI4EjLZoRy2d0HlROPl99QSYStMG86b3FkJMSf31FmLpKB4aDoouPKGAqJHL1ymYmRAI+nvpk\n",
              "cXQVROP/NbRgNf9//OaA4ixmxgX69EPaCTZUA6nNFc+81cBunq6O1UsIFDQ/q7fkGi2HAzTEyP0g\n",
              "dYTYLQa+jVTiVJredsk6pa//Q9Dw1upFQgGjHLTgu5HFYiOCNrsmU+aLqFoNdwFw8HZKP/aZRnN+\n",
              "NWksVZdVfT2OmowsmUKvPgsk02vImmfuc70tWUAAAABaQZ/aRRUsbwG2Tu9SAe0QPmkUrIZ2/Z0T\n",
              "D8XpUYR7gq1G/3EqEm4lAAbeKHRUNCi3hlRcq/MAYZC9L2DGbStfha7qIgCSshmQpwjvaPTuWZ4k\n",
              "4EBoUxQI4Qd0AAAAagGf+XRF/wEWR/WgBWzwMuXzikqKIOB5QH8HEsPaTKgrbG4JwDTgCWhL9Qz/\n",
              "W3o/6luc3v40/7turbn7KIXNriu4BG+5/AcmeCyeKI5ZY+5mBF1jLP1PQzjtpYKkfHuf5qIYhwTF\n",
              "wPwMBE0AAABTAZ/7akX/ARZiVrQBENGxACzptdtpiN4ohO/GV0sY1SdevjwugpwdedyUJUMmVEmc\n",
              "t6orbmano5PM26ytgpuQPQWE9kGH0MK9KwlbbfFcwI0gA+YAAAIzQZvgSahBbJlMCE///fEAGb6E\n",
              "AnUwAmjaSgzL1RH+hjUfn/3SHNLhAfhulNfQ8T5QN1f0LFHOgRXXVJVYcFmBQmxXIAr+qfWO4kE/\n",
              "zsPjqudg4sfxUzOYflyBDGi1J9WJN11yp30HR0p9BBVy9bOWnHGvIY1dyA+Opbw3nobBp7wqVJgO\n",
              "u6IqY5y0s3+sUa7hQWfidLSikcWp9IYHfcAVRfWIqly309CFOh71QbfqVkrcj52OjCmSujuR4zp9\n",
              "boRxcoGJ+cUs/eiWV6RGjOLoC3+Jpei44jpN4TZ4TPk2zkwVZ1iai5hSRNsJW5OcRzDlY/dTiUH9\n",
              "ZQCdUZ0yx3SJotk84IhxclDZoA+eR/8Ilh4ZytTp1kMeDwMVRbIMpcgECWNsjlHEbmluwrhkkUoE\n",
              "4J1Vj0sTkEryPaK+P/tkRIQ9RjYIO1esMr0XLjTGfkrHf/dw3objaTTbHwqN94VNQexyJnV4w1/f\n",
              "9WzBPhNaOInmbRCTqWPdmNyj3vCmpjdC5Q++IvDTHr7O4EJ1aLF5B5O1+XIKc8Mlct6zmOaAxJW/\n",
              "tMb+lBO39FDHfemtKA8o60vHVJ7KSLNLypbKlpWevxlHjKvXlwt8TnoNr0B1F5NDq99rq8lLVKVQ\n",
              "2pL+1kuwwAmad9u3vs+0M0iUS+a0lck1+s8palQdEfqwp6omX7bfGpcoSOB2ohAZNQuJsYkDlUBs\n",
              "NTn9YCThVvaHQjQXIiKNpUSwkfYbWGL7UFpQldnrhvUAAABrQZ4eRRUsbwGy+euG5ACZeRguVEUD\n",
              "WhgcGt3AYXSf4CCTU4zSa/To0ga8fptO14+udxqs3N36BkvSSysHYLPzMZHjHKVaUVawf0aCsPN+\n",
              "RTCTJX59loOp2dhScaBsBOMNKR5h5XwedMwrQeEAAABPAZ49dEX/AgpKXufXCebUGmgBJl0Ald8g\n",
              "EK59B5C4PAKxA5kpUA6xswwKILQrGDVXuFzT0Ig0f94Qruc2W7YkA4YCldIvQYmOlWCBIfgJ2AAA\n",
              "AGkBnj9qRf8AjzErgb/RIAa/ghVTrc+Ye99OaQ9LLQhq+75hVI5FR37j2xZJb2WeoC9x3h7c3QRm\n",
              "Yn8bm5BAh6GzZM1H8eWRTYOCmbN8aPDLyq0L/q9Anw9S5mDeSvF0ShFRWuPTbhQ6BQUAAAHaQZok\n",
              "SahBbJlMCE///fEAGl6JXMUCLDwALXTgdUww00+xvWCBqQupsrdwNPh7T3VeV9aXupGBIJc1dmJe\n",
              "KUcI59rpwAr4UfKgyE7feqyic+CiN823aOw3mboqTzZeQd4AGrdgEA6bZ2eNTL+qvIH45XHdtUPE\n",
              "u1dnwF6+TMRf7D5uaFYiN+kAPjfC1PNSCMuYWGtXuRI2irsOZMZ9e27BgV2ZByXNfaaIs9tGjODq\n",
              "cjaItbWjsBnH/4r6zK5/L5/WhRiLsqrEHLWhphhulOOIVIFdwM1mYRwonnVUSKhTv9vmIGiM55XH\n",
              "Ouu5A/RNdpvSdLpFgiXA8FmUoUl/ixZ8Hf3CslKcPejpbSZrRN/WS37K1HEj9UBwSfklNN2nz0PS\n",
              "UTBSRzt7LftdHhbh7WkkXFP0r2qKcdeI6R5lfkzfl+80IVgo+xGnPiMepg07p4+jkqC8LJLDEoMW\n",
              "jGGvN/Nv6ZworPcUHSttBwo1Ne5soEzjb1T/ZmO6L/VW4YlLNUZhJRgoeWtGe7SBCx0NM7TUR4Hc\n",
              "3bMUn3GapmFHI5mbfjP+Lo/EnmwCx1dT6FYcUuSHObNY509GcII+8+lTDdLmvS8fiKs3T9sEjA23\n",
              "6fw07+XwIZOsmqvwig2YAAAAfkGeQkUVLG8Bn6r7z5/S7Gsg11hY50VR2gBmO+galEumIBBk00sa\n",
              "zD5AAA21tNGmqmMoX1S88Gsz7JSKfrnaJqKGkwRKSV26szcZeG5jBHMXugMj8PFrUAGBbMP8livY\n",
              "IYY+PavJf8TVbFgXm/7GEBaWjswCDaSxihUVsJ3CLwAAAGkBnmF0Rf8CLIMLAB+UJ0vonsxZIiea\n",
              "2+druKzkGtKpUCO994CJiRaK3VhNdCG1QHwTakKVbnhltYBSd+tqGaS/q7l7fRZIDWEtRHmW7n5v\n",
              "ECbohqcVgYNwwcmbg7uD+AQLTiy1QFWMAocAAABnAZ5jakX/ARZiVwMXfXQeqKaCIAWdNm/yAwPE\n",
              "uvMLT1Bju/IyD6ZE0lZM7sym2y9qhURKTpBoM4WjgSShQys++0Bsm18AnUl/2NwJUVECkoy9WPe9\n",
              "H25QD4F11iEhYgjtE8sfJsCPgAAAAhlBmmhJqEFsmUwIT//98QAZyE29mioAEZIssHM4Oox4vseN\n",
              "m0WfX1aM5oFd6JFWIkkTWENg4ouJ1wq1w0OH0HdDI6UBnJIDqmJ6KeZa8JS60M8SiiCq4yS2lMLu\n",
              "nvS4pKv0uTPvCcbJ/q6avLt7JZiegDUdMM+ImvGDS2FCLg9GgwCLYcT4K70GuPwiofT8YDaQaulR\n",
              "kgeLkJCoZ2UwSrrPBBFYJsvEFqUL2+ITV9dRGM8YJxGY+IxrYzJ+lofzYMLcCrZvF0q70BA47ZOP\n",
              "yMJv3XA+EuDy6m8wJ17Yag1z/7Fnma/1ZfK+IHYYJOX8rPYWMgMSa2wjP9jbKwNQkakS5bYXBXJW\n",
              "aTGAqJ8/gelGLacTSUjNStbFvPj/Nu05/xSvxrs4jyjwqpk7TnSHXXTNR2YMbe4cXhhCFV+3JCti\n",
              "S0h78VsteyL/jVdY/2v4C5KUAIVyCI1MKSIhMs9Fpkj3nbb+HQ02AzlHhVK3EPFJGNMwFzeDnMgk\n",
              "0o8NCGUVwO5wqNgdRKEwsYvMsr9bu727terz+LzxLzi1xp2bshClpWTj7AuQnn6XBM4I+Xxca2oi\n",
              "rw9pkH0LhNoYrtaQvpdwbevY4rTVMRokjo1Ks4EBWvADWa+slcrmndFLVGEpn/M2wlZrSbvXZGd/\n",
              "BvjHbGPhfXqwkPelfPKyCCGfkOZxfSk8yF3oSf+55CBwmGvmb+Bv+m4xb2lmDYgAAAB9QZ6GRRUs\n",
              "bwNtJCs88R8pBtxtYiaNeZSoARiC8YbspYVetLqBv+axy8xP4+0EbDNNtvO2am8c3zN1mIfHGlI2\n",
              "SOnPynjf/7BbLK+wi+bfvE0fbKzLsxo+3mmoEgVsu1bBu7riGWQdbKskAG5oJW8ZD+sKhzSdBBLY\n",
              "aa3MsRcAAABeAZ6ldEX/ARRUfADWB741FtgAuM4hmpi6DC53aDRVRJnCI9+0HhGhxCqpt6IIn3Ha\n",
              "G2iva7sttBC+MbKrZCJODeB2N6GNl36fn0l3nhtrF3MfaH6506pZAGRRYSRNwAAAAFQBnqdqRf8E\n",
              "WVtmPZXQgBIAKwu6B/ESTGbIr0yt+R3HZbw6uEQDjaGo9wwzw/7P7bN/aJ9MM36965Gmszq7GhM5\n",
              "1Z4DYBm350CsIvIqIc64AvEoEHEAAAGqQZqsSahBbJlMCE///fEAGcH3mcwAJWfGN66u8y3mJAFo\n",
              "tlx7eklyNqjw9ZUCyCRdNMXSJFXUQ11cfW7dr3oBeaQs5dYXeKJraLUyGOMLaZeBuk6/21+hiOHQ\n",
              "YfHL5jdXD1XZ/JeL8Jt8FnnStETPZ6lPwAdq+ve2u1czHzT2a0A4tqa/9F4vbnuDIxXhc/ASfDAA\n",
              "Z8k9761Bp/8f+VYKImIBJo8DMSIYr1zQv0CMR0jsrpWsaoRP9QGbDvAtTS5VZ004/ulHUlhJlTyR\n",
              "iTWRs1SdYjOWGw4/Y+DAMZ9N4VINwEWQzyK8BMWRV3Rft5MI8SHXe22IXXJmNzQK0FfWhFBsiDs0\n",
              "BJ5/wcU+WlNuc+Yj1HW40/saeZhJzyOgocltrwglBWkt6QNby4NS8JPv5P1DliDnCYpsEOo8TRr3\n",
              "9crDynlA6bwZvUhwxKkIxO0duJFw/kLMiD7uAs9RYDHl21/1SdQ9jt1ctVkP8053i8VRPmF7Ri7t\n",
              "x/XQcgs5h8VjtQEpnL7sAJzprrqFiz/RxdMHY/CkjSzgHxQKjrMKPPN0X9yYd4/k2cCAAAAAe0Ge\n",
              "ykUVLG8DbZLAuKTPLTDLNDO4bZiH4MFrbwXso6LXXOKJO8m+Q9dr5HQVhpG3WyhwqBwMvibCbCXU\n",
              "7bOtdYASk1d+kznt150Qig2EpWYUiILWMtU/eO7OaYTbEGZ8xjzcLG24cV595s4jo4WBCsYeGzXK\n",
              "4cz93UBeQQAAAE4Bnul0Rf8ESDJpt1rQQKz19PcANzGrL1ku7rHajHwYIQ692l8eTLQVZqdLOoKA\n",
              "3fyupaPYfYFRk7ygW5n73iJh6u6HKqbskJ9qUugATcEAAABRAZ7rakX/AR1dDQDliFjiftBAA4oG\n",
              "2QCfPzswlCphc9ItpadQsuf+7ANauX7OuKCTi8cOeu9jNWgyxn1tL+nDpxCSDQrEWcg8KEjPOA0E\n",
              "ACJhAAABcEGa8EmoQWyZTAhP//3xABnB93WcaGa/XgBYM2KEIvMtrpzoQm9V+Y1DyJuWb7L9Z/88\n",
              "kKsrSQQI+//HdimP+UK61wqGPu+9ZwPoHwngPhyOPxvxfnI7/HNqQp4jGrONv1J5wdRRZzDOyE86\n",
              "zFwGxaAyfSMB3rPUNbpuOaAdoHQ1CM31RqNujsz5tTPTmO6cdBkiWMQATkxrs+QG4PFbeJq8kPz/\n",
              "xiioARCyKkWZ/LM9yIlaLQTkuWFXOqNC65tp9OYi40kt3yX7z8v/M+JBdKAO64RlNDF7cCO1Icxd\n",
              "7pMv8CKPPmDs0758gbHhOzt5NkQIZJplF/GakDOp2C+Juklk9Q7DyEOeJ7rSdASTX2/jDltgfxj2\n",
              "UgpfFEqbHRAEEsbew22rLiwNHpn8zJAn3d1AqeG31Dr3NPqp84oc8hEycd6s3lLjgae5WnyMw8Kf\n",
              "yULMwPTqJ3zbcqjJZhiHoUHHCRGf7bU9tayShD5xhVlBAAAAcEGfDkUVLG8DY1Xsht6qAWRHadRc\n",
              "os4WS27580edcJOa45qUa/iIwITmd0YagkJfqPYZRWS8NnzIEVXgAFm5TBvYm/S1Q93C2C2SzJKL\n",
              "duU+p7DNkMMaL/6xkIfX9Tx6XrRRB2SIQqyYOaFZXxWgKmAAAABlAZ8tdEX/BEgybWvSshdgPs+6\n",
              "8AKwX5KueDkCyCmTj6B+8FlxNKWCPk5skPp9XGU1/di0e84BmslzFuTfLkFVUUoGuxBxRPiYgezc\n",
              "3mEjKTqRkwO9IM1qr9NGGaaCM6vcAuWwB8wAAABrAZ8vakX/BEgyb6hZi5tMlQDwkEACLHbGCvkg\n",
              "Z6cJl3+E8gsxT5h7M7AL+BFuJ3z3VadN9MpUWJr0msEsDsybWsswm9I/7l9htz3v4vmuQ+kvwqkA\n",
              "0VGjzMu3tWp2qjDlRWkj4A5RQXCIEvEAAALRQZs0SahBbJlMCE///fEAGkUp8AN1s205bGZS77IW\n",
              "35ICEJyWW6upkqd8DqfAsXNHkHpcGE8O12JthsVaVx9K2NqyShDk9wZ+W1RMm29hr7Q6dhLKnz+u\n",
              "tWqbnDBSmVRt9A9pjx7OHCvdSzmfVyfZXTKieK0RLvCbCy5eKXKW0fPtnmb5els4z5axydOoGXGo\n",
              "qPYmr6nC71ukNmwVhhA39C+K37c+WeDbt/lz8IDPx1M++ICIEYA00lZfxt4V+9HblZfZw2lLbFPl\n",
              "83phOqCoxEJcPoKt9xecS7G+kufuvu8dEg3WQ5LghjMkmOtTspuuxE9bBtJMwSgpvn+plLPmOe/s\n",
              "kWQ3JRfy21zuMr5zBqWc/5/gn+Pnwhv77H7Cxf+4UsAUfOd+yjwCgRzxqT/gd3+j2C5hznl6eEcp\n",
              "cu1JQ/zmvLXG2fZhFMHqvoCVk3bjehLQCbgujd8F5/7+moIbZerhkQ8UoAOJq/G6qfe8IS38S0+t\n",
              "WpkFCcrZTHE4+HtGbhzgiDrmou5u26ZHqHiZpspXCMpCKe/OPK7J5g37NfM2/Q7FShjcaNmM1Ae5\n",
              "WcIM8tVHbyzgAjER+dX/qG7y7GiKY9UR12NEcyKMZQNiKTpNQCMOIOZPPyfG6DRd+8NhQIH+i625\n",
              "kFzMlq3cCdHhKAx7xuXybr84I27TBu7GK/zbkHOzf7Ebhfu4jnjLuBaJ2RZGfygUwqC1WSBjoDlo\n",
              "D1oKDtaLScgub2CPBLkGTz391YUXpzEFkIMvGZILragqy7almTb/lN3amU1s+SQatHoaDtsMUEW3\n",
              "cFyxdyh3BGSy7ghC1GCj3BG5xpJATrtorxXqOTCceyc3fSWwPMej5H8Pl+HVeIA1e2uFv7i1859G\n",
              "eKQETQ3YSUvbMm2G5AqDqYARe88h9uasxM26vY4yxTesZc6VBUMdkkVKXf0pQjL3OxCtS9OY383h\n",
              "Yn5YCZDjgAAAAJJBn1JFFSxvA2NV9x0e9gCOy7ZOCE/omIZth3yUAN4Qu/DCDoidT5Cjn1xCLD6R\n",
              "d9SdOXUSWgHxbiRR2BB6l7i2AU/HPeOsgAVUNz5fLDjed3QYb93DCmZHqNVFLz8De1QMm8T8t7g9\n",
              "U8mGELc245nrcA96UYdMWWNA3U0auQuE0yFOJEnrvw3xlhkXF/W2M24FfAAAAFABn3F0Rf8ESDJp\n",
              "t1rQQKztvDo3vbAAWzgI8ZJKx9q4+ZWQuRqcRWiyEQ7+kB3ygWyCQUfIJrPlIOl0AU1o4oNH93QQ\n",
              "IwmGLKAnlSAx0GCdgQAAAGABn3NqRf8ESDJvmTMT0nT1p1wamYAWE8TI30chFJKV5VvCpPw017k4\n",
              "2r++GSNfW1toPigsPgi8a5GT4SxIDjDHNJU1Sq6F5NZGVLgZna9Zoj/Lc+XUfa485vetQJ6pgYEA\n",
              "AAIsQZt4SahBbJlMCE///fEAGcH3mcwAHZPlxXV3nVO/1klT83asn9knkIAnuEjRl/izk3e8wVlh\n",
              "c0dbQ3pClGbYs1X6R/RBnHuT3pTUZTVWCTTYNjTJ6Myyf6hi7SJyC5hn5uhqRff90Alwzc1Gbdo7\n",
              "dYfKPOrKHJh+MFjaAr4ogYsnXB5GJtMoviCwtUW2/B7qHp9yPUf1/6qzPsqGleoQeFr+Z2pwWu6e\n",
              "1Oi4A65m9jkpguyeWbmdfvFnr6UKbawmPPJWep4NjTUt5qOg3DTvEVBiAoS2wpV6Q1ZZvt3xKTny\n",
              "A13sI6FeBEOm45RpuUcWyeDGkv9jwmJVvFVADDGfnY8q2ycEnySEnzau+gX2C1OfRVpk7KzsSnwH\n",
              "nFw1kQRxkFSM+d6nXMtkfqe4nDQMOCpdUL//3+eGZjz/Jhfo2Q2dORy10HiGQrBK/6oCniLYJLPO\n",
              "U7m5dmzAp9vKO+DfbMG+cybZv3x1Ir2kWIQM1QAMCOOoERwMUxIqKWG/SRt/RAikKBBVe8Jy1nLH\n",
              "f2VGwZD3MkXh6VsT+sv2KqW6UxB+aEFUMQhxTzSSpp3E3pT+5HqoX6nr1OXE3jEuY/3gJatByIRl\n",
              "S1mydSusRxWGIPGYD14EmVNhdxptR38hqfI6yqqnnxZUT3+PwJRmQYTK1jBmI7j9G9y8OG2QV+Cl\n",
              "2gvzavGsPV3wHavBfL9RpW7ptEes0SXUH4PPq2aGVRti8AEcBbFrEg4lpR6ZFwAAAHtBn5ZFFSxv\n",
              "A2NV664nqzZ9aPf5VhoAnk39xqQT205mlAF5dpXqr+vGrQ2aasviusgngQAnqguq+i9zMlLUDOZ+\n",
              "6g4I//ZQnC56NtAqc2e+p+vX5jlw4CPesD3P5TDlxZB/wiXT++ujHlWRPXZjnl4Yh8+t/SYaaX3X\n",
              "BxwAAACKAZ+1dEX/BEgyb5kzXz0VWJF8g0FctABuhpbO7hJvZ/a+YxcK0tyWgFrcNAVx4I8As3rP\n",
              "krndVgPKu8dlF8ygrs4giyktMcET2P2WAMf8JDYidYEMcObC7HpgpZEwGkjmoABe2wYL33XVbszz\n",
              "xtVQf0i4eNlEN1/l6+3mCRQEqeWtigmtWxJS5E3AAAAAaQGft2pF/wRIMm+ZMynTv3IjIAWcgdwz\n",
              "r3WTS+pIJarWW8NrKnEbpWKZhJ/QevlGNSD51eQFB9qr097Qej4wB76VFQy5fbvrZuiEDZu7zdXF\n",
              "+5hDbkFmLREAgDiImAvYCDnQ28BiLzUBBwAAAZNBm7xJqEFsmUwIT//98QAaXjpoRwZw3LfQDP7M\n",
              "XJmlBdz75iLxa3VCSUZ9dyb2zD4cS2eqmJgI3UjxmoT78Gx0FDKUhfR6ei0luvzOyt7NRDNe6O7l\n",
              "xqy3QyFneSSA1dlbX75up/AVZdbCj+NIR4VDcx05EHkYKEuPcLeitD9eXkx6MvTQfC1KpkPoRVdu\n",
              "tgONcMsF7oKUJIFjr4sAbilUin+zaYBZhN2hMPl2gr7xI6gpGAKi1/UoWI40xMZf4qieSLP/d1RK\n",
              "60kDgQkT/k/IMHDtluHgHhsa1RmdDRrEacjEbjFfifZIZBwPtr6HgdXc6aLLZIVSnst55ZfdGzrL\n",
              "OsKsCd7tkdhRl8C5Dhyu1maUt2vww24tZ/jdv7B/By7H3kNGgZXfX/7+chvoW+AmH0NzFLdMQE8o\n",
              "sXVo3TBxK0UUI0aeawU6LWh+NreLAZH8i/AprKaMZCnSGtCVjLK0Lzv/TJDqZUfwS9Zm2/181AQX\n",
              "mkJ93Y5rJKcevQcXBri+d+yKGbbXMaHat/1SFQ0mbxSQAAAAgUGf2kUVLG8DY1Xsht6qAWHddl7x\n",
              "5qROALAUGQgqmyIwoJWmUtlKdQVd0UwvtiXlzpd9Tp19kIYfikBDcJNcOizJ+27bka0x4F27EW9V\n",
              "bi+eoIqMKGrvB/wyUBEJkGBHbTeSRYReC32pkUHrFgs+Z72rrq1fWVl6Mzm8D6yaZ9NBvQAAAHoB\n",
              "n/l0Rf8ESDJvmT2VHrIAWcgdtTvuagWgwn/td8IBE9iOo0MeMniLssNqCQh3S7kfnM4T0Trz5h9O\n",
              "r6b74nTW2zKwun2cgD4Vzddn7193LhM1edkGkX9v+HNjRW9bIG9vLiHTr2j51bAZavQkhqN9WmpC\n",
              "+nQMzgBNwQAAAHoBn/tqRf8ESDJviar+4gRo+AFtILEg4S8wI9J9inBGQKug2DgL60Lxre+ThFll\n",
              "tyP51iC+gWaJTWRXst82rCL171U+CfR9XUDmfaX0r+MfOvcBKwIpoatJNf3EDEV0tVeEQq1gmSM0\n",
              "nyaNaLdluCsNbRnHFpvwg24GVAAAAfxBm+BJqEFsmUwIT//98QAZv2IHZgAIfmmg+npCp5WFeJJ9\n",
              "YQ576vvnx2aqecOUD+TI/FB3gM6EfUtP8UKhkYQVGOluMmehUPxg2aTAMlbjfM4lctY4474uWOrP\n",
              "XBSfdUmiAANpTpnKnLdk9Jro+M60eugWovGL7AKGRCfO1II2kGE/y9mEkGq6JJ4Ck57C5SPjICSk\n",
              "jXPIsajBI8QwUjq0kfsEMvhj20ueuutSUsSqLbgUqQRk6Y0K55W+daThVsrKESP3dzkGfG0f7Ivk\n",
              "GIEaL2FT/bTyDOPtsk2kRzfuK5Wwp9kcdvItYYo8zYFeBJZxD3x0QWfOyEH0x7UXNPA7IYfR0UUF\n",
              "YIGzVN9Kr2Qpfk1W6EqFGC/Gjai20meMgCSAvSpw1bSIPsyw9LkKqjtJsUe//r9HRpTWOVRhYGNo\n",
              "+tF+9rNxGTMOlu8JjL2JogZFF2us69L13/6VyYFnmvlzP2dUu+b9PaU82KCRL3KujwxoKWBUStzL\n",
              "dRuPfAsFqfXQlDEpsHXJ+8TNh16SRwg2T4wOBbEUuhZuOBEPASYhhRt4iLsD6e2XTXHsWJfdgAIt\n",
              "8USvQK9qvdVxlmMk+7yVHodfp+2O2+sADEim1hbPvKAPU9jwDN0GqBEf0czlG8lCwn+VhCFzrJcl\n",
              "LoA5qroD+cgDAnpX6YpD6rAfAAAAjkGeHkUVLG8DY1X2kNChhPmT/g5MK83ldRu3yVIBKSOvpAAI\n",
              "iQU9yJMo9poJbgZGN7FLRyMKNyqiLYMLTXJ/CMDzCwzf4Qp+JmF+efDEloE9n0g2qH2Mr2QbW3fL\n",
              "gHM/kVNMYrzV5lzpbVvQg1xzLSGMlRCihFkHQDRd8Gld47kanjvMGWSFdkIjZ6owQssAAABPAZ49\n",
              "dEX/BEgyZTtyVIwklfu7Oy+GXgBt4vxA0DiJxg5aoFilKqRXByRqTYqLGcHfFJxnRxxAiq1ecjZJ\n",
              "5As3lldNZNZ+ROKbwBC3A4AYEAAAAE8Bnj9qRf8ESDJtfYQoAbn0E0BXW/px6Mej4xJJh7cq7CYq\n",
              "XQKgbI8bKlAnJYCIPAvZTf1/pbA+CIQjS9K1jGnNqwi1rFh3mAAgqNP+AALLAAACTkGaJEmoQWyZ\n",
              "TAhP//3xABpvdWWLCIbABD8uzEKmkhUpgYR7oXopHnwui2w1im6iZRphZhCEtBF6ZwE+bSjdTVOB\n",
              "Q2NxVokaog1+Pale5HH7HBW2l7qMnyTUAgCrB7cNWWsTohoahZ3+FdL+BC5n62JmRrdGuQUeHICP\n",
              "3CqUDak0N/dZMVrXLSCLO17LP9kOC+ikgLhsMPmPxnVu92AA0GyRrYrwM3WyEPIr0Snh4AWj6xVD\n",
              "Q+D3KMv2d+/1bAD8U4u7J8Jr9A9FmrYOPs6inr/QMgy7FLFntagTCcNKiOvalDwMJoXhYBlMT23k\n",
              "jpZGvqAvjRN4s57BYLdmsAZK4txYipB6hf5+PRYcmsnGdvl/sQO4e6Op0/bAOdlrTGmuj+0MaAlc\n",
              "PgZ17DdhWgzQ/tK23HwRUjS8UgJMaeD8y8M8URNDKNYHRKBOpY18URZ3DVVEmEa64gvp03YGBF4H\n",
              "9B9QB7BJUU7+p/F7/wKU5PC1YC6mfaiQeCn5m/pQBkQ1JXgd+TptFUYHHScKsFCi0eh69ZyQ7t+7\n",
              "7UetN4gE5fCzPiDBAVYps5VJGzFcNkI6WogaeUg/Q+Pz5hXzsGdviHOB7YvxZuo+/qe5P1H6PhLe\n",
              "kEJPBaWq9REvV9c2HvrFXRX2h8Ez8pwblhYbqe59RoZZ4lJXPvwgSo1LkN1w5xuFS5bwz9YSdsGW\n",
              "LC+duQxRQV6cO5pVRn0R4IX2Ryi8gmCfTSG+wDxLzMm1mgyprH2uZ1++8TWxrO0Om6AuBGe+I1o6\n",
              "VBiQEB2OFHJVA5wQAAAAckGeQkUVLG8DY1Xmgz4bAVIACcUs0+Ian/Ule3p0voo9KYbdtDYsFgP2\n",
              "1IPw0YK8/QDj26FMGoak16/sY19ew6w5cPBTsh5nPTyxkm/4Wn7iZga//jgQnFY9I2zyh+Sm1tXZ\n",
              "jFPIxtdBNwh4aQ5e1WahDwAAAGABnmF0Rf8CCkpz4iQBEdYtCR8OFzk1OkeSNI2cDDAZiGHrdUEF\n",
              "Xr7QnAUplWqM0PSDM7lnXWB8nyuHj6w6S2U/icUy3YQhKIZHaHDh3t+W9uFR+B/hKn5bRPOuHacA\n",
              "KaEAAABiAZ5jakX/AR2jEIAiRhsVpp64G4b8dL8t9grwRtyn3YZVG9LS/IYRjW5FUG5upMbeNJE5\n",
              "wzKf7y/CfNodfKoE8X1wZ6qBwe2wpmgMQ7WjCsCD0AJVXWBSztHUQQ0A5ORQgXcAAAHHQZpoSahB\n",
              "bJlMCE///fEAGcH5tsQAIfIvRyCf9/s7rrHGw5iHkz6npotnd5MOh1Gd0QfH7YrN5cOmIWcX++tY\n",
              "q6xNqhMU8LJ3oTXCCiBZEfKbDh0CSAAQP8A6p60jOOp+bIrsyIoDFCj0cCUElvX1eCKL+cQdTDpN\n",
              "XoNSyJoM5Dq6OIbNnn692+N4l0sdrx4gqRFwNX65otjolYrWSnwRhiuFEmpR+J6iyd/88CCW6azs\n",
              "Qb5rkJaGhFCFYjHs8W/b1d6aJJ5HvZMNBqL5nw3Cxguh+5xSKujrEq4MntCZH+3IgFFUM5uZ+Jvr\n",
              "1iF8rmQQcYB+Hhi/SNJu6E5o4+61xjv5fHqHA9oNA5XpG8AgUFX3c0h6+fAk81dqnCNsQDlSzjLI\n",
              "oMDPsFzbo7O6wOdAYNGBDDys3OEGyFjA5Sg20fndu0+NRrrA620u95U3ouj6H9ZNAQiHQgbdlVfa\n",
              "Rtlk4LAOuFIdcXKaARv0MbOIUbqTitwMw4FrRmCXvn+aL5ygs3yxLO7CdAd6fu/3v6Nz/EMzMtSY\n",
              "ZElrP2GFUkVKGA7ksC6bJP+AlKBI62QR9aHa9u+MUP+r7OwdU0ZXPe3GakSgBh5xEnAAAACrQZ6G\n",
              "RRUsbwG26S9DM9HBh8/VSkLwWw3UALOaI1Lm8lTeYyVtctMGC2nEX7j7iZTdYwgVfY0jRgdztE5U\n",
              "blg3Er445xDl80iDaGocDYWndelTzONxXISV8kFWvJBovuL1LbAtsrL+cFPepe+fL8hzuzFxMPGN\n",
              "nfSgOQOhgV/JvJtu+u0zfwhvgDSJ7kegv6GxVTC6mwUQarRot6BFQSYMgNjQp4oeX9K0PQKbAAAA\n",
              "XQGepXRF/wIsWigAJrAUH0YGmgbjvNpDCcHBuLdjL+mTEuwaaSAikKCn2dCCLlyVanVvr1+0MnaU\n",
              "TeEvhUb3gVbzDeSm+WPw27le8sGFOYES2nxm0p8eJXRGIwAnYAAAAG0BnqdqRf8CKvGUABNYCBEY\n",
              "d0An78Vzc7+soS7jUQflVJJMq0xfzCTujGdUo4MB5f9rLvUsDSyzt9K3qP6AHu6ohORPXICCeMGu\n",
              "0LOMTCDkvYKMP4epai2rqU9XrSAtjj+NAjNbW6C1bAmctEHBAAABbEGarEmoQWyZTAhP//3xABnB\n",
              "95P0ADox9GSp55eTpIo0j9OwMEe6tZ4d+PwcMlpIHbf3iHewy7CRjKK7ITuCYQlT2GPfRGE2o/5X\n",
              "iIPBvfTZT0K5/ayx5uj3lQQXy6sG6WAwBpmoHfVHhbDcnvR4W//aMCH5LidFBWuWMTpXF+mkoxT6\n",
              "cyc9AsjjsmDx/+17aR8TzAuhibpKKK7wTJyOJabbRnSIKhdVUAPlXdKYE2e452W42ZfrauhzLCWY\n",
              "IcLUpcfUEJAIHjAWAUW2NQCasqhmB5Cf18PapQ9KYHwOF5vDiCN/hh8K34WQnmHKX8HZlpvV47g2\n",
              "GKWd4anKsg2LJ/fInhDvq3Z3fiTQjuCQD00o8RtwFTtTY/1VDATfDoXzPa3/1n8hJWDMmocRKw/u\n",
              "GXp50MJ5UDjWfyD7w8+TJKDVTDOEEGFFsz6Oj60zXV/f5K+p4/RsE9xkVfSoJbiMxy8NOrK9OAwb\n",
              "GKfXuk4AAACMQZ7KRRUsbwGy+Z/YGE1fNY05saroAbFgkWjyp8ts+kbWx5PnViKimgp+4Dd7voWm\n",
              "Q4i2CMLyRsOyJX+FsE6xP2wXHn85kGJqfmpxJeDicj+wYK9xEcAUeb0dXc263+g4LVRC5SCvOZNi\n",
              "hhS0XV7gReBXs9WNHXrWVHXiWw+Eosh+PihQoRAHqWkq8UEAAABCAZ7pdEX/ARW4XX1w6T2ACL7i\n",
              "vDHuJGF5qLOnTZqqIyPG1LP1/ta9FWzo4GS+yno+2+5h+UAP83R7pdskP8pDS0HdAAAAZwGe62pF\n",
              "/wEeYlcDhS31A8ACbQLkZuUM8K7oDPPqggKBer3EIKTM0JpnAfcz8avbJtxwvq+JLiwgrSo+2+EJ\n",
              "w83jybUrYK66B+zQRW2I/eyOSUtHXTgVZY3Ay1W8jIpSy1IcYOubOBEAAAD+QZrwSahBbJlMCEf/\n",
              "/eEAKOgq8HShBButj8Fbheu2y5fADPVLlq8IsReHjXYUBJkdsNg400OJcUrLUbgZNaPQeaB/3PJf\n",
              "2BwMdiU3zXVJFG8EZOD4cGz83dHUt67ld2MYv+jYEGUP/uODdOrF6fUHf4AQhsTN7V5vIptIL65e\n",
              "YOCrVJIf1KoZazgIDuSYRmzPgwo5UTFPaRiWpfSvEXhGfVkB4j2EJZTmLL7loo4PPkBCWyQwGHwg\n",
              "VlBZtHi2wCVM2Pgdj3wgu7+nj/o2JOrtfFV/Ukbqc2BqoHemUCSW4hby//zJLBSmwnUbWzwIDS/E\n",
              "dEgCNkIBiTIXA6CEM+EAAABsQZ8ORRUsbwG2Tu9SAj6GFIgb1ghKaaUBgoLa2Mwa8gBZyCn7c55s\n",
              "IMbZcPaQ2MT/TDre7rTXDZQzTYqxC+2/uZpGEKJdgfJ8f9Z99QgB7RYOhT7Z7/S/f9TgR6L8b1zT\n",
              "WVrTXb+cZNGgSBQQAAAAbgGfLXRF/wEduKkmGrgli4ALj+5OZXaWjtOSbar9lgXT1jMyPo3hA70E\n",
              "NvQ6hQLbaRNy9P/6FjtYPq/a1pmI/naqhVqhQ2GgErstGSfjFW19qG2UatvDp8AYRsdOGtzDGb6/\n",
              "+9hm7Zjd6sjEcB6QAAAAcAGfL2pF/wIoUbTNWMHsba+53VxkAArAEkvkvB+vpFD6c1kIzOWJfF2V\n",
              "bLDk79WaoMDTY81VNLbufghpkmZBcrh4u3SGubqKdEeDaZU4QbkOZOqovdpvVN9wdzPGcfxS99YU\n",
              "B4eMI3pRY7aOFGoobcEAAAEjQZs0SahBbJlMCN/6WAE5UKFwYAP5wiXEWb74lBIGLCa4hzXppWPm\n",
              "bb01AajMwugG0c51EmvM4gC6alpfi+rfwFxwY87n+EPxQMHFgXhwpGbmcPj2/yT7JCz8lvn8Kywt\n",
              "jO5QrfDn/oMdkzSe7dFlUs90TPJRVqjaJf/wtdNRMaK9VGohgn7zv5OAhEBQdb066CNA0Nu4o26V\n",
              "3kofY+k/aDfNGA7p21N/P1km4PQhqxz1UGig9syYd+o3/9KxdVPW9wviwj/gJsK0uKS/zODjBuw9\n",
              "yw/F8yQCGMxyqTV4gEOmJEsajASSHxz6FNE4uFy7wIU4NDqiof6UH2c2gBbsZe3tpy0w4AjincQ4\n",
              "wKueWeALF1Q5O9ovzgkbMMLGK68RuSrKAAAAqkGfUkUVLG8BpP6LxpJ65KzABBYM09y6KTyziKvC\n",
              "MYEad3zBaSMy28HJFbN2vgcwohzcXp3lU95sWyQOVP8bHSvztOE7Ovyh3tbjsqoVNX1iBHU+pheg\n",
              "agJPBCigD3BZYS5+jkyXQk87Bbs0Ap5GzwVhkQo9vkotS93ALSL5R2kyMPLB7l5oG3uCQLKNlrCk\n",
              "f1PaeX6Jo5jdnN9yvgSbPXyui3lPNOZ+SgR8AAAAXAGfcXRF/wIphWSCgpRs1Apz+l3pUdoATE1s\n",
              "FDJv3pHp0LlSh+sPyxAE0LXhtB4BV5WEjsqh2jlkVwhA4cD7A3AAg+ZMmptIug5yoSEBmwEd3ZIj\n",
              "VUzgr3vLQAIvAAAAaAGfc2pF/wIt++YATT+7Brbyb6fJhFCjQSqxadZD9Vv5b4Ey3OVOFbYWF1gC\n",
              "/2WCERsuErNbliDkggJxRpj3ZG0K0Ts3b38WaWrIE7Le/mv83Z6e3rtWgy8IQGVeXTLfOEvaUCiL\n",
              "wJWBAAAAakGbdUmoQWyZTAi/+lgBOS5b4HABOJ+MqZw1bxM0zZGo31oPa9ZTTtXaYP7EL2+0IClR\n",
              "YJSIWdkkMWfJbmdgE1HNrOYwkqaDmfYcdy6rfSopUy2RXr1OLig3Ps++xvsJEVQaJcMwiVzKbFkA\n",
              "ABXpbW9vdgAAAGxtdmhkAAAAAAAAAAAAAAAAAAAD6AAAB9AAAQAAAQAAAAAAAAAAAAAAAAEAAAAA\n",
              "AAAAAAAAAAAAAAABAAAAAAAAAAAAAAAAAABAAAAAAAAAAAAAAAAAAAAAAAAAAAAAAAAAAAAAAAAA\n",
              "AgAAFRN0cmFrAAAAXHRraGQAAAADAAAAAAAAAAAAAAABAAAAAAAAB9AAAAAAAAAAAAAAAAAAAAAA\n",
              "AAEAAAAAAAAAAAAAAAAAAAABAAAAAAAAAAAAAAAAAABAAAAAAbAAAAGwAAAAAAAkZWR0cwAAABxl\n",
              "bHN0AAAAAAAAAAEAAAfQAAAAgAABAAAAABSLbWRpYQAAACBtZGhkAAAAAAAAAAAAAAAAAAAyAAAA\n",
              "ZABVxAAAAAAALWhkbHIAAAAAAAAAAHZpZGUAAAAAAAAAAAAAAABWaWRlb0hhbmRsZXIAAAAUNm1p\n",
              "bmYAAAAUdm1oZAAAAAEAAAAAAAAAAAAAACRkaW5mAAAAHGRyZWYAAAAAAAAAAQAAAAx1cmwgAAAA\n",
              "AQAAE/ZzdGJsAAAAsnN0c2QAAAAAAAAAAQAAAKJhdmMxAAAAAAAAAAEAAAAAAAAAAAAAAAAAAAAA\n",
              "AbABsABIAAAASAAAAAAAAAABAAAAAAAAAAAAAAAAAAAAAAAAAAAAAAAAAAAAAAAAAAAAGP//AAAA\n",
              "MGF2Y0MBZAAg/+EAF2dkACCs2UGw3oQAAAMABAAABkA8YMZYAQAGaOvjyyLAAAAAHHV1aWRraEDy\n",
              "XyRPxbo5pRvPAyPzAAAAAAAAABhzdHRzAAAAAAAAAAEAAAGQAAAAQAAAABhzdHNzAAAAAAAAAAIA\n",
              "AAABAAAA+wAADIhjdHRzAAAAAAAAAY8AAAABAAAAgAAAAAEAAAFAAAAAAQAAAIAAAAABAAAAAAAA\n",
              "AAEAAABAAAAAAQAAAUAAAAABAAAAgAAAAAEAAAAAAAAAAQAAAEAAAAABAAABQAAAAAEAAACAAAAA\n",
              "AQAAAAAAAAABAAAAQAAAAAEAAAFAAAAAAQAAAIAAAAABAAAAAAAAAAEAAABAAAAAAQAAAUAAAAAB\n",
              "AAAAgAAAAAEAAAAAAAAAAQAAAEAAAAABAAABQAAAAAEAAACAAAAAAQAAAAAAAAABAAAAQAAAAAEA\n",
              "AAFAAAAAAQAAAIAAAAABAAAAAAAAAAEAAABAAAAAAQAAAUAAAAABAAAAgAAAAAEAAAAAAAAAAQAA\n",
              "AEAAAAABAAABQAAAAAEAAACAAAAAAQAAAAAAAAABAAAAQAAAAAEAAAFAAAAAAQAAAIAAAAABAAAA\n",
              "AAAAAAEAAABAAAAAAQAAAUAAAAABAAAAgAAAAAEAAAAAAAAAAQAAAEAAAAABAAABQAAAAAEAAACA\n",
              "AAAAAQAAAAAAAAABAAAAQAAAAAEAAAFAAAAAAQAAAIAAAAABAAAAAAAAAAEAAABAAAAAAQAAAUAA\n",
              "AAABAAAAgAAAAAEAAAAAAAAAAQAAAEAAAAABAAABQAAAAAEAAACAAAAAAQAAAAAAAAABAAAAQAAA\n",
              "AAEAAAFAAAAAAQAAAIAAAAABAAAAAAAAAAEAAABAAAAAAQAAAUAAAAABAAAAgAAAAAEAAAAAAAAA\n",
              "AQAAAEAAAAABAAABQAAAAAEAAACAAAAAAQAAAAAAAAABAAAAQAAAAAEAAAFAAAAAAQAAAIAAAAAB\n",
              "AAAAAAAAAAEAAABAAAAAAQAAAUAAAAABAAAAgAAAAAEAAAAAAAAAAQAAAEAAAAABAAABQAAAAAEA\n",
              "AACAAAAAAQAAAAAAAAABAAAAQAAAAAEAAAFAAAAAAQAAAIAAAAABAAAAAAAAAAEAAABAAAAAAQAA\n",
              "AUAAAAABAAAAgAAAAAEAAAAAAAAAAQAAAEAAAAABAAABQAAAAAEAAACAAAAAAQAAAAAAAAABAAAA\n",
              "QAAAAAEAAAFAAAAAAQAAAIAAAAABAAAAAAAAAAEAAABAAAAAAQAAAUAAAAABAAAAgAAAAAEAAAAA\n",
              "AAAAAQAAAEAAAAABAAABQAAAAAEAAACAAAAAAQAAAAAAAAABAAAAQAAAAAEAAAFAAAAAAQAAAIAA\n",
              "AAABAAAAAAAAAAEAAABAAAAAAQAAAUAAAAABAAAAgAAAAAEAAAAAAAAAAQAAAEAAAAABAAABQAAA\n",
              "AAEAAACAAAAAAQAAAAAAAAABAAAAQAAAAAEAAAFAAAAAAQAAAIAAAAABAAAAAAAAAAEAAABAAAAA\n",
              "AQAAAUAAAAABAAAAgAAAAAEAAAAAAAAAAQAAAEAAAAABAAABQAAAAAEAAACAAAAAAQAAAAAAAAAB\n",
              "AAAAQAAAAAEAAAFAAAAAAQAAAIAAAAABAAAAAAAAAAEAAABAAAAAAQAAAUAAAAABAAAAgAAAAAEA\n",
              "AAAAAAAAAQAAAEAAAAABAAABQAAAAAEAAACAAAAAAQAAAAAAAAABAAAAQAAAAAEAAAFAAAAAAQAA\n",
              "AIAAAAABAAAAAAAAAAEAAABAAAAAAQAAAUAAAAABAAAAgAAAAAEAAAAAAAAAAQAAAEAAAAABAAAB\n",
              "QAAAAAEAAACAAAAAAQAAAAAAAAABAAAAQAAAAAEAAAFAAAAAAQAAAIAAAAABAAAAAAAAAAEAAABA\n",
              "AAAAAQAAAUAAAAABAAAAgAAAAAEAAAAAAAAAAQAAAEAAAAABAAABQAAAAAEAAACAAAAAAQAAAAAA\n",
              "AAABAAAAQAAAAAEAAAFAAAAAAQAAAIAAAAABAAAAAAAAAAEAAABAAAAAAQAAAUAAAAABAAAAgAAA\n",
              "AAEAAAAAAAAAAQAAAEAAAAABAAABQAAAAAEAAACAAAAAAQAAAAAAAAABAAAAQAAAAAEAAAFAAAAA\n",
              "AQAAAIAAAAABAAAAAAAAAAEAAABAAAAAAQAAAUAAAAABAAAAgAAAAAEAAAAAAAAAAQAAAEAAAAAB\n",
              "AAABQAAAAAEAAACAAAAAAQAAAAAAAAABAAAAQAAAAAEAAAFAAAAAAQAAAIAAAAABAAAAAAAAAAEA\n",
              "AABAAAAAAQAAAUAAAAABAAAAgAAAAAEAAAAAAAAAAQAAAEAAAAABAAABQAAAAAEAAACAAAAAAQAA\n",
              "AAAAAAABAAAAQAAAAAEAAAFAAAAAAQAAAIAAAAABAAAAAAAAAAEAAABAAAAAAQAAAUAAAAABAAAA\n",
              "gAAAAAEAAAAAAAAAAQAAAEAAAAABAAABQAAAAAEAAACAAAAAAQAAAAAAAAABAAAAQAAAAAEAAAFA\n",
              "AAAAAQAAAIAAAAABAAAAAAAAAAEAAABAAAAAAQAAAUAAAAABAAAAgAAAAAEAAAAAAAAAAQAAAEAA\n",
              "AAABAAABQAAAAAEAAACAAAAAAQAAAAAAAAABAAAAQAAAAAEAAAFAAAAAAQAAAIAAAAABAAAAAAAA\n",
              "AAEAAABAAAAAAQAAAUAAAAABAAAAgAAAAAEAAAAAAAAAAQAAAEAAAAABAAABQAAAAAEAAACAAAAA\n",
              "AQAAAAAAAAABAAAAQAAAAAEAAAFAAAAAAQAAAIAAAAABAAAAAAAAAAEAAABAAAAAAQAAAUAAAAAB\n",
              "AAAAgAAAAAEAAAAAAAAAAQAAAEAAAAACAAAAgAAAAAEAAAFAAAAAAQAAAIAAAAABAAAAAAAAAAEA\n",
              "AABAAAAAAQAAAUAAAAABAAAAgAAAAAEAAAAAAAAAAQAAAEAAAAABAAABQAAAAAEAAACAAAAAAQAA\n",
              "AAAAAAABAAAAQAAAAAEAAAFAAAAAAQAAAIAAAAABAAAAAAAAAAEAAABAAAAAAQAAAUAAAAABAAAA\n",
              "gAAAAAEAAAAAAAAAAQAAAEAAAAABAAABQAAAAAEAAACAAAAAAQAAAAAAAAABAAAAQAAAAAEAAAFA\n",
              "AAAAAQAAAIAAAAABAAAAAAAAAAEAAABAAAAAAQAAAUAAAAABAAAAgAAAAAEAAAAAAAAAAQAAAEAA\n",
              "AAABAAABQAAAAAEAAACAAAAAAQAAAAAAAAABAAAAQAAAAAEAAAFAAAAAAQAAAIAAAAABAAAAAAAA\n",
              "AAEAAABAAAAAAQAAAUAAAAABAAAAgAAAAAEAAAAAAAAAAQAAAEAAAAABAAABQAAAAAEAAACAAAAA\n",
              "AQAAAAAAAAABAAAAQAAAAAEAAAFAAAAAAQAAAIAAAAABAAAAAAAAAAEAAABAAAAAAQAAAUAAAAAB\n",
              "AAAAgAAAAAEAAAAAAAAAAQAAAEAAAAABAAABQAAAAAEAAACAAAAAAQAAAAAAAAABAAAAQAAAAAEA\n",
              "AAFAAAAAAQAAAIAAAAABAAAAAAAAAAEAAABAAAAAAQAAAUAAAAABAAAAgAAAAAEAAAAAAAAAAQAA\n",
              "AEAAAAABAAABQAAAAAEAAACAAAAAAQAAAAAAAAABAAAAQAAAAAEAAAFAAAAAAQAAAIAAAAABAAAA\n",
              "AAAAAAEAAABAAAAAAQAAAUAAAAABAAAAgAAAAAEAAAAAAAAAAQAAAEAAAAABAAABQAAAAAEAAACA\n",
              "AAAAAQAAAAAAAAABAAAAQAAAAAEAAAFAAAAAAQAAAIAAAAABAAAAAAAAAAEAAABAAAAAAQAAAUAA\n",
              "AAABAAAAgAAAAAEAAAAAAAAAAQAAAEAAAAABAAABQAAAAAEAAACAAAAAAQAAAAAAAAABAAAAQAAA\n",
              "AAEAAAFAAAAAAQAAAIAAAAABAAAAAAAAAAEAAABAAAAAAQAAAUAAAAABAAAAgAAAAAEAAAAAAAAA\n",
              "AQAAAEAAAAABAAABQAAAAAEAAACAAAAAAQAAAAAAAAABAAAAQAAAAAEAAAFAAAAAAQAAAIAAAAAB\n",
              "AAAAAAAAAAEAAABAAAAAAQAAAUAAAAABAAAAgAAAAAEAAAAAAAAAAQAAAEAAAAABAAABQAAAAAEA\n",
              "AACAAAAAAQAAAAAAAAABAAAAQAAAAAEAAAFAAAAAAQAAAIAAAAABAAAAAAAAAAEAAABAAAAAAQAA\n",
              "AUAAAAABAAAAgAAAAAEAAAAAAAAAAQAAAEAAAAABAAABQAAAAAEAAACAAAAAAQAAAAAAAAABAAAA\n",
              "QAAAAAEAAAFAAAAAAQAAAIAAAAABAAAAAAAAAAEAAABAAAAAAQAAAUAAAAABAAAAgAAAAAEAAAAA\n",
              "AAAAAQAAAEAAAAABAAABQAAAAAEAAACAAAAAAQAAAAAAAAABAAAAQAAAAAEAAAFAAAAAAQAAAIAA\n",
              "AAABAAAAAAAAAAEAAABAAAAAAQAAAIAAAAAcc3RzYwAAAAAAAAABAAAAAQAAAZAAAAABAAAGVHN0\n",
              "c3oAAAAAAAAAAAAAAZAAABdgAAABlgAAAIUAAABYAAAAUwAAAegAAABSAAAAUgAAAHcAAAGXAAAA\n",
              "dQAAAFEAAABKAAAB+AAAAJcAAABJAAAAaQAAAZEAAAByAAAAWQAAAFcAAAGTAAAAZQAAAEQAAABB\n",
              "AAABaAAAAGMAAABTAAAAWgAAAb8AAABzAAAAeAAAAGMAAAGSAAAAcgAAAE4AAAA/AAABbwAAAGUA\n",
              "AABLAAAAYAAAAWwAAABtAAAAXQAAAEoAAAHmAAAAXwAAAFUAAABiAAABWwAAAGkAAABVAAAAZwAA\n",
              "AXoAAABkAAAASgAAAFAAAAF9AAAAbQAAAGoAAABXAAABmAAAAIIAAABVAAAAWgAAAaMAAAB2AAAA\n",
              "TgAAAFYAAAFeAAAAWAAAAFcAAABQAAABvQAAAG0AAABRAAAATgAAAZEAAACOAAAAUwAAAFQAAAIj\n",
              "AAAAggAAAFMAAABTAAABhwAAAIgAAABVAAAAOgAAAX0AAACDAAAAVwAAAEIAAAHGAAAAZgAAAD0A\n",
              "AABdAAABiAAAAGsAAAA1AAAARQAAAXEAAABtAAAAUAAAAEEAAAFyAAAAZQAAAFYAAABSAAABjgAA\n",
              "AGQAAAA5AAAASgAAAYsAAABUAAAAQAAAAE4AAAFyAAAAWQAAAE8AAABJAAABnAAAAGgAAABGAAAA\n",
              "PwAAAXoAAABdAAAATwAAAGUAAAGVAAAAXgAAAFEAAAA/AAABTgAAAFYAAABKAAAASAAAAbkAAABf\n",
              "AAAATQAAAFYAAAGzAAAAZwAAAEgAAABaAAABmAAAAGgAAABCAAAAWAAAAfQAAABqAAAAaQAAAF0A\n",
              "AAGoAAAAcgAAAEAAAABbAAABfAAAAGwAAABMAAAATAAAAYkAAABbAAAASAAAAFIAAAHNAAAAegAA\n",
              "AF8AAABaAAABfgAAAGYAAABVAAAAUwAAAdUAAABkAAAAOAAAAFgAAAG7AAAAXgAAAGUAAABkAAAB\n",
              "jQAAAG0AAABUAAAASgAAAXkAAABZAAAAVgAAAGAAAAFwAAAAZQAAAEUAAABVAAAB0QAAAIYAAABM\n",
              "AAAAOgAAAcMAAAByAAAAVAAAAGEAAAGqAAAAeQAAAFEAAABSAAACAAAAAHkAAABAAAAATwAAAYAA\n",
              "AABqAAAAVgAAAF0AAAINAAAAhAAAAFwAAABeAAAB0AAAAH4AAABKAAAAVAAAAZAAAABSAAAAUAAA\n",
              "AE0AAAGSAAAAZAAAAFUAAABTAAABqwAAAHAAAABSAAAASgAAAY0AAABiAAAAOQAAAFYAAAG7AAAA\n",
              "cwAAAFYAAABLAAABwQAAAGsAAAB1AAAATgAAAcEAAAB6AAAASAAAAFkAAABTAAAZmQAAAagAAAB+\n",
              "AAAAWQAAAGsAAAGOAAAAdQAAAFAAAABZAAABVgAAAHoAAABLAAAAWQAAAVgAAABiAAAAdgAAAFQA\n",
              "AAFOAAAAbAAAAEoAAABPAAABowAAAF0AAABRAAAASgAAAYIAAABlAAAASwAAAFAAAAIMAAAAggAA\n",
              "AFoAAABLAAACEQAAAIoAAABeAAAAcQAAAiUAAACTAAAAawAAAE8AAAI6AAAAjQAAAFIAAABmAAAB\n",
              "uwAAAJMAAABqAAAAaAAAAY4AAAB1AAAATQAAAFEAAAFiAAAAdwAAAE4AAABNAAABUQAAAIwAAAA4\n",
              "AAAAVQAAAXEAAABbAAAAUQAAAEoAAAHWAAAAaQAAAF4AAABYAAACHQAAAIYAAABaAAAAWAAAAbwA\n",
              "AACEAAAAWQAAAGcAAAGnAAAAmwAAAGoAAABwAAACOQAAAHIAAABUAAAAXAAAAg8AAABkAAAAUAAA\n",
              "AGEAAAGmAAAAXgAAAG4AAABXAAACNwAAAG8AAABTAAAAbQAAAd4AAACCAAAAbQAAAGsAAAIdAAAA\n",
              "gQAAAGIAAABYAAABrgAAAH8AAABSAAAAVQAAAXQAAAB0AAAAaQAAAG8AAALVAAAAlgAAAFQAAABk\n",
              "AAACMAAAAH8AAACOAAAAbQAAAZcAAACFAAAAfgAAAH4AAAIAAAAAkgAAAFMAAABTAAACUgAAAHYA\n",
              "AABkAAAAZgAAAcsAAACvAAAAYQAAAHEAAAFwAAAAkAAAAEYAAABrAAABAgAAAHAAAAByAAAAdAAA\n",
              "AScAAACuAAAAYAAAAGwAAABuAAAAFHN0Y28AAAAAAAAAAQAAACwAAABidWR0YQAAAFptZXRhAAAA\n",
              "AAAAACFoZGxyAAAAAAAAAABtZGlyYXBwbAAAAAAAAAAAAAAAAC1pbHN0AAAAJal0b28AAAAdZGF0\n",
              "YQAAAAEAAAAATGF2ZjU3LjgzLjEwMA==\n",
              "\">\n",
              "  Your browser does not support the video tag.\n",
              "</video>"
            ],
            "text/plain": [
              "<IPython.core.display.HTML object>"
            ]
          },
          "metadata": {
            "tags": []
          },
          "execution_count": 48
        }
      ]
    },
    {
      "cell_type": "markdown",
      "metadata": {
        "id": "zEB4vuinaHHD"
      },
      "source": [
        "## Animating NUTS\n",
        "Now rerun the animation providing the NUTS sampling method as the step argument."
      ]
    },
    {
      "cell_type": "code",
      "metadata": {
        "id": "sXfaxGwYaHHE"
      },
      "source": [
        ""
      ],
      "execution_count": null,
      "outputs": []
    }
  ]
}